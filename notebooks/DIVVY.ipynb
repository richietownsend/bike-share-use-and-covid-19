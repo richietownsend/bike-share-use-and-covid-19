{
 "cells": [
  {
   "cell_type": "code",
   "execution_count": 1,
   "metadata": {},
   "outputs": [],
   "source": [
    "import pandas as pd\n",
    "import seaborn as sns\n",
    "import matplotlib.pyplot as plt\n",
    "import numpy as np\n",
    "import datetime as dt\n",
    "import re\n",
    "\n",
    "%matplotlib inline\n",
    "# pd.set_option('display.max_columns', None)\n",
    "# pd.set_option('display.max_rows', None)"
   ]
  },
  {
   "cell_type": "markdown",
   "metadata": {},
   "source": [
    "Load CSV files"
   ]
  },
  {
   "cell_type": "code",
   "execution_count": 2,
   "metadata": {},
   "outputs": [],
   "source": [
    "divvyQ119 = pd.read_csv('../data/Chicago_Divvy/Divvy_Trips_2019_Q1.csv')\n",
    "divvyQ219 = pd.read_csv('../data/Chicago_Divvy/Divvy_Trips_2019_Q2.csv')\n",
    "divvyQ319 = pd.read_csv('../data/Chicago_Divvy/Divvy_Trips_2019_Q3.csv')\n",
    "divvyQ419 = pd.read_csv('../data/Chicago_Divvy/Divvy_Trips_2019_Q4.csv')\n",
    "divvyQ120 = pd.read_csv('../data/Chicago_Divvy/Divvy_Trips_2020_Q1.csv')\n",
    "divvy0420 = pd.read_csv('../data/Chicago_Divvy/202004-divvy-tripdata.csv')\n",
    "divvy0520 = pd.read_csv('../data/Chicago_Divvy/202005-divvy-tripdata.csv')\n",
    "divvy0620 = pd.read_csv('../data/Chicago_Divvy/202006-divvy-tripdata.csv')\n",
    "divvy0720 = pd.read_csv('../data/Chicago_Divvy/202007-divvy-tripdata.csv')\n",
    "divvy0820 = pd.read_csv('../data/Chicago_Divvy/202008-divvy-tripdata.csv')\n",
    "divvy0920 = pd.read_csv('../data/Chicago_Divvy/202009-divvy-tripdata.csv')\n",
    "divvy1020 = pd.read_csv('../data/Chicago_Divvy/202010-divvy-tripdata.csv')\n",
    "divvy1120 = pd.read_csv('../data/Chicago_Divvy/202011-divvy-tripdata.csv')\n",
    "divvy1220 = pd.read_csv('../data/Chicago_Divvy/202012-divvy-tripdata.csv')\n",
    "divvy0121 = pd.read_csv('../data/Chicago_Divvy/202101-divvy-tripdata.csv')\n",
    "divvy0221 = pd.read_csv('../data/Chicago_Divvy/202102-divvy-tripdata.csv')\n",
    "divvy0321 = pd.read_csv('../data/Chicago_Divvy/202103-divvy-tripdata.csv')\n",
    "divvy0421 = pd.read_csv('../data/Chicago_Divvy/202104-divvy-tripdata.csv')"
   ]
  },
  {
   "cell_type": "markdown",
   "metadata": {},
   "source": [
    "Choose Only Necessary Columns"
   ]
  },
  {
   "cell_type": "code",
   "execution_count": 3,
   "metadata": {},
   "outputs": [
    {
     "data": {
      "text/plain": [
       "638"
      ]
     },
     "execution_count": 3,
     "metadata": {},
     "output_type": "execute_result"
    }
   ],
   "source": [
    "divvy0121['start_station_id'].nunique()"
   ]
  },
  {
   "cell_type": "code",
   "execution_count": 4,
   "metadata": {},
   "outputs": [],
   "source": [
    "divvyQ119 = divvyQ119[['trip_id', 'start_time', 'end_time', 'from_station_id', 'to_station_id']]\n",
    "divvyQ219 = divvyQ219[['01 - Rental Details Rental ID', '01 - Rental Details Local Start Time', '01 - Rental Details Local End Time', '03 - Rental Start Station ID', '02 - Rental End Station ID']]\n",
    "divvyQ319 = divvyQ319[['trip_id', 'start_time', 'end_time', 'from_station_id', 'to_station_id']]\n",
    "divvyQ419 = divvyQ419[['trip_id', 'start_time', 'end_time', 'from_station_id', 'to_station_id']]\n",
    "divvyQ120 = divvyQ120[['ride_id', 'started_at', 'ended_at', 'start_station_id', 'end_station_id']]\n",
    "divvy0420 = divvy0420[['ride_id', 'started_at', 'ended_at', 'start_station_id', 'end_station_id']]\n",
    "divvy0520 = divvy0520[['ride_id', 'started_at', 'ended_at', 'start_station_id', 'end_station_id']]\n",
    "divvy0520 = divvy0520[['ride_id', 'started_at', 'ended_at', 'start_station_id', 'end_station_id']]\n",
    "divvy0620 = divvy0620[['ride_id', 'started_at', 'ended_at', 'start_station_id', 'end_station_id']]\n",
    "divvy0720 = divvy0720[['ride_id', 'started_at', 'ended_at', 'start_station_id', 'end_station_id']]\n",
    "divvy0820 = divvy0820[['ride_id', 'started_at', 'ended_at', 'start_station_id', 'end_station_id']]\n",
    "divvy0920 = divvy0920[['ride_id', 'started_at', 'ended_at', 'start_station_id', 'end_station_id']]\n",
    "divvy1020 = divvy1020[['ride_id', 'started_at', 'ended_at', 'start_station_id', 'end_station_id']]\n",
    "divvy1120 = divvy1120[['ride_id', 'started_at', 'ended_at', 'start_station_id', 'end_station_id']]\n",
    "divvy1220 = divvy1220[['ride_id', 'started_at', 'ended_at', 'start_station_id', 'end_station_id']]\n",
    "divvy0121 = divvy0121[['ride_id', 'started_at', 'ended_at', 'start_station_id', 'end_station_id']]\n",
    "divvy0221 = divvy0221[['ride_id', 'started_at', 'ended_at', 'start_station_id', 'end_station_id']]\n",
    "divvy0321 = divvy0321[['ride_id', 'started_at', 'ended_at', 'start_station_id', 'end_station_id']]\n",
    "divvy0421 = divvy0421[['ride_id', 'started_at', 'ended_at', 'start_station_id', 'end_station_id']]"
   ]
  },
  {
   "cell_type": "markdown",
   "metadata": {},
   "source": [
    "Change Date Time"
   ]
  },
  {
   "cell_type": "code",
   "execution_count": 5,
   "metadata": {},
   "outputs": [],
   "source": [
    "# def change_dt(df, start_col, end_col):\n",
    "#     df[start_col] = pd.to_datetime(df[start_col], format='%Y-%m-%d')\n",
    "#     df[end_col] = pd.to_datetime(df[end_col], format='%Y-%m-%d')\n",
    "#     return df"
   ]
  },
  {
   "cell_type": "code",
   "execution_count": 6,
   "metadata": {},
   "outputs": [],
   "source": [
    "# change_dt(divvyQ120, 'started_at', 'ended_at')"
   ]
  },
  {
   "cell_type": "code",
   "execution_count": 7,
   "metadata": {},
   "outputs": [],
   "source": [
    "divvyQ119['start_time'] = pd.to_datetime(divvyQ119['start_time'], format='%Y-%m-%d')\n",
    "divvyQ119['end_time'] = pd.to_datetime(divvyQ119['end_time'], format='%Y-%m-%d')\n",
    "\n",
    "divvyQ219['01 - Rental Details Local Start Time'] = pd.to_datetime(divvyQ219['01 - Rental Details Local Start Time'], format='%Y-%m-%d')\n",
    "divvyQ219['01 - Rental Details Local End Time'] = pd.to_datetime(divvyQ219['01 - Rental Details Local End Time'], format='%Y-%m-%d')\n",
    "\n",
    "divvyQ319['start_time'] = pd.to_datetime(divvyQ319['start_time'], format='%Y-%m-%d')\n",
    "divvyQ319['end_time'] = pd.to_datetime(divvyQ319['end_time'], format='%Y-%m-%d')\n",
    "\n",
    "divvyQ419['start_time'] = pd.to_datetime(divvyQ419['start_time'], format='%Y-%m-%d')\n",
    "divvyQ419['end_time'] = pd.to_datetime(divvyQ419['end_time'], format='%Y-%m-%d')\n",
    "\n",
    "divvyQ120['started_at'] = pd.to_datetime(divvyQ120['started_at'], format='%Y-%m-%d')\n",
    "divvyQ120['ended_at'] = pd.to_datetime(divvyQ120['ended_at'], format='%Y-%m-%d')\n",
    "\n",
    "divvy0420['started_at'] = pd.to_datetime(divvy0420['started_at'], format='%Y-%m-%d')\n",
    "divvy0420['ended_at'] = pd.to_datetime(divvy0420['ended_at'], format='%Y-%m-%d')\n",
    "\n",
    "divvy0520['started_at'] = pd.to_datetime(divvy0520['started_at'], format='%Y-%m-%d')\n",
    "divvy0520['ended_at'] = pd.to_datetime(divvy0520['ended_at'], format='%Y-%m-%d')\n",
    "\n",
    "divvy0620['started_at'] = pd.to_datetime(divvy0620['started_at'], format='%Y-%m-%d')\n",
    "divvy0620['ended_at'] = pd.to_datetime(divvy0620['ended_at'], format='%Y-%m-%d')\n",
    "\n",
    "divvy0720['started_at'] = pd.to_datetime(divvy0720['started_at'], format='%Y-%m-%d')\n",
    "divvy0720['ended_at'] = pd.to_datetime(divvy0720['ended_at'], format='%Y-%m-%d')\n",
    "\n",
    "divvy0820['started_at'] = pd.to_datetime(divvy0820['started_at'], format='%Y-%m-%d')\n",
    "divvy0820['ended_at'] = pd.to_datetime(divvy0820['ended_at'], format='%Y-%m-%d')\n",
    "\n",
    "divvy0920['started_at'] = pd.to_datetime(divvy0920['started_at'], format='%Y-%m-%d')\n",
    "divvy0920['ended_at'] = pd.to_datetime(divvy0920['ended_at'], format='%Y-%m-%d')\n",
    "\n",
    "divvy1020['started_at'] = pd.to_datetime(divvy1020['started_at'], format='%Y-%m-%d')\n",
    "divvy1020['ended_at'] = pd.to_datetime(divvy1020['ended_at'], format='%Y-%m-%d')\n",
    "\n",
    "divvy1120['started_at'] = pd.to_datetime(divvy1120['started_at'], format='%Y-%m-%d')\n",
    "divvy1120['ended_at'] = pd.to_datetime(divvy1120['ended_at'], format='%Y-%m-%d')\n",
    "\n",
    "divvy1220['started_at'] = pd.to_datetime(divvy1220['started_at'], format='%Y-%m-%d')\n",
    "divvy1220['ended_at'] = pd.to_datetime(divvy1220['ended_at'], format='%Y-%m-%d')\n",
    "\n",
    "divvy0121['started_at'] = pd.to_datetime(divvy0121['started_at'], format='%Y-%m-%d')\n",
    "divvy0121['ended_at'] = pd.to_datetime(divvy0121['ended_at'], format='%Y-%m-%d')\n",
    "\n",
    "divvy0221['started_at'] = pd.to_datetime(divvy0221['started_at'], format='%Y-%m-%d')\n",
    "divvy0221['ended_at'] = pd.to_datetime(divvy0221['ended_at'], format='%Y-%m-%d')\n",
    "\n",
    "divvy0321['started_at'] = pd.to_datetime(divvy0321['started_at'], format='%Y-%m-%d')\n",
    "divvy0321['ended_at'] = pd.to_datetime(divvy0321['ended_at'], format='%Y-%m-%d')\n",
    "\n",
    "divvy0421['started_at'] = pd.to_datetime(divvy0421['started_at'], format='%Y-%m-%d')\n",
    "divvy0421['ended_at'] = pd.to_datetime(divvy0421['ended_at'], format='%Y-%m-%d')"
   ]
  },
  {
   "cell_type": "markdown",
   "metadata": {},
   "source": [
    "Rename Columns for Merge"
   ]
  },
  {
   "cell_type": "code",
   "execution_count": 8,
   "metadata": {},
   "outputs": [],
   "source": [
    "divvyQ119.rename(columns={'trip_id':'ride_id', 'start_time': 'started_at', 'end_time':'ended_at', 'from_station_id':'start_station_id', 'to_station_id':'end_station_id'}, inplace=True)\n",
    "divvyQ219.rename(columns={'01 - Rental Details Rental ID':'ride_id', '01 - Rental Details Local Start Time': 'started_at', '01 - Rental Details Local End Time':'ended_at', '03 - Rental Start Station ID':'start_station_id', '02 - Rental End Station ID':'end_station_id'}, inplace=True)\n",
    "divvyQ319.rename(columns={'trip_id':'ride_id', 'start_time': 'started_at', 'end_time':'ended_at', 'from_station_id':'start_station_id', 'to_station_id':'end_station_id'}, inplace=True)\n",
    "divvyQ419.rename(columns={'trip_id':'ride_id', 'start_time': 'started_at', 'end_time':'ended_at', 'from_station_id':'start_station_id', 'to_station_id':'end_station_id'}, inplace=True)"
   ]
  },
  {
   "cell_type": "code",
   "execution_count": 9,
   "metadata": {},
   "outputs": [
    {
     "data": {
      "text/html": [
       "<div>\n",
       "<style scoped>\n",
       "    .dataframe tbody tr th:only-of-type {\n",
       "        vertical-align: middle;\n",
       "    }\n",
       "\n",
       "    .dataframe tbody tr th {\n",
       "        vertical-align: top;\n",
       "    }\n",
       "\n",
       "    .dataframe thead th {\n",
       "        text-align: right;\n",
       "    }\n",
       "</style>\n",
       "<table border=\"1\" class=\"dataframe\">\n",
       "  <thead>\n",
       "    <tr style=\"text-align: right;\">\n",
       "      <th></th>\n",
       "      <th>ride_id</th>\n",
       "      <th>started_at</th>\n",
       "      <th>ended_at</th>\n",
       "      <th>start_station_id</th>\n",
       "      <th>end_station_id</th>\n",
       "    </tr>\n",
       "  </thead>\n",
       "  <tbody>\n",
       "    <tr>\n",
       "      <th>0</th>\n",
       "      <td>22178529</td>\n",
       "      <td>2019-04-01 00:02:22</td>\n",
       "      <td>2019-04-01 00:09:48</td>\n",
       "      <td>81</td>\n",
       "      <td>56</td>\n",
       "    </tr>\n",
       "    <tr>\n",
       "      <th>1</th>\n",
       "      <td>22178530</td>\n",
       "      <td>2019-04-01 00:03:02</td>\n",
       "      <td>2019-04-01 00:20:30</td>\n",
       "      <td>317</td>\n",
       "      <td>59</td>\n",
       "    </tr>\n",
       "    <tr>\n",
       "      <th>2</th>\n",
       "      <td>22178531</td>\n",
       "      <td>2019-04-01 00:11:07</td>\n",
       "      <td>2019-04-01 00:15:19</td>\n",
       "      <td>283</td>\n",
       "      <td>174</td>\n",
       "    </tr>\n",
       "    <tr>\n",
       "      <th>3</th>\n",
       "      <td>22178532</td>\n",
       "      <td>2019-04-01 00:13:01</td>\n",
       "      <td>2019-04-01 00:18:58</td>\n",
       "      <td>26</td>\n",
       "      <td>133</td>\n",
       "    </tr>\n",
       "    <tr>\n",
       "      <th>4</th>\n",
       "      <td>22178533</td>\n",
       "      <td>2019-04-01 00:19:26</td>\n",
       "      <td>2019-04-01 00:36:13</td>\n",
       "      <td>202</td>\n",
       "      <td>129</td>\n",
       "    </tr>\n",
       "  </tbody>\n",
       "</table>\n",
       "</div>"
      ],
      "text/plain": [
       "    ride_id          started_at            ended_at  start_station_id  \\\n",
       "0  22178529 2019-04-01 00:02:22 2019-04-01 00:09:48                81   \n",
       "1  22178530 2019-04-01 00:03:02 2019-04-01 00:20:30               317   \n",
       "2  22178531 2019-04-01 00:11:07 2019-04-01 00:15:19               283   \n",
       "3  22178532 2019-04-01 00:13:01 2019-04-01 00:18:58                26   \n",
       "4  22178533 2019-04-01 00:19:26 2019-04-01 00:36:13               202   \n",
       "\n",
       "   end_station_id  \n",
       "0              56  \n",
       "1              59  \n",
       "2             174  \n",
       "3             133  \n",
       "4             129  "
      ]
     },
     "execution_count": 9,
     "metadata": {},
     "output_type": "execute_result"
    }
   ],
   "source": [
    "divvyQ219.head()"
   ]
  },
  {
   "cell_type": "markdown",
   "metadata": {},
   "source": [
    "Concatenate All DFs"
   ]
  },
  {
   "cell_type": "code",
   "execution_count": 10,
   "metadata": {},
   "outputs": [],
   "source": [
    "all_divvy = pd.concat([divvyQ119, divvyQ219, divvyQ319, divvyQ419, divvyQ120, divvy0420, divvy0520, divvy0620, divvy0720, divvy0820, divvy0920, divvy1020, divvy1120, divvy1220, divvy0121, divvy0221, divvy0321, divvy0421])"
   ]
  },
  {
   "cell_type": "code",
   "execution_count": 11,
   "metadata": {},
   "outputs": [
    {
     "data": {
      "text/plain": [
       "1357"
      ]
     },
     "execution_count": 11,
     "metadata": {},
     "output_type": "execute_result"
    }
   ],
   "source": [
    "all_divvy['start_station_id'].nunique()"
   ]
  },
  {
   "cell_type": "markdown",
   "metadata": {},
   "source": [
    "Create Duration Column"
   ]
  },
  {
   "cell_type": "code",
   "execution_count": 12,
   "metadata": {},
   "outputs": [],
   "source": [
    "all_divvy['duration'] = all_divvy['ended_at'] - all_divvy['started_at']"
   ]
  },
  {
   "cell_type": "code",
   "execution_count": 13,
   "metadata": {},
   "outputs": [
    {
     "name": "stdout",
     "output_type": "stream",
     "text": [
      "<class 'pandas.core.frame.DataFrame'>\n",
      "Int64Index: 8071869 entries, 0 to 337229\n",
      "Data columns (total 6 columns):\n",
      " #   Column            Dtype          \n",
      "---  ------            -----          \n",
      " 0   ride_id           object         \n",
      " 1   started_at        datetime64[ns] \n",
      " 2   ended_at          datetime64[ns] \n",
      " 3   start_station_id  object         \n",
      " 4   end_station_id    object         \n",
      " 5   duration          timedelta64[ns]\n",
      "dtypes: datetime64[ns](2), object(3), timedelta64[ns](1)\n",
      "memory usage: 431.1+ MB\n"
     ]
    }
   ],
   "source": [
    "all_divvy.info()"
   ]
  },
  {
   "cell_type": "markdown",
   "metadata": {},
   "source": [
    "Filter Out Data"
   ]
  },
  {
   "cell_type": "code",
   "execution_count": 14,
   "metadata": {},
   "outputs": [],
   "source": [
    "all_divvy = all_divvy.dropna(subset=['start_station_id'])\n",
    "all_divvy = all_divvy.dropna(subset=['end_station_id'])\n",
    "all_divvy = all_divvy[~((all_divvy['start_station_id'] == all_divvy['end_station_id']) & (all_divvy['duration'] < '00:05:00'))]"
   ]
  },
  {
   "cell_type": "markdown",
   "metadata": {},
   "source": [
    "Create Date Column"
   ]
  },
  {
   "cell_type": "code",
   "execution_count": 15,
   "metadata": {},
   "outputs": [],
   "source": [
    "all_divvy['start_date'] = all_divvy['started_at'].dt.date"
   ]
  },
  {
   "cell_type": "code",
   "execution_count": 16,
   "metadata": {},
   "outputs": [],
   "source": [
    "divvy_by_date = all_divvy.groupby('start_date').agg({'ride_id': 'count'}).reset_index()\n",
    "divvy_by_date['start_date'] = pd.to_datetime(divvy_by_date['start_date'], format='%Y-%m-%d')\n",
    "divvy_by_date.rename(columns={'start_date': 'ride_date', 'ride_id':'ride_count'}, inplace=True)\n",
    "\n",
    "# divvy_by_date_1 = all_divvy.groupby(['start_date'])['ride_id'].count()\n",
    "# divvy_by_date_1 = pd.DataFrame(divvy_by_date_1).reset_index()\n",
    "# divvy_by_date_1['start_date'] = pd.to_datetime(divvy_by_date_1['start_date'], format='%Y-%m-%d')\n",
    "# divvy_by_date_1.columns=[['ride_date', 'ride_count']]"
   ]
  },
  {
   "cell_type": "code",
   "execution_count": 17,
   "metadata": {},
   "outputs": [
    {
     "name": "stdout",
     "output_type": "stream",
     "text": [
      "<class 'pandas.core.frame.DataFrame'>\n",
      "RangeIndex: 849 entries, 0 to 848\n",
      "Data columns (total 2 columns):\n",
      " #   Column      Non-Null Count  Dtype         \n",
      "---  ------      --------------  -----         \n",
      " 0   ride_date   849 non-null    datetime64[ns]\n",
      " 1   ride_count  849 non-null    int64         \n",
      "dtypes: datetime64[ns](1), int64(1)\n",
      "memory usage: 13.4 KB\n"
     ]
    }
   ],
   "source": [
    "divvy_by_date.info()"
   ]
  },
  {
   "cell_type": "code",
   "execution_count": 18,
   "metadata": {},
   "outputs": [],
   "source": [
    "divvy_by_date['month'] = divvy_by_date['ride_date'].dt.month\n",
    "divvy_by_date['mm-dd'] = divvy_by_date['ride_date'].dt.strftime('%m-%d')\n",
    "# df['MM-DD'] = df['date'].dt.strftime('%m-%d')\n",
    "divvy_by_date['year'] = divvy_by_date['ride_date'].dt.year\n",
    "divvy_by_date['m_y'] = divvy_by_date['month'].apply(str) + \"-\" + divvy_by_date['year'].apply(str) "
   ]
  },
  {
   "cell_type": "code",
   "execution_count": 19,
   "metadata": {},
   "outputs": [
    {
     "data": {
      "image/png": "[encoded data removed]",
      "text/plain": [
       "<Figure size 432x288 with 1 Axes>"
      ]
     },
     "metadata": {
      "needs_background": "light"
     },
     "output_type": "display_data"
    }
   ],
   "source": [
    "plt.barh('m_y', 'ride_count', data=divvy_by_date)\n",
    "plt.tight_layout()"
   ]
  },
  {
   "cell_type": "markdown",
   "metadata": {},
   "source": [
    "Save to a CSV"
   ]
  },
  {
   "cell_type": "code",
   "execution_count": 20,
   "metadata": {},
   "outputs": [],
   "source": [
    "divvy_by_date.to_csv('divvy_by_date.csv')"
   ]
  },
  {
   "cell_type": "markdown",
   "metadata": {},
   "source": [
    "Determine Day of Week"
   ]
  },
  {
   "cell_type": "code",
   "execution_count": 22,
   "metadata": {},
   "outputs": [],
   "source": [
    "divvy_by_date['day_of_week'] = divvy_by_date['ride_date'].dt.weekday"
   ]
  },
  {
   "cell_type": "markdown",
   "metadata": {},
   "source": [
    "Create Function to determine weekday or weekend"
   ]
  },
  {
   "cell_type": "code",
   "execution_count": 23,
   "metadata": {},
   "outputs": [],
   "source": [
    "def week_day(row):\n",
    "    if row in(0,1,2,3,4):\n",
    "        return 'weekday'\n",
    "    else:\n",
    "        return 'weekend'\n",
    "\n",
    "divvy_by_date['day_type'] = divvy_by_date['day_of_week'].apply(lambda row: week_day(row))\n",
    "# df['race_label'] = df.apply (lambda row: label_race(row), axis=1)"
   ]
  },
  {
   "cell_type": "code",
   "execution_count": 24,
   "metadata": {},
   "outputs": [
    {
     "data": {
      "text/html": [
       "<div>\n",
       "<style scoped>\n",
       "    .dataframe tbody tr th:only-of-type {\n",
       "        vertical-align: middle;\n",
       "    }\n",
       "\n",
       "    .dataframe tbody tr th {\n",
       "        vertical-align: top;\n",
       "    }\n",
       "\n",
       "    .dataframe thead th {\n",
       "        text-align: right;\n",
       "    }\n",
       "</style>\n",
       "<table border=\"1\" class=\"dataframe\">\n",
       "  <thead>\n",
       "    <tr style=\"text-align: right;\">\n",
       "      <th></th>\n",
       "      <th>ride_date</th>\n",
       "      <th>ride_count</th>\n",
       "      <th>month</th>\n",
       "      <th>mm-dd</th>\n",
       "      <th>year</th>\n",
       "      <th>m_y</th>\n",
       "      <th>day_of_week</th>\n",
       "      <th>day_type</th>\n",
       "    </tr>\n",
       "  </thead>\n",
       "  <tbody>\n",
       "    <tr>\n",
       "      <th>0</th>\n",
       "      <td>2019-01-01</td>\n",
       "      <td>1298</td>\n",
       "      <td>1</td>\n",
       "      <td>01-01</td>\n",
       "      <td>2019</td>\n",
       "      <td>1-2019</td>\n",
       "      <td>1</td>\n",
       "      <td>weekday</td>\n",
       "    </tr>\n",
       "    <tr>\n",
       "      <th>1</th>\n",
       "      <td>2019-01-02</td>\n",
       "      <td>4158</td>\n",
       "      <td>1</td>\n",
       "      <td>01-02</td>\n",
       "      <td>2019</td>\n",
       "      <td>1-2019</td>\n",
       "      <td>2</td>\n",
       "      <td>weekday</td>\n",
       "    </tr>\n",
       "    <tr>\n",
       "      <th>2</th>\n",
       "      <td>2019-01-03</td>\n",
       "      <td>5605</td>\n",
       "      <td>1</td>\n",
       "      <td>01-03</td>\n",
       "      <td>2019</td>\n",
       "      <td>1-2019</td>\n",
       "      <td>3</td>\n",
       "      <td>weekday</td>\n",
       "    </tr>\n",
       "    <tr>\n",
       "      <th>3</th>\n",
       "      <td>2019-01-04</td>\n",
       "      <td>6771</td>\n",
       "      <td>1</td>\n",
       "      <td>01-04</td>\n",
       "      <td>2019</td>\n",
       "      <td>1-2019</td>\n",
       "      <td>4</td>\n",
       "      <td>weekday</td>\n",
       "    </tr>\n",
       "    <tr>\n",
       "      <th>4</th>\n",
       "      <td>2019-01-05</td>\n",
       "      <td>6145</td>\n",
       "      <td>1</td>\n",
       "      <td>01-05</td>\n",
       "      <td>2019</td>\n",
       "      <td>1-2019</td>\n",
       "      <td>5</td>\n",
       "      <td>weekend</td>\n",
       "    </tr>\n",
       "    <tr>\n",
       "      <th>...</th>\n",
       "      <td>...</td>\n",
       "      <td>...</td>\n",
       "      <td>...</td>\n",
       "      <td>...</td>\n",
       "      <td>...</td>\n",
       "      <td>...</td>\n",
       "      <td>...</td>\n",
       "      <td>...</td>\n",
       "    </tr>\n",
       "    <tr>\n",
       "      <th>844</th>\n",
       "      <td>2021-04-26</td>\n",
       "      <td>12488</td>\n",
       "      <td>4</td>\n",
       "      <td>04-26</td>\n",
       "      <td>2021</td>\n",
       "      <td>4-2021</td>\n",
       "      <td>0</td>\n",
       "      <td>weekday</td>\n",
       "    </tr>\n",
       "    <tr>\n",
       "      <th>845</th>\n",
       "      <td>2021-04-27</td>\n",
       "      <td>15867</td>\n",
       "      <td>4</td>\n",
       "      <td>04-27</td>\n",
       "      <td>2021</td>\n",
       "      <td>4-2021</td>\n",
       "      <td>1</td>\n",
       "      <td>weekday</td>\n",
       "    </tr>\n",
       "    <tr>\n",
       "      <th>846</th>\n",
       "      <td>2021-04-28</td>\n",
       "      <td>5697</td>\n",
       "      <td>4</td>\n",
       "      <td>04-28</td>\n",
       "      <td>2021</td>\n",
       "      <td>4-2021</td>\n",
       "      <td>2</td>\n",
       "      <td>weekday</td>\n",
       "    </tr>\n",
       "    <tr>\n",
       "      <th>847</th>\n",
       "      <td>2021-04-29</td>\n",
       "      <td>8297</td>\n",
       "      <td>4</td>\n",
       "      <td>04-29</td>\n",
       "      <td>2021</td>\n",
       "      <td>4-2021</td>\n",
       "      <td>3</td>\n",
       "      <td>weekday</td>\n",
       "    </tr>\n",
       "    <tr>\n",
       "      <th>848</th>\n",
       "      <td>2021-04-30</td>\n",
       "      <td>10399</td>\n",
       "      <td>4</td>\n",
       "      <td>04-30</td>\n",
       "      <td>2021</td>\n",
       "      <td>4-2021</td>\n",
       "      <td>4</td>\n",
       "      <td>weekday</td>\n",
       "    </tr>\n",
       "  </tbody>\n",
       "</table>\n",
       "<p>849 rows × 8 columns</p>\n",
       "</div>"
      ],
      "text/plain": [
       "     ride_date  ride_count  month  mm-dd  year     m_y  day_of_week day_type\n",
       "0   2019-01-01        1298      1  01-01  2019  1-2019            1  weekday\n",
       "1   2019-01-02        4158      1  01-02  2019  1-2019            2  weekday\n",
       "2   2019-01-03        5605      1  01-03  2019  1-2019            3  weekday\n",
       "3   2019-01-04        6771      1  01-04  2019  1-2019            4  weekday\n",
       "4   2019-01-05        6145      1  01-05  2019  1-2019            5  weekend\n",
       "..         ...         ...    ...    ...   ...     ...          ...      ...\n",
       "844 2021-04-26       12488      4  04-26  2021  4-2021            0  weekday\n",
       "845 2021-04-27       15867      4  04-27  2021  4-2021            1  weekday\n",
       "846 2021-04-28        5697      4  04-28  2021  4-2021            2  weekday\n",
       "847 2021-04-29        8297      4  04-29  2021  4-2021            3  weekday\n",
       "848 2021-04-30       10399      4  04-30  2021  4-2021            4  weekday\n",
       "\n",
       "[849 rows x 8 columns]"
      ]
     },
     "execution_count": 24,
     "metadata": {},
     "output_type": "execute_result"
    }
   ],
   "source": [
    "divvy_by_date"
   ]
  },
  {
   "cell_type": "code",
   "execution_count": 37,
   "metadata": {},
   "outputs": [],
   "source": [
    "divvy_by_date_2019 = divvy_by_date[divvy_by_date['year'] == 2019]"
   ]
  },
  {
   "cell_type": "code",
   "execution_count": 44,
   "metadata": {},
   "outputs": [
    {
     "name": "stderr",
     "output_type": "stream",
     "text": [
      "/Users/richietownsend/opt/anaconda3/lib/python3.7/site-packages/ipykernel_launcher.py:1: SettingWithCopyWarning: \n",
      "A value is trying to be set on a copy of a slice from a DataFrame.\n",
      "Try using .loc[row_indexer,col_indexer] = value instead\n",
      "\n",
      "See the caveats in the documentation: https://pandas.pydata.org/pandas-docs/stable/user_guide/indexing.html#returning-a-view-versus-a-copy\n",
      "  \"\"\"Entry point for launching an IPython kernel.\n"
     ]
    }
   ],
   "source": [
    "divvy_by_date_2019['mm-dd'] = pd.to_datetime(divvy_by_date_2019['mm-dd'], format='%m-%d')"
   ]
  },
  {
   "cell_type": "code",
   "execution_count": 26,
   "metadata": {},
   "outputs": [],
   "source": [
    "total_month = divvy_by_date.groupby('m_y').agg({'ride_count':'sum'})\n",
    "divvy_by_date_day = divvy_by_date.groupby(['m_y', 'day_type']).agg({'ride_count':'sum'})"
   ]
  },
  {
   "cell_type": "code",
   "execution_count": 34,
   "metadata": {},
   "outputs": [
    {
     "data": {
      "text/html": [
       "<div>\n",
       "<style scoped>\n",
       "    .dataframe tbody tr th:only-of-type {\n",
       "        vertical-align: middle;\n",
       "    }\n",
       "\n",
       "    .dataframe tbody tr th {\n",
       "        vertical-align: top;\n",
       "    }\n",
       "\n",
       "    .dataframe thead th {\n",
       "        text-align: right;\n",
       "    }\n",
       "</style>\n",
       "<table border=\"1\" class=\"dataframe\">\n",
       "  <thead>\n",
       "    <tr style=\"text-align: right;\">\n",
       "      <th></th>\n",
       "      <th>ride_count</th>\n",
       "    </tr>\n",
       "    <tr>\n",
       "      <th>m_y</th>\n",
       "      <th></th>\n",
       "    </tr>\n",
       "  </thead>\n",
       "  <tbody>\n",
       "    <tr>\n",
       "      <th>1-2019</th>\n",
       "      <td>102919</td>\n",
       "    </tr>\n",
       "    <tr>\n",
       "      <th>1-2020</th>\n",
       "      <td>142432</td>\n",
       "    </tr>\n",
       "    <tr>\n",
       "      <th>1-2021</th>\n",
       "      <td>82169</td>\n",
       "    </tr>\n",
       "    <tr>\n",
       "      <th>10-2019</th>\n",
       "      <td>370750</td>\n",
       "    </tr>\n",
       "    <tr>\n",
       "      <th>10-2020</th>\n",
       "      <td>332230</td>\n",
       "    </tr>\n",
       "  </tbody>\n",
       "</table>\n",
       "</div>"
      ],
      "text/plain": [
       "         ride_count\n",
       "m_y                \n",
       "1-2019       102919\n",
       "1-2020       142432\n",
       "1-2021        82169\n",
       "10-2019      370750\n",
       "10-2020      332230"
      ]
     },
     "execution_count": 34,
     "metadata": {},
     "output_type": "execute_result"
    }
   ],
   "source": [
    "total_month.head()"
   ]
  },
  {
   "cell_type": "code",
   "execution_count": 33,
   "metadata": {},
   "outputs": [
    {
     "data": {
      "text/html": [
       "<div>\n",
       "<style scoped>\n",
       "    .dataframe tbody tr th:only-of-type {\n",
       "        vertical-align: middle;\n",
       "    }\n",
       "\n",
       "    .dataframe tbody tr th {\n",
       "        vertical-align: top;\n",
       "    }\n",
       "\n",
       "    .dataframe thead th {\n",
       "        text-align: right;\n",
       "    }\n",
       "</style>\n",
       "<table border=\"1\" class=\"dataframe\">\n",
       "  <thead>\n",
       "    <tr style=\"text-align: right;\">\n",
       "      <th></th>\n",
       "      <th></th>\n",
       "      <th>ride_count</th>\n",
       "    </tr>\n",
       "    <tr>\n",
       "      <th>m_y</th>\n",
       "      <th>day_type</th>\n",
       "      <th></th>\n",
       "    </tr>\n",
       "  </thead>\n",
       "  <tbody>\n",
       "    <tr>\n",
       "      <th rowspan=\"2\" valign=\"top\">1-2019</th>\n",
       "      <th>weekday</th>\n",
       "      <td>87178</td>\n",
       "    </tr>\n",
       "    <tr>\n",
       "      <th>weekend</th>\n",
       "      <td>15741</td>\n",
       "    </tr>\n",
       "    <tr>\n",
       "      <th rowspan=\"2\" valign=\"top\">1-2020</th>\n",
       "      <th>weekday</th>\n",
       "      <td>127459</td>\n",
       "    </tr>\n",
       "    <tr>\n",
       "      <th>weekend</th>\n",
       "      <td>14973</td>\n",
       "    </tr>\n",
       "    <tr>\n",
       "      <th>1-2021</th>\n",
       "      <th>weekday</th>\n",
       "      <td>58501</td>\n",
       "    </tr>\n",
       "  </tbody>\n",
       "</table>\n",
       "</div>"
      ],
      "text/plain": [
       "                 ride_count\n",
       "m_y    day_type            \n",
       "1-2019 weekday        87178\n",
       "       weekend        15741\n",
       "1-2020 weekday       127459\n",
       "       weekend        14973\n",
       "1-2021 weekday        58501"
      ]
     },
     "execution_count": 33,
     "metadata": {},
     "output_type": "execute_result"
    }
   ],
   "source": [
    "divvy_by_date_day.head()"
   ]
  },
  {
   "cell_type": "code",
   "execution_count": 45,
   "metadata": {},
   "outputs": [
    {
     "name": "stdout",
     "output_type": "stream",
     "text": [
      "<class 'pandas.core.frame.DataFrame'>\n",
      "Int64Index: 365 entries, 0 to 364\n",
      "Data columns (total 8 columns):\n",
      " #   Column       Non-Null Count  Dtype         \n",
      "---  ------       --------------  -----         \n",
      " 0   ride_date    365 non-null    datetime64[ns]\n",
      " 1   ride_count   365 non-null    int64         \n",
      " 2   month        365 non-null    int64         \n",
      " 3   mm-dd        365 non-null    datetime64[ns]\n",
      " 4   year         365 non-null    int64         \n",
      " 5   m_y          365 non-null    object        \n",
      " 6   day_of_week  365 non-null    int64         \n",
      " 7   day_type     365 non-null    object        \n",
      "dtypes: datetime64[ns](2), int64(4), object(2)\n",
      "memory usage: 25.7+ KB\n"
     ]
    }
   ],
   "source": [
    "divvy_by_date_2019.info()"
   ]
  },
  {
   "cell_type": "code",
   "execution_count": 48,
   "metadata": {},
   "outputs": [
    {
     "data": {
      "text/html": [
       "<div>\n",
       "<style scoped>\n",
       "    .dataframe tbody tr th:only-of-type {\n",
       "        vertical-align: middle;\n",
       "    }\n",
       "\n",
       "    .dataframe tbody tr th {\n",
       "        vertical-align: top;\n",
       "    }\n",
       "\n",
       "    .dataframe thead th {\n",
       "        text-align: right;\n",
       "    }\n",
       "</style>\n",
       "<table border=\"1\" class=\"dataframe\">\n",
       "  <thead>\n",
       "    <tr style=\"text-align: right;\">\n",
       "      <th></th>\n",
       "      <th>ride_date</th>\n",
       "      <th>ride_count</th>\n",
       "      <th>month</th>\n",
       "      <th>mm-dd</th>\n",
       "      <th>year</th>\n",
       "      <th>m_y</th>\n",
       "      <th>day_of_week</th>\n",
       "      <th>day_type</th>\n",
       "    </tr>\n",
       "  </thead>\n",
       "  <tbody>\n",
       "    <tr>\n",
       "      <th>0</th>\n",
       "      <td>2019-01-01</td>\n",
       "      <td>1298</td>\n",
       "      <td>1</td>\n",
       "      <td>1900-01-01</td>\n",
       "      <td>2019</td>\n",
       "      <td>1-2019</td>\n",
       "      <td>1</td>\n",
       "      <td>weekday</td>\n",
       "    </tr>\n",
       "    <tr>\n",
       "      <th>1</th>\n",
       "      <td>2019-01-02</td>\n",
       "      <td>4158</td>\n",
       "      <td>1</td>\n",
       "      <td>1900-01-02</td>\n",
       "      <td>2019</td>\n",
       "      <td>1-2019</td>\n",
       "      <td>2</td>\n",
       "      <td>weekday</td>\n",
       "    </tr>\n",
       "    <tr>\n",
       "      <th>2</th>\n",
       "      <td>2019-01-03</td>\n",
       "      <td>5605</td>\n",
       "      <td>1</td>\n",
       "      <td>1900-01-03</td>\n",
       "      <td>2019</td>\n",
       "      <td>1-2019</td>\n",
       "      <td>3</td>\n",
       "      <td>weekday</td>\n",
       "    </tr>\n",
       "    <tr>\n",
       "      <th>3</th>\n",
       "      <td>2019-01-04</td>\n",
       "      <td>6771</td>\n",
       "      <td>1</td>\n",
       "      <td>1900-01-04</td>\n",
       "      <td>2019</td>\n",
       "      <td>1-2019</td>\n",
       "      <td>4</td>\n",
       "      <td>weekday</td>\n",
       "    </tr>\n",
       "    <tr>\n",
       "      <th>4</th>\n",
       "      <td>2019-01-05</td>\n",
       "      <td>6145</td>\n",
       "      <td>1</td>\n",
       "      <td>1900-01-05</td>\n",
       "      <td>2019</td>\n",
       "      <td>1-2019</td>\n",
       "      <td>5</td>\n",
       "      <td>weekend</td>\n",
       "    </tr>\n",
       "    <tr>\n",
       "      <th>...</th>\n",
       "      <td>...</td>\n",
       "      <td>...</td>\n",
       "      <td>...</td>\n",
       "      <td>...</td>\n",
       "      <td>...</td>\n",
       "      <td>...</td>\n",
       "      <td>...</td>\n",
       "      <td>...</td>\n",
       "    </tr>\n",
       "    <tr>\n",
       "      <th>360</th>\n",
       "      <td>2019-12-27</td>\n",
       "      <td>3969</td>\n",
       "      <td>12</td>\n",
       "      <td>1900-12-27</td>\n",
       "      <td>2019</td>\n",
       "      <td>12-2019</td>\n",
       "      <td>4</td>\n",
       "      <td>weekday</td>\n",
       "    </tr>\n",
       "    <tr>\n",
       "      <th>361</th>\n",
       "      <td>2019-12-28</td>\n",
       "      <td>2765</td>\n",
       "      <td>12</td>\n",
       "      <td>1900-12-28</td>\n",
       "      <td>2019</td>\n",
       "      <td>12-2019</td>\n",
       "      <td>5</td>\n",
       "      <td>weekend</td>\n",
       "    </tr>\n",
       "    <tr>\n",
       "      <th>362</th>\n",
       "      <td>2019-12-29</td>\n",
       "      <td>3886</td>\n",
       "      <td>12</td>\n",
       "      <td>1900-12-29</td>\n",
       "      <td>2019</td>\n",
       "      <td>12-2019</td>\n",
       "      <td>6</td>\n",
       "      <td>weekend</td>\n",
       "    </tr>\n",
       "    <tr>\n",
       "      <th>363</th>\n",
       "      <td>2019-12-30</td>\n",
       "      <td>3299</td>\n",
       "      <td>12</td>\n",
       "      <td>1900-12-30</td>\n",
       "      <td>2019</td>\n",
       "      <td>12-2019</td>\n",
       "      <td>0</td>\n",
       "      <td>weekday</td>\n",
       "    </tr>\n",
       "    <tr>\n",
       "      <th>364</th>\n",
       "      <td>2019-12-31</td>\n",
       "      <td>2189</td>\n",
       "      <td>12</td>\n",
       "      <td>1900-12-31</td>\n",
       "      <td>2019</td>\n",
       "      <td>12-2019</td>\n",
       "      <td>1</td>\n",
       "      <td>weekday</td>\n",
       "    </tr>\n",
       "  </tbody>\n",
       "</table>\n",
       "<p>365 rows × 8 columns</p>\n",
       "</div>"
      ],
      "text/plain": [
       "     ride_date  ride_count  month      mm-dd  year      m_y  day_of_week  \\\n",
       "0   2019-01-01        1298      1 1900-01-01  2019   1-2019            1   \n",
       "1   2019-01-02        4158      1 1900-01-02  2019   1-2019            2   \n",
       "2   2019-01-03        5605      1 1900-01-03  2019   1-2019            3   \n",
       "3   2019-01-04        6771      1 1900-01-04  2019   1-2019            4   \n",
       "4   2019-01-05        6145      1 1900-01-05  2019   1-2019            5   \n",
       "..         ...         ...    ...        ...   ...      ...          ...   \n",
       "360 2019-12-27        3969     12 1900-12-27  2019  12-2019            4   \n",
       "361 2019-12-28        2765     12 1900-12-28  2019  12-2019            5   \n",
       "362 2019-12-29        3886     12 1900-12-29  2019  12-2019            6   \n",
       "363 2019-12-30        3299     12 1900-12-30  2019  12-2019            0   \n",
       "364 2019-12-31        2189     12 1900-12-31  2019  12-2019            1   \n",
       "\n",
       "    day_type  \n",
       "0    weekday  \n",
       "1    weekday  \n",
       "2    weekday  \n",
       "3    weekday  \n",
       "4    weekend  \n",
       "..       ...  \n",
       "360  weekday  \n",
       "361  weekend  \n",
       "362  weekend  \n",
       "363  weekday  \n",
       "364  weekday  \n",
       "\n",
       "[365 rows x 8 columns]"
      ]
     },
     "execution_count": 48,
     "metadata": {},
     "output_type": "execute_result"
    }
   ],
   "source": [
    "divvy_by_date_2019"
   ]
  },
  {
   "cell_type": "code",
   "execution_count": 47,
   "metadata": {},
   "outputs": [
    {
     "ename": "ValueError",
     "evalue": "x and y must have same first dimension, but have shapes (1,) and (365,)",
     "output_type": "error",
     "traceback": [
      "\u001b[0;31m---------------------------------------------------------------------------\u001b[0m",
      "\u001b[0;31mValueError\u001b[0m                                Traceback (most recent call last)",
      "\u001b[0;32m<ipython-input-47-90bc8d1fa973>\u001b[0m in \u001b[0;36m<module>\u001b[0;34m\u001b[0m\n\u001b[0;32m----> 1\u001b[0;31m \u001b[0mplt\u001b[0m\u001b[0;34m.\u001b[0m\u001b[0mplot\u001b[0m\u001b[0;34m(\u001b[0m\u001b[0;34m'mm_dd'\u001b[0m\u001b[0;34m,\u001b[0m \u001b[0;34m'ride_count'\u001b[0m\u001b[0;34m,\u001b[0m \u001b[0mdata\u001b[0m\u001b[0;34m=\u001b[0m\u001b[0mdivvy_by_date_2019\u001b[0m\u001b[0;34m)\u001b[0m\u001b[0;34m\u001b[0m\u001b[0;34m\u001b[0m\u001b[0m\n\u001b[0m\u001b[1;32m      2\u001b[0m \u001b[0mdisplay\u001b[0m\u001b[0;34m(\u001b[0m\u001b[0mdivvy_by_date_2019\u001b[0m\u001b[0;34m)\u001b[0m\u001b[0;34m\u001b[0m\u001b[0;34m\u001b[0m\u001b[0m\n",
      "\u001b[0;32m~/opt/anaconda3/lib/python3.7/site-packages/matplotlib/pyplot.py\u001b[0m in \u001b[0;36mplot\u001b[0;34m(scalex, scaley, data, *args, **kwargs)\u001b[0m\n\u001b[1;32m   2794\u001b[0m     return gca().plot(\n\u001b[1;32m   2795\u001b[0m         *args, scalex=scalex, scaley=scaley, **({\"data\": data} if data\n\u001b[0;32m-> 2796\u001b[0;31m         is not None else {}), **kwargs)\n\u001b[0m\u001b[1;32m   2797\u001b[0m \u001b[0;34m\u001b[0m\u001b[0m\n\u001b[1;32m   2798\u001b[0m \u001b[0;34m\u001b[0m\u001b[0m\n",
      "\u001b[0;32m~/opt/anaconda3/lib/python3.7/site-packages/matplotlib/axes/_axes.py\u001b[0m in \u001b[0;36mplot\u001b[0;34m(self, scalex, scaley, data, *args, **kwargs)\u001b[0m\n\u001b[1;32m   1663\u001b[0m         \"\"\"\n\u001b[1;32m   1664\u001b[0m         \u001b[0mkwargs\u001b[0m \u001b[0;34m=\u001b[0m \u001b[0mcbook\u001b[0m\u001b[0;34m.\u001b[0m\u001b[0mnormalize_kwargs\u001b[0m\u001b[0;34m(\u001b[0m\u001b[0mkwargs\u001b[0m\u001b[0;34m,\u001b[0m \u001b[0mmlines\u001b[0m\u001b[0;34m.\u001b[0m\u001b[0mLine2D\u001b[0m\u001b[0;34m.\u001b[0m\u001b[0m_alias_map\u001b[0m\u001b[0;34m)\u001b[0m\u001b[0;34m\u001b[0m\u001b[0;34m\u001b[0m\u001b[0m\n\u001b[0;32m-> 1665\u001b[0;31m         \u001b[0mlines\u001b[0m \u001b[0;34m=\u001b[0m \u001b[0;34m[\u001b[0m\u001b[0;34m*\u001b[0m\u001b[0mself\u001b[0m\u001b[0;34m.\u001b[0m\u001b[0m_get_lines\u001b[0m\u001b[0;34m(\u001b[0m\u001b[0;34m*\u001b[0m\u001b[0margs\u001b[0m\u001b[0;34m,\u001b[0m \u001b[0mdata\u001b[0m\u001b[0;34m=\u001b[0m\u001b[0mdata\u001b[0m\u001b[0;34m,\u001b[0m \u001b[0;34m**\u001b[0m\u001b[0mkwargs\u001b[0m\u001b[0;34m)\u001b[0m\u001b[0;34m]\u001b[0m\u001b[0;34m\u001b[0m\u001b[0;34m\u001b[0m\u001b[0m\n\u001b[0m\u001b[1;32m   1666\u001b[0m         \u001b[0;32mfor\u001b[0m \u001b[0mline\u001b[0m \u001b[0;32min\u001b[0m \u001b[0mlines\u001b[0m\u001b[0;34m:\u001b[0m\u001b[0;34m\u001b[0m\u001b[0;34m\u001b[0m\u001b[0m\n\u001b[1;32m   1667\u001b[0m             \u001b[0mself\u001b[0m\u001b[0;34m.\u001b[0m\u001b[0madd_line\u001b[0m\u001b[0;34m(\u001b[0m\u001b[0mline\u001b[0m\u001b[0;34m)\u001b[0m\u001b[0;34m\u001b[0m\u001b[0;34m\u001b[0m\u001b[0m\n",
      "\u001b[0;32m~/opt/anaconda3/lib/python3.7/site-packages/matplotlib/axes/_base.py\u001b[0m in \u001b[0;36m__call__\u001b[0;34m(self, *args, **kwargs)\u001b[0m\n\u001b[1;32m    223\u001b[0m                 \u001b[0mthis\u001b[0m \u001b[0;34m+=\u001b[0m \u001b[0margs\u001b[0m\u001b[0;34m[\u001b[0m\u001b[0;36m0\u001b[0m\u001b[0;34m]\u001b[0m\u001b[0;34m,\u001b[0m\u001b[0;34m\u001b[0m\u001b[0;34m\u001b[0m\u001b[0m\n\u001b[1;32m    224\u001b[0m                 \u001b[0margs\u001b[0m \u001b[0;34m=\u001b[0m \u001b[0margs\u001b[0m\u001b[0;34m[\u001b[0m\u001b[0;36m1\u001b[0m\u001b[0;34m:\u001b[0m\u001b[0;34m]\u001b[0m\u001b[0;34m\u001b[0m\u001b[0;34m\u001b[0m\u001b[0m\n\u001b[0;32m--> 225\u001b[0;31m             \u001b[0;32myield\u001b[0m \u001b[0;32mfrom\u001b[0m \u001b[0mself\u001b[0m\u001b[0;34m.\u001b[0m\u001b[0m_plot_args\u001b[0m\u001b[0;34m(\u001b[0m\u001b[0mthis\u001b[0m\u001b[0;34m,\u001b[0m \u001b[0mkwargs\u001b[0m\u001b[0;34m)\u001b[0m\u001b[0;34m\u001b[0m\u001b[0;34m\u001b[0m\u001b[0m\n\u001b[0m\u001b[1;32m    226\u001b[0m \u001b[0;34m\u001b[0m\u001b[0m\n\u001b[1;32m    227\u001b[0m     \u001b[0;32mdef\u001b[0m \u001b[0mget_next_color\u001b[0m\u001b[0;34m(\u001b[0m\u001b[0mself\u001b[0m\u001b[0;34m)\u001b[0m\u001b[0;34m:\u001b[0m\u001b[0;34m\u001b[0m\u001b[0;34m\u001b[0m\u001b[0m\n",
      "\u001b[0;32m~/opt/anaconda3/lib/python3.7/site-packages/matplotlib/axes/_base.py\u001b[0m in \u001b[0;36m_plot_args\u001b[0;34m(self, tup, kwargs)\u001b[0m\n\u001b[1;32m    389\u001b[0m             \u001b[0mx\u001b[0m\u001b[0;34m,\u001b[0m \u001b[0my\u001b[0m \u001b[0;34m=\u001b[0m \u001b[0mindex_of\u001b[0m\u001b[0;34m(\u001b[0m\u001b[0mtup\u001b[0m\u001b[0;34m[\u001b[0m\u001b[0;34m-\u001b[0m\u001b[0;36m1\u001b[0m\u001b[0;34m]\u001b[0m\u001b[0;34m)\u001b[0m\u001b[0;34m\u001b[0m\u001b[0;34m\u001b[0m\u001b[0m\n\u001b[1;32m    390\u001b[0m \u001b[0;34m\u001b[0m\u001b[0m\n\u001b[0;32m--> 391\u001b[0;31m         \u001b[0mx\u001b[0m\u001b[0;34m,\u001b[0m \u001b[0my\u001b[0m \u001b[0;34m=\u001b[0m \u001b[0mself\u001b[0m\u001b[0;34m.\u001b[0m\u001b[0m_xy_from_xy\u001b[0m\u001b[0;34m(\u001b[0m\u001b[0mx\u001b[0m\u001b[0;34m,\u001b[0m \u001b[0my\u001b[0m\u001b[0;34m)\u001b[0m\u001b[0;34m\u001b[0m\u001b[0;34m\u001b[0m\u001b[0m\n\u001b[0m\u001b[1;32m    392\u001b[0m \u001b[0;34m\u001b[0m\u001b[0m\n\u001b[1;32m    393\u001b[0m         \u001b[0;32mif\u001b[0m \u001b[0mself\u001b[0m\u001b[0;34m.\u001b[0m\u001b[0mcommand\u001b[0m \u001b[0;34m==\u001b[0m \u001b[0;34m'plot'\u001b[0m\u001b[0;34m:\u001b[0m\u001b[0;34m\u001b[0m\u001b[0;34m\u001b[0m\u001b[0m\n",
      "\u001b[0;32m~/opt/anaconda3/lib/python3.7/site-packages/matplotlib/axes/_base.py\u001b[0m in \u001b[0;36m_xy_from_xy\u001b[0;34m(self, x, y)\u001b[0m\n\u001b[1;32m    268\u001b[0m         \u001b[0;32mif\u001b[0m \u001b[0mx\u001b[0m\u001b[0;34m.\u001b[0m\u001b[0mshape\u001b[0m\u001b[0;34m[\u001b[0m\u001b[0;36m0\u001b[0m\u001b[0;34m]\u001b[0m \u001b[0;34m!=\u001b[0m \u001b[0my\u001b[0m\u001b[0;34m.\u001b[0m\u001b[0mshape\u001b[0m\u001b[0;34m[\u001b[0m\u001b[0;36m0\u001b[0m\u001b[0;34m]\u001b[0m\u001b[0;34m:\u001b[0m\u001b[0;34m\u001b[0m\u001b[0;34m\u001b[0m\u001b[0m\n\u001b[1;32m    269\u001b[0m             raise ValueError(\"x and y must have same first dimension, but \"\n\u001b[0;32m--> 270\u001b[0;31m                              \"have shapes {} and {}\".format(x.shape, y.shape))\n\u001b[0m\u001b[1;32m    271\u001b[0m         \u001b[0;32mif\u001b[0m \u001b[0mx\u001b[0m\u001b[0;34m.\u001b[0m\u001b[0mndim\u001b[0m \u001b[0;34m>\u001b[0m \u001b[0;36m2\u001b[0m \u001b[0;32mor\u001b[0m \u001b[0my\u001b[0m\u001b[0;34m.\u001b[0m\u001b[0mndim\u001b[0m \u001b[0;34m>\u001b[0m \u001b[0;36m2\u001b[0m\u001b[0;34m:\u001b[0m\u001b[0;34m\u001b[0m\u001b[0;34m\u001b[0m\u001b[0m\n\u001b[1;32m    272\u001b[0m             raise ValueError(\"x and y can be no greater than 2-D, but have \"\n",
      "\u001b[0;31mValueError\u001b[0m: x and y must have same first dimension, but have shapes (1,) and (365,)"
     ]
    },
    {
     "data": {
      "image/png": "[encoded data removed]",
      "text/plain": [
       "<Figure size 432x288 with 1 Axes>"
      ]
     },
     "metadata": {
      "needs_background": "light"
     },
     "output_type": "display_data"
    }
   ],
   "source": [
    "plt.plot('mm_dd', 'ride_count', data=divvy_by_date_2019)\n",
    "display(divvy_by_date_2019)"
   ]
  },
  {
   "cell_type": "code",
   "execution_count": null,
   "metadata": {},
   "outputs": [],
   "source": []
  }
 ],
 "metadata": {
  "kernelspec": {
   "display_name": "Python 3",
   "language": "python",
   "name": "python3"
  },
  "language_info": {
   "codemirror_mode": {
    "name": "ipython",
    "version": 3
   },
   "file_extension": ".py",
   "mimetype": "text/x-python",
   "name": "python",
   "nbconvert_exporter": "python",
   "pygments_lexer": "ipython3",
   "version": "3.7.6"
  }
 },
 "nbformat": 4,
 "nbformat_minor": 4
}
