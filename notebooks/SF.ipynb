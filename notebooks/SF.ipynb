{
 "cells": [
  {
   "cell_type": "code",
   "execution_count": 1,
   "metadata": {},
   "outputs": [],
   "source": [
    "import os\n",
    "import pandas as pd\n",
    "import matplotlib.pyplot as plt"
   ]
  },
  {
   "cell_type": "code",
   "execution_count": 2,
   "metadata": {},
   "outputs": [
    {
     "name": "stdout",
     "output_type": "stream",
     "text": [
      "pd.read_csv('../data/San Francisco/201909-baywheels-tripdata.csv')\n",
      "pd.read_csv('../data/San Francisco/202012-baywheels-tripdata.csv')\n",
      "pd.read_csv('../data/San Francisco/201904-fordgobike-tripdata.csv')\n",
      "pd.read_csv('../data/San Francisco/202011-baywheels-tripdata.csv')\n",
      "pd.read_csv('../data/San Francisco/201907-baywheels-tripdata.csv')\n",
      "pd.read_csv('../data/San Francisco/201903-fordgobike-tripdata.csv')\n",
      "pd.read_csv('../data/San Francisco/201906-baywheels-tripdata.csv')\n",
      "pd.read_csv('../data/San Francisco/202010-baywheels-tripdata.csv')\n",
      "pd.read_csv('../data/San Francisco/201908-baywheels-tripdata.csv')\n",
      "pd.read_csv('../data/San Francisco/201905-baywheels-tripdata.csv')\n",
      "pd.read_csv('../data/San Francisco/202006-baywheels-tripdata.csv')\n",
      "pd.read_csv('../data/San Francisco/201901-fordgobike-tripdata.csv')\n",
      "pd.read_csv('../data/San Francisco/202001-baywheels-tripdata.csv')\n",
      "pd.read_csv('../data/San Francisco/201910-baywheels-tripdata.csv')\n",
      "pd.read_csv('../data/San Francisco/202008-baywheels-tripdata.csv')\n",
      "pd.read_csv('../data/San Francisco/202002-baywheels-tripdata.csv')\n",
      "pd.read_csv('../data/San Francisco/202104-baywheels-tripdata.csv')\n",
      "pd.read_csv('../data/San Francisco/202005-baywheels-tripdata.csv')\n",
      "pd.read_csv('../data/San Francisco/202103-baywheels-tripdata.csv')\n",
      "pd.read_csv('../data/San Francisco/202004-baywheels-tripdata.csv')\n",
      "pd.read_csv('../data/San Francisco/202102-baywheels-tripdata.csv')\n",
      "pd.read_csv('../data/San Francisco/202003-baywheels-tripdata.csv')\n",
      "pd.read_csv('../data/San Francisco/201912-baywheels-tripdata.csv')\n",
      "pd.read_csv('../data/San Francisco/202009-baywheels-tripdata.csv')\n",
      "pd.read_csv('../data/San Francisco/201911-baywheels-tripdata.csv')\n",
      "pd.read_csv('../data/San Francisco/202101-baywheels-tripdata.csv')\n",
      "pd.read_csv('../data/San Francisco/202007-baywheels-tripdata.csv')\n",
      "pd.read_csv('../data/San Francisco/201902-fordgobike-tripdata.csv')\n"
     ]
    }
   ],
   "source": [
    "# This is my path\n",
    "path = \"/Users/richietownsend/Nashville Software School/NSS_Data_Analytics/Capstone/data/San Francisco\"\n",
    "\n",
    "# to store files in a list\n",
    "list = []\n",
    " \n",
    "# dirs=directories\n",
    "for (root, dirs, file) in os.walk(path):\n",
    "    for f in file:\n",
    "        if '.csv' in f:\n",
    "            print('pd.read_csv(\\'../data/San Francisco/'+f+'\\')')"
   ]
  },
  {
   "cell_type": "code",
   "execution_count": 3,
   "metadata": {},
   "outputs": [
    {
     "name": "stderr",
     "output_type": "stream",
     "text": [
      "/Users/richietownsend/opt/miniconda3/envs/geospatial/lib/python3.8/site-packages/IPython/core/interactiveshell.py:3165: DtypeWarning: Columns (14) have mixed types.Specify dtype option on import or set low_memory=False.\n",
      "  has_raised = await self.run_ast_nodes(code_ast.body, cell_name,\n",
      "/Users/richietownsend/opt/miniconda3/envs/geospatial/lib/python3.8/site-packages/IPython/core/interactiveshell.py:3165: DtypeWarning: Columns (13,14) have mixed types.Specify dtype option on import or set low_memory=False.\n",
      "  has_raised = await self.run_ast_nodes(code_ast.body, cell_name,\n",
      "/Users/richietownsend/opt/miniconda3/envs/geospatial/lib/python3.8/site-packages/IPython/core/interactiveshell.py:3165: DtypeWarning: Columns (13) have mixed types.Specify dtype option on import or set low_memory=False.\n",
      "  has_raised = await self.run_ast_nodes(code_ast.body, cell_name,\n"
     ]
    }
   ],
   "source": [
    "baywheels0119 = pd.read_csv('../data/San Francisco/201901-fordgobike-tripdata.csv')\n",
    "baywheels0219 = pd.read_csv('../data/San Francisco/201902-fordgobike-tripdata.csv')\n",
    "baywheels0319 = pd.read_csv('../data/San Francisco/201903-fordgobike-tripdata.csv')\n",
    "baywheels0419 = pd.read_csv('../data/San Francisco/201904-fordgobike-tripdata.csv')\n",
    "baywheels0519 = pd.read_csv('../data/San Francisco/201905-baywheels-tripdata.csv')\n",
    "baywheels0619 = pd.read_csv('../data/San Francisco/201906-baywheels-tripdata.csv')\n",
    "baywheels0719 = pd.read_csv('../data/San Francisco/201907-baywheels-tripdata.csv')\n",
    "baywheels0819 = pd.read_csv('../data/San Francisco/201908-baywheels-tripdata.csv')\n",
    "baywheels0919 = pd.read_csv('../data/San Francisco/201909-baywheels-tripdata.csv')\n",
    "baywheels1019 = pd.read_csv('../data/San Francisco/201910-baywheels-tripdata.csv')\n",
    "baywheels1119 = pd.read_csv('../data/San Francisco/201911-baywheels-tripdata.csv')\n",
    "baywheels1219 = pd.read_csv('../data/San Francisco/201912-baywheels-tripdata.csv')\n",
    "baywheels0120 = pd.read_csv('../data/San Francisco/202001-baywheels-tripdata.csv')\n",
    "baywheels0220 = pd.read_csv('../data/San Francisco/202002-baywheels-tripdata.csv')\n",
    "baywheels0320 = pd.read_csv('../data/San Francisco/202003-baywheels-tripdata.csv')\n",
    "baywheels0420 = pd.read_csv('../data/San Francisco/202004-baywheels-tripdata.csv')\n",
    "baywheels0520 = pd.read_csv('../data/San Francisco/202005-baywheels-tripdata.csv')\n",
    "baywheels0620 = pd.read_csv('../data/San Francisco/202006-baywheels-tripdata.csv')\n",
    "baywheels0720 = pd.read_csv('../data/San Francisco/202007-baywheels-tripdata.csv')\n",
    "baywheels0820 = pd.read_csv('../data/San Francisco/202008-baywheels-tripdata.csv')\n",
    "baywheels0920 = pd.read_csv('../data/San Francisco/202009-baywheels-tripdata.csv')\n",
    "baywheels1020 = pd.read_csv('../data/San Francisco/202010-baywheels-tripdata.csv')\n",
    "baywheels1120 = pd.read_csv('../data/San Francisco/202011-baywheels-tripdata.csv')\n",
    "baywheels1220 = pd.read_csv('../data/San Francisco/202012-baywheels-tripdata.csv')\n",
    "baywheels0121 = pd.read_csv('../data/San Francisco/202101-baywheels-tripdata.csv')\n",
    "baywheels0221 = pd.read_csv('../data/San Francisco/202102-baywheels-tripdata.csv')\n",
    "baywheels0321 = pd.read_csv('../data/San Francisco/202103-baywheels-tripdata.csv')\n",
    "baywheels0421 = pd.read_csv('../data/San Francisco/202104-baywheels-tripdata.csv')"
   ]
  },
  {
   "cell_type": "code",
   "execution_count": 4,
   "metadata": {},
   "outputs": [],
   "source": [
    "baywheels_1 = pd.concat([baywheels0119, baywheels0219, baywheels0319, baywheels0419, baywheels0519, baywheels0619, baywheels0719, baywheels0819, baywheels0919, baywheels1019, baywheels1119, baywheels1219, baywheels0120, baywheels0220, baywheels0320])"
   ]
  },
  {
   "cell_type": "code",
   "execution_count": 5,
   "metadata": {},
   "outputs": [],
   "source": [
    "baywheels_2 = pd.concat([baywheels0420, baywheels0520, baywheels0620, baywheels0720, baywheels0820, baywheels0920, baywheels1020, baywheels1120, baywheels1220, baywheels0121, baywheels0221, baywheels0321, baywheels0421])"
   ]
  },
  {
   "cell_type": "code",
   "execution_count": 6,
   "metadata": {},
   "outputs": [
    {
     "name": "stdout",
     "output_type": "stream",
     "text": [
      "<class 'pandas.core.frame.DataFrame'>\n",
      "Int64Index: 3411990 entries, 0 to 176798\n",
      "Data columns (total 15 columns):\n",
      " #   Column                   Dtype  \n",
      "---  ------                   -----  \n",
      " 0   duration_sec             int64  \n",
      " 1   start_time               object \n",
      " 2   end_time                 object \n",
      " 3   start_station_id         float64\n",
      " 4   start_station_name       object \n",
      " 5   start_station_latitude   float64\n",
      " 6   start_station_longitude  float64\n",
      " 7   end_station_id           float64\n",
      " 8   end_station_name         object \n",
      " 9   end_station_latitude     float64\n",
      " 10  end_station_longitude    float64\n",
      " 11  bike_id                  int64  \n",
      " 12  user_type                object \n",
      " 13  bike_share_for_all_trip  object \n",
      " 14  rental_access_method     object \n",
      "dtypes: float64(6), int64(2), object(7)\n",
      "memory usage: 416.5+ MB\n"
     ]
    }
   ],
   "source": [
    "baywheels_1.info()"
   ]
  },
  {
   "cell_type": "code",
   "execution_count": 7,
   "metadata": {},
   "outputs": [
    {
     "name": "stdout",
     "output_type": "stream",
     "text": [
      "<class 'pandas.core.frame.DataFrame'>\n",
      "Int64Index: 1732018 entries, 0 to 146001\n",
      "Data columns (total 13 columns):\n",
      " #   Column              Dtype  \n",
      "---  ------              -----  \n",
      " 0   ride_id             object \n",
      " 1   rideable_type       object \n",
      " 2   started_at          object \n",
      " 3   ended_at            object \n",
      " 4   start_station_name  object \n",
      " 5   start_station_id    object \n",
      " 6   end_station_name    object \n",
      " 7   end_station_id      object \n",
      " 8   start_lat           float64\n",
      " 9   start_lng           float64\n",
      " 10  end_lat             float64\n",
      " 11  end_lng             float64\n",
      " 12  member_casual       object \n",
      "dtypes: float64(4), object(9)\n",
      "memory usage: 185.0+ MB\n"
     ]
    }
   ],
   "source": [
    "baywheels_2.info()"
   ]
  },
  {
   "cell_type": "code",
   "execution_count": 8,
   "metadata": {},
   "outputs": [
    {
     "data": {
      "text/html": [
       "<div>\n",
       "<style scoped>\n",
       "    .dataframe tbody tr th:only-of-type {\n",
       "        vertical-align: middle;\n",
       "    }\n",
       "\n",
       "    .dataframe tbody tr th {\n",
       "        vertical-align: top;\n",
       "    }\n",
       "\n",
       "    .dataframe thead th {\n",
       "        text-align: right;\n",
       "    }\n",
       "</style>\n",
       "<table border=\"1\" class=\"dataframe\">\n",
       "  <thead>\n",
       "    <tr style=\"text-align: right;\">\n",
       "      <th></th>\n",
       "      <th>duration_sec</th>\n",
       "      <th>start_time</th>\n",
       "      <th>end_time</th>\n",
       "      <th>start_station_id</th>\n",
       "      <th>start_station_name</th>\n",
       "      <th>start_station_latitude</th>\n",
       "      <th>start_station_longitude</th>\n",
       "      <th>end_station_id</th>\n",
       "      <th>end_station_name</th>\n",
       "      <th>end_station_latitude</th>\n",
       "      <th>end_station_longitude</th>\n",
       "      <th>bike_id</th>\n",
       "      <th>user_type</th>\n",
       "      <th>bike_share_for_all_trip</th>\n",
       "      <th>rental_access_method</th>\n",
       "    </tr>\n",
       "  </thead>\n",
       "  <tbody>\n",
       "    <tr>\n",
       "      <th>0</th>\n",
       "      <td>80825</td>\n",
       "      <td>2019-01-31 17:57:44.6130</td>\n",
       "      <td>2019-02-01 16:24:49.8640</td>\n",
       "      <td>229.0</td>\n",
       "      <td>Foothill Blvd at 42nd Ave</td>\n",
       "      <td>37.775745</td>\n",
       "      <td>-122.213037</td>\n",
       "      <td>196.0</td>\n",
       "      <td>Grand Ave at Perkins St</td>\n",
       "      <td>37.808894</td>\n",
       "      <td>-122.256460</td>\n",
       "      <td>4861</td>\n",
       "      <td>Subscriber</td>\n",
       "      <td>No</td>\n",
       "      <td>NaN</td>\n",
       "    </tr>\n",
       "    <tr>\n",
       "      <th>1</th>\n",
       "      <td>65900</td>\n",
       "      <td>2019-01-31 20:58:33.8860</td>\n",
       "      <td>2019-02-01 15:16:54.1730</td>\n",
       "      <td>4.0</td>\n",
       "      <td>Cyril Magnin St at Ellis St</td>\n",
       "      <td>37.785881</td>\n",
       "      <td>-122.408915</td>\n",
       "      <td>134.0</td>\n",
       "      <td>Valencia St at 24th St</td>\n",
       "      <td>37.752428</td>\n",
       "      <td>-122.420628</td>\n",
       "      <td>5506</td>\n",
       "      <td>Subscriber</td>\n",
       "      <td>No</td>\n",
       "      <td>NaN</td>\n",
       "    </tr>\n",
       "    <tr>\n",
       "      <th>2</th>\n",
       "      <td>62633</td>\n",
       "      <td>2019-01-31 18:06:52.9240</td>\n",
       "      <td>2019-02-01 11:30:46.5300</td>\n",
       "      <td>245.0</td>\n",
       "      <td>Downtown Berkeley BART</td>\n",
       "      <td>37.870139</td>\n",
       "      <td>-122.268422</td>\n",
       "      <td>157.0</td>\n",
       "      <td>65th St at Hollis St</td>\n",
       "      <td>37.846784</td>\n",
       "      <td>-122.291376</td>\n",
       "      <td>2717</td>\n",
       "      <td>Customer</td>\n",
       "      <td>No</td>\n",
       "      <td>NaN</td>\n",
       "    </tr>\n",
       "    <tr>\n",
       "      <th>3</th>\n",
       "      <td>44680</td>\n",
       "      <td>2019-01-31 19:46:09.7190</td>\n",
       "      <td>2019-02-01 08:10:50.3180</td>\n",
       "      <td>85.0</td>\n",
       "      <td>Church St at Duboce Ave</td>\n",
       "      <td>37.770083</td>\n",
       "      <td>-122.429156</td>\n",
       "      <td>53.0</td>\n",
       "      <td>Grove St at Divisadero</td>\n",
       "      <td>37.775946</td>\n",
       "      <td>-122.437777</td>\n",
       "      <td>4557</td>\n",
       "      <td>Customer</td>\n",
       "      <td>No</td>\n",
       "      <td>NaN</td>\n",
       "    </tr>\n",
       "    <tr>\n",
       "      <th>4</th>\n",
       "      <td>60709</td>\n",
       "      <td>2019-01-31 14:19:01.5410</td>\n",
       "      <td>2019-02-01 07:10:51.0650</td>\n",
       "      <td>16.0</td>\n",
       "      <td>Steuart St at Market St</td>\n",
       "      <td>37.794130</td>\n",
       "      <td>-122.394430</td>\n",
       "      <td>28.0</td>\n",
       "      <td>The Embarcadero at Bryant St</td>\n",
       "      <td>37.787168</td>\n",
       "      <td>-122.388098</td>\n",
       "      <td>2100</td>\n",
       "      <td>Customer</td>\n",
       "      <td>No</td>\n",
       "      <td>NaN</td>\n",
       "    </tr>\n",
       "  </tbody>\n",
       "</table>\n",
       "</div>"
      ],
      "text/plain": [
       "   duration_sec                start_time                  end_time  \\\n",
       "0         80825  2019-01-31 17:57:44.6130  2019-02-01 16:24:49.8640   \n",
       "1         65900  2019-01-31 20:58:33.8860  2019-02-01 15:16:54.1730   \n",
       "2         62633  2019-01-31 18:06:52.9240  2019-02-01 11:30:46.5300   \n",
       "3         44680  2019-01-31 19:46:09.7190  2019-02-01 08:10:50.3180   \n",
       "4         60709  2019-01-31 14:19:01.5410  2019-02-01 07:10:51.0650   \n",
       "\n",
       "   start_station_id           start_station_name  start_station_latitude  \\\n",
       "0             229.0    Foothill Blvd at 42nd Ave               37.775745   \n",
       "1               4.0  Cyril Magnin St at Ellis St               37.785881   \n",
       "2             245.0       Downtown Berkeley BART               37.870139   \n",
       "3              85.0      Church St at Duboce Ave               37.770083   \n",
       "4              16.0      Steuart St at Market St               37.794130   \n",
       "\n",
       "   start_station_longitude  end_station_id              end_station_name  \\\n",
       "0              -122.213037           196.0       Grand Ave at Perkins St   \n",
       "1              -122.408915           134.0        Valencia St at 24th St   \n",
       "2              -122.268422           157.0          65th St at Hollis St   \n",
       "3              -122.429156            53.0        Grove St at Divisadero   \n",
       "4              -122.394430            28.0  The Embarcadero at Bryant St   \n",
       "\n",
       "   end_station_latitude  end_station_longitude  bike_id   user_type  \\\n",
       "0             37.808894            -122.256460     4861  Subscriber   \n",
       "1             37.752428            -122.420628     5506  Subscriber   \n",
       "2             37.846784            -122.291376     2717    Customer   \n",
       "3             37.775946            -122.437777     4557    Customer   \n",
       "4             37.787168            -122.388098     2100    Customer   \n",
       "\n",
       "  bike_share_for_all_trip rental_access_method  \n",
       "0                      No                  NaN  \n",
       "1                      No                  NaN  \n",
       "2                      No                  NaN  \n",
       "3                      No                  NaN  \n",
       "4                      No                  NaN  "
      ]
     },
     "execution_count": 8,
     "metadata": {},
     "output_type": "execute_result"
    }
   ],
   "source": [
    "baywheels_1.head()"
   ]
  },
  {
   "cell_type": "code",
   "execution_count": 9,
   "metadata": {},
   "outputs": [],
   "source": [
    "baywheels_1 = baywheels_1[['bike_id', 'start_time', 'end_time', 'start_station_id', 'end_station_id']]\n",
    "baywheels_1.rename(columns={'bike_id': 'ride_id', 'start_time':'started_at', 'end_time': 'ended_at'}, inplace=True)"
   ]
  },
  {
   "cell_type": "code",
   "execution_count": 10,
   "metadata": {},
   "outputs": [],
   "source": [
    "baywheels_2 = baywheels_2[['ride_id', 'started_at', 'ended_at', 'start_station_id', 'end_station_id']]"
   ]
  },
  {
   "cell_type": "code",
   "execution_count": 11,
   "metadata": {},
   "outputs": [
    {
     "data": {
      "text/html": [
       "<div>\n",
       "<style scoped>\n",
       "    .dataframe tbody tr th:only-of-type {\n",
       "        vertical-align: middle;\n",
       "    }\n",
       "\n",
       "    .dataframe tbody tr th {\n",
       "        vertical-align: top;\n",
       "    }\n",
       "\n",
       "    .dataframe thead th {\n",
       "        text-align: right;\n",
       "    }\n",
       "</style>\n",
       "<table border=\"1\" class=\"dataframe\">\n",
       "  <thead>\n",
       "    <tr style=\"text-align: right;\">\n",
       "      <th></th>\n",
       "      <th>ride_id</th>\n",
       "      <th>started_at</th>\n",
       "      <th>ended_at</th>\n",
       "      <th>start_station_id</th>\n",
       "      <th>end_station_id</th>\n",
       "    </tr>\n",
       "  </thead>\n",
       "  <tbody>\n",
       "    <tr>\n",
       "      <th>0</th>\n",
       "      <td>8D9AD0A63902F7A8</td>\n",
       "      <td>2020-04-13 14:37:05</td>\n",
       "      <td>2020-04-13 14:41:00</td>\n",
       "      <td>NaN</td>\n",
       "      <td>NaN</td>\n",
       "    </tr>\n",
       "    <tr>\n",
       "      <th>1</th>\n",
       "      <td>A09545AB44B8CA01</td>\n",
       "      <td>2020-04-12 18:51:49</td>\n",
       "      <td>2020-04-12 19:35:32</td>\n",
       "      <td>NaN</td>\n",
       "      <td>NaN</td>\n",
       "    </tr>\n",
       "    <tr>\n",
       "      <th>2</th>\n",
       "      <td>CD8A649CF88BD404</td>\n",
       "      <td>2020-04-13 15:07:08</td>\n",
       "      <td>2020-04-13 15:21:37</td>\n",
       "      <td>NaN</td>\n",
       "      <td>NaN</td>\n",
       "    </tr>\n",
       "    <tr>\n",
       "      <th>3</th>\n",
       "      <td>D7BA33F36CF2FF78</td>\n",
       "      <td>2020-04-21 14:27:54</td>\n",
       "      <td>2020-04-21 14:40:19</td>\n",
       "      <td>NaN</td>\n",
       "      <td>NaN</td>\n",
       "    </tr>\n",
       "    <tr>\n",
       "      <th>4</th>\n",
       "      <td>548A91D3B92D38DC</td>\n",
       "      <td>2020-04-21 14:52:58</td>\n",
       "      <td>2020-04-21 14:54:38</td>\n",
       "      <td>NaN</td>\n",
       "      <td>NaN</td>\n",
       "    </tr>\n",
       "  </tbody>\n",
       "</table>\n",
       "</div>"
      ],
      "text/plain": [
       "            ride_id           started_at             ended_at  \\\n",
       "0  8D9AD0A63902F7A8  2020-04-13 14:37:05  2020-04-13 14:41:00   \n",
       "1  A09545AB44B8CA01  2020-04-12 18:51:49  2020-04-12 19:35:32   \n",
       "2  CD8A649CF88BD404  2020-04-13 15:07:08  2020-04-13 15:21:37   \n",
       "3  D7BA33F36CF2FF78  2020-04-21 14:27:54  2020-04-21 14:40:19   \n",
       "4  548A91D3B92D38DC  2020-04-21 14:52:58  2020-04-21 14:54:38   \n",
       "\n",
       "  start_station_id end_station_id  \n",
       "0              NaN            NaN  \n",
       "1              NaN            NaN  \n",
       "2              NaN            NaN  \n",
       "3              NaN            NaN  \n",
       "4              NaN            NaN  "
      ]
     },
     "execution_count": 11,
     "metadata": {},
     "output_type": "execute_result"
    }
   ],
   "source": [
    "baywheels_2.head()"
   ]
  },
  {
   "cell_type": "code",
   "execution_count": 12,
   "metadata": {},
   "outputs": [],
   "source": [
    "baywheels_all = pd.concat([baywheels_1, baywheels_2])"
   ]
  },
  {
   "cell_type": "code",
   "execution_count": 13,
   "metadata": {},
   "outputs": [
    {
     "name": "stdout",
     "output_type": "stream",
     "text": [
      "<class 'pandas.core.frame.DataFrame'>\n",
      "Int64Index: 5144008 entries, 0 to 146001\n",
      "Data columns (total 5 columns):\n",
      " #   Column            Dtype \n",
      "---  ------            ----- \n",
      " 0   ride_id           object\n",
      " 1   started_at        object\n",
      " 2   ended_at          object\n",
      " 3   start_station_id  object\n",
      " 4   end_station_id    object\n",
      "dtypes: object(5)\n",
      "memory usage: 235.5+ MB\n"
     ]
    }
   ],
   "source": [
    "baywheels_all.info()"
   ]
  },
  {
   "cell_type": "code",
   "execution_count": 14,
   "metadata": {},
   "outputs": [],
   "source": [
    "baywheels_all['started_at'] = pd.to_datetime(baywheels_all['started_at'], format='%Y-%m-%d')\n",
    "baywheels_all['ended_at'] = pd.to_datetime(baywheels_all['ended_at'], format='%Y-%m-%d')"
   ]
  },
  {
   "cell_type": "code",
   "execution_count": 15,
   "metadata": {},
   "outputs": [],
   "source": [
    "baywheels_all['duration'] = baywheels_all['started_at'] - baywheels_all['ended_at']"
   ]
  },
  {
   "cell_type": "code",
   "execution_count": 16,
   "metadata": {},
   "outputs": [],
   "source": [
    "baywheels_all = baywheels_all.dropna(subset=['start_station_id'])\n",
    "baywheels_all = baywheels_all.dropna(subset=['end_station_id'])\n",
    "baywheels_all = baywheels_all[~((baywheels_all['start_station_id'] == baywheels_all['end_station_id']) & (baywheels_all['duration'] < '00:05:00'))]"
   ]
  },
  {
   "cell_type": "code",
   "execution_count": 17,
   "metadata": {},
   "outputs": [],
   "source": [
    "baywheels_all['start_date'] = baywheels_all['started_at'].dt.date"
   ]
  },
  {
   "cell_type": "code",
   "execution_count": 19,
   "metadata": {},
   "outputs": [],
   "source": [
    "bay_by_date = baywheels_all.groupby('start_date').agg({'ride_id': 'count'}).reset_index()\n",
    "\n",
    "# baywheels_date = baywheels_all.groupby(['start_date'])['ride_id'].count()\n",
    "# baywheels_date = pd.DataFrame(baywheels_date).reset_index()\n",
    "bay_by_date['start_date'] = pd.to_datetime(bay_by_date['start_date'], format='%Y-%m-%d')\n",
    "bay_by_date.rename(columns={'start_date':'ride_date', 'ride_id': 'ride_count'}, inplace='True')"
   ]
  },
  {
   "cell_type": "code",
   "execution_count": 20,
   "metadata": {},
   "outputs": [
    {
     "name": "stdout",
     "output_type": "stream",
     "text": [
      "<class 'pandas.core.frame.DataFrame'>\n",
      "RangeIndex: 851 entries, 0 to 850\n",
      "Data columns (total 2 columns):\n",
      " #   Column      Non-Null Count  Dtype         \n",
      "---  ------      --------------  -----         \n",
      " 0   ride_date   851 non-null    datetime64[ns]\n",
      " 1   ride_count  851 non-null    int64         \n",
      "dtypes: datetime64[ns](1), int64(1)\n",
      "memory usage: 13.4 KB\n"
     ]
    }
   ],
   "source": [
    "bay_by_date.info()"
   ]
  },
  {
   "cell_type": "code",
   "execution_count": 21,
   "metadata": {},
   "outputs": [],
   "source": [
    "bay_by_date['month'] = bay_by_date['ride_date'].dt.month\n",
    "bay_by_date['year'] = bay_by_date['ride_date'].dt.year\n",
    "bay_by_date['m_y'] = bay_by_date['month'].apply(str) + \"-\" + bay_by_date['year'].apply(str) "
   ]
  },
  {
   "cell_type": "code",
   "execution_count": 22,
   "metadata": {},
   "outputs": [
    {
     "data": {
      "text/html": [
       "<div>\n",
       "<style scoped>\n",
       "    .dataframe tbody tr th:only-of-type {\n",
       "        vertical-align: middle;\n",
       "    }\n",
       "\n",
       "    .dataframe tbody tr th {\n",
       "        vertical-align: top;\n",
       "    }\n",
       "\n",
       "    .dataframe thead th {\n",
       "        text-align: right;\n",
       "    }\n",
       "</style>\n",
       "<table border=\"1\" class=\"dataframe\">\n",
       "  <thead>\n",
       "    <tr style=\"text-align: right;\">\n",
       "      <th></th>\n",
       "      <th>ride_date</th>\n",
       "      <th>ride_count</th>\n",
       "      <th>month</th>\n",
       "      <th>year</th>\n",
       "      <th>m_y</th>\n",
       "    </tr>\n",
       "  </thead>\n",
       "  <tbody>\n",
       "    <tr>\n",
       "      <th>0</th>\n",
       "      <td>2019-01-01</td>\n",
       "      <td>2239</td>\n",
       "      <td>1</td>\n",
       "      <td>2019</td>\n",
       "      <td>1-2019</td>\n",
       "    </tr>\n",
       "    <tr>\n",
       "      <th>1</th>\n",
       "      <td>2019-01-02</td>\n",
       "      <td>5633</td>\n",
       "      <td>1</td>\n",
       "      <td>2019</td>\n",
       "      <td>1-2019</td>\n",
       "    </tr>\n",
       "    <tr>\n",
       "      <th>2</th>\n",
       "      <td>2019-01-03</td>\n",
       "      <td>6198</td>\n",
       "      <td>1</td>\n",
       "      <td>2019</td>\n",
       "      <td>1-2019</td>\n",
       "    </tr>\n",
       "    <tr>\n",
       "      <th>3</th>\n",
       "      <td>2019-01-04</td>\n",
       "      <td>6275</td>\n",
       "      <td>1</td>\n",
       "      <td>2019</td>\n",
       "      <td>1-2019</td>\n",
       "    </tr>\n",
       "    <tr>\n",
       "      <th>4</th>\n",
       "      <td>2019-01-05</td>\n",
       "      <td>2022</td>\n",
       "      <td>1</td>\n",
       "      <td>2019</td>\n",
       "      <td>1-2019</td>\n",
       "    </tr>\n",
       "    <tr>\n",
       "      <th>...</th>\n",
       "      <td>...</td>\n",
       "      <td>...</td>\n",
       "      <td>...</td>\n",
       "      <td>...</td>\n",
       "      <td>...</td>\n",
       "    </tr>\n",
       "    <tr>\n",
       "      <th>846</th>\n",
       "      <td>2021-04-26</td>\n",
       "      <td>2730</td>\n",
       "      <td>4</td>\n",
       "      <td>2021</td>\n",
       "      <td>4-2021</td>\n",
       "    </tr>\n",
       "    <tr>\n",
       "      <th>847</th>\n",
       "      <td>2021-04-27</td>\n",
       "      <td>3052</td>\n",
       "      <td>4</td>\n",
       "      <td>2021</td>\n",
       "      <td>4-2021</td>\n",
       "    </tr>\n",
       "    <tr>\n",
       "      <th>848</th>\n",
       "      <td>2021-04-28</td>\n",
       "      <td>3219</td>\n",
       "      <td>4</td>\n",
       "      <td>2021</td>\n",
       "      <td>4-2021</td>\n",
       "    </tr>\n",
       "    <tr>\n",
       "      <th>849</th>\n",
       "      <td>2021-04-29</td>\n",
       "      <td>2939</td>\n",
       "      <td>4</td>\n",
       "      <td>2021</td>\n",
       "      <td>4-2021</td>\n",
       "    </tr>\n",
       "    <tr>\n",
       "      <th>850</th>\n",
       "      <td>2021-04-30</td>\n",
       "      <td>3004</td>\n",
       "      <td>4</td>\n",
       "      <td>2021</td>\n",
       "      <td>4-2021</td>\n",
       "    </tr>\n",
       "  </tbody>\n",
       "</table>\n",
       "<p>851 rows × 5 columns</p>\n",
       "</div>"
      ],
      "text/plain": [
       "     ride_date  ride_count  month  year     m_y\n",
       "0   2019-01-01        2239      1  2019  1-2019\n",
       "1   2019-01-02        5633      1  2019  1-2019\n",
       "2   2019-01-03        6198      1  2019  1-2019\n",
       "3   2019-01-04        6275      1  2019  1-2019\n",
       "4   2019-01-05        2022      1  2019  1-2019\n",
       "..         ...         ...    ...   ...     ...\n",
       "846 2021-04-26        2730      4  2021  4-2021\n",
       "847 2021-04-27        3052      4  2021  4-2021\n",
       "848 2021-04-28        3219      4  2021  4-2021\n",
       "849 2021-04-29        2939      4  2021  4-2021\n",
       "850 2021-04-30        3004      4  2021  4-2021\n",
       "\n",
       "[851 rows x 5 columns]"
      ]
     },
     "execution_count": 22,
     "metadata": {},
     "output_type": "execute_result"
    }
   ],
   "source": [
    "bay_by_date"
   ]
  },
  {
   "cell_type": "code",
   "execution_count": 23,
   "metadata": {},
   "outputs": [
    {
     "data": {
      "image/png": "[encoded data removed]",
      "text/plain": [
       "<Figure size 432x288 with 1 Axes>"
      ]
     },
     "metadata": {
      "needs_background": "light"
     },
     "output_type": "display_data"
    }
   ],
   "source": [
    "plt.barh('m_y', 'ride_count', data=bay_by_date)\n",
    "plt.tight_layout()"
   ]
  },
  {
   "cell_type": "code",
   "execution_count": 24,
   "metadata": {},
   "outputs": [],
   "source": [
    "bay_by_date.to_csv('bay_by_date.csv')"
   ]
  },
  {
   "cell_type": "code",
   "execution_count": null,
   "metadata": {},
   "outputs": [],
   "source": []
  }
 ],
 "metadata": {
  "kernelspec": {
   "display_name": "Python 3",
   "language": "python",
   "name": "python3"
  },
  "language_info": {
   "codemirror_mode": {
    "name": "ipython",
    "version": 3
   },
   "file_extension": ".py",
   "mimetype": "text/x-python",
   "name": "python",
   "nbconvert_exporter": "python",
   "pygments_lexer": "ipython3",
   "version": "3.8.8"
  }
 },
 "nbformat": 4,
 "nbformat_minor": 4
}
