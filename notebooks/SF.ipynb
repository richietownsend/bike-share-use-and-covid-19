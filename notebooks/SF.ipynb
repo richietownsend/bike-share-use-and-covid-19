{
 "cells": [
  {
   "cell_type": "code",
   "execution_count": 1,
   "metadata": {},
   "outputs": [],
   "source": [
    "import os\n",
    "import pandas as pd\n",
    "import matplotlib.pyplot as plt"
   ]
  },
  {
   "cell_type": "markdown",
   "metadata": {},
   "source": [
    "Use a for loop to determine CSV file path"
   ]
  },
  {
   "cell_type": "code",
   "execution_count": 2,
   "metadata": {},
   "outputs": [],
   "source": [
    "# This is my path\n",
    "path = \"/Users/richietownsend/Nashville Software School/NSS_Data_Analytics/Capstone/data/San Francisco\"\n",
    "\n",
    "# to store files in a list\n",
    "list = []\n",
    " \n",
    "# dirs=directories\n",
    "for (root, dirs, file) in os.walk(path):\n",
    "    for f in file:\n",
    "        if '.csv' in f:\n",
    "            print('pd.read_csv(\\'../data/San Francisco/'+f+'\\')')"
   ]
  },
  {
   "cell_type": "markdown",
   "metadata": {},
   "source": [
    "Load San Francisco CSV Files"
   ]
  },
  {
   "cell_type": "code",
   "execution_count": 3,
   "metadata": {},
   "outputs": [
    {
     "name": "stderr",
     "output_type": "stream",
     "text": [
      "/Users/richietownsend/opt/anaconda3/lib/python3.7/site-packages/IPython/core/interactiveshell.py:3063: DtypeWarning: Columns (14) have mixed types.Specify dtype option on import or set low_memory=False.\n",
      "  interactivity=interactivity, compiler=compiler, result=result)\n",
      "/Users/richietownsend/opt/anaconda3/lib/python3.7/site-packages/IPython/core/interactiveshell.py:3063: DtypeWarning: Columns (13,14) have mixed types.Specify dtype option on import or set low_memory=False.\n",
      "  interactivity=interactivity, compiler=compiler, result=result)\n",
      "/Users/richietownsend/opt/anaconda3/lib/python3.7/site-packages/IPython/core/interactiveshell.py:3063: DtypeWarning: Columns (13) have mixed types.Specify dtype option on import or set low_memory=False.\n",
      "  interactivity=interactivity, compiler=compiler, result=result)\n"
     ]
    }
   ],
   "source": [
    "baywheels0119 = pd.read_csv('../data/San Francisco/201901-fordgobike-tripdata.csv')\n",
    "baywheels0219 = pd.read_csv('../data/San Francisco/201902-fordgobike-tripdata.csv')\n",
    "baywheels0319 = pd.read_csv('../data/San Francisco/201903-fordgobike-tripdata.csv')\n",
    "baywheels0419 = pd.read_csv('../data/San Francisco/201904-fordgobike-tripdata.csv')\n",
    "baywheels0519 = pd.read_csv('../data/San Francisco/201905-baywheels-tripdata.csv')\n",
    "baywheels0619 = pd.read_csv('../data/San Francisco/201906-baywheels-tripdata.csv')\n",
    "baywheels0719 = pd.read_csv('../data/San Francisco/201907-baywheels-tripdata.csv')\n",
    "baywheels0819 = pd.read_csv('../data/San Francisco/201908-baywheels-tripdata.csv')\n",
    "baywheels0919 = pd.read_csv('../data/San Francisco/201909-baywheels-tripdata.csv')\n",
    "baywheels1019 = pd.read_csv('../data/San Francisco/201910-baywheels-tripdata.csv')\n",
    "baywheels1119 = pd.read_csv('../data/San Francisco/201911-baywheels-tripdata.csv')\n",
    "baywheels1219 = pd.read_csv('../data/San Francisco/201912-baywheels-tripdata.csv')\n",
    "baywheels0120 = pd.read_csv('../data/San Francisco/202001-baywheels-tripdata.csv')\n",
    "baywheels0220 = pd.read_csv('../data/San Francisco/202002-baywheels-tripdata.csv')\n",
    "baywheels0320 = pd.read_csv('../data/San Francisco/202003-baywheels-tripdata.csv')\n",
    "baywheels0420 = pd.read_csv('../data/San Francisco/202004-baywheels-tripdata.csv')\n",
    "baywheels0520 = pd.read_csv('../data/San Francisco/202005-baywheels-tripdata.csv')\n",
    "baywheels0620 = pd.read_csv('../data/San Francisco/202006-baywheels-tripdata.csv')\n",
    "baywheels0720 = pd.read_csv('../data/San Francisco/202007-baywheels-tripdata.csv')\n",
    "baywheels0820 = pd.read_csv('../data/San Francisco/202008-baywheels-tripdata.csv')\n",
    "baywheels0920 = pd.read_csv('../data/San Francisco/202009-baywheels-tripdata.csv')\n",
    "baywheels1020 = pd.read_csv('../data/San Francisco/202010-baywheels-tripdata.csv')\n",
    "baywheels1120 = pd.read_csv('../data/San Francisco/202011-baywheels-tripdata.csv')\n",
    "baywheels1220 = pd.read_csv('../data/San Francisco/202012-baywheels-tripdata.csv')\n",
    "baywheels0121 = pd.read_csv('../data/San Francisco/202101-baywheels-tripdata.csv')\n",
    "baywheels0221 = pd.read_csv('../data/San Francisco/202102-baywheels-tripdata.csv')\n",
    "baywheels0321 = pd.read_csv('../data/San Francisco/202103-baywheels-tripdata.csv')\n",
    "baywheels0421 = pd.read_csv('../data/San Francisco/202104-baywheels-tripdata.csv')\n",
    "baywheels0521 = pd.read_csv('../data/San Francisco/202105-baywheels-tripdata.csv')"
   ]
  },
  {
   "cell_type": "markdown",
   "metadata": {},
   "source": [
    "Concatenate DFs with Similar Column Names\n"
   ]
  },
  {
   "cell_type": "code",
   "execution_count": 4,
   "metadata": {},
   "outputs": [],
   "source": [
    "baywheels_1 = pd.concat([baywheels0119, baywheels0219, baywheels0319, baywheels0419, baywheels0519, baywheels0619, baywheels0719, baywheels0819, baywheels0919, baywheels1019, baywheels1119, baywheels1219, baywheels0120, baywheels0220, baywheels0320])"
   ]
  },
  {
   "cell_type": "code",
   "execution_count": 5,
   "metadata": {},
   "outputs": [],
   "source": [
    "baywheels_2 = pd.concat([baywheels0420, baywheels0520, baywheels0620, baywheels0720, baywheels0820, baywheels0920, baywheels1020, baywheels1120, baywheels1220, baywheels0121, baywheels0221, baywheels0321, baywheels0421, baywheels0521])"
   ]
  },
  {
   "cell_type": "markdown",
   "metadata": {},
   "source": [
    "Change Column Names of one DF to match the other"
   ]
  },
  {
   "cell_type": "code",
   "execution_count": 6,
   "metadata": {},
   "outputs": [],
   "source": [
    "baywheels_1 = baywheels_1[['bike_id', 'start_time', 'end_time', 'start_station_id', 'end_station_id']]\n",
    "baywheels_1.rename(columns={'bike_id': 'ride_id', 'start_time':'started_at', 'end_time': 'ended_at'}, inplace=True)"
   ]
  },
  {
   "cell_type": "code",
   "execution_count": 7,
   "metadata": {},
   "outputs": [],
   "source": [
    "baywheels_2 = baywheels_2[['ride_id', 'started_at', 'ended_at', 'start_station_id', 'end_station_id']]"
   ]
  },
  {
   "cell_type": "markdown",
   "metadata": {},
   "source": [
    "Concatenate DFs"
   ]
  },
  {
   "cell_type": "code",
   "execution_count": 8,
   "metadata": {},
   "outputs": [],
   "source": [
    "baywheels_all = pd.concat([baywheels_1, baywheels_2])"
   ]
  },
  {
   "cell_type": "markdown",
   "metadata": {},
   "source": [
    "Format to Datetime"
   ]
  },
  {
   "cell_type": "code",
   "execution_count": 9,
   "metadata": {},
   "outputs": [],
   "source": [
    "baywheels_all['started_at'] = pd.to_datetime(baywheels_all['started_at'], format='%Y-%m-%d')\n",
    "baywheels_all['ended_at'] = pd.to_datetime(baywheels_all['ended_at'], format='%Y-%m-%d')"
   ]
  },
  {
   "cell_type": "markdown",
   "metadata": {},
   "source": [
    "Determine Ride Duration"
   ]
  },
  {
   "cell_type": "code",
   "execution_count": 10,
   "metadata": {},
   "outputs": [],
   "source": [
    "baywheels_all['duration'] = baywheels_all['started_at'] - baywheels_all['ended_at']"
   ]
  },
  {
   "cell_type": "markdown",
   "metadata": {},
   "source": [
    "Calculate Relevant Ride Information<br>\n",
    "* _remove rides with no start station or end station_ <br>\n",
    "* _remove rides that have same start and stop station and are under 5 minutes_"
   ]
  },
  {
   "cell_type": "code",
   "execution_count": 11,
   "metadata": {},
   "outputs": [],
   "source": [
    "baywheels_all = baywheels_all.dropna(subset=['start_station_id'])\n",
    "baywheels_all = baywheels_all.dropna(subset=['end_station_id'])\n",
    "baywheels_all = baywheels_all[~((baywheels_all['start_station_id'] == baywheels_all['end_station_id']) & (baywheels_all['duration'] < '00:05:00'))]"
   ]
  },
  {
   "cell_type": "markdown",
   "metadata": {},
   "source": [
    "Create a Start Date column"
   ]
  },
  {
   "cell_type": "code",
   "execution_count": 12,
   "metadata": {},
   "outputs": [],
   "source": [
    "baywheels_all['start_date'] = baywheels_all['started_at'].dt.date"
   ]
  },
  {
   "cell_type": "markdown",
   "metadata": {},
   "source": [
    "Sum Ride Count by Start Date"
   ]
  },
  {
   "cell_type": "code",
   "execution_count": 13,
   "metadata": {},
   "outputs": [],
   "source": [
    "bay_by_date = baywheels_all.groupby('start_date').agg({'ride_id': 'count'}).reset_index()\n",
    "bay_by_date['start_date'] = pd.to_datetime(bay_by_date['start_date'], format='%Y-%m-%d')\n",
    "bay_by_date.rename(columns={'start_date':'ride_date', 'ride_id': 'ride_count'}, inplace='True')"
   ]
  },
  {
   "cell_type": "markdown",
   "metadata": {},
   "source": [
    "Create Columns for Grouping By Month And Date"
   ]
  },
  {
   "cell_type": "code",
   "execution_count": 14,
   "metadata": {},
   "outputs": [],
   "source": [
    "bay_by_date['month'] = bay_by_date['ride_date'].dt.month\n",
    "bay_by_date['year'] = bay_by_date['ride_date'].dt.year\n",
    "bay_by_date['m_y'] = bay_by_date['month'].apply(str) + \"-\" + bay_by_date['year'].apply(str) "
   ]
  },
  {
   "cell_type": "markdown",
   "metadata": {},
   "source": [
    "Check Data"
   ]
  },
  {
   "cell_type": "code",
   "execution_count": 15,
   "metadata": {},
   "outputs": [
    {
     "data": {
      "text/html": [
       "<div>\n",
       "<style scoped>\n",
       "    .dataframe tbody tr th:only-of-type {\n",
       "        vertical-align: middle;\n",
       "    }\n",
       "\n",
       "    .dataframe tbody tr th {\n",
       "        vertical-align: top;\n",
       "    }\n",
       "\n",
       "    .dataframe thead th {\n",
       "        text-align: right;\n",
       "    }\n",
       "</style>\n",
       "<table border=\"1\" class=\"dataframe\">\n",
       "  <thead>\n",
       "    <tr style=\"text-align: right;\">\n",
       "      <th></th>\n",
       "      <th></th>\n",
       "      <th>ride_count</th>\n",
       "    </tr>\n",
       "    <tr>\n",
       "      <th>year</th>\n",
       "      <th>month</th>\n",
       "      <th></th>\n",
       "    </tr>\n",
       "  </thead>\n",
       "  <tbody>\n",
       "    <tr>\n",
       "      <th rowspan=\"12\" valign=\"top\">2019</th>\n",
       "      <th>1</th>\n",
       "      <td>187345</td>\n",
       "    </tr>\n",
       "    <tr>\n",
       "      <th>2</th>\n",
       "      <td>179393</td>\n",
       "    </tr>\n",
       "    <tr>\n",
       "      <th>3</th>\n",
       "      <td>249363</td>\n",
       "    </tr>\n",
       "    <tr>\n",
       "      <th>4</th>\n",
       "      <td>233130</td>\n",
       "    </tr>\n",
       "    <tr>\n",
       "      <th>5</th>\n",
       "      <td>178063</td>\n",
       "    </tr>\n",
       "    <tr>\n",
       "      <th>6</th>\n",
       "      <td>184240</td>\n",
       "    </tr>\n",
       "    <tr>\n",
       "      <th>7</th>\n",
       "      <td>181891</td>\n",
       "    </tr>\n",
       "    <tr>\n",
       "      <th>8</th>\n",
       "      <td>204968</td>\n",
       "    </tr>\n",
       "    <tr>\n",
       "      <th>9</th>\n",
       "      <td>212154</td>\n",
       "    </tr>\n",
       "    <tr>\n",
       "      <th>10</th>\n",
       "      <td>234600</td>\n",
       "    </tr>\n",
       "    <tr>\n",
       "      <th>11</th>\n",
       "      <td>180396</td>\n",
       "    </tr>\n",
       "    <tr>\n",
       "      <th>12</th>\n",
       "      <td>122650</td>\n",
       "    </tr>\n",
       "    <tr>\n",
       "      <th rowspan=\"12\" valign=\"top\">2020</th>\n",
       "      <th>1</th>\n",
       "      <td>120767</td>\n",
       "    </tr>\n",
       "    <tr>\n",
       "      <th>2</th>\n",
       "      <td>123897</td>\n",
       "    </tr>\n",
       "    <tr>\n",
       "      <th>3</th>\n",
       "      <td>87064</td>\n",
       "    </tr>\n",
       "    <tr>\n",
       "      <th>4</th>\n",
       "      <td>36042</td>\n",
       "    </tr>\n",
       "    <tr>\n",
       "      <th>5</th>\n",
       "      <td>58770</td>\n",
       "    </tr>\n",
       "    <tr>\n",
       "      <th>6</th>\n",
       "      <td>68850</td>\n",
       "    </tr>\n",
       "    <tr>\n",
       "      <th>7</th>\n",
       "      <td>72896</td>\n",
       "    </tr>\n",
       "    <tr>\n",
       "      <th>8</th>\n",
       "      <td>75599</td>\n",
       "    </tr>\n",
       "    <tr>\n",
       "      <th>9</th>\n",
       "      <td>75711</td>\n",
       "    </tr>\n",
       "    <tr>\n",
       "      <th>10</th>\n",
       "      <td>92617</td>\n",
       "    </tr>\n",
       "    <tr>\n",
       "      <th>11</th>\n",
       "      <td>75438</td>\n",
       "    </tr>\n",
       "    <tr>\n",
       "      <th>12</th>\n",
       "      <td>59610</td>\n",
       "    </tr>\n",
       "    <tr>\n",
       "      <th rowspan=\"5\" valign=\"top\">2021</th>\n",
       "      <th>1</th>\n",
       "      <td>57751</td>\n",
       "    </tr>\n",
       "    <tr>\n",
       "      <th>2</th>\n",
       "      <td>63218</td>\n",
       "    </tr>\n",
       "    <tr>\n",
       "      <th>3</th>\n",
       "      <td>75741</td>\n",
       "    </tr>\n",
       "    <tr>\n",
       "      <th>4</th>\n",
       "      <td>86123</td>\n",
       "    </tr>\n",
       "    <tr>\n",
       "      <th>5</th>\n",
       "      <td>100828</td>\n",
       "    </tr>\n",
       "  </tbody>\n",
       "</table>\n",
       "</div>"
      ],
      "text/plain": [
       "            ride_count\n",
       "year month            \n",
       "2019 1          187345\n",
       "     2          179393\n",
       "     3          249363\n",
       "     4          233130\n",
       "     5          178063\n",
       "     6          184240\n",
       "     7          181891\n",
       "     8          204968\n",
       "     9          212154\n",
       "     10         234600\n",
       "     11         180396\n",
       "     12         122650\n",
       "2020 1          120767\n",
       "     2          123897\n",
       "     3           87064\n",
       "     4           36042\n",
       "     5           58770\n",
       "     6           68850\n",
       "     7           72896\n",
       "     8           75599\n",
       "     9           75711\n",
       "     10          92617\n",
       "     11          75438\n",
       "     12          59610\n",
       "2021 1           57751\n",
       "     2           63218\n",
       "     3           75741\n",
       "     4           86123\n",
       "     5          100828"
      ]
     },
     "execution_count": 15,
     "metadata": {},
     "output_type": "execute_result"
    }
   ],
   "source": [
    "bay_by_date.groupby(['year', 'month']).agg({'ride_count':'sum'})"
   ]
  },
  {
   "cell_type": "markdown",
   "metadata": {},
   "source": [
    "Quick Plot"
   ]
  },
  {
   "cell_type": "code",
   "execution_count": 16,
   "metadata": {},
   "outputs": [
    {
     "data": {
      "image/png": "[encoded data removed]",
      "text/plain": [
       "<Figure size 432x288 with 1 Axes>"
      ]
     },
     "metadata": {
      "needs_background": "light"
     },
     "output_type": "display_data"
    }
   ],
   "source": [
    "plt.barh('m_y', 'ride_count', data=bay_by_date)\n",
    "plt.tight_layout()"
   ]
  },
  {
   "cell_type": "markdown",
   "metadata": {},
   "source": [
    "Export to CSV file"
   ]
  },
  {
   "cell_type": "code",
   "execution_count": 17,
   "metadata": {},
   "outputs": [],
   "source": [
    "bay_by_date.to_csv('../data/By_Date/bay_by_date.csv')"
   ]
  }
 ],
 "metadata": {
  "kernelspec": {
   "display_name": "Python 3",
   "language": "python",
   "name": "python3"
  },
  "language_info": {
   "codemirror_mode": {
    "name": "ipython",
    "version": 3
   },
   "file_extension": ".py",
   "mimetype": "text/x-python",
   "name": "python",
   "nbconvert_exporter": "python",
   "pygments_lexer": "ipython3",
   "version": "3.7.6"
  }
 },
 "nbformat": 4,
 "nbformat_minor": 4
}
