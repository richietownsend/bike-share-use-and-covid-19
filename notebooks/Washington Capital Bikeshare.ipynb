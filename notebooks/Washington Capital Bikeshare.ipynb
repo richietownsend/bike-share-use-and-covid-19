{
 "cells": [
  {
   "cell_type": "code",
   "execution_count": 1,
   "id": "0e063275",
   "metadata": {},
   "outputs": [],
   "source": [
    "import os\n",
    "import pandas as pd\n",
    "import matplotlib.pyplot as plt"
   ]
  },
  {
   "cell_type": "code",
   "execution_count": 2,
   "id": "9043b3c0",
   "metadata": {},
   "outputs": [
    {
     "name": "stdout",
     "output_type": "stream",
     "text": [
      "pd.read_csv('../data/Washington DC_capital_bikeshare/201910-capitalbikeshare-tripdata.csv')\n",
      "pd.read_csv('../data/Washington DC_capital_bikeshare/201901-capitalbikeshare-tripdata.csv')\n",
      "pd.read_csv('../data/Washington DC_capital_bikeshare/201909-capitalbikeshare-tripdata.csv')\n",
      "pd.read_csv('../data/Washington DC_capital_bikeshare/202012-capitalbikeshare-tripdata.csv')\n",
      "pd.read_csv('../data/Washington DC_capital_bikeshare/202003-capitalbikeshare-tripdata.csv')\n",
      "pd.read_csv('../data/Washington DC_capital_bikeshare/201906-capitalbikeshare-tripdata.csv')\n",
      "pd.read_csv('../data/Washington DC_capital_bikeshare/202005-capitalbikeshare-tripdata.csv')\n",
      "pd.read_csv('../data/Washington DC_capital_bikeshare/201911-capitalbikeshare-tripdata.csv')\n",
      "pd.read_csv('../data/Washington DC_capital_bikeshare/202101-capitalbikeshare-tripdata.csv')\n",
      "pd.read_csv('../data/Washington DC_capital_bikeshare/202002-capitalbikeshare-tripdata.csv')\n",
      "pd.read_csv('../data/Washington DC_capital_bikeshare/201907-capitalbikeshare-tripdata.csv')\n",
      "pd.read_csv('../data/Washington DC_capital_bikeshare/201908-capitalbikeshare-tripdata.csv')\n",
      "pd.read_csv('../data/Washington DC_capital_bikeshare/202001-capitalbikeshare-tripdata.csv')\n",
      "pd.read_csv('../data/Washington DC_capital_bikeshare/201904-capitalbikeshare-tripdata.csv')\n",
      "pd.read_csv('../data/Washington DC_capital_bikeshare/202010-capitalbikeshare-tripdata.csv')\n",
      "pd.read_csv('../data/Washington DC_capital_bikeshare/202006-capitalbikeshare-tripdata.csv')\n",
      "pd.read_csv('../data/Washington DC_capital_bikeshare/201903-capitalbikeshare-tripdata.csv')\n",
      "pd.read_csv('../data/Washington DC_capital_bikeshare/201912-capitalbikeshare-tripdata.csv')\n",
      "pd.read_csv('../data/Washington DC_capital_bikeshare/202009-capitalbikeshare-tripdata.csv')\n",
      "pd.read_csv('../data/Washington DC_capital_bikeshare/202102-capitalbikeshare-tripdata.csv')\n",
      "pd.read_csv('../data/Washington DC_capital_bikeshare/202104-capitalbikeshare-tripdata.csv')\n",
      "pd.read_csv('../data/Washington DC_capital_bikeshare/202011-capitalbikeshare-tripdata.csv')\n",
      "pd.read_csv('../data/Washington DC_capital_bikeshare/201905-capitalbikeshare-tripdata.csv')\n",
      "pd.read_csv('../data/Washington DC_capital_bikeshare/202103-capitalbikeshare-tripdata.csv')\n",
      "pd.read_csv('../data/Washington DC_capital_bikeshare/202008-capitalbikeshare-tripdata.csv')\n",
      "pd.read_csv('../data/Washington DC_capital_bikeshare/202007-capitalbikeshare-tripdata.csv')\n",
      "pd.read_csv('../data/Washington DC_capital_bikeshare/201902-capitalbikeshare-tripdata.csv')\n"
     ]
    }
   ],
   "source": [
    "path = \"/Users/richietownsend/Nashville Software School/NSS_Data_Analytics/Capstone/data/Washington DC_capital_bikeshare\"\n",
    "list=[]\n",
    "for (root, dirs, file) in os.walk(path):\n",
    "    for f in file:\n",
    "        if '.csv' in f:\n",
    "            print('pd.read_csv(\\'../data/Washington DC_capital_bikeshare/'+f+'\\')')"
   ]
  },
  {
   "cell_type": "code",
   "execution_count": 3,
   "id": "369ce4b6",
   "metadata": {},
   "outputs": [
    {
     "name": "stderr",
     "output_type": "stream",
     "text": [
      "/Users/richietownsend/opt/miniconda3/envs/geospatial/lib/python3.8/site-packages/IPython/core/interactiveshell.py:3165: DtypeWarning: Columns (5,7) have mixed types.Specify dtype option on import or set low_memory=False.\n",
      "  has_raised = await self.run_ast_nodes(code_ast.body, cell_name,\n"
     ]
    }
   ],
   "source": [
    "captial0119 = pd.read_csv('../data/Washington DC_capital_bikeshare/201901-capitalbikeshare-tripdata.csv')\n",
    "captial0219 = pd.read_csv('../data/Washington DC_capital_bikeshare/201902-capitalbikeshare-tripdata.csv')\n",
    "captial0319 = pd.read_csv('../data/Washington DC_capital_bikeshare/201903-capitalbikeshare-tripdata.csv')\n",
    "captial0419 = pd.read_csv('../data/Washington DC_capital_bikeshare/201904-capitalbikeshare-tripdata.csv')\n",
    "captial0519 = pd.read_csv('../data/Washington DC_capital_bikeshare/201905-capitalbikeshare-tripdata.csv')\n",
    "captial0619 = pd.read_csv('../data/Washington DC_capital_bikeshare/201906-capitalbikeshare-tripdata.csv')\n",
    "captial0719 = pd.read_csv('../data/Washington DC_capital_bikeshare/201907-capitalbikeshare-tripdata.csv')\n",
    "captial0819 = pd.read_csv('../data/Washington DC_capital_bikeshare/201908-capitalbikeshare-tripdata.csv')\n",
    "captial0919 = pd.read_csv('../data/Washington DC_capital_bikeshare/201909-capitalbikeshare-tripdata.csv')\n",
    "captial1019 = pd.read_csv('../data/Washington DC_capital_bikeshare/201910-capitalbikeshare-tripdata.csv')\n",
    "captial1119 = pd.read_csv('../data/Washington DC_capital_bikeshare/201911-capitalbikeshare-tripdata.csv')\n",
    "captial1219 = pd.read_csv('../data/Washington DC_capital_bikeshare/201912-capitalbikeshare-tripdata.csv')\n",
    "captial0120 = pd.read_csv('../data/Washington DC_capital_bikeshare/202001-capitalbikeshare-tripdata.csv')\n",
    "captial0220 = pd.read_csv('../data/Washington DC_capital_bikeshare/202002-capitalbikeshare-tripdata.csv')\n",
    "captial0320 = pd.read_csv('../data/Washington DC_capital_bikeshare/202003-capitalbikeshare-tripdata.csv')\n",
    "captial0520 = pd.read_csv('../data/Washington DC_capital_bikeshare/202005-capitalbikeshare-tripdata.csv')\n",
    "captial0620 = pd.read_csv('../data/Washington DC_capital_bikeshare/202006-capitalbikeshare-tripdata.csv')\n",
    "captial0720 = pd.read_csv('../data/Washington DC_capital_bikeshare/202007-capitalbikeshare-tripdata.csv')\n",
    "captial0820 = pd.read_csv('../data/Washington DC_capital_bikeshare/202008-capitalbikeshare-tripdata.csv')\n",
    "captial0920 = pd.read_csv('../data/Washington DC_capital_bikeshare/202009-capitalbikeshare-tripdata.csv')\n",
    "captial1020 = pd.read_csv('../data/Washington DC_capital_bikeshare/202010-capitalbikeshare-tripdata.csv')\n",
    "captial1120 = pd.read_csv('../data/Washington DC_capital_bikeshare/202011-capitalbikeshare-tripdata.csv')\n",
    "captial1220 = pd.read_csv('../data/Washington DC_capital_bikeshare/202012-capitalbikeshare-tripdata.csv')\n",
    "captial0121 = pd.read_csv('../data/Washington DC_capital_bikeshare/202101-capitalbikeshare-tripdata.csv')\n",
    "captial0221 = pd.read_csv('../data/Washington DC_capital_bikeshare/202102-capitalbikeshare-tripdata.csv')\n",
    "captial0321 = pd.read_csv('../data/Washington DC_capital_bikeshare/202103-capitalbikeshare-tripdata.csv')\n",
    "captial0421 = pd.read_csv('../data/Washington DC_capital_bikeshare/202104-capitalbikeshare-tripdata.csv')"
   ]
  },
  {
   "cell_type": "code",
   "execution_count": 4,
   "id": "261af0ee",
   "metadata": {},
   "outputs": [
    {
     "name": "stdout",
     "output_type": "stream",
     "text": [
      "<class 'pandas.core.frame.DataFrame'>\n",
      "RangeIndex: 150780 entries, 0 to 150779\n",
      "Data columns (total 9 columns):\n",
      " #   Column                Non-Null Count   Dtype \n",
      "---  ------                --------------   ----- \n",
      " 0   Duration              150780 non-null  int64 \n",
      " 1   Start date            150780 non-null  object\n",
      " 2   End date              150780 non-null  object\n",
      " 3   Start station number  150780 non-null  int64 \n",
      " 4   Start station         150780 non-null  object\n",
      " 5   End station number    150780 non-null  int64 \n",
      " 6   End station           150780 non-null  object\n",
      " 7   Bike number           150780 non-null  object\n",
      " 8   Member type           150780 non-null  object\n",
      "dtypes: int64(3), object(6)\n",
      "memory usage: 10.4+ MB\n"
     ]
    }
   ],
   "source": [
    "captial0119.info()"
   ]
  },
  {
   "cell_type": "code",
   "execution_count": 5,
   "id": "91cfa6e3",
   "metadata": {},
   "outputs": [
    {
     "name": "stdout",
     "output_type": "stream",
     "text": [
      "<class 'pandas.core.frame.DataFrame'>\n",
      "RangeIndex: 162530 entries, 0 to 162529\n",
      "Data columns (total 9 columns):\n",
      " #   Column                Non-Null Count   Dtype \n",
      "---  ------                --------------   ----- \n",
      " 0   Duration              162530 non-null  int64 \n",
      " 1   Start date            162530 non-null  object\n",
      " 2   End date              162530 non-null  object\n",
      " 3   Start station number  162530 non-null  int64 \n",
      " 4   Start station         162530 non-null  object\n",
      " 5   End station number    162530 non-null  int64 \n",
      " 6   End station           162530 non-null  object\n",
      " 7   Bike number           162530 non-null  object\n",
      " 8   Member type           162530 non-null  object\n",
      "dtypes: int64(3), object(6)\n",
      "memory usage: 11.2+ MB\n"
     ]
    }
   ],
   "source": [
    "captial0320.info()"
   ]
  },
  {
   "cell_type": "code",
   "execution_count": 6,
   "id": "6ab9f7c0",
   "metadata": {},
   "outputs": [],
   "source": [
    "capital_1 = pd.concat([captial0119, captial0219, captial0319, captial0419, captial0519, captial0619, captial0719, captial0819, captial0919, captial1019, captial1119, captial1219, captial0120, captial0220, captial0320])\n",
    "capital_2 = pd.concat([captial0520, captial0620, captial0720, captial0820, captial0920, captial1020, captial1120, captial1220, captial0121, captial0221, captial0321, captial0421])"
   ]
  },
  {
   "cell_type": "code",
   "execution_count": null,
   "id": "a66e1cac",
   "metadata": {},
   "outputs": [],
   "source": []
  },
  {
   "cell_type": "code",
   "execution_count": 7,
   "id": "e7becbce",
   "metadata": {},
   "outputs": [
    {
     "name": "stdout",
     "output_type": "stream",
     "text": [
      "<class 'pandas.core.frame.DataFrame'>\n",
      "Int64Index: 3935817 entries, 0 to 162529\n",
      "Data columns (total 9 columns):\n",
      " #   Column                Dtype \n",
      "---  ------                ----- \n",
      " 0   Duration              int64 \n",
      " 1   Start date            object\n",
      " 2   End date              object\n",
      " 3   Start station number  int64 \n",
      " 4   Start station         object\n",
      " 5   End station number    int64 \n",
      " 6   End station           object\n",
      " 7   Bike number           object\n",
      " 8   Member type           object\n",
      "dtypes: int64(3), object(6)\n",
      "memory usage: 300.3+ MB\n",
      "<class 'pandas.core.frame.DataFrame'>\n",
      "Int64Index: 3935817 entries, 0 to 162529\n",
      "Data columns (total 5 columns):\n",
      " #   Column            Dtype \n",
      "---  ------            ----- \n",
      " 0   ride_id           object\n",
      " 1   started_at        object\n",
      " 2   ended_at          object\n",
      " 3   start_station_id  int64 \n",
      " 4   end_station_id    int64 \n",
      "dtypes: int64(2), object(3)\n",
      "memory usage: 180.2+ MB\n"
     ]
    }
   ],
   "source": [
    "capital_1.info()\n",
    "capital_1 = capital_1[['Bike number', 'Start date', 'End date', 'Start station number', 'End station number']]\n",
    "capital_1.rename(columns={'Bike number':'ride_id', 'Start date':'started_at', 'End date':'ended_at', 'Start station number':'start_station_id', 'End station number':'end_station_id'}, inplace=True)\n",
    "capital_1.info()"
   ]
  },
  {
   "cell_type": "code",
   "execution_count": 8,
   "id": "50d875dd",
   "metadata": {},
   "outputs": [
    {
     "name": "stdout",
     "output_type": "stream",
     "text": [
      "<class 'pandas.core.frame.DataFrame'>\n",
      "Int64Index: 2169546 entries, 0 to 216762\n",
      "Data columns (total 13 columns):\n",
      " #   Column              Dtype  \n",
      "---  ------              -----  \n",
      " 0   ride_id             object \n",
      " 1   rideable_type       object \n",
      " 2   started_at          object \n",
      " 3   ended_at            object \n",
      " 4   start_station_name  object \n",
      " 5   start_station_id    object \n",
      " 6   end_station_name    object \n",
      " 7   end_station_id      object \n",
      " 8   start_lat           float64\n",
      " 9   start_lng           float64\n",
      " 10  end_lat             float64\n",
      " 11  end_lng             float64\n",
      " 12  member_casual       object \n",
      "dtypes: float64(4), object(9)\n",
      "memory usage: 231.7+ MB\n",
      "<class 'pandas.core.frame.DataFrame'>\n",
      "Int64Index: 2169546 entries, 0 to 216762\n",
      "Data columns (total 5 columns):\n",
      " #   Column            Dtype \n",
      "---  ------            ----- \n",
      " 0   ride_id           object\n",
      " 1   started_at        object\n",
      " 2   ended_at          object\n",
      " 3   start_station_id  object\n",
      " 4   end_station_id    object\n",
      "dtypes: object(5)\n",
      "memory usage: 99.3+ MB\n"
     ]
    }
   ],
   "source": [
    "capital_2.info()\n",
    "capital_2 = capital_2[['ride_id', 'started_at', 'ended_at', 'start_station_id', 'end_station_id']]\n",
    "capital_2.info()"
   ]
  },
  {
   "cell_type": "code",
   "execution_count": 9,
   "id": "7e84833e",
   "metadata": {},
   "outputs": [],
   "source": [
    "all_capital = pd.concat([capital_1, capital_2])"
   ]
  },
  {
   "cell_type": "code",
   "execution_count": 10,
   "id": "87077491",
   "metadata": {},
   "outputs": [
    {
     "name": "stdout",
     "output_type": "stream",
     "text": [
      "<class 'pandas.core.frame.DataFrame'>\n",
      "Int64Index: 6105363 entries, 0 to 216762\n",
      "Data columns (total 5 columns):\n",
      " #   Column            Dtype \n",
      "---  ------            ----- \n",
      " 0   ride_id           object\n",
      " 1   started_at        object\n",
      " 2   ended_at          object\n",
      " 3   start_station_id  object\n",
      " 4   end_station_id    object\n",
      "dtypes: object(5)\n",
      "memory usage: 279.5+ MB\n"
     ]
    }
   ],
   "source": [
    "all_capital.info()"
   ]
  },
  {
   "cell_type": "code",
   "execution_count": 11,
   "id": "ba24f4a6",
   "metadata": {},
   "outputs": [],
   "source": [
    "all_capital['started_at'] = pd.to_datetime(all_capital['started_at'], infer_datetime_format=True)\n",
    "all_capital['ended_at'] = pd.to_datetime(all_capital['ended_at'], infer_datetime_format=True)"
   ]
  },
  {
   "cell_type": "code",
   "execution_count": 12,
   "id": "a5db95ac",
   "metadata": {},
   "outputs": [
    {
     "data": {
      "text/html": [
       "<div>\n",
       "<style scoped>\n",
       "    .dataframe tbody tr th:only-of-type {\n",
       "        vertical-align: middle;\n",
       "    }\n",
       "\n",
       "    .dataframe tbody tr th {\n",
       "        vertical-align: top;\n",
       "    }\n",
       "\n",
       "    .dataframe thead th {\n",
       "        text-align: right;\n",
       "    }\n",
       "</style>\n",
       "<table border=\"1\" class=\"dataframe\">\n",
       "  <thead>\n",
       "    <tr style=\"text-align: right;\">\n",
       "      <th></th>\n",
       "      <th>ride_id</th>\n",
       "      <th>started_at</th>\n",
       "      <th>ended_at</th>\n",
       "      <th>start_station_id</th>\n",
       "      <th>end_station_id</th>\n",
       "    </tr>\n",
       "  </thead>\n",
       "  <tbody>\n",
       "    <tr>\n",
       "      <th>0</th>\n",
       "      <td>E00141</td>\n",
       "      <td>2019-01-01 00:04:48</td>\n",
       "      <td>2019-01-01 00:08:39</td>\n",
       "      <td>31203</td>\n",
       "      <td>31200</td>\n",
       "    </tr>\n",
       "    <tr>\n",
       "      <th>1</th>\n",
       "      <td>W24067</td>\n",
       "      <td>2019-01-01 00:06:37</td>\n",
       "      <td>2019-01-01 00:32:27</td>\n",
       "      <td>31321</td>\n",
       "      <td>31114</td>\n",
       "    </tr>\n",
       "    <tr>\n",
       "      <th>2</th>\n",
       "      <td>W22654</td>\n",
       "      <td>2019-01-01 00:08:46</td>\n",
       "      <td>2019-01-01 00:11:44</td>\n",
       "      <td>31104</td>\n",
       "      <td>31323</td>\n",
       "    </tr>\n",
       "    <tr>\n",
       "      <th>3</th>\n",
       "      <td>W22336</td>\n",
       "      <td>2019-01-01 00:08:47</td>\n",
       "      <td>2019-01-01 00:12:35</td>\n",
       "      <td>31281</td>\n",
       "      <td>31280</td>\n",
       "    </tr>\n",
       "    <tr>\n",
       "      <th>4</th>\n",
       "      <td>70004</td>\n",
       "      <td>2019-01-01 00:12:29</td>\n",
       "      <td>2019-01-01 00:34:10</td>\n",
       "      <td>31014</td>\n",
       "      <td>31923</td>\n",
       "    </tr>\n",
       "  </tbody>\n",
       "</table>\n",
       "</div>"
      ],
      "text/plain": [
       "  ride_id          started_at            ended_at start_station_id  \\\n",
       "0  E00141 2019-01-01 00:04:48 2019-01-01 00:08:39            31203   \n",
       "1  W24067 2019-01-01 00:06:37 2019-01-01 00:32:27            31321   \n",
       "2  W22654 2019-01-01 00:08:46 2019-01-01 00:11:44            31104   \n",
       "3  W22336 2019-01-01 00:08:47 2019-01-01 00:12:35            31281   \n",
       "4   70004 2019-01-01 00:12:29 2019-01-01 00:34:10            31014   \n",
       "\n",
       "  end_station_id  \n",
       "0          31200  \n",
       "1          31114  \n",
       "2          31323  \n",
       "3          31280  \n",
       "4          31923  "
      ]
     },
     "execution_count": 12,
     "metadata": {},
     "output_type": "execute_result"
    }
   ],
   "source": [
    "all_capital.head()"
   ]
  },
  {
   "cell_type": "code",
   "execution_count": 13,
   "id": "9f441c0b",
   "metadata": {},
   "outputs": [],
   "source": [
    "all_capital['duration'] = all_capital['ended_at'] - all_capital['started_at']"
   ]
  },
  {
   "cell_type": "code",
   "execution_count": 14,
   "id": "28bb4bc5",
   "metadata": {},
   "outputs": [],
   "source": [
    "all_capital = all_capital.dropna(subset=['start_station_id'])\n",
    "all_capital = all_capital.dropna(subset=['end_station_id'])\n",
    "all_capital = all_capital[~((all_capital['start_station_id'] == all_capital['end_station_id']) & (all_capital['duration'] < '00:05:00'))]"
   ]
  },
  {
   "cell_type": "code",
   "execution_count": 15,
   "id": "da24afa0",
   "metadata": {},
   "outputs": [],
   "source": [
    "all_capital['start_date'] = all_capital['started_at'].dt.date"
   ]
  },
  {
   "cell_type": "code",
   "execution_count": 16,
   "id": "c32b4445",
   "metadata": {},
   "outputs": [
    {
     "data": {
      "text/html": [
       "<div>\n",
       "<style scoped>\n",
       "    .dataframe tbody tr th:only-of-type {\n",
       "        vertical-align: middle;\n",
       "    }\n",
       "\n",
       "    .dataframe tbody tr th {\n",
       "        vertical-align: top;\n",
       "    }\n",
       "\n",
       "    .dataframe thead th {\n",
       "        text-align: right;\n",
       "    }\n",
       "</style>\n",
       "<table border=\"1\" class=\"dataframe\">\n",
       "  <thead>\n",
       "    <tr style=\"text-align: right;\">\n",
       "      <th></th>\n",
       "      <th>ride_id</th>\n",
       "      <th>started_at</th>\n",
       "      <th>ended_at</th>\n",
       "      <th>start_station_id</th>\n",
       "      <th>end_station_id</th>\n",
       "      <th>duration</th>\n",
       "      <th>start_date</th>\n",
       "    </tr>\n",
       "  </thead>\n",
       "  <tbody>\n",
       "    <tr>\n",
       "      <th>0</th>\n",
       "      <td>E00141</td>\n",
       "      <td>2019-01-01 00:04:48</td>\n",
       "      <td>2019-01-01 00:08:39</td>\n",
       "      <td>31203</td>\n",
       "      <td>31200</td>\n",
       "      <td>0 days 00:03:51</td>\n",
       "      <td>2019-01-01</td>\n",
       "    </tr>\n",
       "    <tr>\n",
       "      <th>1</th>\n",
       "      <td>W24067</td>\n",
       "      <td>2019-01-01 00:06:37</td>\n",
       "      <td>2019-01-01 00:32:27</td>\n",
       "      <td>31321</td>\n",
       "      <td>31114</td>\n",
       "      <td>0 days 00:25:50</td>\n",
       "      <td>2019-01-01</td>\n",
       "    </tr>\n",
       "    <tr>\n",
       "      <th>2</th>\n",
       "      <td>W22654</td>\n",
       "      <td>2019-01-01 00:08:46</td>\n",
       "      <td>2019-01-01 00:11:44</td>\n",
       "      <td>31104</td>\n",
       "      <td>31323</td>\n",
       "      <td>0 days 00:02:58</td>\n",
       "      <td>2019-01-01</td>\n",
       "    </tr>\n",
       "    <tr>\n",
       "      <th>3</th>\n",
       "      <td>W22336</td>\n",
       "      <td>2019-01-01 00:08:47</td>\n",
       "      <td>2019-01-01 00:12:35</td>\n",
       "      <td>31281</td>\n",
       "      <td>31280</td>\n",
       "      <td>0 days 00:03:48</td>\n",
       "      <td>2019-01-01</td>\n",
       "    </tr>\n",
       "    <tr>\n",
       "      <th>4</th>\n",
       "      <td>70004</td>\n",
       "      <td>2019-01-01 00:12:29</td>\n",
       "      <td>2019-01-01 00:34:10</td>\n",
       "      <td>31014</td>\n",
       "      <td>31923</td>\n",
       "      <td>0 days 00:21:41</td>\n",
       "      <td>2019-01-01</td>\n",
       "    </tr>\n",
       "    <tr>\n",
       "      <th>...</th>\n",
       "      <td>...</td>\n",
       "      <td>...</td>\n",
       "      <td>...</td>\n",
       "      <td>...</td>\n",
       "      <td>...</td>\n",
       "      <td>...</td>\n",
       "      <td>...</td>\n",
       "    </tr>\n",
       "    <tr>\n",
       "      <th>216758</th>\n",
       "      <td>C84D318AFEE77E7C</td>\n",
       "      <td>2021-04-17 13:07:49</td>\n",
       "      <td>2021-04-17 13:26:15</td>\n",
       "      <td>31275.0</td>\n",
       "      <td>31237.0</td>\n",
       "      <td>0 days 00:18:26</td>\n",
       "      <td>2021-04-17</td>\n",
       "    </tr>\n",
       "    <tr>\n",
       "      <th>216759</th>\n",
       "      <td>6CA6F4009BC6D668</td>\n",
       "      <td>2021-04-03 15:35:32</td>\n",
       "      <td>2021-04-03 17:53:43</td>\n",
       "      <td>31247.0</td>\n",
       "      <td>31237.0</td>\n",
       "      <td>0 days 02:18:11</td>\n",
       "      <td>2021-04-03</td>\n",
       "    </tr>\n",
       "    <tr>\n",
       "      <th>216760</th>\n",
       "      <td>941642B7BA047303</td>\n",
       "      <td>2021-04-27 17:20:09</td>\n",
       "      <td>2021-04-27 17:56:44</td>\n",
       "      <td>31631.0</td>\n",
       "      <td>31215.0</td>\n",
       "      <td>0 days 00:36:35</td>\n",
       "      <td>2021-04-27</td>\n",
       "    </tr>\n",
       "    <tr>\n",
       "      <th>216761</th>\n",
       "      <td>BF443A5C264FD978</td>\n",
       "      <td>2021-04-30 12:16:48</td>\n",
       "      <td>2021-04-30 12:19:42</td>\n",
       "      <td>31275.0</td>\n",
       "      <td>31237.0</td>\n",
       "      <td>0 days 00:02:54</td>\n",
       "      <td>2021-04-30</td>\n",
       "    </tr>\n",
       "    <tr>\n",
       "      <th>216762</th>\n",
       "      <td>9A64DA954BB2B33B</td>\n",
       "      <td>2021-04-16 16:22:30</td>\n",
       "      <td>2021-04-16 16:24:41</td>\n",
       "      <td>31275.0</td>\n",
       "      <td>31237.0</td>\n",
       "      <td>0 days 00:02:11</td>\n",
       "      <td>2021-04-16</td>\n",
       "    </tr>\n",
       "  </tbody>\n",
       "</table>\n",
       "<p>5838676 rows × 7 columns</p>\n",
       "</div>"
      ],
      "text/plain": [
       "                 ride_id          started_at            ended_at  \\\n",
       "0                 E00141 2019-01-01 00:04:48 2019-01-01 00:08:39   \n",
       "1                 W24067 2019-01-01 00:06:37 2019-01-01 00:32:27   \n",
       "2                 W22654 2019-01-01 00:08:46 2019-01-01 00:11:44   \n",
       "3                 W22336 2019-01-01 00:08:47 2019-01-01 00:12:35   \n",
       "4                  70004 2019-01-01 00:12:29 2019-01-01 00:34:10   \n",
       "...                  ...                 ...                 ...   \n",
       "216758  C84D318AFEE77E7C 2021-04-17 13:07:49 2021-04-17 13:26:15   \n",
       "216759  6CA6F4009BC6D668 2021-04-03 15:35:32 2021-04-03 17:53:43   \n",
       "216760  941642B7BA047303 2021-04-27 17:20:09 2021-04-27 17:56:44   \n",
       "216761  BF443A5C264FD978 2021-04-30 12:16:48 2021-04-30 12:19:42   \n",
       "216762  9A64DA954BB2B33B 2021-04-16 16:22:30 2021-04-16 16:24:41   \n",
       "\n",
       "       start_station_id end_station_id        duration  start_date  \n",
       "0                 31203          31200 0 days 00:03:51  2019-01-01  \n",
       "1                 31321          31114 0 days 00:25:50  2019-01-01  \n",
       "2                 31104          31323 0 days 00:02:58  2019-01-01  \n",
       "3                 31281          31280 0 days 00:03:48  2019-01-01  \n",
       "4                 31014          31923 0 days 00:21:41  2019-01-01  \n",
       "...                 ...            ...             ...         ...  \n",
       "216758          31275.0        31237.0 0 days 00:18:26  2021-04-17  \n",
       "216759          31247.0        31237.0 0 days 02:18:11  2021-04-03  \n",
       "216760          31631.0        31215.0 0 days 00:36:35  2021-04-27  \n",
       "216761          31275.0        31237.0 0 days 00:02:54  2021-04-30  \n",
       "216762          31275.0        31237.0 0 days 00:02:11  2021-04-16  \n",
       "\n",
       "[5838676 rows x 7 columns]"
      ]
     },
     "execution_count": 16,
     "metadata": {},
     "output_type": "execute_result"
    }
   ],
   "source": [
    "all_capital"
   ]
  },
  {
   "cell_type": "code",
   "execution_count": 17,
   "id": "eb8600d5",
   "metadata": {},
   "outputs": [
    {
     "data": {
      "text/html": [
       "<div>\n",
       "<style scoped>\n",
       "    .dataframe tbody tr th:only-of-type {\n",
       "        vertical-align: middle;\n",
       "    }\n",
       "\n",
       "    .dataframe tbody tr th {\n",
       "        vertical-align: top;\n",
       "    }\n",
       "\n",
       "    .dataframe thead th {\n",
       "        text-align: right;\n",
       "    }\n",
       "</style>\n",
       "<table border=\"1\" class=\"dataframe\">\n",
       "  <thead>\n",
       "    <tr style=\"text-align: right;\">\n",
       "      <th></th>\n",
       "      <th>ride_date</th>\n",
       "      <th>ride_count</th>\n",
       "    </tr>\n",
       "  </thead>\n",
       "  <tbody>\n",
       "    <tr>\n",
       "      <th>0</th>\n",
       "      <td>2019-01-01</td>\n",
       "      <td>4490</td>\n",
       "    </tr>\n",
       "    <tr>\n",
       "      <th>1</th>\n",
       "      <td>2019-01-02</td>\n",
       "      <td>6540</td>\n",
       "    </tr>\n",
       "    <tr>\n",
       "      <th>2</th>\n",
       "      <td>2019-01-03</td>\n",
       "      <td>7574</td>\n",
       "    </tr>\n",
       "    <tr>\n",
       "      <th>3</th>\n",
       "      <td>2019-01-04</td>\n",
       "      <td>7330</td>\n",
       "    </tr>\n",
       "    <tr>\n",
       "      <th>4</th>\n",
       "      <td>2019-01-05</td>\n",
       "      <td>5080</td>\n",
       "    </tr>\n",
       "    <tr>\n",
       "      <th>...</th>\n",
       "      <td>...</td>\n",
       "      <td>...</td>\n",
       "    </tr>\n",
       "    <tr>\n",
       "      <th>816</th>\n",
       "      <td>2021-04-26</td>\n",
       "      <td>5209</td>\n",
       "    </tr>\n",
       "    <tr>\n",
       "      <th>817</th>\n",
       "      <td>2021-04-27</td>\n",
       "      <td>6623</td>\n",
       "    </tr>\n",
       "    <tr>\n",
       "      <th>818</th>\n",
       "      <td>2021-04-28</td>\n",
       "      <td>6061</td>\n",
       "    </tr>\n",
       "    <tr>\n",
       "      <th>819</th>\n",
       "      <td>2021-04-29</td>\n",
       "      <td>5463</td>\n",
       "    </tr>\n",
       "    <tr>\n",
       "      <th>820</th>\n",
       "      <td>2021-04-30</td>\n",
       "      <td>5222</td>\n",
       "    </tr>\n",
       "  </tbody>\n",
       "</table>\n",
       "<p>821 rows × 2 columns</p>\n",
       "</div>"
      ],
      "text/plain": [
       "     ride_date  ride_count\n",
       "0   2019-01-01        4490\n",
       "1   2019-01-02        6540\n",
       "2   2019-01-03        7574\n",
       "3   2019-01-04        7330\n",
       "4   2019-01-05        5080\n",
       "..         ...         ...\n",
       "816 2021-04-26        5209\n",
       "817 2021-04-27        6623\n",
       "818 2021-04-28        6061\n",
       "819 2021-04-29        5463\n",
       "820 2021-04-30        5222\n",
       "\n",
       "[821 rows x 2 columns]"
      ]
     },
     "execution_count": 17,
     "metadata": {},
     "output_type": "execute_result"
    }
   ],
   "source": [
    "capital_by_date = all_capital.groupby('start_date').agg({'ride_id':'count'}).reset_index()\n",
    "capital_by_date['start_date'] = pd.to_datetime(capital_by_date['start_date'], format='%Y-%m-%d')\n",
    "capital_by_date.rename(columns={'start_date':'ride_date', 'ride_id':'ride_count'}, inplace=True)\n",
    "capital_by_date"
   ]
  },
  {
   "cell_type": "code",
   "execution_count": 18,
   "id": "ac924de2",
   "metadata": {},
   "outputs": [],
   "source": [
    "capital_by_date['month'] = capital_by_date['ride_date'].dt.month \n",
    "capital_by_date['year'] = capital_by_date['ride_date'].dt.year"
   ]
  },
  {
   "cell_type": "code",
   "execution_count": 19,
   "id": "85556a7f",
   "metadata": {},
   "outputs": [],
   "source": [
    "capital_by_date['m_y'] = capital_by_date['month'].apply(str) + \"-\" + capital_by_date['year'].apply(str) "
   ]
  },
  {
   "cell_type": "code",
   "execution_count": 20,
   "id": "ad36362e",
   "metadata": {},
   "outputs": [
    {
     "data": {
      "image/png": "[encoded data removed]",
      "text/plain": [
       "<Figure size 432x288 with 1 Axes>"
      ]
     },
     "metadata": {
      "needs_background": "light"
     },
     "output_type": "display_data"
    }
   ],
   "source": [
    "plt.barh('m_y', 'ride_count', data=capital_by_date)\n",
    "plt.tight_layout()"
   ]
  },
  {
   "cell_type": "code",
   "execution_count": 22,
   "id": "1ee80bc7",
   "metadata": {},
   "outputs": [],
   "source": [
    "capital_by_date.to_csv('capital_by_date.csv')"
   ]
  },
  {
   "cell_type": "code",
   "execution_count": null,
   "id": "32a04137",
   "metadata": {},
   "outputs": [],
   "source": []
  }
 ],
 "metadata": {
  "kernelspec": {
   "display_name": "Python 3",
   "language": "python",
   "name": "python3"
  },
  "language_info": {
   "codemirror_mode": {
    "name": "ipython",
    "version": 3
   },
   "file_extension": ".py",
   "mimetype": "text/x-python",
   "name": "python",
   "nbconvert_exporter": "python",
   "pygments_lexer": "ipython3",
   "version": "3.8.8"
  }
 },
 "nbformat": 4,
 "nbformat_minor": 5
}
