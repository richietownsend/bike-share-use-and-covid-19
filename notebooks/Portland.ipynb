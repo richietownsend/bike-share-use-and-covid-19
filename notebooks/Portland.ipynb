{
 "cells": [
  {
   "cell_type": "code",
   "execution_count": 22,
   "metadata": {},
   "outputs": [],
   "source": [
    "import os\n",
    "import pandas as pd\n",
    "import datetime as dt\n",
    "import matplotlib.pyplot as plt\n",
    "\n",
    "%matplotlib inline\n",
    "pd.set_option('display.max_columns', None)\n",
    "pd.set_option('display.max_rows', None)"
   ]
  },
  {
   "cell_type": "code",
   "execution_count": 23,
   "metadata": {},
   "outputs": [
    {
     "name": "stdout",
     "output_type": "stream",
     "text": [
      "pd.read_csv('../data/Biketown PDX/2019_01.csv')\n",
      "pd.read_csv('../data/Biketown PDX/2019_02.csv')\n",
      "pd.read_csv('../data/Biketown PDX/2019_03.csv')\n",
      "pd.read_csv('../data/Biketown PDX/2019_07.csv')\n",
      "pd.read_csv('../data/Biketown PDX/2019_06.csv')\n",
      "pd.read_csv('../data/Biketown PDX/2019_12.csv')\n",
      "pd.read_csv('../data/Biketown PDX/2019_04.csv')\n",
      "pd.read_csv('../data/Biketown PDX/2019_10.csv')\n",
      "pd.read_csv('../data/Biketown PDX/2019_11.csv')\n",
      "pd.read_csv('../data/Biketown PDX/2019_05.csv')\n",
      "pd.read_csv('../data/Biketown PDX/2020_08.csv')\n",
      "pd.read_csv('../data/Biketown PDX/2020_07.csv')\n",
      "pd.read_csv('../data/Biketown PDX/2020_06.csv')\n",
      "pd.read_csv('../data/Biketown PDX/2020_04.csv')\n",
      "pd.read_csv('../data/Biketown PDX/2020_05.csv')\n",
      "pd.read_csv('../data/Biketown PDX/2020_01.csv')\n",
      "pd.read_csv('../data/Biketown PDX/2020_02.csv')\n",
      "pd.read_csv('../data/Biketown PDX/2020_03.csv')\n",
      "pd.read_csv('../data/Biketown PDX/2019_08.csv')\n",
      "pd.read_csv('../data/Biketown PDX/2019_09.csv')\n"
     ]
    }
   ],
   "source": [
    "path = \"/Users/richietownsend/Nashville Software School/NSS_Data_Analytics/Capstone/data/Biketown PDX\"\n",
    "list =[]\n",
    "for (root, dirs, file) in os.walk(path):\n",
    "    for f in file:\n",
    "        if '.csv' in f:\n",
    "            print('pd.read_csv(\\'../data/Biketown PDX/'+f+'\\')')"
   ]
  },
  {
   "cell_type": "code",
   "execution_count": 24,
   "metadata": {},
   "outputs": [],
   "source": [
    "pdx0119 = pd.read_csv('../data/Biketown PDX/2019_01.csv')\n",
    "pdx0219 = pd.read_csv('../data/Biketown PDX/2019_02.csv')\n",
    "pdx0319 = pd.read_csv('../data/Biketown PDX/2019_03.csv')\n",
    "pdx0419 = pd.read_csv('../data/Biketown PDX/2019_04.csv')\n",
    "pdx0519 = pd.read_csv('../data/Biketown PDX/2019_05.csv')\n",
    "pdx0619 = pd.read_csv('../data/Biketown PDX/2019_06.csv')\n",
    "pdx0719 = pd.read_csv('../data/Biketown PDX/2019_07.csv')\n",
    "pdx0819 = pd.read_csv('../data/Biketown PDX/2019_08.csv')\n",
    "pdx0919 = pd.read_csv('../data/Biketown PDX/2019_09.csv')\n",
    "pdx1019 = pd.read_csv('../data/Biketown PDX/2019_10.csv')\n",
    "pdx1119 = pd.read_csv('../data/Biketown PDX/2019_11.csv')\n",
    "pdx1219 = pd.read_csv('../data/Biketown PDX/2019_12.csv')\n",
    "pdx0120 = pd.read_csv('../data/Biketown PDX/2020_01.csv')\n",
    "pdx0220 = pd.read_csv('../data/Biketown PDX/2020_02.csv')\n",
    "pdx0320 = pd.read_csv('../data/Biketown PDX/2020_03.csv')\n",
    "pdx0420 = pd.read_csv('../data/Biketown PDX/2020_04.csv')\n",
    "pdx0520 = pd.read_csv('../data/Biketown PDX/2020_05.csv')\n",
    "pdx0620 = pd.read_csv('../data/Biketown PDX/2020_06.csv')\n",
    "pdx0720 = pd.read_csv('../data/Biketown PDX/2020_07.csv')\n",
    "pdx0820 = pd.read_csv('../data/Biketown PDX/2020_08.csv')"
   ]
  },
  {
   "cell_type": "code",
   "execution_count": 25,
   "metadata": {},
   "outputs": [],
   "source": [
    "all_pdx = pd.concat([pdx0119, pdx0219, pdx0319, pdx0419, pdx0519, pdx0619, pdx0719, pdx0819, pdx0919, pdx1019, pdx1119, pdx1219, pdx0120, pdx0220, pdx0320, pdx0420, pdx0520, pdx0620, pdx0720, pdx0820])"
   ]
  },
  {
   "cell_type": "code",
   "execution_count": 26,
   "metadata": {},
   "outputs": [
    {
     "name": "stdout",
     "output_type": "stream",
     "text": [
      "<class 'pandas.core.frame.DataFrame'>\n",
      "Int64Index: 419143 entries, 0 to 12752\n",
      "Data columns (total 24 columns):\n",
      " #   Column            Non-Null Count   Dtype  \n",
      "---  ------            --------------   -----  \n",
      " 0   RouteID           419143 non-null  int64  \n",
      " 1   PaymentPlan       419143 non-null  object \n",
      " 2   StartHub          258122 non-null  object \n",
      " 3   StartLatitude     299814 non-null  float64\n",
      " 4   StartLongitude    299814 non-null  float64\n",
      " 5   StartDate         419143 non-null  object \n",
      " 6   StartTime         419143 non-null  object \n",
      " 7   EndHub            251986 non-null  object \n",
      " 8   EndLatitude       299776 non-null  float64\n",
      " 9   EndLongitude      299776 non-null  float64\n",
      " 10  EndDate           419143 non-null  object \n",
      " 11  EndTime           419143 non-null  object \n",
      " 12  TripType          136 non-null     object \n",
      " 13  BikeID            419143 non-null  int64  \n",
      " 14  BikeName          418553 non-null  object \n",
      " 15  Distance_Miles    241799 non-null  float64\n",
      " 16  Duration          419116 non-null  object \n",
      " 17  RentalAccessPath  419143 non-null  object \n",
      " 18  MultipleRental    419143 non-null  bool   \n",
      " 19  Start_Latitude    119272 non-null  float64\n",
      " 20  Start_Longitude   119272 non-null  float64\n",
      " 21  End_Latitude      119251 non-null  float64\n",
      " 22  End_Longitude     119251 non-null  float64\n",
      " 23  Distance_Miles_   177344 non-null  float64\n",
      "dtypes: bool(1), float64(10), int64(2), object(11)\n",
      "memory usage: 77.1+ MB\n"
     ]
    }
   ],
   "source": [
    "all_pdx.info()"
   ]
  },
  {
   "cell_type": "code",
   "execution_count": 27,
   "metadata": {},
   "outputs": [],
   "source": [
    "all_pdx = all_pdx[['RouteID', 'StartDate', 'EndDate', 'StartHub', 'EndHub']]"
   ]
  },
  {
   "cell_type": "code",
   "execution_count": 28,
   "metadata": {},
   "outputs": [
    {
     "data": {
      "text/html": [
       "<div>\n",
       "<style scoped>\n",
       "    .dataframe tbody tr th:only-of-type {\n",
       "        vertical-align: middle;\n",
       "    }\n",
       "\n",
       "    .dataframe tbody tr th {\n",
       "        vertical-align: top;\n",
       "    }\n",
       "\n",
       "    .dataframe thead th {\n",
       "        text-align: right;\n",
       "    }\n",
       "</style>\n",
       "<table border=\"1\" class=\"dataframe\">\n",
       "  <thead>\n",
       "    <tr style=\"text-align: right;\">\n",
       "      <th></th>\n",
       "      <th>RouteID</th>\n",
       "      <th>StartDate</th>\n",
       "      <th>EndDate</th>\n",
       "      <th>StartHub</th>\n",
       "      <th>EndHub</th>\n",
       "    </tr>\n",
       "  </thead>\n",
       "  <tbody>\n",
       "    <tr>\n",
       "      <th>0</th>\n",
       "      <td>10551635</td>\n",
       "      <td>1/1/2019</td>\n",
       "      <td>1/1/2019</td>\n",
       "      <td>NW Johnson at Jamison Square</td>\n",
       "      <td>NaN</td>\n",
       "    </tr>\n",
       "    <tr>\n",
       "      <th>1</th>\n",
       "      <td>10551641</td>\n",
       "      <td>1/1/2019</td>\n",
       "      <td>1/1/2019</td>\n",
       "      <td>SE 29th at Belmont</td>\n",
       "      <td>NaN</td>\n",
       "    </tr>\n",
       "    <tr>\n",
       "      <th>2</th>\n",
       "      <td>10551644</td>\n",
       "      <td>1/1/2019</td>\n",
       "      <td>1/1/2019</td>\n",
       "      <td>NaN</td>\n",
       "      <td>NaN</td>\n",
       "    </tr>\n",
       "    <tr>\n",
       "      <th>3</th>\n",
       "      <td>10551674</td>\n",
       "      <td>1/1/2019</td>\n",
       "      <td>1/1/2019</td>\n",
       "      <td>NW 21st at Johnson</td>\n",
       "      <td>NW 21st at Johnson</td>\n",
       "    </tr>\n",
       "    <tr>\n",
       "      <th>4</th>\n",
       "      <td>10551682</td>\n",
       "      <td>1/1/2019</td>\n",
       "      <td>1/1/2019</td>\n",
       "      <td>NW 21st at Johnson</td>\n",
       "      <td>NW 11th at The Fields</td>\n",
       "    </tr>\n",
       "  </tbody>\n",
       "</table>\n",
       "</div>"
      ],
      "text/plain": [
       "    RouteID StartDate   EndDate                      StartHub  \\\n",
       "0  10551635  1/1/2019  1/1/2019  NW Johnson at Jamison Square   \n",
       "1  10551641  1/1/2019  1/1/2019            SE 29th at Belmont   \n",
       "2  10551644  1/1/2019  1/1/2019                           NaN   \n",
       "3  10551674  1/1/2019  1/1/2019            NW 21st at Johnson   \n",
       "4  10551682  1/1/2019  1/1/2019            NW 21st at Johnson   \n",
       "\n",
       "                  EndHub  \n",
       "0                    NaN  \n",
       "1                    NaN  \n",
       "2                    NaN  \n",
       "3     NW 21st at Johnson  \n",
       "4  NW 11th at The Fields  "
      ]
     },
     "execution_count": 28,
     "metadata": {},
     "output_type": "execute_result"
    }
   ],
   "source": [
    "all_pdx.head()"
   ]
  },
  {
   "cell_type": "code",
   "execution_count": 29,
   "metadata": {},
   "outputs": [],
   "source": [
    "all_pdx['StartDate'] = pd.to_datetime(all_pdx['StartDate'], format='%m/%d/%Y')\n",
    "all_pdx['EndDate'] = pd.to_datetime(all_pdx['EndDate'], format='%m/%d/%Y')\n",
    "all_pdx['StartDate'] = pd.to_datetime(all_pdx['StartDate'], format='%Y-%m-%d')\n",
    "all_pdx['EndDate'] = pd.to_datetime(all_pdx['EndDate'], format='%Y-%m-%d')"
   ]
  },
  {
   "cell_type": "code",
   "execution_count": 30,
   "metadata": {},
   "outputs": [
    {
     "data": {
      "text/html": [
       "<div>\n",
       "<style scoped>\n",
       "    .dataframe tbody tr th:only-of-type {\n",
       "        vertical-align: middle;\n",
       "    }\n",
       "\n",
       "    .dataframe tbody tr th {\n",
       "        vertical-align: top;\n",
       "    }\n",
       "\n",
       "    .dataframe thead th {\n",
       "        text-align: right;\n",
       "    }\n",
       "</style>\n",
       "<table border=\"1\" class=\"dataframe\">\n",
       "  <thead>\n",
       "    <tr style=\"text-align: right;\">\n",
       "      <th></th>\n",
       "      <th>RouteID</th>\n",
       "      <th>StartDate</th>\n",
       "      <th>EndDate</th>\n",
       "      <th>StartHub</th>\n",
       "      <th>EndHub</th>\n",
       "    </tr>\n",
       "  </thead>\n",
       "  <tbody>\n",
       "    <tr>\n",
       "      <th>0</th>\n",
       "      <td>10551635</td>\n",
       "      <td>2019-01-01</td>\n",
       "      <td>2019-01-01</td>\n",
       "      <td>NW Johnson at Jamison Square</td>\n",
       "      <td>NaN</td>\n",
       "    </tr>\n",
       "    <tr>\n",
       "      <th>1</th>\n",
       "      <td>10551641</td>\n",
       "      <td>2019-01-01</td>\n",
       "      <td>2019-01-01</td>\n",
       "      <td>SE 29th at Belmont</td>\n",
       "      <td>NaN</td>\n",
       "    </tr>\n",
       "    <tr>\n",
       "      <th>2</th>\n",
       "      <td>10551644</td>\n",
       "      <td>2019-01-01</td>\n",
       "      <td>2019-01-01</td>\n",
       "      <td>NaN</td>\n",
       "      <td>NaN</td>\n",
       "    </tr>\n",
       "    <tr>\n",
       "      <th>3</th>\n",
       "      <td>10551674</td>\n",
       "      <td>2019-01-01</td>\n",
       "      <td>2019-01-01</td>\n",
       "      <td>NW 21st at Johnson</td>\n",
       "      <td>NW 21st at Johnson</td>\n",
       "    </tr>\n",
       "    <tr>\n",
       "      <th>4</th>\n",
       "      <td>10551682</td>\n",
       "      <td>2019-01-01</td>\n",
       "      <td>2019-01-01</td>\n",
       "      <td>NW 21st at Johnson</td>\n",
       "      <td>NW 11th at The Fields</td>\n",
       "    </tr>\n",
       "  </tbody>\n",
       "</table>\n",
       "</div>"
      ],
      "text/plain": [
       "    RouteID  StartDate    EndDate                      StartHub  \\\n",
       "0  10551635 2019-01-01 2019-01-01  NW Johnson at Jamison Square   \n",
       "1  10551641 2019-01-01 2019-01-01            SE 29th at Belmont   \n",
       "2  10551644 2019-01-01 2019-01-01                           NaN   \n",
       "3  10551674 2019-01-01 2019-01-01            NW 21st at Johnson   \n",
       "4  10551682 2019-01-01 2019-01-01            NW 21st at Johnson   \n",
       "\n",
       "                  EndHub  \n",
       "0                    NaN  \n",
       "1                    NaN  \n",
       "2                    NaN  \n",
       "3     NW 21st at Johnson  \n",
       "4  NW 11th at The Fields  "
      ]
     },
     "execution_count": 30,
     "metadata": {},
     "output_type": "execute_result"
    }
   ],
   "source": [
    "all_pdx.head()"
   ]
  },
  {
   "cell_type": "code",
   "execution_count": 31,
   "metadata": {},
   "outputs": [],
   "source": [
    "all_pdx = all_pdx.dropna(subset=['StartHub'])\n",
    "all_pdx = all_pdx.dropna(subset=['EndHub'])"
   ]
  },
  {
   "cell_type": "code",
   "execution_count": 32,
   "metadata": {},
   "outputs": [
    {
     "name": "stdout",
     "output_type": "stream",
     "text": [
      "<class 'pandas.core.frame.DataFrame'>\n",
      "Int64Index: 168583 entries, 3 to 12750\n",
      "Data columns (total 5 columns):\n",
      " #   Column     Non-Null Count   Dtype         \n",
      "---  ------     --------------   -----         \n",
      " 0   RouteID    168583 non-null  int64         \n",
      " 1   StartDate  168583 non-null  datetime64[ns]\n",
      " 2   EndDate    168583 non-null  datetime64[ns]\n",
      " 3   StartHub   168583 non-null  object        \n",
      " 4   EndHub     168583 non-null  object        \n",
      "dtypes: datetime64[ns](2), int64(1), object(2)\n",
      "memory usage: 7.7+ MB\n"
     ]
    }
   ],
   "source": [
    "all_pdx.info()"
   ]
  },
  {
   "cell_type": "code",
   "execution_count": 33,
   "metadata": {},
   "outputs": [],
   "source": [
    "pdx_by_date = all_pdx[['StartDate', 'RouteID']]\n",
    "pdx_by_date = all_pdx.groupby('StartDate').agg({'RouteID': 'count'}).reset_index()\n",
    "\n",
    "\n",
    "# pdx_by_date = all_pdx.groupby(['StartDate'])['RouteID'].count()\n",
    "# pdx_by_date = pd.DataFrame(pdx_by_date).reset_index()\n",
    "pdx_by_date['StartDate'] = pd.to_datetime(pdx_by_date['StartDate'], format='%Y-%m-%d')\n",
    "pdx_by_date.rename(columns={'StartDate':'ride_date', 'RouteID':'ride_count'}, inplace=True)"
   ]
  },
  {
   "cell_type": "code",
   "execution_count": 34,
   "metadata": {},
   "outputs": [
    {
     "name": "stdout",
     "output_type": "stream",
     "text": [
      "<class 'pandas.core.frame.DataFrame'>\n",
      "RangeIndex: 609 entries, 0 to 608\n",
      "Data columns (total 2 columns):\n",
      " #   Column      Non-Null Count  Dtype         \n",
      "---  ------      --------------  -----         \n",
      " 0   ride_date   609 non-null    datetime64[ns]\n",
      " 1   ride_count  609 non-null    int64         \n",
      "dtypes: datetime64[ns](1), int64(1)\n",
      "memory usage: 9.6 KB\n"
     ]
    }
   ],
   "source": [
    "pdx_by_date.info()"
   ]
  },
  {
   "cell_type": "code",
   "execution_count": 35,
   "metadata": {},
   "outputs": [],
   "source": [
    "# pdx_by_date['month'] = pdx_by_date['ride_date'].dt.month"
   ]
  },
  {
   "cell_type": "code",
   "execution_count": 36,
   "metadata": {},
   "outputs": [],
   "source": [
    "pdx_by_date['month'] = pdx_by_date['ride_date'].dt.month\n",
    "pdx_by_date['year'] = pdx_by_date['ride_date'].dt.year\n",
    "pdx_by_date['m_y'] = pdx_by_date['month'].apply(str) + \"-\" + pdx_by_date['year'].apply(str) "
   ]
  },
  {
   "cell_type": "code",
   "execution_count": 37,
   "metadata": {},
   "outputs": [
    {
     "data": {
      "image/png": "[encoded data removed]",
      "text/plain": [
       "<Figure size 432x288 with 1 Axes>"
      ]
     },
     "metadata": {
      "needs_background": "light"
     },
     "output_type": "display_data"
    }
   ],
   "source": [
    "plt.barh('m_y', 'ride_count', data=pdx_by_date)\n",
    "plt.tight_layout()"
   ]
  },
  {
   "cell_type": "code",
   "execution_count": 38,
   "metadata": {},
   "outputs": [],
   "source": [
    "pdx_by_date.to_csv('pdx_by_date.csv')"
   ]
  },
  {
   "cell_type": "code",
   "execution_count": null,
   "metadata": {},
   "outputs": [],
   "source": []
  }
 ],
 "metadata": {
  "kernelspec": {
   "display_name": "Python 3",
   "language": "python",
   "name": "python3"
  },
  "language_info": {
   "codemirror_mode": {
    "name": "ipython",
    "version": 3
   },
   "file_extension": ".py",
   "mimetype": "text/x-python",
   "name": "python",
   "nbconvert_exporter": "python",
   "pygments_lexer": "ipython3",
   "version": "3.8.8"
  }
 },
 "nbformat": 4,
 "nbformat_minor": 4
}
