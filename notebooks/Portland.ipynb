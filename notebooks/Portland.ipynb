{
 "cells": [
  {
   "cell_type": "code",
   "execution_count": 1,
   "metadata": {},
   "outputs": [],
   "source": [
    "import os\n",
    "import pandas as pd\n",
    "import datetime as dt\n",
    "import matplotlib.pyplot as plt\n",
    "\n",
    "%matplotlib inline\n",
    "pd.set_option('display.max_columns', None)\n",
    "pd.set_option('display.max_rows', None)"
   ]
  },
  {
   "cell_type": "code",
   "execution_count": 3,
   "metadata": {},
   "outputs": [
    {
     "name": "stdout",
     "output_type": "stream",
     "text": [
      "pd.read_csv('../data/Biketown PDX/2019_01.csv')\n",
      "pd.read_csv('../data/Biketown PDX/2019_02.csv')\n",
      "pd.read_csv('../data/Biketown PDX/2019_03.csv')\n",
      "pd.read_csv('../data/Biketown PDX/2019_07.csv')\n",
      "pd.read_csv('../data/Biketown PDX/2019_06.csv')\n",
      "pd.read_csv('../data/Biketown PDX/2019_12.csv')\n",
      "pd.read_csv('../data/Biketown PDX/2019_04.csv')\n",
      "pd.read_csv('../data/Biketown PDX/2019_10.csv')\n",
      "pd.read_csv('../data/Biketown PDX/2019_11.csv')\n",
      "pd.read_csv('../data/Biketown PDX/2019_05.csv')\n",
      "pd.read_csv('../data/Biketown PDX/2020_08.csv')\n",
      "pd.read_csv('../data/Biketown PDX/2020_07.csv')\n",
      "pd.read_csv('../data/Biketown PDX/2020_06.csv')\n",
      "pd.read_csv('../data/Biketown PDX/2020_04.csv')\n",
      "pd.read_csv('../data/Biketown PDX/2020_05.csv')\n",
      "pd.read_csv('../data/Biketown PDX/2020_01.csv')\n",
      "pd.read_csv('../data/Biketown PDX/2020_02.csv')\n",
      "pd.read_csv('../data/Biketown PDX/2020_03.csv')\n",
      "pd.read_csv('../data/Biketown PDX/2019_08.csv')\n",
      "pd.read_csv('../data/Biketown PDX/2019_09.csv')\n"
     ]
    }
   ],
   "source": [
    "path = \"/Users/richietownsend/Nashville Software School/NSS_Data_Analytics/Capstone/bike_share/data/Biketown PDX\"\n",
    "list =[]\n",
    "for (root, dirs, file) in os.walk(path):\n",
    "    for f in file:\n",
    "        if '.csv' in f:\n",
    "            print('pd.read_csv(\\'../data/Biketown PDX/'+f+'\\')')"
   ]
  },
  {
   "cell_type": "code",
   "execution_count": null,
   "metadata": {},
   "outputs": [],
   "source": [
    "pdx0119 = pd.read_csv('../data/Biketown PDX/2019_01.csv')\n",
    "pdx0219 = pd.read_csv('../data/Biketown PDX/2019_02.csv')\n",
    "pdx0319 = pd.read_csv('../data/Biketown PDX/2019_03.csv')\n",
    "pdx0419 = pd.read_csv('../data/Biketown PDX/2019_04.csv')\n",
    "pdx0519 = pd.read_csv('../data/Biketown PDX/2019_05.csv')\n",
    "pdx0619 = pd.read_csv('../data/Biketown PDX/2019_06.csv')\n",
    "pdx0719 = pd.read_csv('../data/Biketown PDX/2019_07.csv')\n",
    "pdx0819 = pd.read_csv('../data/Biketown PDX/2019_08.csv')\n",
    "pdx0919 = pd.read_csv('../data/Biketown PDX/2019_09.csv')\n",
    "pdx1019 = pd.read_csv('../data/Biketown PDX/2019_10.csv')\n",
    "pdx1119 = pd.read_csv('../data/Biketown PDX/2019_11.csv')\n",
    "pdx1219 = pd.read_csv('../data/Biketown PDX/2019_12.csv')\n",
    "pdx0120 = pd.read_csv('../data/Biketown PDX/2020_01.csv')\n",
    "pdx0220 = pd.read_csv('../data/Biketown PDX/2020_02.csv')\n",
    "pdx0320 = pd.read_csv('../data/Biketown PDX/2020_03.csv')\n",
    "pdx0420 = pd.read_csv('../data/Biketown PDX/2020_04.csv')\n",
    "pdx0520 = pd.read_csv('../data/Biketown PDX/2020_05.csv')\n",
    "pdx0620 = pd.read_csv('../data/Biketown PDX/2020_06.csv')\n",
    "pdx0720 = pd.read_csv('../data/Biketown PDX/2020_07.csv')\n",
    "pdx0820 = pd.read_csv('../data/Biketown PDX/2020_08.csv')"
   ]
  },
  {
   "cell_type": "code",
   "execution_count": null,
   "metadata": {},
   "outputs": [],
   "source": [
    "all_pdx = pd.concat([pdx0119, pdx0219, pdx0319, pdx0419, pdx0519, pdx0619, pdx0719, pdx0819, pdx0919, pdx1019, pdx1119, pdx1219, pdx0120, pdx0220, pdx0320, pdx0420, pdx0520, pdx0620, pdx0720, pdx0820])"
   ]
  },
  {
   "cell_type": "code",
   "execution_count": null,
   "metadata": {},
   "outputs": [],
   "source": [
    "all_pdx.info()"
   ]
  },
  {
   "cell_type": "code",
   "execution_count": null,
   "metadata": {},
   "outputs": [],
   "source": [
    "all_pdx = all_pdx[['RouteID', 'StartDate', 'EndDate', 'StartHub', 'EndHub']]"
   ]
  },
  {
   "cell_type": "code",
   "execution_count": null,
   "metadata": {},
   "outputs": [],
   "source": [
    "all_pdx.head()"
   ]
  },
  {
   "cell_type": "code",
   "execution_count": null,
   "metadata": {},
   "outputs": [],
   "source": [
    "all_pdx['StartDate'] = pd.to_datetime(all_pdx['StartDate'], format='%m/%d/%Y')\n",
    "all_pdx['EndDate'] = pd.to_datetime(all_pdx['EndDate'], format='%m/%d/%Y')\n",
    "all_pdx['StartDate'] = pd.to_datetime(all_pdx['StartDate'], format='%Y-%m-%d')\n",
    "all_pdx['EndDate'] = pd.to_datetime(all_pdx['EndDate'], format='%Y-%m-%d')"
   ]
  },
  {
   "cell_type": "code",
   "execution_count": null,
   "metadata": {},
   "outputs": [],
   "source": [
    "all_pdx.head()"
   ]
  },
  {
   "cell_type": "code",
   "execution_count": null,
   "metadata": {},
   "outputs": [],
   "source": [
    "all_pdx = all_pdx.dropna(subset=['StartHub'])\n",
    "all_pdx = all_pdx.dropna(subset=['EndHub'])"
   ]
  },
  {
   "cell_type": "code",
   "execution_count": null,
   "metadata": {},
   "outputs": [],
   "source": [
    "all_pdx.info()"
   ]
  },
  {
   "cell_type": "code",
   "execution_count": null,
   "metadata": {},
   "outputs": [],
   "source": [
    "pdx_by_date = all_pdx[['StartDate', 'RouteID']]\n",
    "pdx_by_date = all_pdx.groupby('StartDate').agg({'RouteID': 'count'}).reset_index()\n",
    "\n",
    "\n",
    "# pdx_by_date = all_pdx.groupby(['StartDate'])['RouteID'].count()\n",
    "# pdx_by_date = pd.DataFrame(pdx_by_date).reset_index()\n",
    "pdx_by_date['StartDate'] = pd.to_datetime(pdx_by_date['StartDate'], format='%Y-%m-%d')\n",
    "pdx_by_date.rename(columns={'StartDate':'ride_date', 'RouteID':'ride_count'}, inplace=True)"
   ]
  },
  {
   "cell_type": "code",
   "execution_count": null,
   "metadata": {},
   "outputs": [],
   "source": [
    "pdx_by_date.info()"
   ]
  },
  {
   "cell_type": "code",
   "execution_count": null,
   "metadata": {},
   "outputs": [],
   "source": [
    "# pdx_by_date['month'] = pdx_by_date['ride_date'].dt.month"
   ]
  },
  {
   "cell_type": "code",
   "execution_count": null,
   "metadata": {},
   "outputs": [],
   "source": [
    "pdx_by_date['month'] = pdx_by_date['ride_date'].dt.month\n",
    "pdx_by_date['year'] = pdx_by_date['ride_date'].dt.year\n",
    "pdx_by_date['m_y'] = pdx_by_date['month'].apply(str) + \"-\" + pdx_by_date['year'].apply(str) "
   ]
  },
  {
   "cell_type": "code",
   "execution_count": null,
   "metadata": {},
   "outputs": [],
   "source": [
    "plt.barh('m_y', 'ride_count', data=pdx_by_date)\n",
    "plt.tight_layout()"
   ]
  },
  {
   "cell_type": "code",
   "execution_count": null,
   "metadata": {},
   "outputs": [],
   "source": [
    "pdx_by_date.to_csv('pdx_by_date.csv')"
   ]
  },
  {
   "cell_type": "code",
   "execution_count": null,
   "metadata": {},
   "outputs": [],
   "source": []
  }
 ],
 "metadata": {
  "kernelspec": {
   "display_name": "Python 3",
   "language": "python",
   "name": "python3"
  },
  "language_info": {
   "codemirror_mode": {
    "name": "ipython",
    "version": 3
   },
   "file_extension": ".py",
   "mimetype": "text/x-python",
   "name": "python",
   "nbconvert_exporter": "python",
   "pygments_lexer": "ipython3",
   "version": "3.7.6"
  }
 },
 "nbformat": 4,
 "nbformat_minor": 4
}
