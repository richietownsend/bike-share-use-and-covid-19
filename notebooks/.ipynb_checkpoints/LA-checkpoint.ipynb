{
 "cells": [
  {
   "cell_type": "code",
   "execution_count": 1,
   "metadata": {},
   "outputs": [],
   "source": [
    "import os\n",
    "import pandas as pd\n",
    "import matplotlib.pyplot as plt"
   ]
  },
  {
   "cell_type": "markdown",
   "metadata": {},
   "source": [
    "Use a for loop to determine CSV file path"
   ]
  },
  {
   "cell_type": "code",
   "execution_count": 2,
   "metadata": {},
   "outputs": [],
   "source": [
    "path = \"/Users/richietownsend/Nashville Software School/NSS_Data_Analytics/Capstone/data/LA Metro\"\n",
    "list=[]\n",
    "for (root, dirs, file) in os.walk(path):\n",
    "    for f in file:\n",
    "        if '.csv' in f:\n",
    "            print('pd.read_csv(\\'../data/LA Metro/'+f+'\\')')"
   ]
  },
  {
   "cell_type": "markdown",
   "metadata": {},
   "source": [
    "Load San Francisco CSV Files"
   ]
  },
  {
   "cell_type": "code",
   "execution_count": 3,
   "metadata": {},
   "outputs": [
    {
     "name": "stderr",
     "output_type": "stream",
     "text": [
      "/Users/richietownsend/opt/anaconda3/lib/python3.7/site-packages/IPython/core/interactiveshell.py:3063: DtypeWarning: Columns (10) have mixed types.Specify dtype option on import or set low_memory=False.\n",
      "  interactivity=interactivity, compiler=compiler, result=result)\n"
     ]
    }
   ],
   "source": [
    "la_metroQ119 = pd.read_csv('../data/LA Metro/metro-bike-share-trips-2019-q1.csv')\n",
    "la_metroQ219 = pd.read_csv('../data/LA Metro/metro-bike-share-trips-2019-q2.csv')\n",
    "la_metroQ319 = pd.read_csv('../data/LA Metro/metro-bike-share-trips-2019-q3.csv')\n",
    "la_metroQ419 = pd.read_csv('../data/LA Metro/metro-bike-share-trips-2019-q4.csv')\n",
    "la_metroQ120 = pd.read_csv('../data/LA Metro/metro-bike-share-trips-2020-q1.csv')\n",
    "la_metroQ220 = pd.read_csv('../data/LA Metro/metro-trips-2020-q2-v2.csv')\n",
    "la_metroQ320 = pd.read_csv('../data/LA Metro/metro-trips-2020-q3.csv')\n",
    "la_metroQ420 = pd.read_csv('../data/LA Metro/metro-trips-2020-q4.csv')\n",
    "la_metroQ121 = pd.read_csv('../data/LA Metro/metro-trips-2021-q1.csv')"
   ]
  },
  {
   "cell_type": "markdown",
   "metadata": {},
   "source": [
    "Concatenate DFs"
   ]
  },
  {
   "cell_type": "code",
   "execution_count": 4,
   "metadata": {},
   "outputs": [],
   "source": [
    "all_metro = pd.concat([la_metroQ119, la_metroQ219, la_metroQ319, la_metroQ419, la_metroQ120, la_metroQ220, la_metroQ320, la_metroQ420, la_metroQ121])"
   ]
  },
  {
   "cell_type": "markdown",
   "metadata": {},
   "source": [
    "Grab Relevant Columns"
   ]
  },
  {
   "cell_type": "code",
   "execution_count": 5,
   "metadata": {},
   "outputs": [],
   "source": [
    "all_metro = all_metro[['trip_id', 'start_time', 'end_time', 'start_station', 'end_station']]"
   ]
  },
  {
   "cell_type": "markdown",
   "metadata": {},
   "source": [
    "Format to Datetime"
   ]
  },
  {
   "cell_type": "code",
   "execution_count": null,
   "metadata": {},
   "outputs": [],
   "source": [
    "all_metro['start_time'] = pd.to_datetime(all_metro['start_time'], infer_datetime_format=True)\n",
    "all_metro['end_time'] = pd.to_datetime(all_metro['end_time'], infer_datetime_format=True)\n",
    "# divvyQ119['end_time'] = pd.to_datetime(divvyQ119['end_time'], format='%Y-%m-%d')"
   ]
  },
  {
   "cell_type": "markdown",
   "metadata": {},
   "source": [
    "Create Duration column"
   ]
  },
  {
   "cell_type": "code",
   "execution_count": null,
   "metadata": {},
   "outputs": [],
   "source": [
    "all_metro['duration'] = all_metro['end_time'] - all_metro['start_time']"
   ]
  },
  {
   "cell_type": "markdown",
   "metadata": {},
   "source": [
    "Calculate Relevant Ride Information<br>\n",
    "* _remove rides with no start station or end station_ <br>\n",
    "* _remove rides that have same start and stop station and are under 5 minutes_"
   ]
  },
  {
   "cell_type": "code",
   "execution_count": null,
   "metadata": {},
   "outputs": [],
   "source": [
    "all_metro = all_metro.dropna(subset=['start_station'])\n",
    "all_metro = all_metro.dropna(subset=['end_station'])\n",
    "all_metro = all_metro[~((all_metro['start_station'] == all_metro['end_station']) & (all_metro['duration'] < '00:05:00'))]"
   ]
  },
  {
   "cell_type": "markdown",
   "metadata": {},
   "source": [
    "Create Start Date Column"
   ]
  },
  {
   "cell_type": "code",
   "execution_count": null,
   "metadata": {},
   "outputs": [],
   "source": [
    "all_metro['start_date'] = all_metro['start_time'].dt.date"
   ]
  },
  {
   "cell_type": "markdown",
   "metadata": {},
   "source": [
    "Sum Ride Count by Start Date"
   ]
  },
  {
   "cell_type": "code",
   "execution_count": null,
   "metadata": {},
   "outputs": [],
   "source": [
    "metro_by_date = all_metro.groupby('start_date').agg({'trip_id': 'count'}).reset_index()\n",
    "metro_by_date['start_date'] = pd.to_datetime(metro_by_date['start_date'], format='%Y-%m-%d')\n",
    "metro_by_date.rename(columns={'trip_id':'ride_count'}, inplace=True)"
   ]
  },
  {
   "cell_type": "markdown",
   "metadata": {},
   "source": [
    "Create Columns for Grouping By Month and Date"
   ]
  },
  {
   "cell_type": "code",
   "execution_count": null,
   "metadata": {},
   "outputs": [],
   "source": [
    "metro_by_date['month'] = metro_by_date['start_date'].dt.month\n",
    "metro_by_date['year'] = metro_by_date['start_date'].dt.year\n",
    "metro_by_date['m_y'] = metro_by_date['month'].apply(str) + \"-\" + metro_by_date['year'].apply(str) "
   ]
  },
  {
   "cell_type": "markdown",
   "metadata": {},
   "source": [
    "Check Data"
   ]
  },
  {
   "cell_type": "code",
   "execution_count": null,
   "metadata": {},
   "outputs": [],
   "source": [
    "metro_by_date.groupby(['year', 'month']).agg({'ride_count':'sum'})"
   ]
  },
  {
   "cell_type": "markdown",
   "metadata": {},
   "source": [
    "Quick Plot"
   ]
  },
  {
   "cell_type": "code",
   "execution_count": null,
   "metadata": {},
   "outputs": [],
   "source": [
    "plt.barh('m_y', 'ride_count', data=metro_by_date)\n",
    "plt.tight_layout()"
   ]
  },
  {
   "cell_type": "markdown",
   "metadata": {},
   "source": [
    "Export to CSV file"
   ]
  },
  {
   "cell_type": "code",
   "execution_count": null,
   "metadata": {},
   "outputs": [],
   "source": [
    "metro_by_date.to_csv('../data/By_Date/metro_by_date.csv')"
   ]
  }
 ],
 "metadata": {
  "kernelspec": {
   "display_name": "Python 3",
   "language": "python",
   "name": "python3"
  },
  "language_info": {
   "codemirror_mode": {
    "name": "ipython",
    "version": 3
   },
   "file_extension": ".py",
   "mimetype": "text/x-python",
   "name": "python",
   "nbconvert_exporter": "python",
   "pygments_lexer": "ipython3",
   "version": "3.7.6"
  }
 },
 "nbformat": 4,
 "nbformat_minor": 4
}
