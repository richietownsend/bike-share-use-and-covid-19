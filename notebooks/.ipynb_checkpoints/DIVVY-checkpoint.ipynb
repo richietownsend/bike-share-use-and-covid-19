{
 "cells": [
  {
   "cell_type": "code",
   "execution_count": 1,
   "metadata": {},
   "outputs": [],
   "source": [
    "import pandas as pd\n",
    "import seaborn as sns\n",
    "import matplotlib.pyplot as plt\n",
    "import numpy as np\n",
    "import datetime as dt\n",
    "import re\n",
    "\n",
    "%matplotlib inline\n",
    "# pd.set_option('display.max_columns', None)\n",
    "# pd.set_option('display.max_rows', None)"
   ]
  },
  {
   "cell_type": "markdown",
   "metadata": {},
   "source": [
    "Load CSV files"
   ]
  },
  {
   "cell_type": "code",
   "execution_count": 2,
   "metadata": {},
   "outputs": [],
   "source": [
    "divvyQ119 = pd.read_csv('../data/Chicago_Divvy/Divvy_Trips_2019_Q1.csv')\n",
    "divvyQ219 = pd.read_csv('../data/Chicago_Divvy/Divvy_Trips_2019_Q2.csv')\n",
    "divvyQ319 = pd.read_csv('../data/Chicago_Divvy/Divvy_Trips_2019_Q3.csv')\n",
    "divvyQ419 = pd.read_csv('../data/Chicago_Divvy/Divvy_Trips_2019_Q4.csv')\n",
    "divvyQ120 = pd.read_csv('../data/Chicago_Divvy/Divvy_Trips_2020_Q1.csv')\n",
    "divvy0420 = pd.read_csv('../data/Chicago_Divvy/202004-divvy-tripdata.csv')\n",
    "divvy0520 = pd.read_csv('../data/Chicago_Divvy/202005-divvy-tripdata.csv')\n",
    "divvy0620 = pd.read_csv('../data/Chicago_Divvy/202006-divvy-tripdata.csv')\n",
    "divvy0720 = pd.read_csv('../data/Chicago_Divvy/202007-divvy-tripdata.csv')\n",
    "divvy0820 = pd.read_csv('../data/Chicago_Divvy/202008-divvy-tripdata.csv')\n",
    "divvy0920 = pd.read_csv('../data/Chicago_Divvy/202009-divvy-tripdata.csv')\n",
    "divvy1020 = pd.read_csv('../data/Chicago_Divvy/202010-divvy-tripdata.csv')\n",
    "divvy1120 = pd.read_csv('../data/Chicago_Divvy/202011-divvy-tripdata.csv')\n",
    "divvy1220 = pd.read_csv('../data/Chicago_Divvy/202012-divvy-tripdata.csv')\n",
    "divvy0121 = pd.read_csv('../data/Chicago_Divvy/202101-divvy-tripdata.csv')\n",
    "divvy0221 = pd.read_csv('../data/Chicago_Divvy/202102-divvy-tripdata.csv')\n",
    "divvy0321 = pd.read_csv('../data/Chicago_Divvy/202103-divvy-tripdata.csv')\n",
    "divvy0421 = pd.read_csv('../data/Chicago_Divvy/202104-divvy-tripdata.csv')"
   ]
  },
  {
   "cell_type": "markdown",
   "metadata": {},
   "source": [
    "Choose Only Necessary Columns"
   ]
  },
  {
   "cell_type": "code",
   "execution_count": 3,
   "metadata": {},
   "outputs": [
    {
     "data": {
      "text/html": [
       "<div>\n",
       "<style scoped>\n",
       "    .dataframe tbody tr th:only-of-type {\n",
       "        vertical-align: middle;\n",
       "    }\n",
       "\n",
       "    .dataframe tbody tr th {\n",
       "        vertical-align: top;\n",
       "    }\n",
       "\n",
       "    .dataframe thead th {\n",
       "        text-align: right;\n",
       "    }\n",
       "</style>\n",
       "<table border=\"1\" class=\"dataframe\">\n",
       "  <thead>\n",
       "    <tr style=\"text-align: right;\">\n",
       "      <th></th>\n",
       "      <th>ride_id</th>\n",
       "      <th>rideable_type</th>\n",
       "      <th>started_at</th>\n",
       "      <th>ended_at</th>\n",
       "      <th>start_station_name</th>\n",
       "      <th>start_station_id</th>\n",
       "      <th>end_station_name</th>\n",
       "      <th>end_station_id</th>\n",
       "      <th>start_lat</th>\n",
       "      <th>start_lng</th>\n",
       "      <th>end_lat</th>\n",
       "      <th>end_lng</th>\n",
       "      <th>member_casual</th>\n",
       "    </tr>\n",
       "  </thead>\n",
       "  <tbody>\n",
       "    <tr>\n",
       "      <th>0</th>\n",
       "      <td>A847FADBBC638E45</td>\n",
       "      <td>docked_bike</td>\n",
       "      <td>2020-04-26 17:45:14</td>\n",
       "      <td>2020-04-26 18:12:03</td>\n",
       "      <td>Eckhart Park</td>\n",
       "      <td>86</td>\n",
       "      <td>Lincoln Ave &amp; Diversey Pkwy</td>\n",
       "      <td>152.0</td>\n",
       "      <td>41.8964</td>\n",
       "      <td>-87.6610</td>\n",
       "      <td>41.9322</td>\n",
       "      <td>-87.6586</td>\n",
       "      <td>member</td>\n",
       "    </tr>\n",
       "    <tr>\n",
       "      <th>1</th>\n",
       "      <td>5405B80E996FF60D</td>\n",
       "      <td>docked_bike</td>\n",
       "      <td>2020-04-17 17:08:54</td>\n",
       "      <td>2020-04-17 17:17:03</td>\n",
       "      <td>Drake Ave &amp; Fullerton Ave</td>\n",
       "      <td>503</td>\n",
       "      <td>Kosciuszko Park</td>\n",
       "      <td>499.0</td>\n",
       "      <td>41.9244</td>\n",
       "      <td>-87.7154</td>\n",
       "      <td>41.9306</td>\n",
       "      <td>-87.7238</td>\n",
       "      <td>member</td>\n",
       "    </tr>\n",
       "    <tr>\n",
       "      <th>2</th>\n",
       "      <td>5DD24A79A4E006F4</td>\n",
       "      <td>docked_bike</td>\n",
       "      <td>2020-04-01 17:54:13</td>\n",
       "      <td>2020-04-01 18:08:36</td>\n",
       "      <td>McClurg Ct &amp; Erie St</td>\n",
       "      <td>142</td>\n",
       "      <td>Indiana Ave &amp; Roosevelt Rd</td>\n",
       "      <td>255.0</td>\n",
       "      <td>41.8945</td>\n",
       "      <td>-87.6179</td>\n",
       "      <td>41.8679</td>\n",
       "      <td>-87.6230</td>\n",
       "      <td>member</td>\n",
       "    </tr>\n",
       "    <tr>\n",
       "      <th>3</th>\n",
       "      <td>2A59BBDF5CDBA725</td>\n",
       "      <td>docked_bike</td>\n",
       "      <td>2020-04-07 12:50:19</td>\n",
       "      <td>2020-04-07 13:02:31</td>\n",
       "      <td>California Ave &amp; Division St</td>\n",
       "      <td>216</td>\n",
       "      <td>Wood St &amp; Augusta Blvd</td>\n",
       "      <td>657.0</td>\n",
       "      <td>41.9030</td>\n",
       "      <td>-87.6975</td>\n",
       "      <td>41.8992</td>\n",
       "      <td>-87.6722</td>\n",
       "      <td>member</td>\n",
       "    </tr>\n",
       "    <tr>\n",
       "      <th>4</th>\n",
       "      <td>27AD306C119C6158</td>\n",
       "      <td>docked_bike</td>\n",
       "      <td>2020-04-18 10:22:59</td>\n",
       "      <td>2020-04-18 11:15:54</td>\n",
       "      <td>Rush St &amp; Hubbard St</td>\n",
       "      <td>125</td>\n",
       "      <td>Sheridan Rd &amp; Lawrence Ave</td>\n",
       "      <td>323.0</td>\n",
       "      <td>41.8902</td>\n",
       "      <td>-87.6262</td>\n",
       "      <td>41.9695</td>\n",
       "      <td>-87.6547</td>\n",
       "      <td>casual</td>\n",
       "    </tr>\n",
       "  </tbody>\n",
       "</table>\n",
       "</div>"
      ],
      "text/plain": [
       "            ride_id rideable_type           started_at             ended_at  \\\n",
       "0  A847FADBBC638E45   docked_bike  2020-04-26 17:45:14  2020-04-26 18:12:03   \n",
       "1  5405B80E996FF60D   docked_bike  2020-04-17 17:08:54  2020-04-17 17:17:03   \n",
       "2  5DD24A79A4E006F4   docked_bike  2020-04-01 17:54:13  2020-04-01 18:08:36   \n",
       "3  2A59BBDF5CDBA725   docked_bike  2020-04-07 12:50:19  2020-04-07 13:02:31   \n",
       "4  27AD306C119C6158   docked_bike  2020-04-18 10:22:59  2020-04-18 11:15:54   \n",
       "\n",
       "             start_station_name  start_station_id  \\\n",
       "0                  Eckhart Park                86   \n",
       "1     Drake Ave & Fullerton Ave               503   \n",
       "2          McClurg Ct & Erie St               142   \n",
       "3  California Ave & Division St               216   \n",
       "4          Rush St & Hubbard St               125   \n",
       "\n",
       "              end_station_name  end_station_id  start_lat  start_lng  end_lat  \\\n",
       "0  Lincoln Ave & Diversey Pkwy           152.0    41.8964   -87.6610  41.9322   \n",
       "1              Kosciuszko Park           499.0    41.9244   -87.7154  41.9306   \n",
       "2   Indiana Ave & Roosevelt Rd           255.0    41.8945   -87.6179  41.8679   \n",
       "3       Wood St & Augusta Blvd           657.0    41.9030   -87.6975  41.8992   \n",
       "4   Sheridan Rd & Lawrence Ave           323.0    41.8902   -87.6262  41.9695   \n",
       "\n",
       "   end_lng member_casual  \n",
       "0 -87.6586        member  \n",
       "1 -87.7238        member  \n",
       "2 -87.6230        member  \n",
       "3 -87.6722        member  \n",
       "4 -87.6547        casual  "
      ]
     },
     "execution_count": 3,
     "metadata": {},
     "output_type": "execute_result"
    }
   ],
   "source": [
    "divvy0420.head()"
   ]
  },
  {
   "cell_type": "code",
   "execution_count": 4,
   "metadata": {},
   "outputs": [],
   "source": [
    "divvyQ119 = divvyQ119[['trip_id', 'start_time', 'end_time', 'from_station_id', 'to_station_id']]\n",
    "divvyQ219 = divvyQ219[['01 - Rental Details Rental ID', '01 - Rental Details Local Start Time', '01 - Rental Details Local End Time', '03 - Rental Start Station ID', '02 - Rental End Station ID']]\n",
    "divvyQ319 = divvyQ319[['trip_id', 'start_time', 'end_time', 'from_station_id', 'to_station_id']]\n",
    "divvyQ419 = divvyQ419[['trip_id', 'start_time', 'end_time', 'from_station_id', 'to_station_id']]\n",
    "divvyQ120 = divvyQ120[['ride_id', 'started_at', 'ended_at', 'start_station_id', 'end_station_id']]\n",
    "divvy0420 = divvy0420[['ride_id', 'started_at', 'ended_at', 'start_station_id', 'end_station_id']]\n",
    "divvy0520 = divvy0520[['ride_id', 'started_at', 'ended_at', 'start_station_id', 'end_station_id']]\n",
    "divvy0520 = divvy0520[['ride_id', 'started_at', 'ended_at', 'start_station_id', 'end_station_id']]\n",
    "divvy0620 = divvy0620[['ride_id', 'started_at', 'ended_at', 'start_station_id', 'end_station_id']]\n",
    "divvy0720 = divvy0720[['ride_id', 'started_at', 'ended_at', 'start_station_id', 'end_station_id']]\n",
    "divvy0820 = divvy0820[['ride_id', 'started_at', 'ended_at', 'start_station_id', 'end_station_id']]\n",
    "divvy0920 = divvy0920[['ride_id', 'started_at', 'ended_at', 'start_station_id', 'end_station_id']]\n",
    "divvy1020 = divvy1020[['ride_id', 'started_at', 'ended_at', 'start_station_id', 'end_station_id']]\n",
    "divvy1120 = divvy1120[['ride_id', 'started_at', 'ended_at', 'start_station_id', 'end_station_id']]\n",
    "divvy1220 = divvy1220[['ride_id', 'started_at', 'ended_at', 'start_station_id', 'end_station_id']]\n",
    "divvy0121 = divvy0121[['ride_id', 'started_at', 'ended_at', 'start_station_id', 'end_station_id']]\n",
    "divvy0221 = divvy0221[['ride_id', 'started_at', 'ended_at', 'start_station_id', 'end_station_id']]\n",
    "divvy0321 = divvy0321[['ride_id', 'started_at', 'ended_at', 'start_station_id', 'end_station_id']]\n",
    "divvy0421 = divvy0421[['ride_id', 'started_at', 'ended_at', 'start_station_id', 'end_station_id']]"
   ]
  },
  {
   "cell_type": "markdown",
   "metadata": {},
   "source": [
    "Change Date Time"
   ]
  },
  {
   "cell_type": "code",
   "execution_count": 5,
   "metadata": {},
   "outputs": [],
   "source": [
    "# def change_dt(df, start_col, end_col):\n",
    "#     df[start_col] = pd.to_datetime(df[start_col], format='%Y-%m-%d')\n",
    "#     df[end_col] = pd.to_datetime(df[end_col], format='%Y-%m-%d')\n",
    "#     return df"
   ]
  },
  {
   "cell_type": "code",
   "execution_count": 6,
   "metadata": {},
   "outputs": [],
   "source": [
    "# change_dt(divvyQ120, 'started_at', 'ended_at')"
   ]
  },
  {
   "cell_type": "code",
   "execution_count": 7,
   "metadata": {},
   "outputs": [],
   "source": [
    "divvyQ119['start_time'] = pd.to_datetime(divvyQ119['start_time'], format='%Y-%m-%d')\n",
    "divvyQ119['end_time'] = pd.to_datetime(divvyQ119['end_time'], format='%Y-%m-%d')\n",
    "\n",
    "divvyQ219['01 - Rental Details Local Start Time'] = pd.to_datetime(divvyQ219['01 - Rental Details Local Start Time'], format='%Y-%m-%d')\n",
    "divvyQ219['01 - Rental Details Local End Time'] = pd.to_datetime(divvyQ219['01 - Rental Details Local End Time'], format='%Y-%m-%d')\n",
    "\n",
    "divvyQ319['start_time'] = pd.to_datetime(divvyQ319['start_time'], format='%Y-%m-%d')\n",
    "divvyQ319['end_time'] = pd.to_datetime(divvyQ319['end_time'], format='%Y-%m-%d')\n",
    "\n",
    "divvyQ419['start_time'] = pd.to_datetime(divvyQ419['start_time'], format='%Y-%m-%d')\n",
    "divvyQ419['end_time'] = pd.to_datetime(divvyQ419['end_time'], format='%Y-%m-%d')\n",
    "\n",
    "divvyQ120['started_at'] = pd.to_datetime(divvyQ120['started_at'], format='%Y-%m-%d')\n",
    "divvyQ120['ended_at'] = pd.to_datetime(divvyQ120['ended_at'], format='%Y-%m-%d')\n",
    "\n",
    "divvy0420['started_at'] = pd.to_datetime(divvy0420['started_at'], format='%Y-%m-%d')\n",
    "divvy0420['ended_at'] = pd.to_datetime(divvy0420['ended_at'], format='%Y-%m-%d')\n",
    "\n",
    "divvy0520['started_at'] = pd.to_datetime(divvy0520['started_at'], format='%Y-%m-%d')\n",
    "divvy0520['ended_at'] = pd.to_datetime(divvy0520['ended_at'], format='%Y-%m-%d')\n",
    "\n",
    "divvy0620['started_at'] = pd.to_datetime(divvy0620['started_at'], format='%Y-%m-%d')\n",
    "divvy0620['ended_at'] = pd.to_datetime(divvy0620['ended_at'], format='%Y-%m-%d')\n",
    "\n",
    "divvy0720['started_at'] = pd.to_datetime(divvy0720['started_at'], format='%Y-%m-%d')\n",
    "divvy0720['ended_at'] = pd.to_datetime(divvy0720['ended_at'], format='%Y-%m-%d')\n",
    "\n",
    "divvy0820['started_at'] = pd.to_datetime(divvy0820['started_at'], format='%Y-%m-%d')\n",
    "divvy0820['ended_at'] = pd.to_datetime(divvy0820['ended_at'], format='%Y-%m-%d')\n",
    "\n",
    "divvy0920['started_at'] = pd.to_datetime(divvy0920['started_at'], format='%Y-%m-%d')\n",
    "divvy0920['ended_at'] = pd.to_datetime(divvy0920['ended_at'], format='%Y-%m-%d')\n",
    "\n",
    "divvy1020['started_at'] = pd.to_datetime(divvy1020['started_at'], format='%Y-%m-%d')\n",
    "divvy1020['ended_at'] = pd.to_datetime(divvy1020['ended_at'], format='%Y-%m-%d')\n",
    "\n",
    "divvy1120['started_at'] = pd.to_datetime(divvy1120['started_at'], format='%Y-%m-%d')\n",
    "divvy1120['ended_at'] = pd.to_datetime(divvy1120['ended_at'], format='%Y-%m-%d')\n",
    "\n",
    "divvy1220['started_at'] = pd.to_datetime(divvy1220['started_at'], format='%Y-%m-%d')\n",
    "divvy1220['ended_at'] = pd.to_datetime(divvy1220['ended_at'], format='%Y-%m-%d')\n",
    "\n",
    "divvy0121['started_at'] = pd.to_datetime(divvy0121['started_at'], format='%Y-%m-%d')\n",
    "divvy0121['ended_at'] = pd.to_datetime(divvy0121['ended_at'], format='%Y-%m-%d')\n",
    "\n",
    "divvy0221['started_at'] = pd.to_datetime(divvy0221['started_at'], format='%Y-%m-%d')\n",
    "divvy0221['ended_at'] = pd.to_datetime(divvy0221['ended_at'], format='%Y-%m-%d')\n",
    "\n",
    "divvy0321['started_at'] = pd.to_datetime(divvy0321['started_at'], format='%Y-%m-%d')\n",
    "divvy0321['ended_at'] = pd.to_datetime(divvy0321['ended_at'], format='%Y-%m-%d')\n",
    "\n",
    "divvy0421['started_at'] = pd.to_datetime(divvy0421['started_at'], format='%Y-%m-%d')\n",
    "divvy0421['ended_at'] = pd.to_datetime(divvy0421['ended_at'], format='%Y-%m-%d')"
   ]
  },
  {
   "cell_type": "markdown",
   "metadata": {},
   "source": [
    "Rename Columns for Merge"
   ]
  },
  {
   "cell_type": "code",
   "execution_count": 8,
   "metadata": {},
   "outputs": [],
   "source": [
    "divvyQ119.rename(columns={'trip_id':'ride_id', 'start_time': 'started_at', 'end_time':'ended_at', 'from_station_id':'start_station_id', 'to_station_id':'end_station_id'}, inplace=True)\n",
    "divvyQ219.rename(columns={'01 - Rental Details Rental ID':'ride_id', '01 - Rental Details Local Start Time': 'started_at', '01 - Rental Details Local End Time':'ended_at', '03 - Rental Start Station ID':'start_station_id', '02 - Rental End Station ID':'end_station_id'}, inplace=True)\n",
    "divvyQ319.rename(columns={'trip_id':'ride_id', 'start_time': 'started_at', 'end_time':'ended_at', 'from_station_id':'start_station_id', 'to_station_id':'end_station_id'}, inplace=True)\n",
    "divvyQ419.rename(columns={'trip_id':'ride_id', 'start_time': 'started_at', 'end_time':'ended_at', 'from_station_id':'start_station_id', 'to_station_id':'end_station_id'}, inplace=True)"
   ]
  },
  {
   "cell_type": "code",
   "execution_count": 9,
   "metadata": {},
   "outputs": [
    {
     "data": {
      "text/html": [
       "<div>\n",
       "<style scoped>\n",
       "    .dataframe tbody tr th:only-of-type {\n",
       "        vertical-align: middle;\n",
       "    }\n",
       "\n",
       "    .dataframe tbody tr th {\n",
       "        vertical-align: top;\n",
       "    }\n",
       "\n",
       "    .dataframe thead th {\n",
       "        text-align: right;\n",
       "    }\n",
       "</style>\n",
       "<table border=\"1\" class=\"dataframe\">\n",
       "  <thead>\n",
       "    <tr style=\"text-align: right;\">\n",
       "      <th></th>\n",
       "      <th>ride_id</th>\n",
       "      <th>started_at</th>\n",
       "      <th>ended_at</th>\n",
       "      <th>start_station_id</th>\n",
       "      <th>end_station_id</th>\n",
       "    </tr>\n",
       "  </thead>\n",
       "  <tbody>\n",
       "    <tr>\n",
       "      <th>0</th>\n",
       "      <td>22178529</td>\n",
       "      <td>2019-04-01 00:02:22</td>\n",
       "      <td>2019-04-01 00:09:48</td>\n",
       "      <td>81</td>\n",
       "      <td>56</td>\n",
       "    </tr>\n",
       "    <tr>\n",
       "      <th>1</th>\n",
       "      <td>22178530</td>\n",
       "      <td>2019-04-01 00:03:02</td>\n",
       "      <td>2019-04-01 00:20:30</td>\n",
       "      <td>317</td>\n",
       "      <td>59</td>\n",
       "    </tr>\n",
       "    <tr>\n",
       "      <th>2</th>\n",
       "      <td>22178531</td>\n",
       "      <td>2019-04-01 00:11:07</td>\n",
       "      <td>2019-04-01 00:15:19</td>\n",
       "      <td>283</td>\n",
       "      <td>174</td>\n",
       "    </tr>\n",
       "    <tr>\n",
       "      <th>3</th>\n",
       "      <td>22178532</td>\n",
       "      <td>2019-04-01 00:13:01</td>\n",
       "      <td>2019-04-01 00:18:58</td>\n",
       "      <td>26</td>\n",
       "      <td>133</td>\n",
       "    </tr>\n",
       "    <tr>\n",
       "      <th>4</th>\n",
       "      <td>22178533</td>\n",
       "      <td>2019-04-01 00:19:26</td>\n",
       "      <td>2019-04-01 00:36:13</td>\n",
       "      <td>202</td>\n",
       "      <td>129</td>\n",
       "    </tr>\n",
       "  </tbody>\n",
       "</table>\n",
       "</div>"
      ],
      "text/plain": [
       "    ride_id          started_at            ended_at  start_station_id  \\\n",
       "0  22178529 2019-04-01 00:02:22 2019-04-01 00:09:48                81   \n",
       "1  22178530 2019-04-01 00:03:02 2019-04-01 00:20:30               317   \n",
       "2  22178531 2019-04-01 00:11:07 2019-04-01 00:15:19               283   \n",
       "3  22178532 2019-04-01 00:13:01 2019-04-01 00:18:58                26   \n",
       "4  22178533 2019-04-01 00:19:26 2019-04-01 00:36:13               202   \n",
       "\n",
       "   end_station_id  \n",
       "0              56  \n",
       "1              59  \n",
       "2             174  \n",
       "3             133  \n",
       "4             129  "
      ]
     },
     "execution_count": 9,
     "metadata": {},
     "output_type": "execute_result"
    }
   ],
   "source": [
    "divvyQ219.head()"
   ]
  },
  {
   "cell_type": "markdown",
   "metadata": {},
   "source": [
    "Concatenate All DFs"
   ]
  },
  {
   "cell_type": "code",
   "execution_count": 10,
   "metadata": {},
   "outputs": [],
   "source": [
    "all_divvy = pd.concat([divvyQ119, divvyQ219, divvyQ319, divvyQ419, divvyQ120, divvy0420, divvy0520, divvy0620, divvy0720, divvy0820, divvy0920, divvy1020, divvy1120, divvy1220, divvy0121, divvy0221, divvy0321, divvy0421])"
   ]
  },
  {
   "cell_type": "code",
   "execution_count": 11,
   "metadata": {},
   "outputs": [
    {
     "data": {
      "text/html": [
       "<div>\n",
       "<style scoped>\n",
       "    .dataframe tbody tr th:only-of-type {\n",
       "        vertical-align: middle;\n",
       "    }\n",
       "\n",
       "    .dataframe tbody tr th {\n",
       "        vertical-align: top;\n",
       "    }\n",
       "\n",
       "    .dataframe thead th {\n",
       "        text-align: right;\n",
       "    }\n",
       "</style>\n",
       "<table border=\"1\" class=\"dataframe\">\n",
       "  <thead>\n",
       "    <tr style=\"text-align: right;\">\n",
       "      <th></th>\n",
       "      <th>ride_id</th>\n",
       "      <th>started_at</th>\n",
       "      <th>ended_at</th>\n",
       "      <th>start_station_id</th>\n",
       "      <th>end_station_id</th>\n",
       "    </tr>\n",
       "  </thead>\n",
       "  <tbody>\n",
       "    <tr>\n",
       "      <th>0</th>\n",
       "      <td>21742443</td>\n",
       "      <td>2019-01-01 00:04:37</td>\n",
       "      <td>2019-01-01 00:11:07</td>\n",
       "      <td>199</td>\n",
       "      <td>84</td>\n",
       "    </tr>\n",
       "    <tr>\n",
       "      <th>1</th>\n",
       "      <td>21742444</td>\n",
       "      <td>2019-01-01 00:08:13</td>\n",
       "      <td>2019-01-01 00:15:34</td>\n",
       "      <td>44</td>\n",
       "      <td>624</td>\n",
       "    </tr>\n",
       "    <tr>\n",
       "      <th>2</th>\n",
       "      <td>21742445</td>\n",
       "      <td>2019-01-01 00:13:23</td>\n",
       "      <td>2019-01-01 00:27:12</td>\n",
       "      <td>15</td>\n",
       "      <td>644</td>\n",
       "    </tr>\n",
       "    <tr>\n",
       "      <th>3</th>\n",
       "      <td>21742446</td>\n",
       "      <td>2019-01-01 00:13:45</td>\n",
       "      <td>2019-01-01 00:43:28</td>\n",
       "      <td>123</td>\n",
       "      <td>176</td>\n",
       "    </tr>\n",
       "    <tr>\n",
       "      <th>4</th>\n",
       "      <td>21742447</td>\n",
       "      <td>2019-01-01 00:14:52</td>\n",
       "      <td>2019-01-01 00:20:56</td>\n",
       "      <td>173</td>\n",
       "      <td>35</td>\n",
       "    </tr>\n",
       "  </tbody>\n",
       "</table>\n",
       "</div>"
      ],
      "text/plain": [
       "    ride_id          started_at            ended_at start_station_id  \\\n",
       "0  21742443 2019-01-01 00:04:37 2019-01-01 00:11:07              199   \n",
       "1  21742444 2019-01-01 00:08:13 2019-01-01 00:15:34               44   \n",
       "2  21742445 2019-01-01 00:13:23 2019-01-01 00:27:12               15   \n",
       "3  21742446 2019-01-01 00:13:45 2019-01-01 00:43:28              123   \n",
       "4  21742447 2019-01-01 00:14:52 2019-01-01 00:20:56              173   \n",
       "\n",
       "  end_station_id  \n",
       "0             84  \n",
       "1            624  \n",
       "2            644  \n",
       "3            176  \n",
       "4             35  "
      ]
     },
     "execution_count": 11,
     "metadata": {},
     "output_type": "execute_result"
    }
   ],
   "source": [
    "all_divvy.head()"
   ]
  },
  {
   "cell_type": "markdown",
   "metadata": {},
   "source": [
    "Create Duration Column"
   ]
  },
  {
   "cell_type": "code",
   "execution_count": 12,
   "metadata": {},
   "outputs": [],
   "source": [
    "all_divvy['duration'] = all_divvy['ended_at'] - all_divvy['started_at']"
   ]
  },
  {
   "cell_type": "code",
   "execution_count": 13,
   "metadata": {},
   "outputs": [
    {
     "name": "stdout",
     "output_type": "stream",
     "text": [
      "<class 'pandas.core.frame.DataFrame'>\n",
      "Int64Index: 8071869 entries, 0 to 337229\n",
      "Data columns (total 6 columns):\n",
      " #   Column            Dtype          \n",
      "---  ------            -----          \n",
      " 0   ride_id           object         \n",
      " 1   started_at        datetime64[ns] \n",
      " 2   ended_at          datetime64[ns] \n",
      " 3   start_station_id  object         \n",
      " 4   end_station_id    object         \n",
      " 5   duration          timedelta64[ns]\n",
      "dtypes: datetime64[ns](2), object(3), timedelta64[ns](1)\n",
      "memory usage: 431.1+ MB\n"
     ]
    }
   ],
   "source": [
    "all_divvy.info()"
   ]
  },
  {
   "cell_type": "markdown",
   "metadata": {},
   "source": [
    "Filter Out Data"
   ]
  },
  {
   "cell_type": "code",
   "execution_count": 14,
   "metadata": {},
   "outputs": [],
   "source": [
    "all_divvy = all_divvy.dropna(subset=['start_station_id'])\n",
    "all_divvy = all_divvy.dropna(subset=['end_station_id'])\n",
    "all_divvy = all_divvy[~((all_divvy['start_station_id'] == all_divvy['end_station_id']) & (all_divvy['duration'] < '00:05:00'))]"
   ]
  },
  {
   "cell_type": "markdown",
   "metadata": {},
   "source": [
    "Create Date Column"
   ]
  },
  {
   "cell_type": "code",
   "execution_count": 15,
   "metadata": {},
   "outputs": [],
   "source": [
    "all_divvy['start_date'] = all_divvy['started_at'].dt.date"
   ]
  },
  {
   "cell_type": "code",
   "execution_count": 16,
   "metadata": {},
   "outputs": [],
   "source": [
    "divvy_by_date = all_divvy.groupby('start_date').agg({'ride_id': 'count'}).reset_index()\n",
    "divvy_by_date['start_date'] = pd.to_datetime(divvy_by_date['start_date'], format='%Y-%m-%d')\n",
    "divvy_by_date.rename(columns={'start_date': 'ride_date', 'ride_id':'ride_count'}, inplace=True)\n",
    "\n",
    "# divvy_by_date_1 = all_divvy.groupby(['start_date'])['ride_id'].count()\n",
    "# divvy_by_date_1 = pd.DataFrame(divvy_by_date_1).reset_index()\n",
    "# divvy_by_date_1['start_date'] = pd.to_datetime(divvy_by_date_1['start_date'], format='%Y-%m-%d')\n",
    "# divvy_by_date_1.columns=[['ride_date', 'ride_count']]"
   ]
  },
  {
   "cell_type": "code",
   "execution_count": 17,
   "metadata": {},
   "outputs": [
    {
     "name": "stdout",
     "output_type": "stream",
     "text": [
      "<class 'pandas.core.frame.DataFrame'>\n",
      "RangeIndex: 849 entries, 0 to 848\n",
      "Data columns (total 2 columns):\n",
      " #   Column      Non-Null Count  Dtype         \n",
      "---  ------      --------------  -----         \n",
      " 0   ride_date   849 non-null    datetime64[ns]\n",
      " 1   ride_count  849 non-null    int64         \n",
      "dtypes: datetime64[ns](1), int64(1)\n",
      "memory usage: 13.4 KB\n"
     ]
    }
   ],
   "source": [
    "divvy_by_date.info()"
   ]
  },
  {
   "cell_type": "code",
   "execution_count": 18,
   "metadata": {},
   "outputs": [],
   "source": [
    "divvy_by_date['month'] = divvy_by_date['ride_date'].dt.month\n",
    "divvy_by_date['year'] = divvy_by_date['ride_date'].dt.year\n",
    "divvy_by_date['m_y'] = divvy_by_date['month'].apply(str) + \"-\" + divvy_by_date['year'].apply(str) "
   ]
  },
  {
   "cell_type": "code",
   "execution_count": 19,
   "metadata": {},
   "outputs": [
    {
     "data": {
      "image/png": "[encoded data removed]",
      "text/plain": [
       "<Figure size 432x288 with 1 Axes>"
      ]
     },
     "metadata": {
      "needs_background": "light"
     },
     "output_type": "display_data"
    }
   ],
   "source": [
    "plt.barh('m_y', 'ride_count', data=divvy_by_date)\n",
    "plt.tight_layout()"
   ]
  },
  {
   "cell_type": "code",
   "execution_count": 20,
   "metadata": {},
   "outputs": [],
   "source": [
    "divvy_by_date.to_csv('divvy_by_date.csv')"
   ]
  },
  {
   "cell_type": "code",
   "execution_count": 36,
   "metadata": {},
   "outputs": [
    {
     "data": {
      "text/html": [
       "<div>\n",
       "<style scoped>\n",
       "    .dataframe tbody tr th:only-of-type {\n",
       "        vertical-align: middle;\n",
       "    }\n",
       "\n",
       "    .dataframe tbody tr th {\n",
       "        vertical-align: top;\n",
       "    }\n",
       "\n",
       "    .dataframe thead th {\n",
       "        text-align: right;\n",
       "    }\n",
       "</style>\n",
       "<table border=\"1\" class=\"dataframe\">\n",
       "  <thead>\n",
       "    <tr style=\"text-align: right;\">\n",
       "      <th></th>\n",
       "      <th>ride_date</th>\n",
       "      <th>ride_count</th>\n",
       "      <th>month</th>\n",
       "      <th>year</th>\n",
       "      <th>m_y</th>\n",
       "      <th>weekday</th>\n",
       "      <th>day_of_week</th>\n",
       "      <th>day_type</th>\n",
       "    </tr>\n",
       "  </thead>\n",
       "  <tbody>\n",
       "    <tr>\n",
       "      <th>0</th>\n",
       "      <td>2019-01-01</td>\n",
       "      <td>1298</td>\n",
       "      <td>1</td>\n",
       "      <td>2019</td>\n",
       "      <td>1-2019</td>\n",
       "      <td>1</td>\n",
       "      <td>1</td>\n",
       "      <td>weekday</td>\n",
       "    </tr>\n",
       "    <tr>\n",
       "      <th>1</th>\n",
       "      <td>2019-01-02</td>\n",
       "      <td>4158</td>\n",
       "      <td>1</td>\n",
       "      <td>2019</td>\n",
       "      <td>1-2019</td>\n",
       "      <td>2</td>\n",
       "      <td>2</td>\n",
       "      <td>weekday</td>\n",
       "    </tr>\n",
       "    <tr>\n",
       "      <th>2</th>\n",
       "      <td>2019-01-03</td>\n",
       "      <td>5605</td>\n",
       "      <td>1</td>\n",
       "      <td>2019</td>\n",
       "      <td>1-2019</td>\n",
       "      <td>3</td>\n",
       "      <td>3</td>\n",
       "      <td>weekday</td>\n",
       "    </tr>\n",
       "    <tr>\n",
       "      <th>3</th>\n",
       "      <td>2019-01-04</td>\n",
       "      <td>6771</td>\n",
       "      <td>1</td>\n",
       "      <td>2019</td>\n",
       "      <td>1-2019</td>\n",
       "      <td>4</td>\n",
       "      <td>4</td>\n",
       "      <td>weekday</td>\n",
       "    </tr>\n",
       "    <tr>\n",
       "      <th>4</th>\n",
       "      <td>2019-01-05</td>\n",
       "      <td>6145</td>\n",
       "      <td>1</td>\n",
       "      <td>2019</td>\n",
       "      <td>1-2019</td>\n",
       "      <td>5</td>\n",
       "      <td>5</td>\n",
       "      <td>weekend</td>\n",
       "    </tr>\n",
       "    <tr>\n",
       "      <th>...</th>\n",
       "      <td>...</td>\n",
       "      <td>...</td>\n",
       "      <td>...</td>\n",
       "      <td>...</td>\n",
       "      <td>...</td>\n",
       "      <td>...</td>\n",
       "      <td>...</td>\n",
       "      <td>...</td>\n",
       "    </tr>\n",
       "    <tr>\n",
       "      <th>844</th>\n",
       "      <td>2021-04-26</td>\n",
       "      <td>12488</td>\n",
       "      <td>4</td>\n",
       "      <td>2021</td>\n",
       "      <td>4-2021</td>\n",
       "      <td>0</td>\n",
       "      <td>0</td>\n",
       "      <td>weekday</td>\n",
       "    </tr>\n",
       "    <tr>\n",
       "      <th>845</th>\n",
       "      <td>2021-04-27</td>\n",
       "      <td>15867</td>\n",
       "      <td>4</td>\n",
       "      <td>2021</td>\n",
       "      <td>4-2021</td>\n",
       "      <td>1</td>\n",
       "      <td>1</td>\n",
       "      <td>weekday</td>\n",
       "    </tr>\n",
       "    <tr>\n",
       "      <th>846</th>\n",
       "      <td>2021-04-28</td>\n",
       "      <td>5697</td>\n",
       "      <td>4</td>\n",
       "      <td>2021</td>\n",
       "      <td>4-2021</td>\n",
       "      <td>2</td>\n",
       "      <td>2</td>\n",
       "      <td>weekday</td>\n",
       "    </tr>\n",
       "    <tr>\n",
       "      <th>847</th>\n",
       "      <td>2021-04-29</td>\n",
       "      <td>8297</td>\n",
       "      <td>4</td>\n",
       "      <td>2021</td>\n",
       "      <td>4-2021</td>\n",
       "      <td>3</td>\n",
       "      <td>3</td>\n",
       "      <td>weekday</td>\n",
       "    </tr>\n",
       "    <tr>\n",
       "      <th>848</th>\n",
       "      <td>2021-04-30</td>\n",
       "      <td>10399</td>\n",
       "      <td>4</td>\n",
       "      <td>2021</td>\n",
       "      <td>4-2021</td>\n",
       "      <td>4</td>\n",
       "      <td>4</td>\n",
       "      <td>weekday</td>\n",
       "    </tr>\n",
       "  </tbody>\n",
       "</table>\n",
       "<p>849 rows × 8 columns</p>\n",
       "</div>"
      ],
      "text/plain": [
       "     ride_date  ride_count  month  year     m_y  weekday  day_of_week day_type\n",
       "0   2019-01-01        1298      1  2019  1-2019        1            1  weekday\n",
       "1   2019-01-02        4158      1  2019  1-2019        2            2  weekday\n",
       "2   2019-01-03        5605      1  2019  1-2019        3            3  weekday\n",
       "3   2019-01-04        6771      1  2019  1-2019        4            4  weekday\n",
       "4   2019-01-05        6145      1  2019  1-2019        5            5  weekend\n",
       "..         ...         ...    ...   ...     ...      ...          ...      ...\n",
       "844 2021-04-26       12488      4  2021  4-2021        0            0  weekday\n",
       "845 2021-04-27       15867      4  2021  4-2021        1            1  weekday\n",
       "846 2021-04-28        5697      4  2021  4-2021        2            2  weekday\n",
       "847 2021-04-29        8297      4  2021  4-2021        3            3  weekday\n",
       "848 2021-04-30       10399      4  2021  4-2021        4            4  weekday\n",
       "\n",
       "[849 rows x 8 columns]"
      ]
     },
     "execution_count": 36,
     "metadata": {},
     "output_type": "execute_result"
    }
   ],
   "source": [
    "divvy_by_date"
   ]
  },
  {
   "cell_type": "markdown",
   "metadata": {},
   "source": [
    "Determine Day of Week"
   ]
  },
  {
   "cell_type": "code",
   "execution_count": 26,
   "metadata": {},
   "outputs": [],
   "source": [
    "divvy_by_date['day_of_week'] = divvy_by_date['ride_date'].dt.weekday"
   ]
  },
  {
   "cell_type": "markdown",
   "metadata": {},
   "source": [
    "Create Function to determine weekday or weekend"
   ]
  },
  {
   "cell_type": "code",
   "execution_count": 33,
   "metadata": {},
   "outputs": [],
   "source": [
    "def week_day(row):\n",
    "    if row in(0,1,2,3,4):\n",
    "        return 'weekday'\n",
    "    else:\n",
    "        return 'weekend'\n",
    "\n",
    "divvy_by_date['day_type'] = divvy_by_date['day_of_week'].apply(lambda row: week_day(row))\n",
    "# df['race_label'] = df.apply (lambda row: label_race(row), axis=1)"
   ]
  },
  {
   "cell_type": "code",
   "execution_count": null,
   "metadata": {},
   "outputs": [],
   "source": [
    "divvy_by"
   ]
  }
 ],
 "metadata": {
  "kernelspec": {
   "display_name": "Python 3",
   "language": "python",
   "name": "python3"
  },
  "language_info": {
   "codemirror_mode": {
    "name": "ipython",
    "version": 3
   },
   "file_extension": ".py",
   "mimetype": "text/x-python",
   "name": "python",
   "nbconvert_exporter": "python",
   "pygments_lexer": "ipython3",
   "version": "3.7.6"
  }
 },
 "nbformat": 4,
 "nbformat_minor": 4
}
