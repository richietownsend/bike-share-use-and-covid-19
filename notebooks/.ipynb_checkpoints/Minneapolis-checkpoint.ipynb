{
 "cells": [
  {
   "cell_type": "code",
   "execution_count": 1,
   "metadata": {},
   "outputs": [],
   "source": [
    "import pandas as pd\n",
    "import os\n",
    "import matplotlib.pyplot as plt"
   ]
  },
  {
   "cell_type": "code",
   "execution_count": 2,
   "metadata": {
    "scrolled": true
   },
   "outputs": [
    {
     "name": "stdout",
     "output_type": "stream",
     "text": [
      "pd.read_csv('../data/Minneapolis/202010-niceride-tripdata.csv')\n",
      "pd.read_csv('../data/Minneapolis/202105-niceride-tripdata.csv')\n",
      "pd.read_csv('../data/Minneapolis/202006-niceride-tripdata.csv')\n",
      "pd.read_csv('../data/Minneapolis/202004-niceride-tripdata.csv')\n",
      "pd.read_csv('../data/Minneapolis/201908-niceride-tripdata.csv')\n",
      "pd.read_csv('../data/Minneapolis/2001906-niceride-tripdata.csv')\n",
      "pd.read_csv('../data/Minneapolis/201910-niceride-tripdata.csv')\n",
      "pd.read_csv('../data/Minneapolis/202008-niceride-tripdata.csv')\n",
      "pd.read_csv('../data/Minneapolis/201904-niceride-tripdata.csv')\n",
      "pd.read_csv('../data/Minneapolis/202104-niceride-tripdata.csv')\n",
      "pd.read_csv('../data/Minneapolis/202007-niceride-tripdata.csv')\n",
      "pd.read_csv('../data/Minneapolis/202011-niceride-tripdata.csv')\n",
      "pd.read_csv('../data/Minneapolis/201909-niceride-tripdata.csv')\n",
      "pd.read_csv('../data/Minneapolis/202005-niceride-tripdata.csv')\n",
      "pd.read_csv('../data/Minneapolis/201907-niceride-tripdata.csv')\n",
      "pd.read_csv('../data/Minneapolis/201911-niceride-tripdata.csv')\n",
      "pd.read_csv('../data/Minneapolis/201905-niceride-tripdata.csv')\n",
      "pd.read_csv('../data/Minneapolis/202009-niceride-tripdata.csv')\n"
     ]
    }
   ],
   "source": [
    "# This is my path\n",
    "path = \"/Users/richietownsend/Nashville Software School/NSS_Data_Analytics/Capstone/bike_share/data/Minneapolis/\"\n",
    "\n",
    "# to store files in a list\n",
    "list = []\n",
    " \n",
    "# dirs=directories\n",
    "for (root, dirs, file) in os.walk(path):\n",
    "    for f in file:\n",
    "        if '.csv' in f:\n",
    "            print('pd.read_csv(\\'../data/Minneapolis/'+f+'\\')')"
   ]
  },
  {
   "cell_type": "markdown",
   "metadata": {},
   "source": [
    "Load data"
   ]
  },
  {
   "cell_type": "code",
   "execution_count": 3,
   "metadata": {},
   "outputs": [],
   "source": [
    "niceride0419 = pd.read_csv('../data/Minneapolis/201904-niceride-tripdata.csv')\n",
    "niceride0519 = pd.read_csv('../data/Minneapolis/201905-niceride-tripdata.csv')\n",
    "niceride0619 = pd.read_csv('../data/Minneapolis/202006-niceride-tripdata.csv')\n",
    "niceride0719 = pd.read_csv('../data/Minneapolis/201907-niceride-tripdata.csv')\n",
    "niceride0819 = pd.read_csv('../data/Minneapolis/201908-niceride-tripdata.csv')\n",
    "niceride0919 = pd.read_csv('../data/Minneapolis/201909-niceride-tripdata.csv')\n",
    "niceride1019 = pd.read_csv('../data/Minneapolis/201910-niceride-tripdata.csv')\n",
    "niceride1119 = pd.read_csv('../data/Minneapolis/201911-niceride-tripdata.csv')\n",
    "niceride0420 = pd.read_csv('../data/Minneapolis/202004-niceride-tripdata.csv')\n",
    "niceride0520 = pd.read_csv('../data/Minneapolis/202005-niceride-tripdata.csv')\n",
    "niceride0620 = pd.read_csv('../data/Minneapolis/2001906-niceride-tripdata.csv')\n",
    "niceride0720 = pd.read_csv('../data/Minneapolis/202007-niceride-tripdata.csv')\n",
    "niceride0820 = pd.read_csv('../data/Minneapolis/202008-niceride-tripdata.csv')\n",
    "niceride0920 = pd.read_csv('../data/Minneapolis/202009-niceride-tripdata.csv')\n",
    "niceride1020 = pd.read_csv('../data/Minneapolis/202010-niceride-tripdata.csv')\n",
    "niceride1120 = pd.read_csv('../data/Minneapolis/202011-niceride-tripdata.csv')\n",
    "niceride0421 = pd.read_csv('../data/Minneapolis/202104-niceride-tripdata.csv')\n",
    "niceride0521 = pd.read_csv('../data/Minneapolis/202105-niceride-tripdata.csv')"
   ]
  },
  {
   "cell_type": "code",
   "execution_count": 4,
   "metadata": {},
   "outputs": [
    {
     "name": "stdout",
     "output_type": "stream",
     "text": [
      "<class 'pandas.core.frame.DataFrame'>\n",
      "RangeIndex: 9191 entries, 0 to 9190\n",
      "Data columns (total 16 columns):\n",
      " #   Column                   Non-Null Count  Dtype  \n",
      "---  ------                   --------------  -----  \n",
      " 0   tripduration             9191 non-null   int64  \n",
      " 1   start_time               9191 non-null   object \n",
      " 2   end_time                 9191 non-null   object \n",
      " 3   start station id         4807 non-null   float64\n",
      " 4   start station name       4807 non-null   object \n",
      " 5   start station latitude   9191 non-null   float64\n",
      " 6   start station longitude  9191 non-null   float64\n",
      " 7   end station id           4807 non-null   float64\n",
      " 8   end station name         4807 non-null   object \n",
      " 9   end station latitude     9191 non-null   float64\n",
      " 10  end station longitude    9191 non-null   float64\n",
      " 11  bikeid                   9191 non-null   int64  \n",
      " 12  usertype                 9191 non-null   object \n",
      " 13  birth year               9191 non-null   int64  \n",
      " 14  gender                   9191 non-null   int64  \n",
      " 15  bike type                9191 non-null   object \n",
      "dtypes: float64(6), int64(4), object(6)\n",
      "memory usage: 1.1+ MB\n"
     ]
    }
   ],
   "source": [
    "niceride1119.info()"
   ]
  },
  {
   "cell_type": "code",
   "execution_count": 5,
   "metadata": {},
   "outputs": [],
   "source": [
    "niceride_all = pd.concat([niceride0419, niceride0519, niceride0619, niceride0719, niceride0819, niceride0919, niceride1019, niceride1119])"
   ]
  },
  {
   "cell_type": "code",
   "execution_count": 6,
   "metadata": {},
   "outputs": [],
   "source": [
    "niceride_all2 = pd.concat([niceride0420, niceride0520, niceride0620, niceride0720, niceride0820, niceride0920, niceride1020, niceride1120, niceride0421, niceride0521])"
   ]
  },
  {
   "cell_type": "code",
   "execution_count": 7,
   "metadata": {},
   "outputs": [],
   "source": [
    "niceride_all2 = niceride_all2[['ride_id', 'started_at', 'ended_at', 'start_station_id', 'end_station_id']]"
   ]
  },
  {
   "cell_type": "code",
   "execution_count": 8,
   "metadata": {},
   "outputs": [],
   "source": [
    "niceride_all = niceride_all[['bikeid', 'start_time', 'end_time', 'start station id', 'end station id']]\n",
    "niceride_all.rename(columns={'bikeid':'ride_id', 'start_time':'started_at', 'end_time':'ended_at', 'start station id':'start_station_id', 'end station id': 'end_station_id'}, inplace=True)"
   ]
  },
  {
   "cell_type": "code",
   "execution_count": 9,
   "metadata": {},
   "outputs": [],
   "source": [
    "all_niceride = pd.concat([niceride_all, niceride_all2])"
   ]
  },
  {
   "cell_type": "code",
   "execution_count": 10,
   "metadata": {},
   "outputs": [],
   "source": [
    "all_niceride['started_at'] = pd.to_datetime(all_niceride['started_at'], format='%Y-%m-%d')\n",
    "all_niceride['ended_at'] = pd.to_datetime(all_niceride['ended_at'], format='%Y-%m-%d')"
   ]
  },
  {
   "cell_type": "code",
   "execution_count": 11,
   "metadata": {},
   "outputs": [],
   "source": [
    "all_niceride['duration'] = all_niceride['ended_at'] - all_niceride['started_at']"
   ]
  },
  {
   "cell_type": "code",
   "execution_count": 12,
   "metadata": {},
   "outputs": [],
   "source": [
    "all_niceride = all_niceride.dropna(subset=['start_station_id'])\n",
    "all_niceride = all_niceride.dropna(subset=['end_station_id'])\n",
    "all_niceride = all_niceride[~((all_niceride['start_station_id'] == all_niceride['end_station_id']) & (all_niceride['duration'] < '00:05:00'))]"
   ]
  },
  {
   "cell_type": "code",
   "execution_count": 13,
   "metadata": {},
   "outputs": [],
   "source": [
    "all_niceride['start_date'] = all_niceride['started_at'].dt.date"
   ]
  },
  {
   "cell_type": "code",
   "execution_count": 14,
   "metadata": {},
   "outputs": [],
   "source": [
    "niceride_by_date = all_niceride.groupby('start_date').agg({'started_at':'count'}).reset_index()\n",
    "niceride_by_date.rename(columns={'start_date':'ride_date', 'started_at':'ride_count'}, inplace = True)\n",
    "\n",
    "# citi_by_date = all_citi.groupby(['start_date'])['bikeid'].count()\n",
    "# citi_by_date = pd.DataFrame(citi_by_date).reset_index()"
   ]
  },
  {
   "cell_type": "code",
   "execution_count": 15,
   "metadata": {},
   "outputs": [],
   "source": [
    "niceride_by_date['ride_date'] = pd.to_datetime(niceride_by_date['ride_date'], format='%Y-%m-%d')"
   ]
  },
  {
   "cell_type": "code",
   "execution_count": 16,
   "metadata": {},
   "outputs": [
    {
     "name": "stdout",
     "output_type": "stream",
     "text": [
      "<class 'pandas.core.frame.DataFrame'>\n",
      "RangeIndex: 418 entries, 0 to 417\n",
      "Data columns (total 2 columns):\n",
      " #   Column      Non-Null Count  Dtype         \n",
      "---  ------      --------------  -----         \n",
      " 0   ride_date   418 non-null    datetime64[ns]\n",
      " 1   ride_count  418 non-null    int64         \n",
      "dtypes: datetime64[ns](1), int64(1)\n",
      "memory usage: 6.7 KB\n"
     ]
    }
   ],
   "source": [
    "niceride_by_date.info()"
   ]
  },
  {
   "cell_type": "code",
   "execution_count": 17,
   "metadata": {},
   "outputs": [],
   "source": [
    "niceride_by_date['month'] = niceride_by_date['ride_date'].dt.month\n",
    "niceride_by_date['year'] = niceride_by_date['ride_date'].dt.year\n",
    "niceride_by_date['m_y'] = niceride_by_date['month'].apply(str) + '-' + niceride_by_date['year'].apply(str) "
   ]
  },
  {
   "cell_type": "code",
   "execution_count": 18,
   "metadata": {},
   "outputs": [
    {
     "data": {
      "text/html": [
       "<div>\n",
       "<style scoped>\n",
       "    .dataframe tbody tr th:only-of-type {\n",
       "        vertical-align: middle;\n",
       "    }\n",
       "\n",
       "    .dataframe tbody tr th {\n",
       "        vertical-align: top;\n",
       "    }\n",
       "\n",
       "    .dataframe thead th {\n",
       "        text-align: right;\n",
       "    }\n",
       "</style>\n",
       "<table border=\"1\" class=\"dataframe\">\n",
       "  <thead>\n",
       "    <tr style=\"text-align: right;\">\n",
       "      <th></th>\n",
       "      <th></th>\n",
       "      <th>ride_count</th>\n",
       "    </tr>\n",
       "    <tr>\n",
       "      <th>year</th>\n",
       "      <th>month</th>\n",
       "      <th></th>\n",
       "    </tr>\n",
       "  </thead>\n",
       "  <tbody>\n",
       "    <tr>\n",
       "      <th rowspan=\"7\" valign=\"top\">2019</th>\n",
       "      <th>4</th>\n",
       "      <td>7732</td>\n",
       "    </tr>\n",
       "    <tr>\n",
       "      <th>5</th>\n",
       "      <td>40125</td>\n",
       "    </tr>\n",
       "    <tr>\n",
       "      <th>7</th>\n",
       "      <td>50307</td>\n",
       "    </tr>\n",
       "    <tr>\n",
       "      <th>8</th>\n",
       "      <td>50648</td>\n",
       "    </tr>\n",
       "    <tr>\n",
       "      <th>9</th>\n",
       "      <td>37646</td>\n",
       "    </tr>\n",
       "    <tr>\n",
       "      <th>10</th>\n",
       "      <td>20648</td>\n",
       "    </tr>\n",
       "    <tr>\n",
       "      <th>11</th>\n",
       "      <td>4770</td>\n",
       "    </tr>\n",
       "    <tr>\n",
       "      <th rowspan=\"7\" valign=\"top\">2020</th>\n",
       "      <th>4</th>\n",
       "      <td>11965</td>\n",
       "    </tr>\n",
       "    <tr>\n",
       "      <th>5</th>\n",
       "      <td>24881</td>\n",
       "    </tr>\n",
       "    <tr>\n",
       "      <th>7</th>\n",
       "      <td>32655</td>\n",
       "    </tr>\n",
       "    <tr>\n",
       "      <th>8</th>\n",
       "      <td>27764</td>\n",
       "    </tr>\n",
       "    <tr>\n",
       "      <th>9</th>\n",
       "      <td>18533</td>\n",
       "    </tr>\n",
       "    <tr>\n",
       "      <th>10</th>\n",
       "      <td>9969</td>\n",
       "    </tr>\n",
       "    <tr>\n",
       "      <th>11</th>\n",
       "      <td>1063</td>\n",
       "    </tr>\n",
       "    <tr>\n",
       "      <th rowspan=\"2\" valign=\"top\">2021</th>\n",
       "      <th>4</th>\n",
       "      <td>7983</td>\n",
       "    </tr>\n",
       "    <tr>\n",
       "      <th>5</th>\n",
       "      <td>21630</td>\n",
       "    </tr>\n",
       "  </tbody>\n",
       "</table>\n",
       "</div>"
      ],
      "text/plain": [
       "            ride_count\n",
       "year month            \n",
       "2019 4            7732\n",
       "     5           40125\n",
       "     7           50307\n",
       "     8           50648\n",
       "     9           37646\n",
       "     10          20648\n",
       "     11           4770\n",
       "2020 4           11965\n",
       "     5           24881\n",
       "     7           32655\n",
       "     8           27764\n",
       "     9           18533\n",
       "     10           9969\n",
       "     11           1063\n",
       "2021 4            7983\n",
       "     5           21630"
      ]
     },
     "execution_count": 18,
     "metadata": {},
     "output_type": "execute_result"
    }
   ],
   "source": [
    "niceride_by_date.groupby(['year', 'month']).agg({'ride_count':'sum'})"
   ]
  },
  {
   "cell_type": "code",
   "execution_count": 19,
   "metadata": {},
   "outputs": [
    {
     "data": {
      "image/png": "[encoded data removed]",
      "text/plain": [
       "<Figure size 432x288 with 1 Axes>"
      ]
     },
     "metadata": {
      "needs_background": "light"
     },
     "output_type": "display_data"
    }
   ],
   "source": [
    "plt.barh('m_y', 'ride_count', data=niceride_by_date)\n",
    "plt.tight_layout()"
   ]
  },
  {
   "cell_type": "code",
   "execution_count": 20,
   "metadata": {},
   "outputs": [],
   "source": [
    "niceride_by_date.to_csv('niceride_by_date.csv')"
   ]
  },
  {
   "cell_type": "code",
   "execution_count": 21,
   "metadata": {},
   "outputs": [
    {
     "data": {
      "text/html": [
       "<div>\n",
       "<style scoped>\n",
       "    .dataframe tbody tr th:only-of-type {\n",
       "        vertical-align: middle;\n",
       "    }\n",
       "\n",
       "    .dataframe tbody tr th {\n",
       "        vertical-align: top;\n",
       "    }\n",
       "\n",
       "    .dataframe thead th {\n",
       "        text-align: right;\n",
       "    }\n",
       "</style>\n",
       "<table border=\"1\" class=\"dataframe\">\n",
       "  <thead>\n",
       "    <tr style=\"text-align: right;\">\n",
       "      <th></th>\n",
       "      <th>ride_count</th>\n",
       "    </tr>\n",
       "    <tr>\n",
       "      <th>m_y</th>\n",
       "      <th></th>\n",
       "    </tr>\n",
       "  </thead>\n",
       "  <tbody>\n",
       "    <tr>\n",
       "      <th>10-2019</th>\n",
       "      <td>20648</td>\n",
       "    </tr>\n",
       "    <tr>\n",
       "      <th>10-2020</th>\n",
       "      <td>9969</td>\n",
       "    </tr>\n",
       "    <tr>\n",
       "      <th>11-2019</th>\n",
       "      <td>4770</td>\n",
       "    </tr>\n",
       "    <tr>\n",
       "      <th>11-2020</th>\n",
       "      <td>1063</td>\n",
       "    </tr>\n",
       "    <tr>\n",
       "      <th>4-2019</th>\n",
       "      <td>7732</td>\n",
       "    </tr>\n",
       "    <tr>\n",
       "      <th>4-2020</th>\n",
       "      <td>11965</td>\n",
       "    </tr>\n",
       "    <tr>\n",
       "      <th>4-2021</th>\n",
       "      <td>7983</td>\n",
       "    </tr>\n",
       "    <tr>\n",
       "      <th>5-2019</th>\n",
       "      <td>40125</td>\n",
       "    </tr>\n",
       "    <tr>\n",
       "      <th>5-2020</th>\n",
       "      <td>24881</td>\n",
       "    </tr>\n",
       "    <tr>\n",
       "      <th>5-2021</th>\n",
       "      <td>21630</td>\n",
       "    </tr>\n",
       "    <tr>\n",
       "      <th>7-2019</th>\n",
       "      <td>50307</td>\n",
       "    </tr>\n",
       "    <tr>\n",
       "      <th>7-2020</th>\n",
       "      <td>32655</td>\n",
       "    </tr>\n",
       "    <tr>\n",
       "      <th>8-2019</th>\n",
       "      <td>50648</td>\n",
       "    </tr>\n",
       "    <tr>\n",
       "      <th>8-2020</th>\n",
       "      <td>27764</td>\n",
       "    </tr>\n",
       "    <tr>\n",
       "      <th>9-2019</th>\n",
       "      <td>37646</td>\n",
       "    </tr>\n",
       "    <tr>\n",
       "      <th>9-2020</th>\n",
       "      <td>18533</td>\n",
       "    </tr>\n",
       "  </tbody>\n",
       "</table>\n",
       "</div>"
      ],
      "text/plain": [
       "         ride_count\n",
       "m_y                \n",
       "10-2019       20648\n",
       "10-2020        9969\n",
       "11-2019        4770\n",
       "11-2020        1063\n",
       "4-2019         7732\n",
       "4-2020        11965\n",
       "4-2021         7983\n",
       "5-2019        40125\n",
       "5-2020        24881\n",
       "5-2021        21630\n",
       "7-2019        50307\n",
       "7-2020        32655\n",
       "8-2019        50648\n",
       "8-2020        27764\n",
       "9-2019        37646\n",
       "9-2020        18533"
      ]
     },
     "execution_count": 21,
     "metadata": {},
     "output_type": "execute_result"
    }
   ],
   "source": [
    "niceride_by_date.groupby('m_y').agg({'ride_count':'sum'})"
   ]
  },
  {
   "cell_type": "code",
   "execution_count": null,
   "metadata": {},
   "outputs": [],
   "source": []
  },
  {
   "cell_type": "code",
   "execution_count": null,
   "metadata": {},
   "outputs": [],
   "source": []
  }
 ],
 "metadata": {
  "kernelspec": {
   "display_name": "Python 3",
   "language": "python",
   "name": "python3"
  },
  "language_info": {
   "codemirror_mode": {
    "name": "ipython",
    "version": 3
   },
   "file_extension": ".py",
   "mimetype": "text/x-python",
   "name": "python",
   "nbconvert_exporter": "python",
   "pygments_lexer": "ipython3",
   "version": "3.7.6"
  }
 },
 "nbformat": 4,
 "nbformat_minor": 4
}
