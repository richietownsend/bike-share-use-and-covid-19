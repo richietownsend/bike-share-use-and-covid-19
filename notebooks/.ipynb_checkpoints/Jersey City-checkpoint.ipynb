{
 "cells": [
  {
   "cell_type": "code",
   "execution_count": 1,
   "metadata": {},
   "outputs": [],
   "source": [
    "import pandas as pd\n",
    "import os\n",
    "import matplotlib.pyplot as plt"
   ]
  },
  {
   "cell_type": "markdown",
   "metadata": {},
   "source": [
    "For Jersey City"
   ]
  },
  {
   "cell_type": "code",
   "execution_count": 2,
   "metadata": {
    "scrolled": true
   },
   "outputs": [
    {
     "name": "stdout",
     "output_type": "stream",
     "text": [
      "pd.read_csv('../data/bike_share/NYC_CitiBike/Jersey City/JC-202010-citibike-tripdata.csv')\n",
      "pd.read_csv('../data/bike_share/NYC_CitiBike/Jersey City/JC-202006-citibike-tripdata.csv')\n",
      "pd.read_csv('../data/bike_share/NYC_CitiBike/Jersey City/JC-202105-citibike-tripdata.csv')\n",
      "pd.read_csv('../data/bike_share/NYC_CitiBike/Jersey City/JC-201902-citibike-tripdata.csv')\n",
      "pd.read_csv('../data/bike_share/NYC_CitiBike/Jersey City/JC-202012-citibike-tripdata.csv')\n",
      "pd.read_csv('../data/bike_share/NYC_CitiBike/Jersey City/JC-202004-citibike-tripdata.csv')\n",
      "pd.read_csv('../data/bike_share/NYC_CitiBike/Jersey City/JC-201908-citibike-tripdata.csv')\n",
      "pd.read_csv('../data/bike_share/NYC_CitiBike/Jersey City/JC-202101-citibike-tripdata.csv')\n",
      "pd.read_csv('../data/bike_share/NYC_CitiBike/Jersey City/JC-202002-citibike-tripdata.csv')\n",
      "pd.read_csv('../data/bike_share/NYC_CitiBike/Jersey City/JC-201910-citibike-tripdata.csv')\n",
      "pd.read_csv('../data/bike_share/NYC_CitiBike/Jersey City/JC-201906-citibike-tripdata.csv')\n",
      "pd.read_csv('../data/bike_share/NYC_CitiBike/Jersey City/JC-202008-citibike-tripdata.csv')\n",
      "pd.read_csv('../data/bike_share/NYC_CitiBike/Jersey City/JC-201912-citibike-tripdata.csv')\n",
      "pd.read_csv('../data/bike_share/NYC_CitiBike/Jersey City/JC-201904-citibike-tripdata.csv')\n",
      "pd.read_csv('../data/bike_share/NYC_CitiBike/Jersey City/JC-202103-citibike-tripdata.csv')\n",
      "pd.read_csv('../data/bike_share/NYC_CitiBike/Jersey City/JC-202007-citibike-tripdata.csv')\n",
      "pd.read_csv('../data/bike_share/NYC_CitiBike/Jersey City/JC-202104-citibike-tripdata.csv')\n",
      "pd.read_csv('../data/bike_share/NYC_CitiBike/Jersey City/JC-202011-citibike-tripdata.csv')\n",
      "pd.read_csv('../data/bike_share/NYC_CitiBike/Jersey City/JC-201903-citibike-tripdata.csv')\n",
      "pd.read_csv('../data/bike_share/NYC_CitiBike/Jersey City/JC-201909-citibike-tripdata.csv')\n",
      "pd.read_csv('../data/bike_share/NYC_CitiBike/Jersey City/JC-201901-citibike-tripdata.csv')\n",
      "pd.read_csv('../data/bike_share/NYC_CitiBike/Jersey City/JC-202005-citibike-tripdata.csv')\n",
      "pd.read_csv('../data/bike_share/NYC_CitiBike/Jersey City/JC-202003-citibike-tripdata.csv')\n",
      "pd.read_csv('../data/bike_share/NYC_CitiBike/Jersey City/JC-201907-citibike-tripdata.csv')\n",
      "pd.read_csv('../data/bike_share/NYC_CitiBike/Jersey City/JC-201911-citibike-tripdata.csv')\n",
      "pd.read_csv('../data/bike_share/NYC_CitiBike/Jersey City/JC-201812-citibike-tripdata.csv')\n",
      "pd.read_csv('../data/bike_share/NYC_CitiBike/Jersey City/JC-201905-citibike-tripdata.csv')\n",
      "pd.read_csv('../data/bike_share/NYC_CitiBike/Jersey City/JC-202102-citibike-tripdata.csv')\n",
      "pd.read_csv('../data/bike_share/NYC_CitiBike/Jersey City/JC-202001-citibike-tripdata.csv')\n",
      "pd.read_csv('../data/bike_share/NYC_CitiBike/Jersey City/JC-202009-citibike-tripdata.csv')\n"
     ]
    }
   ],
   "source": [
    "# This is my path\n",
    "path = \"/Users/richietownsend/Nashville Software School/NSS_Data_Analytics/Capstone/bike_share/data/NYC_CitiBike/Jersey City\"\n",
    "\n",
    "# to store files in a list\n",
    "list = []\n",
    " \n",
    "# dirs=directories\n",
    "for (root, dirs, file) in os.walk(path):\n",
    "    for f in file:\n",
    "        if '.csv' in f:\n",
    "            print('pd.read_csv(\\'../data/bike_share/NYC_CitiBike/Jersey City/'+f+'\\')')"
   ]
  },
  {
   "cell_type": "markdown",
   "metadata": {},
   "source": [
    "Load Jersey City data"
   ]
  },
  {
   "cell_type": "code",
   "execution_count": 3,
   "metadata": {},
   "outputs": [],
   "source": [
    "jc_citi0119 = pd.read_csv('../data/NYC_CitiBike/Jersey City/JC-201901-citibike-tripdata.csv')\n",
    "jc_citi0219 = pd.read_csv('../data/NYC_CitiBike/Jersey City/JC-201902-citibike-tripdata.csv')\n",
    "jc_citi0319 = pd.read_csv('../data/NYC_CitiBike/Jersey City/JC-201903-citibike-tripdata.csv')\n",
    "jc_citi0419 = pd.read_csv('../data/NYC_CitiBike/Jersey City/JC-201904-citibike-tripdata.csv')\n",
    "jc_citi0519 = pd.read_csv('../data/NYC_CitiBike/Jersey City/JC-201905-citibike-tripdata.csv')\n",
    "jc_citi0619 = pd.read_csv('../data/NYC_CitiBike/Jersey City/JC-201906-citibike-tripdata.csv')\n",
    "jc_citi0719 = pd.read_csv('../data/NYC_CitiBike/Jersey City/JC-201907-citibike-tripdata.csv')\n",
    "jc_citi0819 = pd.read_csv('../data/NYC_CitiBike/Jersey City/JC-201908-citibike-tripdata.csv')\n",
    "jc_citi0919 = pd.read_csv('../data/NYC_CitiBike/Jersey City/JC-201909-citibike-tripdata.csv')\n",
    "jc_citi1019 = pd.read_csv('../data/NYC_CitiBike/Jersey City/JC-201910-citibike-tripdata.csv')\n",
    "jc_citi1119 = pd.read_csv('../data/NYC_CitiBike/Jersey City/JC-201911-citibike-tripdata.csv')\n",
    "jc_citi1219 = pd.read_csv('../data/NYC_CitiBike/Jersey City/JC-201912-citibike-tripdata.csv')\n",
    "jc_citi0120 = pd.read_csv('../data/NYC_CitiBike/Jersey City/JC-202001-citibike-tripdata.csv')\n",
    "jc_citi0220 = pd.read_csv('../data/NYC_CitiBike/Jersey City/JC-202002-citibike-tripdata.csv')\n",
    "jc_citi0320 = pd.read_csv('../data/NYC_CitiBike/Jersey City/JC-202003-citibike-tripdata.csv')\n",
    "jc_citi0420 = pd.read_csv('../data/NYC_CitiBike/Jersey City/JC-202004-citibike-tripdata.csv')\n",
    "jc_citi0520 = pd.read_csv('../data/NYC_CitiBike/Jersey City/JC-202005-citibike-tripdata.csv')\n",
    "jc_citi0620 = pd.read_csv('../data/NYC_CitiBike/Jersey City/JC-202006-citibike-tripdata.csv')\n",
    "jc_citi0720 = pd.read_csv('../data/NYC_CitiBike/Jersey City/JC-202007-citibike-tripdata.csv')\n",
    "jc_citi0820 = pd.read_csv('../data/NYC_CitiBike/Jersey City/JC-202008-citibike-tripdata.csv')\n",
    "jc_citi0920 = pd.read_csv('../data/NYC_CitiBike/Jersey City/JC-202009-citibike-tripdata.csv')\n",
    "jc_citi1020 = pd.read_csv('../data/NYC_CitiBike/Jersey City/JC-202010-citibike-tripdata.csv')\n",
    "jc_citi1120 = pd.read_csv('../data/NYC_CitiBike/Jersey City/JC-202011-citibike-tripdata.csv')\n",
    "jc_citi1220 = pd.read_csv('../data/NYC_CitiBike/Jersey City/JC-202012-citibike-tripdata.csv')\n",
    "jc_citi0121 = pd.read_csv('../data/NYC_CitiBike/Jersey City/JC-202101-citibike-tripdata.csv')\n",
    "jc_citi0221 = pd.read_csv('../data/NYC_CitiBike/Jersey City/JC-202102-citibike-tripdata.csv')\n",
    "jc_citi0321 = pd.read_csv('../data/NYC_CitiBike/Jersey City/JC-202103-citibike-tripdata.csv')\n",
    "jc_citi0421 = pd.read_csv('../data/NYC_CitiBike/Jersey City/JC-202104-citibike-tripdata.csv')\n",
    "jc_citi0521 = pd.read_csv('../data/NYC_CitiBike/Jersey City/JC-202105-citibike-tripdata.csv')"
   ]
  },
  {
   "cell_type": "code",
   "execution_count": 4,
   "metadata": {},
   "outputs": [],
   "source": [
    "all_jc_citi = pd.concat([jc_citi0119, jc_citi0219, jc_citi0319, jc_citi0419, jc_citi0519, jc_citi0619, jc_citi0719, jc_citi0819, jc_citi0919, jc_citi1019, jc_citi1119, jc_citi1219, jc_citi0120, jc_citi0220, jc_citi0320, jc_citi0420, jc_citi0520, jc_citi0620, jc_citi0720, jc_citi0820, jc_citi0920, jc_citi1020, jc_citi1120, jc_citi1220, jc_citi0121, jc_citi0221, jc_citi0321, jc_citi0421])"
   ]
  },
  {
   "cell_type": "code",
   "execution_count": 5,
   "metadata": {},
   "outputs": [],
   "source": [
    "all_jc_citi2 = pd.concat([jc_citi0521])"
   ]
  },
  {
   "cell_type": "code",
   "execution_count": 6,
   "metadata": {},
   "outputs": [
    {
     "name": "stdout",
     "output_type": "stream",
     "text": [
      "<class 'pandas.core.frame.DataFrame'>\n",
      "RangeIndex: 45043 entries, 0 to 45042\n",
      "Data columns (total 13 columns):\n",
      " #   Column              Non-Null Count  Dtype  \n",
      "---  ------              --------------  -----  \n",
      " 0   ride_id             45043 non-null  object \n",
      " 1   rideable_type       45043 non-null  object \n",
      " 2   started_at          45043 non-null  object \n",
      " 3   ended_at            45043 non-null  object \n",
      " 4   start_station_name  45043 non-null  object \n",
      " 5   start_station_id    45043 non-null  object \n",
      " 6   end_station_name    44954 non-null  object \n",
      " 7   end_station_id      44954 non-null  object \n",
      " 8   start_lat           45043 non-null  float64\n",
      " 9   start_lng           45043 non-null  float64\n",
      " 10  end_lat             44954 non-null  float64\n",
      " 11  end_lng             44954 non-null  float64\n",
      " 12  member_casual       45043 non-null  object \n",
      "dtypes: float64(4), object(9)\n",
      "memory usage: 4.5+ MB\n"
     ]
    }
   ],
   "source": [
    "all_jc_citi2.info()"
   ]
  },
  {
   "cell_type": "code",
   "execution_count": 7,
   "metadata": {},
   "outputs": [],
   "source": [
    "all_jc_citi2 = all_jc_citi2[['ride_id', 'started_at', 'ended_at', 'start_station_id', 'end_station_id']]"
   ]
  },
  {
   "cell_type": "code",
   "execution_count": 8,
   "metadata": {},
   "outputs": [],
   "source": [
    "all_jc_citi = all_jc_citi[['bikeid', 'starttime', 'stoptime', 'start station id', 'end station id']]\n",
    "all_jc_citi.rename(columns={'bikeid':'ride_id', 'starttime':'started_at', 'stoptime':'ended_at', 'start station id':'start_station_id', 'end station id': 'end_station_id'}, inplace=True)"
   ]
  },
  {
   "cell_type": "code",
   "execution_count": 9,
   "metadata": {},
   "outputs": [],
   "source": [
    "all_jc_citi = pd.concat([all_jc_citi, all_jc_citi2])"
   ]
  },
  {
   "cell_type": "code",
   "execution_count": 10,
   "metadata": {},
   "outputs": [],
   "source": [
    "all_jc_citi['started_at'] = pd.to_datetime(all_jc_citi['started_at'], format='%Y-%m-%d')\n",
    "all_jc_citi['ended_at'] = pd.to_datetime(all_jc_citi['ended_at'], format='%Y-%m-%d')"
   ]
  },
  {
   "cell_type": "code",
   "execution_count": 11,
   "metadata": {},
   "outputs": [],
   "source": [
    "all_jc_citi['duration'] = all_jc_citi['ended_at'] - all_jc_citi['started_at']"
   ]
  },
  {
   "cell_type": "code",
   "execution_count": 12,
   "metadata": {},
   "outputs": [],
   "source": [
    "all_jc_citi = all_jc_citi.dropna(subset=['start_station_id'])\n",
    "all_jc_citi = all_jc_citi.dropna(subset=['end_station_id'])\n",
    "all_jc_citi = all_jc_citi[~((all_jc_citi['start_station_id'] == all_jc_citi['end_station_id']) & (all_jc_citi['duration'] < '00:05:00'))]"
   ]
  },
  {
   "cell_type": "code",
   "execution_count": 13,
   "metadata": {},
   "outputs": [],
   "source": [
    "all_jc_citi['start_date'] = all_jc_citi['started_at'].dt.date"
   ]
  },
  {
   "cell_type": "code",
   "execution_count": 14,
   "metadata": {},
   "outputs": [],
   "source": [
    "jc_citi_by_date = all_jc_citi.groupby('start_date').agg({'started_at':'count'}).reset_index()\n",
    "jc_citi_by_date.rename(columns={'start_date':'ride_date', 'started_at':'ride_count'}, inplace = True)\n",
    "\n",
    "# citi_by_date = all_citi.groupby(['start_date'])['bikeid'].count()\n",
    "# citi_by_date = pd.DataFrame(citi_by_date).reset_index()"
   ]
  },
  {
   "cell_type": "code",
   "execution_count": 15,
   "metadata": {},
   "outputs": [],
   "source": [
    "jc_citi_by_date['ride_date'] = pd.to_datetime(jc_citi_by_date['ride_date'], format='%Y-%m-%d')"
   ]
  },
  {
   "cell_type": "code",
   "execution_count": 16,
   "metadata": {},
   "outputs": [
    {
     "name": "stdout",
     "output_type": "stream",
     "text": [
      "<class 'pandas.core.frame.DataFrame'>\n",
      "RangeIndex: 881 entries, 0 to 880\n",
      "Data columns (total 2 columns):\n",
      " #   Column      Non-Null Count  Dtype         \n",
      "---  ------      --------------  -----         \n",
      " 0   ride_date   881 non-null    datetime64[ns]\n",
      " 1   ride_count  881 non-null    int64         \n",
      "dtypes: datetime64[ns](1), int64(1)\n",
      "memory usage: 13.9 KB\n"
     ]
    }
   ],
   "source": [
    "jc_citi_by_date.info()"
   ]
  },
  {
   "cell_type": "code",
   "execution_count": 17,
   "metadata": {},
   "outputs": [],
   "source": [
    "jc_citi_by_date['month'] = jc_citi_by_date['ride_date'].dt.month\n",
    "jc_citi_by_date['year'] = jc_citi_by_date['ride_date'].dt.year\n",
    "jc_citi_by_date['m_y'] = jc_citi_by_date['month'].apply(str) + '-' + jc_citi_by_date['year'].apply(str) "
   ]
  },
  {
   "cell_type": "code",
   "execution_count": 18,
   "metadata": {},
   "outputs": [
    {
     "data": {
      "text/html": [
       "<div>\n",
       "<style scoped>\n",
       "    .dataframe tbody tr th:only-of-type {\n",
       "        vertical-align: middle;\n",
       "    }\n",
       "\n",
       "    .dataframe tbody tr th {\n",
       "        vertical-align: top;\n",
       "    }\n",
       "\n",
       "    .dataframe thead th {\n",
       "        text-align: right;\n",
       "    }\n",
       "</style>\n",
       "<table border=\"1\" class=\"dataframe\">\n",
       "  <thead>\n",
       "    <tr style=\"text-align: right;\">\n",
       "      <th></th>\n",
       "      <th></th>\n",
       "      <th>ride_count</th>\n",
       "    </tr>\n",
       "    <tr>\n",
       "      <th>year</th>\n",
       "      <th>month</th>\n",
       "      <th></th>\n",
       "    </tr>\n",
       "  </thead>\n",
       "  <tbody>\n",
       "    <tr>\n",
       "      <th rowspan=\"12\" valign=\"top\">2019</th>\n",
       "      <th>1</th>\n",
       "      <td>19606</td>\n",
       "    </tr>\n",
       "    <tr>\n",
       "      <th>2</th>\n",
       "      <td>18496</td>\n",
       "    </tr>\n",
       "    <tr>\n",
       "      <th>3</th>\n",
       "      <td>23500</td>\n",
       "    </tr>\n",
       "    <tr>\n",
       "      <th>4</th>\n",
       "      <td>32923</td>\n",
       "    </tr>\n",
       "    <tr>\n",
       "      <th>5</th>\n",
       "      <td>35937</td>\n",
       "    </tr>\n",
       "    <tr>\n",
       "      <th>6</th>\n",
       "      <td>39230</td>\n",
       "    </tr>\n",
       "    <tr>\n",
       "      <th>7</th>\n",
       "      <td>43540</td>\n",
       "    </tr>\n",
       "    <tr>\n",
       "      <th>8</th>\n",
       "      <td>48510</td>\n",
       "    </tr>\n",
       "    <tr>\n",
       "      <th>9</th>\n",
       "      <td>49024</td>\n",
       "    </tr>\n",
       "    <tr>\n",
       "      <th>10</th>\n",
       "      <td>42109</td>\n",
       "    </tr>\n",
       "    <tr>\n",
       "      <th>11</th>\n",
       "      <td>30699</td>\n",
       "    </tr>\n",
       "    <tr>\n",
       "      <th>12</th>\n",
       "      <td>19659</td>\n",
       "    </tr>\n",
       "    <tr>\n",
       "      <th rowspan=\"12\" valign=\"top\">2020</th>\n",
       "      <th>1</th>\n",
       "      <td>25938</td>\n",
       "    </tr>\n",
       "    <tr>\n",
       "      <th>2</th>\n",
       "      <td>22895</td>\n",
       "    </tr>\n",
       "    <tr>\n",
       "      <th>3</th>\n",
       "      <td>17604</td>\n",
       "    </tr>\n",
       "    <tr>\n",
       "      <th>4</th>\n",
       "      <td>9197</td>\n",
       "    </tr>\n",
       "    <tr>\n",
       "      <th>5</th>\n",
       "      <td>24860</td>\n",
       "    </tr>\n",
       "    <tr>\n",
       "      <th>6</th>\n",
       "      <td>36574</td>\n",
       "    </tr>\n",
       "    <tr>\n",
       "      <th>7</th>\n",
       "      <td>38340</td>\n",
       "    </tr>\n",
       "    <tr>\n",
       "      <th>8</th>\n",
       "      <td>42880</td>\n",
       "    </tr>\n",
       "    <tr>\n",
       "      <th>9</th>\n",
       "      <td>40053</td>\n",
       "    </tr>\n",
       "    <tr>\n",
       "      <th>10</th>\n",
       "      <td>43190</td>\n",
       "    </tr>\n",
       "    <tr>\n",
       "      <th>11</th>\n",
       "      <td>21125</td>\n",
       "    </tr>\n",
       "    <tr>\n",
       "      <th>12</th>\n",
       "      <td>11612</td>\n",
       "    </tr>\n",
       "    <tr>\n",
       "      <th rowspan=\"5\" valign=\"top\">2021</th>\n",
       "      <th>1</th>\n",
       "      <td>11560</td>\n",
       "    </tr>\n",
       "    <tr>\n",
       "      <th>2</th>\n",
       "      <td>4664</td>\n",
       "    </tr>\n",
       "    <tr>\n",
       "      <th>3</th>\n",
       "      <td>16648</td>\n",
       "    </tr>\n",
       "    <tr>\n",
       "      <th>4</th>\n",
       "      <td>23079</td>\n",
       "    </tr>\n",
       "    <tr>\n",
       "      <th>5</th>\n",
       "      <td>43899</td>\n",
       "    </tr>\n",
       "  </tbody>\n",
       "</table>\n",
       "</div>"
      ],
      "text/plain": [
       "            ride_count\n",
       "year month            \n",
       "2019 1           19606\n",
       "     2           18496\n",
       "     3           23500\n",
       "     4           32923\n",
       "     5           35937\n",
       "     6           39230\n",
       "     7           43540\n",
       "     8           48510\n",
       "     9           49024\n",
       "     10          42109\n",
       "     11          30699\n",
       "     12          19659\n",
       "2020 1           25938\n",
       "     2           22895\n",
       "     3           17604\n",
       "     4            9197\n",
       "     5           24860\n",
       "     6           36574\n",
       "     7           38340\n",
       "     8           42880\n",
       "     9           40053\n",
       "     10          43190\n",
       "     11          21125\n",
       "     12          11612\n",
       "2021 1           11560\n",
       "     2            4664\n",
       "     3           16648\n",
       "     4           23079\n",
       "     5           43899"
      ]
     },
     "execution_count": 18,
     "metadata": {},
     "output_type": "execute_result"
    }
   ],
   "source": [
    "jc_citi_by_date.groupby(['year', 'month']).agg({'ride_count':'sum'})"
   ]
  },
  {
   "cell_type": "code",
   "execution_count": 19,
   "metadata": {},
   "outputs": [
    {
     "data": {
      "image/png": "[encoded data removed]",
      "text/plain": [
       "<Figure size 432x288 with 1 Axes>"
      ]
     },
     "metadata": {
      "needs_background": "light"
     },
     "output_type": "display_data"
    }
   ],
   "source": [
    "plt.barh('m_y', 'ride_count', data=jc_citi_by_date)\n",
    "plt.tight_layout()"
   ]
  },
  {
   "cell_type": "code",
   "execution_count": 20,
   "metadata": {},
   "outputs": [],
   "source": [
    "jc_citi_by_date.to_csv('jc_citi_by_date.csv')"
   ]
  },
  {
   "cell_type": "code",
   "execution_count": 21,
   "metadata": {},
   "outputs": [
    {
     "data": {
      "text/html": [
       "<div>\n",
       "<style scoped>\n",
       "    .dataframe tbody tr th:only-of-type {\n",
       "        vertical-align: middle;\n",
       "    }\n",
       "\n",
       "    .dataframe tbody tr th {\n",
       "        vertical-align: top;\n",
       "    }\n",
       "\n",
       "    .dataframe thead th {\n",
       "        text-align: right;\n",
       "    }\n",
       "</style>\n",
       "<table border=\"1\" class=\"dataframe\">\n",
       "  <thead>\n",
       "    <tr style=\"text-align: right;\">\n",
       "      <th></th>\n",
       "      <th>ride_count</th>\n",
       "    </tr>\n",
       "    <tr>\n",
       "      <th>m_y</th>\n",
       "      <th></th>\n",
       "    </tr>\n",
       "  </thead>\n",
       "  <tbody>\n",
       "    <tr>\n",
       "      <th>1-2019</th>\n",
       "      <td>19606</td>\n",
       "    </tr>\n",
       "    <tr>\n",
       "      <th>1-2020</th>\n",
       "      <td>25938</td>\n",
       "    </tr>\n",
       "    <tr>\n",
       "      <th>1-2021</th>\n",
       "      <td>11560</td>\n",
       "    </tr>\n",
       "    <tr>\n",
       "      <th>10-2019</th>\n",
       "      <td>42109</td>\n",
       "    </tr>\n",
       "    <tr>\n",
       "      <th>10-2020</th>\n",
       "      <td>43190</td>\n",
       "    </tr>\n",
       "    <tr>\n",
       "      <th>11-2019</th>\n",
       "      <td>30699</td>\n",
       "    </tr>\n",
       "    <tr>\n",
       "      <th>11-2020</th>\n",
       "      <td>21125</td>\n",
       "    </tr>\n",
       "    <tr>\n",
       "      <th>12-2019</th>\n",
       "      <td>19659</td>\n",
       "    </tr>\n",
       "    <tr>\n",
       "      <th>12-2020</th>\n",
       "      <td>11612</td>\n",
       "    </tr>\n",
       "    <tr>\n",
       "      <th>2-2019</th>\n",
       "      <td>18496</td>\n",
       "    </tr>\n",
       "    <tr>\n",
       "      <th>2-2020</th>\n",
       "      <td>22895</td>\n",
       "    </tr>\n",
       "    <tr>\n",
       "      <th>2-2021</th>\n",
       "      <td>4664</td>\n",
       "    </tr>\n",
       "    <tr>\n",
       "      <th>3-2019</th>\n",
       "      <td>23500</td>\n",
       "    </tr>\n",
       "    <tr>\n",
       "      <th>3-2020</th>\n",
       "      <td>17604</td>\n",
       "    </tr>\n",
       "    <tr>\n",
       "      <th>3-2021</th>\n",
       "      <td>16648</td>\n",
       "    </tr>\n",
       "    <tr>\n",
       "      <th>4-2019</th>\n",
       "      <td>32923</td>\n",
       "    </tr>\n",
       "    <tr>\n",
       "      <th>4-2020</th>\n",
       "      <td>9197</td>\n",
       "    </tr>\n",
       "    <tr>\n",
       "      <th>4-2021</th>\n",
       "      <td>23079</td>\n",
       "    </tr>\n",
       "    <tr>\n",
       "      <th>5-2019</th>\n",
       "      <td>35937</td>\n",
       "    </tr>\n",
       "    <tr>\n",
       "      <th>5-2020</th>\n",
       "      <td>24860</td>\n",
       "    </tr>\n",
       "    <tr>\n",
       "      <th>5-2021</th>\n",
       "      <td>43899</td>\n",
       "    </tr>\n",
       "    <tr>\n",
       "      <th>6-2019</th>\n",
       "      <td>39230</td>\n",
       "    </tr>\n",
       "    <tr>\n",
       "      <th>6-2020</th>\n",
       "      <td>36574</td>\n",
       "    </tr>\n",
       "    <tr>\n",
       "      <th>7-2019</th>\n",
       "      <td>43540</td>\n",
       "    </tr>\n",
       "    <tr>\n",
       "      <th>7-2020</th>\n",
       "      <td>38340</td>\n",
       "    </tr>\n",
       "    <tr>\n",
       "      <th>8-2019</th>\n",
       "      <td>48510</td>\n",
       "    </tr>\n",
       "    <tr>\n",
       "      <th>8-2020</th>\n",
       "      <td>42880</td>\n",
       "    </tr>\n",
       "    <tr>\n",
       "      <th>9-2019</th>\n",
       "      <td>49024</td>\n",
       "    </tr>\n",
       "    <tr>\n",
       "      <th>9-2020</th>\n",
       "      <td>40053</td>\n",
       "    </tr>\n",
       "  </tbody>\n",
       "</table>\n",
       "</div>"
      ],
      "text/plain": [
       "         ride_count\n",
       "m_y                \n",
       "1-2019        19606\n",
       "1-2020        25938\n",
       "1-2021        11560\n",
       "10-2019       42109\n",
       "10-2020       43190\n",
       "11-2019       30699\n",
       "11-2020       21125\n",
       "12-2019       19659\n",
       "12-2020       11612\n",
       "2-2019        18496\n",
       "2-2020        22895\n",
       "2-2021         4664\n",
       "3-2019        23500\n",
       "3-2020        17604\n",
       "3-2021        16648\n",
       "4-2019        32923\n",
       "4-2020         9197\n",
       "4-2021        23079\n",
       "5-2019        35937\n",
       "5-2020        24860\n",
       "5-2021        43899\n",
       "6-2019        39230\n",
       "6-2020        36574\n",
       "7-2019        43540\n",
       "7-2020        38340\n",
       "8-2019        48510\n",
       "8-2020        42880\n",
       "9-2019        49024\n",
       "9-2020        40053"
      ]
     },
     "execution_count": 21,
     "metadata": {},
     "output_type": "execute_result"
    }
   ],
   "source": [
    "jc_citi_by_date.groupby('m_y').agg({'ride_count':'sum'})"
   ]
  },
  {
   "cell_type": "code",
   "execution_count": null,
   "metadata": {},
   "outputs": [],
   "source": []
  },
  {
   "cell_type": "code",
   "execution_count": null,
   "metadata": {},
   "outputs": [],
   "source": []
  }
 ],
 "metadata": {
  "kernelspec": {
   "display_name": "Python 3",
   "language": "python",
   "name": "python3"
  },
  "language_info": {
   "codemirror_mode": {
    "name": "ipython",
    "version": 3
   },
   "file_extension": ".py",
   "mimetype": "text/x-python",
   "name": "python",
   "nbconvert_exporter": "python",
   "pygments_lexer": "ipython3",
   "version": "3.7.6"
  }
 },
 "nbformat": 4,
 "nbformat_minor": 4
}
