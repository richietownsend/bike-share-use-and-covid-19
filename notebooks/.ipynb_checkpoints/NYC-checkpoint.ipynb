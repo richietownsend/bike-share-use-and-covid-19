{
 "cells": [
  {
   "cell_type": "code",
   "execution_count": 16,
   "metadata": {},
   "outputs": [],
   "source": [
    "import pandas as pd\n",
    "import os\n",
    "import matplotlib.pyplot as plt"
   ]
  },
  {
   "cell_type": "markdown",
   "metadata": {},
   "source": [
    "For NYC"
   ]
  },
  {
   "cell_type": "code",
   "execution_count": 17,
   "metadata": {},
   "outputs": [
    {
     "name": "stdout",
     "output_type": "stream",
     "text": [
      "pd.read_csv('../data/bike_share/NYC_CitiBike/New York City/202006-citibike-tripdata.csv')\n",
      "pd.read_csv('../data/bike_share/NYC_CitiBike/New York City/202105-citibike-tripdata.csv')\n",
      "pd.read_csv('../data/bike_share/NYC_CitiBike/New York City/202010-citibike-tripdata.csv')\n",
      "pd.read_csv('../data/bike_share/NYC_CitiBike/New York City/201902-citibike-tripdata.csv')\n",
      "pd.read_csv('../data/bike_share/NYC_CitiBike/New York City/201908-citibike-tripdata.csv')\n",
      "pd.read_csv('../data/bike_share/NYC_CitiBike/New York City/202004-citibike-tripdata.csv')\n",
      "pd.read_csv('../data/bike_share/NYC_CitiBike/New York City/202012-citibike-tripdata.csv')\n",
      "pd.read_csv('../data/bike_share/NYC_CitiBike/New York City/202101-citibike-tripdata.csv')\n",
      "pd.read_csv('../data/bike_share/NYC_CitiBike/New York City/202002-citibike-tripdata.csv')\n",
      "pd.read_csv('../data/bike_share/NYC_CitiBike/New York City/201906-citibike-tripdata.csv')\n",
      "pd.read_csv('../data/bike_share/NYC_CitiBike/New York City/201910-citibike-tripdata.csv')\n",
      "pd.read_csv('../data/bike_share/NYC_CitiBike/New York City/201904-citibike-tripdata.csv')\n",
      "pd.read_csv('../data/bike_share/NYC_CitiBike/New York City/201912-citibike-tripdata.csv')\n",
      "pd.read_csv('../data/bike_share/NYC_CitiBike/New York City/202103-citibike-tripdata.csv')\n",
      "pd.read_csv('../data/bike_share/NYC_CitiBike/New York City/202008-citibike-tripdata.csv')\n",
      "pd.read_csv('../data/bike_share/NYC_CitiBike/New York City/202011-citibike-tripdata.csv')\n",
      "pd.read_csv('../data/bike_share/NYC_CitiBike/New York City/202007-citibike-tripdata.csv')\n",
      "pd.read_csv('../data/bike_share/NYC_CitiBike/New York City/202104-citibike-tripdata.csv')\n",
      "pd.read_csv('../data/bike_share/NYC_CitiBike/New York City/201903-citibike-tripdata.csv')\n",
      "pd.read_csv('../data/bike_share/NYC_CitiBike/New York City/201901-citibike-tripdata.csv')\n",
      "pd.read_csv('../data/bike_share/NYC_CitiBike/New York City/202005-citibike-tripdata.csv')\n",
      "pd.read_csv('../data/bike_share/NYC_CitiBike/New York City/201909-citibike-tripdata.csv')\n",
      "pd.read_csv('../data/bike_share/NYC_CitiBike/New York City/202003-citibike-tripdata.csv')\n",
      "pd.read_csv('../data/bike_share/NYC_CitiBike/New York City/201911-citibike-tripdata.csv')\n",
      "pd.read_csv('../data/bike_share/NYC_CitiBike/New York City/201907-citibike-tripdata.csv')\n",
      "pd.read_csv('../data/bike_share/NYC_CitiBike/New York City/202009-citibike-tripdata.csv')\n",
      "pd.read_csv('../data/bike_share/NYC_CitiBike/New York City/201905-citibike-tripdata.csv')\n",
      "pd.read_csv('../data/bike_share/NYC_CitiBike/New York City/202102-citibike-tripdata.csv')\n",
      "pd.read_csv('../data/bike_share/NYC_CitiBike/New York City/202001-citibike-tripdata.csv')\n"
     ]
    }
   ],
   "source": [
    "path = \"/Users/richietownsend/Nashville Software School/NSS_Data_Analytics/Capstone/bike_share/data/NYC_CitiBike/New York City\"\n",
    "list = []\n",
    " \n",
    "for (root, dirs, file) in os.walk(path):\n",
    "    for f in file:\n",
    "        if '.csv' in f:\n",
    "            print('pd.read_csv(\\'../data/bike_share/NYC_CitiBike/New York City/'+f+'\\')')"
   ]
  },
  {
   "cell_type": "markdown",
   "metadata": {},
   "source": [
    "For Jersey City"
   ]
  },
  {
   "cell_type": "code",
   "execution_count": 18,
   "metadata": {
    "scrolled": true
   },
   "outputs": [
    {
     "name": "stdout",
     "output_type": "stream",
     "text": [
      "pd.read_csv('../data/bike_share/NYC_CitiBike/Jersey City/JC-202010-citibike-tripdata.csv')\n",
      "pd.read_csv('../data/bike_share/NYC_CitiBike/Jersey City/JC-202006-citibike-tripdata.csv')\n",
      "pd.read_csv('../data/bike_share/NYC_CitiBike/Jersey City/JC-201902-citibike-tripdata.csv')\n",
      "pd.read_csv('../data/bike_share/NYC_CitiBike/Jersey City/JC-202012-citibike-tripdata.csv')\n",
      "pd.read_csv('../data/bike_share/NYC_CitiBike/Jersey City/JC-202004-citibike-tripdata.csv')\n",
      "pd.read_csv('../data/bike_share/NYC_CitiBike/Jersey City/JC-201908-citibike-tripdata.csv')\n",
      "pd.read_csv('../data/bike_share/NYC_CitiBike/Jersey City/JC-202101-citibike-tripdata.csv')\n",
      "pd.read_csv('../data/bike_share/NYC_CitiBike/Jersey City/JC-202002-citibike-tripdata.csv')\n",
      "pd.read_csv('../data/bike_share/NYC_CitiBike/Jersey City/JC-201910-citibike-tripdata.csv')\n",
      "pd.read_csv('../data/bike_share/NYC_CitiBike/Jersey City/JC-201906-citibike-tripdata.csv')\n",
      "pd.read_csv('../data/bike_share/NYC_CitiBike/Jersey City/JC-202008-citibike-tripdata.csv')\n",
      "pd.read_csv('../data/bike_share/NYC_CitiBike/Jersey City/JC-201912-citibike-tripdata.csv')\n",
      "pd.read_csv('../data/bike_share/NYC_CitiBike/Jersey City/JC-201904-citibike-tripdata.csv')\n",
      "pd.read_csv('../data/bike_share/NYC_CitiBike/Jersey City/JC-202103-citibike-tripdata.csv')\n",
      "pd.read_csv('../data/bike_share/NYC_CitiBike/Jersey City/JC-202007-citibike-tripdata.csv')\n",
      "pd.read_csv('../data/bike_share/NYC_CitiBike/Jersey City/JC-202104-citibike-tripdata.csv')\n",
      "pd.read_csv('../data/bike_share/NYC_CitiBike/Jersey City/JC-202011-citibike-tripdata.csv')\n",
      "pd.read_csv('../data/bike_share/NYC_CitiBike/Jersey City/JC-201903-citibike-tripdata.csv')\n",
      "pd.read_csv('../data/bike_share/NYC_CitiBike/Jersey City/JC-201909-citibike-tripdata.csv')\n",
      "pd.read_csv('../data/bike_share/NYC_CitiBike/Jersey City/JC-201901-citibike-tripdata.csv')\n",
      "pd.read_csv('../data/bike_share/NYC_CitiBike/Jersey City/JC-202005-citibike-tripdata.csv')\n",
      "pd.read_csv('../data/bike_share/NYC_CitiBike/Jersey City/JC-202003-citibike-tripdata.csv')\n",
      "pd.read_csv('../data/bike_share/NYC_CitiBike/Jersey City/JC-201907-citibike-tripdata.csv')\n",
      "pd.read_csv('../data/bike_share/NYC_CitiBike/Jersey City/JC-201911-citibike-tripdata.csv')\n",
      "pd.read_csv('../data/bike_share/NYC_CitiBike/Jersey City/JC-201812-citibike-tripdata.csv')\n",
      "pd.read_csv('../data/bike_share/NYC_CitiBike/Jersey City/JC-201905-citibike-tripdata.csv')\n",
      "pd.read_csv('../data/bike_share/NYC_CitiBike/Jersey City/JC-202102-citibike-tripdata.csv')\n",
      "pd.read_csv('../data/bike_share/NYC_CitiBike/Jersey City/JC-202001-citibike-tripdata.csv')\n",
      "pd.read_csv('../data/bike_share/NYC_CitiBike/Jersey City/JC-202009-citibike-tripdata.csv')\n"
     ]
    }
   ],
   "source": [
    "# This is my path\n",
    "path = \"/Users/richietownsend/Nashville Software School/NSS_Data_Analytics/Capstone/bike_share/data/NYC_CitiBike/Jersey City\"\n",
    "\n",
    "# to store files in a list\n",
    "list = []\n",
    " \n",
    "# dirs=directories\n",
    "for (root, dirs, file) in os.walk(path):\n",
    "    for f in file:\n",
    "        if '.csv' in f:\n",
    "            print('pd.read_csv(\\'../data/bike_share/NYC_CitiBike/Jersey City/'+f+'\\')')"
   ]
  },
  {
   "cell_type": "markdown",
   "metadata": {},
   "source": [
    "Load Jersey City data"
   ]
  },
  {
   "cell_type": "code",
   "execution_count": 22,
   "metadata": {},
   "outputs": [],
   "source": [
    "jc_citi0119 = pd.read_csv('../data/NYC_CitiBike/Jersey City/JC-201901-citibike-tripdata.csv')\n",
    "jc_citi0219 = pd.read_csv('../data/NYC_CitiBike/Jersey City/JC-201902-citibike-tripdata.csv')\n",
    "jc_citi0319 = pd.read_csv('../data/NYC_CitiBike/Jersey City/JC-201903-citibike-tripdata.csv')\n",
    "jc_citi0419 = pd.read_csv('../data/NYC_CitiBike/Jersey City/JC-201904-citibike-tripdata.csv')\n",
    "jc_citi0519 = pd.read_csv('../data/NYC_CitiBike/Jersey City/JC-201905-citibike-tripdata.csv')\n",
    "jc_citi0619 = pd.read_csv('../data/NYC_CitiBike/Jersey City/JC-201906-citibike-tripdata.csv')\n",
    "jc_citi0719 = pd.read_csv('../data/NYC_CitiBike/Jersey City/JC-201907-citibike-tripdata.csv')\n",
    "jc_citi0819 = pd.read_csv('../data/NYC_CitiBike/Jersey City/JC-201908-citibike-tripdata.csv')\n",
    "jc_citi0919 = pd.read_csv('../data/NYC_CitiBike/Jersey City/JC-201909-citibike-tripdata.csv')\n",
    "jc_citi1019 = pd.read_csv('../data/NYC_CitiBike/Jersey City/JC-201910-citibike-tripdata.csv')\n",
    "jc_citi1119 = pd.read_csv('../data/NYC_CitiBike/Jersey City/JC-201911-citibike-tripdata.csv')\n",
    "jc_citi1219 = pd.read_csv('../data/NYC_CitiBike/Jersey City/JC-201912-citibike-tripdata.csv')\n",
    "jc_citi0120 = pd.read_csv('../data/NYC_CitiBike/Jersey City/JC-202001-citibike-tripdata.csv')\n",
    "jc_citi0220 = pd.read_csv('../data/NYC_CitiBike/Jersey City/JC-202002-citibike-tripdata.csv')\n",
    "jc_citi0320 = pd.read_csv('../data/NYC_CitiBike/Jersey City/JC-202003-citibike-tripdata.csv')\n",
    "jc_citi0420 = pd.read_csv('../data/NYC_CitiBike/Jersey City/JC-202004-citibike-tripdata.csv')\n",
    "jc_citi0520 = pd.read_csv('../data/NYC_CitiBike/Jersey City/JC-202005-citibike-tripdata.csv')\n",
    "jc_citi0620 = pd.read_csv('../data/NYC_CitiBike/Jersey City/JC-202006-citibike-tripdata.csv')\n",
    "jc_citi0720 = pd.read_csv('../data/NYC_CitiBike/Jersey City/JC-202007-citibike-tripdata.csv')\n",
    "jc_citi0820 = pd.read_csv('../data/NYC_CitiBike/Jersey City/JC-202008-citibike-tripdata.csv')\n",
    "jc_citi0920 = pd.read_csv('../data/NYC_CitiBike/Jersey City/JC-202009-citibike-tripdata.csv')\n",
    "jc_citi1020 = pd.read_csv('../data/NYC_CitiBike/Jersey City/JC-202010-citibike-tripdata.csv')\n",
    "jc_citi1120 = pd.read_csv('../data/NYC_CitiBike/Jersey City/JC-202011-citibike-tripdata.csv')\n",
    "jc_citi1220 = pd.read_csv('../data/NYC_CitiBike/Jersey City/JC-202012-citibike-tripdata.csv')\n",
    "jc_citi0121 = pd.read_csv('../data/NYC_CitiBike/Jersey City/JC-202101-citibike-tripdata.csv')\n",
    "jc_citi0221 = pd.read_csv('../data/NYC_CitiBike/Jersey City/JC-202102-citibike-tripdata.csv')\n",
    "jc_citi0321 = pd.read_csv('../data/NYC_CitiBike/Jersey City/JC-202103-citibike-tripdata.csv')\n",
    "jc_citi0421 = pd.read_csv('../data/NYC_CitiBike/Jersey City/JC-202104-citibike-tripdata.csv')"
   ]
  },
  {
   "cell_type": "markdown",
   "metadata": {},
   "source": [
    "Load NYC data"
   ]
  },
  {
   "cell_type": "code",
   "execution_count": 23,
   "metadata": {},
   "outputs": [],
   "source": [
    "citi0119 = pd.read_csv('../data/NYC_CitiBike/New York City/201901-citibike-tripdata.csv')\n",
    "citi0219 = pd.read_csv('../data/NYC_CitiBike/New York City/201902-citibike-tripdata.csv')\n",
    "citi0319 = pd.read_csv('../data/NYC_CitiBike/New York City/201903-citibike-tripdata.csv')\n",
    "citi0419 = pd.read_csv('../data/NYC_CitiBike/New York City/201904-citibike-tripdata.csv')\n",
    "citi0519 = pd.read_csv('../data/NYC_CitiBike/New York City/201905-citibike-tripdata.csv')\n",
    "citi0619 = pd.read_csv('../data/NYC_CitiBike/New York City/201906-citibike-tripdata.csv')\n",
    "citi0719 = pd.read_csv('../data/NYC_CitiBike/New York City/201907-citibike-tripdata.csv')\n",
    "citi0819 = pd.read_csv('../data/NYC_CitiBike/New York City/201908-citibike-tripdata.csv')\n",
    "citi0919 = pd.read_csv('../data/NYC_CitiBike/New York City/201909-citibike-tripdata.csv')\n",
    "citi1019 = pd.read_csv('../data/NYC_CitiBike/New York City/201910-citibike-tripdata.csv')\n",
    "citi1119 = pd.read_csv('../data/NYC_CitiBike/New York City/201911-citibike-tripdata.csv')\n",
    "citi1219 = pd.read_csv('../data/NYC_CitiBike/New York City/201912-citibike-tripdata.csv')\n",
    "citi0120 = pd.read_csv('../data/NYC_CitiBike/New York City/202001-citibike-tripdata.csv')\n",
    "citi0220 = pd.read_csv('../data/NYC_CitiBike/New York City/202002-citibike-tripdata.csv')\n",
    "citi0320 = pd.read_csv('../data/NYC_CitiBike/New York City/202003-citibike-tripdata.csv')\n",
    "citi0420 = pd.read_csv('../data/NYC_CitiBike/New York City/202004-citibike-tripdata.csv')\n",
    "citi0520 = pd.read_csv('../data/NYC_CitiBike/New York City/202005-citibike-tripdata.csv')\n",
    "citi0620 = pd.read_csv('../data/NYC_CitiBike/New York City/202006-citibike-tripdata.csv')\n",
    "citi0720 = pd.read_csv('../data/NYC_CitiBike/New York City/202007-citibike-tripdata.csv')\n",
    "citi0820 = pd.read_csv('../data/NYC_CitiBike/New York City/202008-citibike-tripdata.csv')\n",
    "citi0920 = pd.read_csv('../data/NYC_CitiBike/New York City/202009-citibike-tripdata.csv')\n",
    "citi1020 = pd.read_csv('../data/NYC_CitiBike/New York City/202010-citibike-tripdata.csv')\n",
    "citi1120 = pd.read_csv('../data/NYC_CitiBike/New York City/202011-citibike-tripdata.csv')\n",
    "citi1220 = pd.read_csv('../data/NYC_CitiBike/New York City/202012-citibike-tripdata.csv')\n",
    "citi0121 = pd.read_csv('../data/NYC_CitiBike/New York City/202101-citibike-tripdata.csv')\n",
    "citi0221 = pd.read_csv('../data/NYC_CitiBike/New York City/202102-citibike-tripdata.csv')\n",
    "citi0321 = pd.read_csv('../data/NYC_CitiBike/New York City/202103-citibike-tripdata.csv')\n",
    "citi0421 = pd.read_csv('../data/NYC_CitiBike/New York City/202104-citibike-tripdata.csv')\n",
    "citi0521 = pd.read_csv('../data/NYC_CitiBike/New York City/202105-citibike-tripdata.csv')"
   ]
  },
  {
   "cell_type": "code",
   "execution_count": 24,
   "metadata": {},
   "outputs": [],
   "source": [
    "all_citi = pd.concat([citi0119, citi0219, citi0319, citi0419, citi0519, citi0619, citi0719, citi0819, citi0919, citi1019, citi1119, citi1219, citi0120, citi0220, citi0320, citi0420, citi0520, citi0620, citi0720, citi0820, citi0920, citi1020, citi1120, citi1220, citi0121, citi0221, citi0321, citi0421])"
   ]
  },
  {
   "cell_type": "code",
   "execution_count": 25,
   "metadata": {},
   "outputs": [
    {
     "name": "stdout",
     "output_type": "stream",
     "text": [
      "<class 'pandas.core.frame.DataFrame'>\n",
      "Int64Index: 45402646 entries, 0 to 2067668\n",
      "Data columns (total 28 columns):\n",
      " #   Column                   Dtype  \n",
      "---  ------                   -----  \n",
      " 0   tripduration             float64\n",
      " 1   starttime                object \n",
      " 2   stoptime                 object \n",
      " 3   start station id         float64\n",
      " 4   start station name       object \n",
      " 5   start station latitude   float64\n",
      " 6   start station longitude  float64\n",
      " 7   end station id           float64\n",
      " 8   end station name         object \n",
      " 9   end station latitude     float64\n",
      " 10  end station longitude    float64\n",
      " 11  bikeid                   float64\n",
      " 12  usertype                 object \n",
      " 13  birth year               float64\n",
      " 14  gender                   float64\n",
      " 15  ride_id                  object \n",
      " 16  rideable_type            object \n",
      " 17  started_at               object \n",
      " 18  ended_at                 object \n",
      " 19  start_station_name       object \n",
      " 20  start_station_id         object \n",
      " 21  end_station_name         object \n",
      " 22  end_station_id           object \n",
      " 23  start_lat                float64\n",
      " 24  start_lng                float64\n",
      " 25  end_lat                  float64\n",
      " 26  end_lng                  float64\n",
      " 27  member_casual            object \n",
      "dtypes: float64(14), object(14)\n",
      "memory usage: 9.8+ GB\n"
     ]
    }
   ],
   "source": [
    "all_citi.info()"
   ]
  },
  {
   "cell_type": "code",
   "execution_count": 26,
   "metadata": {},
   "outputs": [],
   "source": [
    "all_citi = all_citi[['bikeid', 'starttime', 'stoptime', 'start station id', 'end station id']]"
   ]
  },
  {
   "cell_type": "code",
   "execution_count": 27,
   "metadata": {},
   "outputs": [],
   "source": [
    "all_citi['starttime'] = pd.to_datetime(all_citi['starttime'], format='%Y-%m-%d')\n",
    "all_citi['stoptime'] = pd.to_datetime(all_citi['stoptime'], format='%Y-%m-%d')"
   ]
  },
  {
   "cell_type": "code",
   "execution_count": 28,
   "metadata": {},
   "outputs": [
    {
     "data": {
      "text/html": [
       "<div>\n",
       "<style scoped>\n",
       "    .dataframe tbody tr th:only-of-type {\n",
       "        vertical-align: middle;\n",
       "    }\n",
       "\n",
       "    .dataframe tbody tr th {\n",
       "        vertical-align: top;\n",
       "    }\n",
       "\n",
       "    .dataframe thead th {\n",
       "        text-align: right;\n",
       "    }\n",
       "</style>\n",
       "<table border=\"1\" class=\"dataframe\">\n",
       "  <thead>\n",
       "    <tr style=\"text-align: right;\">\n",
       "      <th></th>\n",
       "      <th>bikeid</th>\n",
       "      <th>starttime</th>\n",
       "      <th>stoptime</th>\n",
       "      <th>start station id</th>\n",
       "      <th>end station id</th>\n",
       "    </tr>\n",
       "  </thead>\n",
       "  <tbody>\n",
       "    <tr>\n",
       "      <th>0</th>\n",
       "      <td>15839.0</td>\n",
       "      <td>2019-01-01 00:01:47.401</td>\n",
       "      <td>2019-01-01 00:07:07.581</td>\n",
       "      <td>3160.0</td>\n",
       "      <td>3283.0</td>\n",
       "    </tr>\n",
       "    <tr>\n",
       "      <th>1</th>\n",
       "      <td>32723.0</td>\n",
       "      <td>2019-01-01 00:04:43.736</td>\n",
       "      <td>2019-01-01 00:10:00.608</td>\n",
       "      <td>519.0</td>\n",
       "      <td>518.0</td>\n",
       "    </tr>\n",
       "    <tr>\n",
       "      <th>2</th>\n",
       "      <td>27451.0</td>\n",
       "      <td>2019-01-01 00:06:03.997</td>\n",
       "      <td>2019-01-01 00:15:55.438</td>\n",
       "      <td>3171.0</td>\n",
       "      <td>3154.0</td>\n",
       "    </tr>\n",
       "    <tr>\n",
       "      <th>3</th>\n",
       "      <td>21579.0</td>\n",
       "      <td>2019-01-01 00:07:03.545</td>\n",
       "      <td>2019-01-01 00:52:22.650</td>\n",
       "      <td>504.0</td>\n",
       "      <td>3709.0</td>\n",
       "    </tr>\n",
       "    <tr>\n",
       "      <th>4</th>\n",
       "      <td>35379.0</td>\n",
       "      <td>2019-01-01 00:07:35.945</td>\n",
       "      <td>2019-01-01 00:12:39.502</td>\n",
       "      <td>229.0</td>\n",
       "      <td>503.0</td>\n",
       "    </tr>\n",
       "  </tbody>\n",
       "</table>\n",
       "</div>"
      ],
      "text/plain": [
       "    bikeid               starttime                stoptime  start station id  \\\n",
       "0  15839.0 2019-01-01 00:01:47.401 2019-01-01 00:07:07.581            3160.0   \n",
       "1  32723.0 2019-01-01 00:04:43.736 2019-01-01 00:10:00.608             519.0   \n",
       "2  27451.0 2019-01-01 00:06:03.997 2019-01-01 00:15:55.438            3171.0   \n",
       "3  21579.0 2019-01-01 00:07:03.545 2019-01-01 00:52:22.650             504.0   \n",
       "4  35379.0 2019-01-01 00:07:35.945 2019-01-01 00:12:39.502             229.0   \n",
       "\n",
       "   end station id  \n",
       "0          3283.0  \n",
       "1           518.0  \n",
       "2          3154.0  \n",
       "3          3709.0  \n",
       "4           503.0  "
      ]
     },
     "execution_count": 28,
     "metadata": {},
     "output_type": "execute_result"
    }
   ],
   "source": [
    "all_citi.head()"
   ]
  },
  {
   "cell_type": "code",
   "execution_count": 29,
   "metadata": {},
   "outputs": [],
   "source": [
    "all_citi['duration'] = all_citi['stoptime'] - all_citi['starttime']"
   ]
  },
  {
   "cell_type": "code",
   "execution_count": 30,
   "metadata": {},
   "outputs": [],
   "source": [
    "all_citi = all_citi.dropna(subset=['start station id'])\n",
    "all_citi = all_citi.dropna(subset=['end station id'])\n",
    "all_citi = all_citi[~((all_citi['start station id'] == all_citi['end station id']) & (all_citi['duration'] < '00:05:00'))]"
   ]
  },
  {
   "cell_type": "code",
   "execution_count": 31,
   "metadata": {},
   "outputs": [],
   "source": [
    "all_citi['start_date'] = all_citi['starttime'].dt.date"
   ]
  },
  {
   "cell_type": "code",
   "execution_count": 32,
   "metadata": {},
   "outputs": [],
   "source": [
    "citi_by_date = all_citi.groupby('start_date').agg({'starttime':'count'}).reset_index()\n",
    "citi_by_date.rename(columns={'start_date':'ride_date', 'starttime':'ride_count'}, inplace = True)\n",
    "\n",
    "# citi_by_date = all_citi.groupby(['start_date'])['bikeid'].count()\n",
    "# citi_by_date = pd.DataFrame(citi_by_date).reset_index()"
   ]
  },
  {
   "cell_type": "code",
   "execution_count": 33,
   "metadata": {},
   "outputs": [],
   "source": [
    "citi_by_date['ride_date'] = pd.to_datetime(citi_by_date['ride_date'], format='%Y-%m-%d')"
   ]
  },
  {
   "cell_type": "code",
   "execution_count": 34,
   "metadata": {},
   "outputs": [
    {
     "name": "stdout",
     "output_type": "stream",
     "text": [
      "<class 'pandas.core.frame.DataFrame'>\n",
      "RangeIndex: 762 entries, 0 to 761\n",
      "Data columns (total 2 columns):\n",
      " #   Column      Non-Null Count  Dtype         \n",
      "---  ------      --------------  -----         \n",
      " 0   ride_date   762 non-null    datetime64[ns]\n",
      " 1   ride_count  762 non-null    int64         \n",
      "dtypes: datetime64[ns](1), int64(1)\n",
      "memory usage: 12.0 KB\n"
     ]
    }
   ],
   "source": [
    "citi_by_date.info()"
   ]
  },
  {
   "cell_type": "code",
   "execution_count": 35,
   "metadata": {},
   "outputs": [],
   "source": [
    "citi_by_date['month'] = citi_by_date['ride_date'].dt.month\n",
    "citi_by_date['year'] = citi_by_date['ride_date'].dt.year\n",
    "citi_by_date['m_y'] = citi_by_date['month'].apply(str) + '-' + citi_by_date['year'].apply(str) "
   ]
  },
  {
   "cell_type": "code",
   "execution_count": 36,
   "metadata": {},
   "outputs": [
    {
     "data": {
      "text/html": [
       "<div>\n",
       "<style scoped>\n",
       "    .dataframe tbody tr th:only-of-type {\n",
       "        vertical-align: middle;\n",
       "    }\n",
       "\n",
       "    .dataframe tbody tr th {\n",
       "        vertical-align: top;\n",
       "    }\n",
       "\n",
       "    .dataframe thead th {\n",
       "        text-align: right;\n",
       "    }\n",
       "</style>\n",
       "<table border=\"1\" class=\"dataframe\">\n",
       "  <thead>\n",
       "    <tr style=\"text-align: right;\">\n",
       "      <th></th>\n",
       "      <th>ride_date</th>\n",
       "      <th>ride_count</th>\n",
       "      <th>month</th>\n",
       "      <th>year</th>\n",
       "      <th>m_y</th>\n",
       "    </tr>\n",
       "  </thead>\n",
       "  <tbody>\n",
       "    <tr>\n",
       "      <th>0</th>\n",
       "      <td>2019-01-01</td>\n",
       "      <td>21778</td>\n",
       "      <td>1</td>\n",
       "      <td>2019</td>\n",
       "      <td>1-2019</td>\n",
       "    </tr>\n",
       "    <tr>\n",
       "      <th>1</th>\n",
       "      <td>2019-01-02</td>\n",
       "      <td>37670</td>\n",
       "      <td>1</td>\n",
       "      <td>2019</td>\n",
       "      <td>1-2019</td>\n",
       "    </tr>\n",
       "    <tr>\n",
       "      <th>2</th>\n",
       "      <td>2019-01-03</td>\n",
       "      <td>41544</td>\n",
       "      <td>1</td>\n",
       "      <td>2019</td>\n",
       "      <td>1-2019</td>\n",
       "    </tr>\n",
       "    <tr>\n",
       "      <th>3</th>\n",
       "      <td>2019-01-04</td>\n",
       "      <td>43776</td>\n",
       "      <td>1</td>\n",
       "      <td>2019</td>\n",
       "      <td>1-2019</td>\n",
       "    </tr>\n",
       "    <tr>\n",
       "      <th>4</th>\n",
       "      <td>2019-01-05</td>\n",
       "      <td>17356</td>\n",
       "      <td>1</td>\n",
       "      <td>2019</td>\n",
       "      <td>1-2019</td>\n",
       "    </tr>\n",
       "    <tr>\n",
       "      <th>...</th>\n",
       "      <td>...</td>\n",
       "      <td>...</td>\n",
       "      <td>...</td>\n",
       "      <td>...</td>\n",
       "      <td>...</td>\n",
       "    </tr>\n",
       "    <tr>\n",
       "      <th>757</th>\n",
       "      <td>2021-01-27</td>\n",
       "      <td>38717</td>\n",
       "      <td>1</td>\n",
       "      <td>2021</td>\n",
       "      <td>1-2021</td>\n",
       "    </tr>\n",
       "    <tr>\n",
       "      <th>758</th>\n",
       "      <td>2021-01-28</td>\n",
       "      <td>33909</td>\n",
       "      <td>1</td>\n",
       "      <td>2021</td>\n",
       "      <td>1-2021</td>\n",
       "    </tr>\n",
       "    <tr>\n",
       "      <th>759</th>\n",
       "      <td>2021-01-29</td>\n",
       "      <td>23347</td>\n",
       "      <td>1</td>\n",
       "      <td>2021</td>\n",
       "      <td>1-2021</td>\n",
       "    </tr>\n",
       "    <tr>\n",
       "      <th>760</th>\n",
       "      <td>2021-01-30</td>\n",
       "      <td>27041</td>\n",
       "      <td>1</td>\n",
       "      <td>2021</td>\n",
       "      <td>1-2021</td>\n",
       "    </tr>\n",
       "    <tr>\n",
       "      <th>761</th>\n",
       "      <td>2021-01-31</td>\n",
       "      <td>21522</td>\n",
       "      <td>1</td>\n",
       "      <td>2021</td>\n",
       "      <td>1-2021</td>\n",
       "    </tr>\n",
       "  </tbody>\n",
       "</table>\n",
       "<p>762 rows × 5 columns</p>\n",
       "</div>"
      ],
      "text/plain": [
       "     ride_date  ride_count  month  year     m_y\n",
       "0   2019-01-01       21778      1  2019  1-2019\n",
       "1   2019-01-02       37670      1  2019  1-2019\n",
       "2   2019-01-03       41544      1  2019  1-2019\n",
       "3   2019-01-04       43776      1  2019  1-2019\n",
       "4   2019-01-05       17356      1  2019  1-2019\n",
       "..         ...         ...    ...   ...     ...\n",
       "757 2021-01-27       38717      1  2021  1-2021\n",
       "758 2021-01-28       33909      1  2021  1-2021\n",
       "759 2021-01-29       23347      1  2021  1-2021\n",
       "760 2021-01-30       27041      1  2021  1-2021\n",
       "761 2021-01-31       21522      1  2021  1-2021\n",
       "\n",
       "[762 rows x 5 columns]"
      ]
     },
     "execution_count": 36,
     "metadata": {},
     "output_type": "execute_result"
    }
   ],
   "source": [
    "citi_by_date"
   ]
  },
  {
   "cell_type": "code",
   "execution_count": 37,
   "metadata": {},
   "outputs": [
    {
     "data": {
      "image/png": "[encoded data removed]",
      "text/plain": [
       "<Figure size 432x288 with 1 Axes>"
      ]
     },
     "metadata": {
      "needs_background": "light"
     },
     "output_type": "display_data"
    }
   ],
   "source": [
    "plt.barh('m_y', 'ride_count', data=citi_by_date)\n",
    "plt.tight_layout()"
   ]
  },
  {
   "cell_type": "code",
   "execution_count": 38,
   "metadata": {},
   "outputs": [],
   "source": [
    "citi_by_date.to_csv('citi_by_date.csv')"
   ]
  },
  {
   "cell_type": "code",
   "execution_count": null,
   "metadata": {},
   "outputs": [],
   "source": []
  },
  {
   "cell_type": "code",
   "execution_count": null,
   "metadata": {},
   "outputs": [],
   "source": []
  }
 ],
 "metadata": {
  "kernelspec": {
   "display_name": "Python 3",
   "language": "python",
   "name": "python3"
  },
  "language_info": {
   "codemirror_mode": {
    "name": "ipython",
    "version": 3
   },
   "file_extension": ".py",
   "mimetype": "text/x-python",
   "name": "python",
   "nbconvert_exporter": "python",
   "pygments_lexer": "ipython3",
   "version": "3.7.6"
  }
 },
 "nbformat": 4,
 "nbformat_minor": 4
}
