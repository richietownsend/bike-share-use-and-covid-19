{
 "cells": [
  {
   "cell_type": "code",
   "execution_count": 1,
   "metadata": {},
   "outputs": [],
   "source": [
    "import os\n",
    "import pandas as pd\n",
    "import matplotlib.pyplot as plt"
   ]
  },
  {
   "cell_type": "markdown",
   "metadata": {},
   "source": [
    "Import csv files as dataframes"
   ]
  },
  {
   "cell_type": "code",
   "execution_count": 9,
   "metadata": {},
   "outputs": [],
   "source": [
    "pdx_by_date = pd.read_csv('../data/By_Date/pdx_by_date.csv')\n",
    "metro_by_date = pd.read_csv('../data/By_Date/metro_by_date.csv')\n",
    "divvy_by_date = pd.read_csv('../data/By_Date/divvy_by_date.csv')\n",
    "citi_by_date = pd.read_csv('../data/By_Date/citi_by_date.csv')\n",
    "capital_by_date = pd.read_csv('../data/By_Date/capital_by_date.csv')\n",
    "bay_by_date = pd.read_csv('../data/By_Date/bay_by_date.csv')"
   ]
  },
  {
   "cell_type": "markdown",
   "metadata": {},
   "source": [
    "correct LA's \"ride_date\" column"
   ]
  },
  {
   "cell_type": "code",
   "execution_count": 3,
   "metadata": {},
   "outputs": [],
   "source": [
    "metro_by_date.rename(columns={'start_date':'ride_date'}, inplace=True)"
   ]
  },
  {
   "cell_type": "markdown",
   "metadata": {},
   "source": [
    "Plot total ride counts by city"
   ]
  },
  {
   "cell_type": "code",
   "execution_count": 10,
   "metadata": {},
   "outputs": [
    {
     "data": {
      "image/png": "[encoded data removed]",
      "text/plain": [
       "<Figure size 432x288 with 1 Axes>"
      ]
     },
     "metadata": {
      "needs_background": "light"
     },
     "output_type": "display_data"
    }
   ],
   "source": [
    "fig = figsize=(50,50)\n",
    "\n",
    "plt.barh('m_y', 'ride_count', data=divvy_by_date, color='blue')\n",
    "plt.tight_layout()\n",
    "\n",
    "plt.barh('m_y', 'ride_count', data=capital_by_date, color='red')\n",
    "plt.tight_layout()\n",
    "\n",
    "plt.barh('m_y', 'ride_count', data=bay_by_date, color = 'green')\n",
    "plt.tight_layout()\n",
    "\n",
    "plt.barh('m_y', 'ride_count', data=citi_by_date, color='purple')\n",
    "plt.tight_layout()\n",
    "\n",
    "plt.barh('m_y', 'ride_count', data=metro_by_date, color='orange')\n",
    "plt.tight_layout()\n",
    "\n",
    "plt.barh('m_y', 'ride_count', data=pdx_by_date, color='yellow')\n",
    "plt.tight_layout()\n",
    "\n",
    "\n",
    "# legend.show()"
   ]
  },
  {
   "cell_type": "markdown",
   "metadata": {},
   "source": [
    "Insert \"City Column\" in each DF"
   ]
  },
  {
   "cell_type": "code",
   "execution_count": 5,
   "metadata": {},
   "outputs": [],
   "source": [
    "pdx_by_date['city'] = 'Portland'\n",
    "metro_by_date['city'] = 'Los Angeles'\n",
    "divvy_by_date['city'] = 'Chicago'\n",
    "citi_by_date['city'] = 'New York City'\n",
    "capital_by_date['city'] = 'Washington DC'\n",
    "bay_by_date['city'] = 'San Francisco'"
   ]
  },
  {
   "cell_type": "markdown",
   "metadata": {},
   "source": [
    "Concatenate All DataFrames into what will be exported into Power BI"
   ]
  },
  {
   "cell_type": "code",
   "execution_count": 6,
   "metadata": {},
   "outputs": [],
   "source": [
    "all_cities = pd.concat([pdx_by_date, bay_by_date, divvy_by_date, metro_by_date, citi_by_date, capital_by_date])"
   ]
  },
  {
   "cell_type": "markdown",
   "metadata": {},
   "source": [
    "Drop Unnecessary Columns"
   ]
  },
  {
   "cell_type": "code",
   "execution_count": 11,
   "metadata": {},
   "outputs": [
    {
     "data": {
      "text/html": [
       "<div>\n",
       "<style scoped>\n",
       "    .dataframe tbody tr th:only-of-type {\n",
       "        vertical-align: middle;\n",
       "    }\n",
       "\n",
       "    .dataframe tbody tr th {\n",
       "        vertical-align: top;\n",
       "    }\n",
       "\n",
       "    .dataframe thead th {\n",
       "        text-align: right;\n",
       "    }\n",
       "</style>\n",
       "<table border=\"1\" class=\"dataframe\">\n",
       "  <thead>\n",
       "    <tr style=\"text-align: right;\">\n",
       "      <th></th>\n",
       "      <th>ride_date</th>\n",
       "      <th>ride_count</th>\n",
       "      <th>city</th>\n",
       "    </tr>\n",
       "  </thead>\n",
       "  <tbody>\n",
       "    <tr>\n",
       "      <th>0</th>\n",
       "      <td>2019-01-01</td>\n",
       "      <td>174</td>\n",
       "      <td>Portland</td>\n",
       "    </tr>\n",
       "    <tr>\n",
       "      <th>1</th>\n",
       "      <td>2019-01-02</td>\n",
       "      <td>222</td>\n",
       "      <td>Portland</td>\n",
       "    </tr>\n",
       "    <tr>\n",
       "      <th>2</th>\n",
       "      <td>2019-01-03</td>\n",
       "      <td>212</td>\n",
       "      <td>Portland</td>\n",
       "    </tr>\n",
       "    <tr>\n",
       "      <th>3</th>\n",
       "      <td>2019-01-04</td>\n",
       "      <td>231</td>\n",
       "      <td>Portland</td>\n",
       "    </tr>\n",
       "    <tr>\n",
       "      <th>4</th>\n",
       "      <td>2019-01-05</td>\n",
       "      <td>164</td>\n",
       "      <td>Portland</td>\n",
       "    </tr>\n",
       "    <tr>\n",
       "      <th>...</th>\n",
       "      <td>...</td>\n",
       "      <td>...</td>\n",
       "      <td>...</td>\n",
       "    </tr>\n",
       "    <tr>\n",
       "      <th>816</th>\n",
       "      <td>2021-04-26</td>\n",
       "      <td>5209</td>\n",
       "      <td>Washington DC</td>\n",
       "    </tr>\n",
       "    <tr>\n",
       "      <th>817</th>\n",
       "      <td>2021-04-27</td>\n",
       "      <td>6623</td>\n",
       "      <td>Washington DC</td>\n",
       "    </tr>\n",
       "    <tr>\n",
       "      <th>818</th>\n",
       "      <td>2021-04-28</td>\n",
       "      <td>6061</td>\n",
       "      <td>Washington DC</td>\n",
       "    </tr>\n",
       "    <tr>\n",
       "      <th>819</th>\n",
       "      <td>2021-04-29</td>\n",
       "      <td>5463</td>\n",
       "      <td>Washington DC</td>\n",
       "    </tr>\n",
       "    <tr>\n",
       "      <th>820</th>\n",
       "      <td>2021-04-30</td>\n",
       "      <td>5222</td>\n",
       "      <td>Washington DC</td>\n",
       "    </tr>\n",
       "  </tbody>\n",
       "</table>\n",
       "<p>4801 rows × 3 columns</p>\n",
       "</div>"
      ],
      "text/plain": [
       "      ride_date  ride_count           city\n",
       "0    2019-01-01         174       Portland\n",
       "1    2019-01-02         222       Portland\n",
       "2    2019-01-03         212       Portland\n",
       "3    2019-01-04         231       Portland\n",
       "4    2019-01-05         164       Portland\n",
       "..          ...         ...            ...\n",
       "816  2021-04-26        5209  Washington DC\n",
       "817  2021-04-27        6623  Washington DC\n",
       "818  2021-04-28        6061  Washington DC\n",
       "819  2021-04-29        5463  Washington DC\n",
       "820  2021-04-30        5222  Washington DC\n",
       "\n",
       "[4801 rows x 3 columns]"
      ]
     },
     "execution_count": 11,
     "metadata": {},
     "output_type": "execute_result"
    }
   ],
   "source": [
    "all_cities.drop(['Unnamed: 0', 'month', 'year', 'm_y'], axis=1)"
   ]
  },
  {
   "cell_type": "markdown",
   "metadata": {},
   "source": [
    "Save as CSV"
   ]
  },
  {
   "cell_type": "code",
   "execution_count": 12,
   "metadata": {},
   "outputs": [],
   "source": [
    "all_cities.to_csv('all_cities.csv')"
   ]
  },
  {
   "cell_type": "code",
   "execution_count": null,
   "metadata": {},
   "outputs": [],
   "source": []
  }
 ],
 "metadata": {
  "kernelspec": {
   "display_name": "Python 3",
   "language": "python",
   "name": "python3"
  },
  "language_info": {
   "codemirror_mode": {
    "name": "ipython",
    "version": 3
   },
   "file_extension": ".py",
   "mimetype": "text/x-python",
   "name": "python",
   "nbconvert_exporter": "python",
   "pygments_lexer": "ipython3",
   "version": "3.7.6"
  }
 },
 "nbformat": 4,
 "nbformat_minor": 5
}
