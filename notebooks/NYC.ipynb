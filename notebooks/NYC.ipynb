{
 "cells": [
  {
   "cell_type": "code",
   "execution_count": 1,
   "metadata": {},
   "outputs": [],
   "source": [
    "import pandas as pd\n",
    "import os\n",
    "import matplotlib.pyplot as plt"
   ]
  },
  {
   "cell_type": "markdown",
   "metadata": {},
   "source": [
    "For NYC"
   ]
  },
  {
   "cell_type": "code",
   "execution_count": 2,
   "metadata": {},
   "outputs": [
    {
     "name": "stdout",
     "output_type": "stream",
     "text": [
      "pd.read_csv('../data/bike_share/NYC_CitiBike/New York City/202006-citibike-tripdata.csv')\n",
      "pd.read_csv('../data/bike_share/NYC_CitiBike/New York City/202105-citibike-tripdata.csv')\n",
      "pd.read_csv('../data/bike_share/NYC_CitiBike/New York City/202010-citibike-tripdata.csv')\n",
      "pd.read_csv('../data/bike_share/NYC_CitiBike/New York City/201902-citibike-tripdata.csv')\n",
      "pd.read_csv('../data/bike_share/NYC_CitiBike/New York City/201908-citibike-tripdata.csv')\n",
      "pd.read_csv('../data/bike_share/NYC_CitiBike/New York City/202004-citibike-tripdata.csv')\n",
      "pd.read_csv('../data/bike_share/NYC_CitiBike/New York City/202012-citibike-tripdata.csv')\n",
      "pd.read_csv('../data/bike_share/NYC_CitiBike/New York City/202101-citibike-tripdata.csv')\n",
      "pd.read_csv('../data/bike_share/NYC_CitiBike/New York City/202002-citibike-tripdata.csv')\n",
      "pd.read_csv('../data/bike_share/NYC_CitiBike/New York City/201906-citibike-tripdata.csv')\n",
      "pd.read_csv('../data/bike_share/NYC_CitiBike/New York City/201910-citibike-tripdata.csv')\n",
      "pd.read_csv('../data/bike_share/NYC_CitiBike/New York City/201904-citibike-tripdata.csv')\n",
      "pd.read_csv('../data/bike_share/NYC_CitiBike/New York City/201912-citibike-tripdata.csv')\n",
      "pd.read_csv('../data/bike_share/NYC_CitiBike/New York City/202103-citibike-tripdata.csv')\n",
      "pd.read_csv('../data/bike_share/NYC_CitiBike/New York City/202008-citibike-tripdata.csv')\n",
      "pd.read_csv('../data/bike_share/NYC_CitiBike/New York City/202011-citibike-tripdata.csv')\n",
      "pd.read_csv('../data/bike_share/NYC_CitiBike/New York City/202007-citibike-tripdata.csv')\n",
      "pd.read_csv('../data/bike_share/NYC_CitiBike/New York City/202104-citibike-tripdata.csv')\n",
      "pd.read_csv('../data/bike_share/NYC_CitiBike/New York City/201903-citibike-tripdata.csv')\n",
      "pd.read_csv('../data/bike_share/NYC_CitiBike/New York City/201901-citibike-tripdata.csv')\n",
      "pd.read_csv('../data/bike_share/NYC_CitiBike/New York City/202005-citibike-tripdata.csv')\n",
      "pd.read_csv('../data/bike_share/NYC_CitiBike/New York City/201909-citibike-tripdata.csv')\n",
      "pd.read_csv('../data/bike_share/NYC_CitiBike/New York City/202003-citibike-tripdata.csv')\n",
      "pd.read_csv('../data/bike_share/NYC_CitiBike/New York City/201911-citibike-tripdata.csv')\n",
      "pd.read_csv('../data/bike_share/NYC_CitiBike/New York City/201907-citibike-tripdata.csv')\n",
      "pd.read_csv('../data/bike_share/NYC_CitiBike/New York City/202009-citibike-tripdata.csv')\n",
      "pd.read_csv('../data/bike_share/NYC_CitiBike/New York City/201905-citibike-tripdata.csv')\n",
      "pd.read_csv('../data/bike_share/NYC_CitiBike/New York City/202102-citibike-tripdata.csv')\n",
      "pd.read_csv('../data/bike_share/NYC_CitiBike/New York City/202001-citibike-tripdata.csv')\n"
     ]
    }
   ],
   "source": [
    "path = \"/Users/richietownsend/Nashville Software School/NSS_Data_Analytics/Capstone/bike_share/data/NYC_CitiBike/New York City\"\n",
    "list = []\n",
    " \n",
    "for (root, dirs, file) in os.walk(path):\n",
    "    for f in file:\n",
    "        if '.csv' in f:\n",
    "            print('pd.read_csv(\\'../data/bike_share/NYC_CitiBike/New York City/'+f+'\\')')"
   ]
  },
  {
   "cell_type": "markdown",
   "metadata": {},
   "source": [
    "For Jersey City"
   ]
  },
  {
   "cell_type": "code",
   "execution_count": 3,
   "metadata": {
    "scrolled": true
   },
   "outputs": [
    {
     "name": "stdout",
     "output_type": "stream",
     "text": [
      "pd.read_csv('../data/bike_share/NYC_CitiBike/Jersey City/JC-202010-citibike-tripdata.csv')\n",
      "pd.read_csv('../data/bike_share/NYC_CitiBike/Jersey City/JC-202006-citibike-tripdata.csv')\n",
      "pd.read_csv('../data/bike_share/NYC_CitiBike/Jersey City/JC-201902-citibike-tripdata.csv')\n",
      "pd.read_csv('../data/bike_share/NYC_CitiBike/Jersey City/JC-202012-citibike-tripdata.csv')\n",
      "pd.read_csv('../data/bike_share/NYC_CitiBike/Jersey City/JC-202004-citibike-tripdata.csv')\n",
      "pd.read_csv('../data/bike_share/NYC_CitiBike/Jersey City/JC-201908-citibike-tripdata.csv')\n",
      "pd.read_csv('../data/bike_share/NYC_CitiBike/Jersey City/JC-202101-citibike-tripdata.csv')\n",
      "pd.read_csv('../data/bike_share/NYC_CitiBike/Jersey City/JC-202002-citibike-tripdata.csv')\n",
      "pd.read_csv('../data/bike_share/NYC_CitiBike/Jersey City/JC-201910-citibike-tripdata.csv')\n",
      "pd.read_csv('../data/bike_share/NYC_CitiBike/Jersey City/JC-201906-citibike-tripdata.csv')\n",
      "pd.read_csv('../data/bike_share/NYC_CitiBike/Jersey City/JC-202008-citibike-tripdata.csv')\n",
      "pd.read_csv('../data/bike_share/NYC_CitiBike/Jersey City/JC-201912-citibike-tripdata.csv')\n",
      "pd.read_csv('../data/bike_share/NYC_CitiBike/Jersey City/JC-201904-citibike-tripdata.csv')\n",
      "pd.read_csv('../data/bike_share/NYC_CitiBike/Jersey City/JC-202103-citibike-tripdata.csv')\n",
      "pd.read_csv('../data/bike_share/NYC_CitiBike/Jersey City/JC-202007-citibike-tripdata.csv')\n",
      "pd.read_csv('../data/bike_share/NYC_CitiBike/Jersey City/JC-202104-citibike-tripdata.csv')\n",
      "pd.read_csv('../data/bike_share/NYC_CitiBike/Jersey City/JC-202011-citibike-tripdata.csv')\n",
      "pd.read_csv('../data/bike_share/NYC_CitiBike/Jersey City/JC-201903-citibike-tripdata.csv')\n",
      "pd.read_csv('../data/bike_share/NYC_CitiBike/Jersey City/JC-201909-citibike-tripdata.csv')\n",
      "pd.read_csv('../data/bike_share/NYC_CitiBike/Jersey City/JC-201901-citibike-tripdata.csv')\n",
      "pd.read_csv('../data/bike_share/NYC_CitiBike/Jersey City/JC-202005-citibike-tripdata.csv')\n",
      "pd.read_csv('../data/bike_share/NYC_CitiBike/Jersey City/JC-202003-citibike-tripdata.csv')\n",
      "pd.read_csv('../data/bike_share/NYC_CitiBike/Jersey City/JC-201907-citibike-tripdata.csv')\n",
      "pd.read_csv('../data/bike_share/NYC_CitiBike/Jersey City/JC-201911-citibike-tripdata.csv')\n",
      "pd.read_csv('../data/bike_share/NYC_CitiBike/Jersey City/JC-201812-citibike-tripdata.csv')\n",
      "pd.read_csv('../data/bike_share/NYC_CitiBike/Jersey City/JC-201905-citibike-tripdata.csv')\n",
      "pd.read_csv('../data/bike_share/NYC_CitiBike/Jersey City/JC-202102-citibike-tripdata.csv')\n",
      "pd.read_csv('../data/bike_share/NYC_CitiBike/Jersey City/JC-202001-citibike-tripdata.csv')\n",
      "pd.read_csv('../data/bike_share/NYC_CitiBike/Jersey City/JC-202009-citibike-tripdata.csv')\n"
     ]
    }
   ],
   "source": [
    "# This is my path\n",
    "path = \"/Users/richietownsend/Nashville Software School/NSS_Data_Analytics/Capstone/bike_share/data/NYC_CitiBike/Jersey City\"\n",
    "\n",
    "# to store files in a list\n",
    "list = []\n",
    " \n",
    "# dirs=directories\n",
    "for (root, dirs, file) in os.walk(path):\n",
    "    for f in file:\n",
    "        if '.csv' in f:\n",
    "            print('pd.read_csv(\\'../data/bike_share/NYC_CitiBike/Jersey City/'+f+'\\')')"
   ]
  },
  {
   "cell_type": "markdown",
   "metadata": {},
   "source": [
    "Load Jersey City data"
   ]
  },
  {
   "cell_type": "code",
   "execution_count": 4,
   "metadata": {},
   "outputs": [],
   "source": [
    "jc_citi0119 = pd.read_csv('../data/NYC_CitiBike/Jersey City/JC-201901-citibike-tripdata.csv')\n",
    "jc_citi0219 = pd.read_csv('../data/NYC_CitiBike/Jersey City/JC-201902-citibike-tripdata.csv')\n",
    "jc_citi0319 = pd.read_csv('../data/NYC_CitiBike/Jersey City/JC-201903-citibike-tripdata.csv')\n",
    "jc_citi0419 = pd.read_csv('../data/NYC_CitiBike/Jersey City/JC-201904-citibike-tripdata.csv')\n",
    "jc_citi0519 = pd.read_csv('../data/NYC_CitiBike/Jersey City/JC-201905-citibike-tripdata.csv')\n",
    "jc_citi0619 = pd.read_csv('../data/NYC_CitiBike/Jersey City/JC-201906-citibike-tripdata.csv')\n",
    "jc_citi0719 = pd.read_csv('../data/NYC_CitiBike/Jersey City/JC-201907-citibike-tripdata.csv')\n",
    "jc_citi0819 = pd.read_csv('../data/NYC_CitiBike/Jersey City/JC-201908-citibike-tripdata.csv')\n",
    "jc_citi0919 = pd.read_csv('../data/NYC_CitiBike/Jersey City/JC-201909-citibike-tripdata.csv')\n",
    "jc_citi1019 = pd.read_csv('../data/NYC_CitiBike/Jersey City/JC-201910-citibike-tripdata.csv')\n",
    "jc_citi1119 = pd.read_csv('../data/NYC_CitiBike/Jersey City/JC-201911-citibike-tripdata.csv')\n",
    "jc_citi1219 = pd.read_csv('../data/NYC_CitiBike/Jersey City/JC-201912-citibike-tripdata.csv')\n",
    "jc_citi0120 = pd.read_csv('../data/NYC_CitiBike/Jersey City/JC-202001-citibike-tripdata.csv')\n",
    "jc_citi0220 = pd.read_csv('../data/NYC_CitiBike/Jersey City/JC-202002-citibike-tripdata.csv')\n",
    "jc_citi0320 = pd.read_csv('../data/NYC_CitiBike/Jersey City/JC-202003-citibike-tripdata.csv')\n",
    "jc_citi0420 = pd.read_csv('../data/NYC_CitiBike/Jersey City/JC-202004-citibike-tripdata.csv')\n",
    "jc_citi0520 = pd.read_csv('../data/NYC_CitiBike/Jersey City/JC-202005-citibike-tripdata.csv')\n",
    "jc_citi0620 = pd.read_csv('../data/NYC_CitiBike/Jersey City/JC-202006-citibike-tripdata.csv')\n",
    "jc_citi0720 = pd.read_csv('../data/NYC_CitiBike/Jersey City/JC-202007-citibike-tripdata.csv')\n",
    "jc_citi0820 = pd.read_csv('../data/NYC_CitiBike/Jersey City/JC-202008-citibike-tripdata.csv')\n",
    "jc_citi0920 = pd.read_csv('../data/NYC_CitiBike/Jersey City/JC-202009-citibike-tripdata.csv')\n",
    "jc_citi1020 = pd.read_csv('../data/NYC_CitiBike/Jersey City/JC-202010-citibike-tripdata.csv')\n",
    "jc_citi1120 = pd.read_csv('../data/NYC_CitiBike/Jersey City/JC-202011-citibike-tripdata.csv')\n",
    "jc_citi1220 = pd.read_csv('../data/NYC_CitiBike/Jersey City/JC-202012-citibike-tripdata.csv')\n",
    "jc_citi0121 = pd.read_csv('../data/NYC_CitiBike/Jersey City/JC-202101-citibike-tripdata.csv')\n",
    "jc_citi0221 = pd.read_csv('../data/NYC_CitiBike/Jersey City/JC-202102-citibike-tripdata.csv')\n",
    "jc_citi0321 = pd.read_csv('../data/NYC_CitiBike/Jersey City/JC-202103-citibike-tripdata.csv')\n",
    "jc_citi0421 = pd.read_csv('../data/NYC_CitiBike/Jersey City/JC-202104-citibike-tripdata.csv')"
   ]
  },
  {
   "cell_type": "markdown",
   "metadata": {},
   "source": [
    "Load NYC data"
   ]
  },
  {
   "cell_type": "code",
   "execution_count": 5,
   "metadata": {},
   "outputs": [
    {
     "name": "stderr",
     "output_type": "stream",
     "text": [
      "/Users/richietownsend/opt/anaconda3/lib/python3.7/site-packages/IPython/core/interactiveshell.py:3063: DtypeWarning: Columns (5,7) have mixed types.Specify dtype option on import or set low_memory=False.\n",
      "  interactivity=interactivity, compiler=compiler, result=result)\n"
     ]
    }
   ],
   "source": [
    "citi0119 = pd.read_csv('../data/NYC_CitiBike/New York City/201901-citibike-tripdata.csv')\n",
    "citi0219 = pd.read_csv('../data/NYC_CitiBike/New York City/201902-citibike-tripdata.csv')\n",
    "citi0319 = pd.read_csv('../data/NYC_CitiBike/New York City/201903-citibike-tripdata.csv')\n",
    "citi0419 = pd.read_csv('../data/NYC_CitiBike/New York City/201904-citibike-tripdata.csv')\n",
    "citi0519 = pd.read_csv('../data/NYC_CitiBike/New York City/201905-citibike-tripdata.csv')\n",
    "citi0619 = pd.read_csv('../data/NYC_CitiBike/New York City/201906-citibike-tripdata.csv')\n",
    "citi0719 = pd.read_csv('../data/NYC_CitiBike/New York City/201907-citibike-tripdata.csv')\n",
    "citi0819 = pd.read_csv('../data/NYC_CitiBike/New York City/201908-citibike-tripdata.csv')\n",
    "citi0919 = pd.read_csv('../data/NYC_CitiBike/New York City/201909-citibike-tripdata.csv')\n",
    "citi1019 = pd.read_csv('../data/NYC_CitiBike/New York City/201910-citibike-tripdata.csv')\n",
    "citi1119 = pd.read_csv('../data/NYC_CitiBike/New York City/201911-citibike-tripdata.csv')\n",
    "citi1219 = pd.read_csv('../data/NYC_CitiBike/New York City/201912-citibike-tripdata.csv')\n",
    "citi0120 = pd.read_csv('../data/NYC_CitiBike/New York City/202001-citibike-tripdata.csv')\n",
    "citi0220 = pd.read_csv('../data/NYC_CitiBike/New York City/202002-citibike-tripdata.csv')\n",
    "citi0320 = pd.read_csv('../data/NYC_CitiBike/New York City/202003-citibike-tripdata.csv')\n",
    "citi0420 = pd.read_csv('../data/NYC_CitiBike/New York City/202004-citibike-tripdata.csv')\n",
    "citi0520 = pd.read_csv('../data/NYC_CitiBike/New York City/202005-citibike-tripdata.csv')\n",
    "citi0620 = pd.read_csv('../data/NYC_CitiBike/New York City/202006-citibike-tripdata.csv')\n",
    "citi0720 = pd.read_csv('../data/NYC_CitiBike/New York City/202007-citibike-tripdata.csv')\n",
    "citi0820 = pd.read_csv('../data/NYC_CitiBike/New York City/202008-citibike-tripdata.csv')\n",
    "citi0920 = pd.read_csv('../data/NYC_CitiBike/New York City/202009-citibike-tripdata.csv')\n",
    "citi1020 = pd.read_csv('../data/NYC_CitiBike/New York City/202010-citibike-tripdata.csv')\n",
    "citi1120 = pd.read_csv('../data/NYC_CitiBike/New York City/202011-citibike-tripdata.csv')\n",
    "citi1220 = pd.read_csv('../data/NYC_CitiBike/New York City/202012-citibike-tripdata.csv')\n",
    "citi0121 = pd.read_csv('../data/NYC_CitiBike/New York City/202101-citibike-tripdata.csv')\n",
    "citi0221 = pd.read_csv('../data/NYC_CitiBike/New York City/202102-citibike-tripdata.csv')\n",
    "citi0321 = pd.read_csv('../data/NYC_CitiBike/New York City/202103-citibike-tripdata.csv')\n",
    "citi0421 = pd.read_csv('../data/NYC_CitiBike/New York City/202104-citibike-tripdata.csv')\n",
    "citi0521 = pd.read_csv('../data/NYC_CitiBike/New York City/202105-citibike-tripdata.csv')"
   ]
  },
  {
   "cell_type": "code",
   "execution_count": 6,
   "metadata": {},
   "outputs": [],
   "source": [
    "all_citi = pd.concat([citi0119, citi0219, citi0319, citi0419, citi0519, citi0619, citi0719, citi0819, citi0919, citi1019, citi1119, citi1219, citi0120, citi0220, citi0320, citi0420, citi0520, citi0620, citi0720, citi0820, citi0920, citi1020, citi1120, citi1220, citi0121, citi0221, citi0321, citi0421])"
   ]
  },
  {
   "cell_type": "code",
   "execution_count": 7,
   "metadata": {},
   "outputs": [],
   "source": [
    "all_citi2 = pd.concat([citi0221, citi0321, citi0421])"
   ]
  },
  {
   "cell_type": "code",
   "execution_count": 8,
   "metadata": {},
   "outputs": [
    {
     "name": "stdout",
     "output_type": "stream",
     "text": [
      "<class 'pandas.core.frame.DataFrame'>\n",
      "Int64Index: 4248746 entries, 0 to 2067668\n",
      "Data columns (total 13 columns):\n",
      " #   Column              Dtype  \n",
      "---  ------              -----  \n",
      " 0   ride_id             object \n",
      " 1   rideable_type       object \n",
      " 2   started_at          object \n",
      " 3   ended_at            object \n",
      " 4   start_station_name  object \n",
      " 5   start_station_id    object \n",
      " 6   end_station_name    object \n",
      " 7   end_station_id      object \n",
      " 8   start_lat           float64\n",
      " 9   start_lng           float64\n",
      " 10  end_lat             float64\n",
      " 11  end_lng             float64\n",
      " 12  member_casual       object \n",
      "dtypes: float64(4), object(9)\n",
      "memory usage: 453.8+ MB\n"
     ]
    }
   ],
   "source": [
    "all_citi2.info()"
   ]
  },
  {
   "cell_type": "code",
   "execution_count": 9,
   "metadata": {},
   "outputs": [
    {
     "name": "stdout",
     "output_type": "stream",
     "text": [
      "<class 'pandas.core.frame.DataFrame'>\n",
      "RangeIndex: 649983 entries, 0 to 649982\n",
      "Data columns (total 13 columns):\n",
      " #   Column              Non-Null Count   Dtype  \n",
      "---  ------              --------------   -----  \n",
      " 0   ride_id             649983 non-null  object \n",
      " 1   rideable_type       649983 non-null  object \n",
      " 2   started_at          649983 non-null  object \n",
      " 3   ended_at            649983 non-null  object \n",
      " 4   start_station_name  649983 non-null  object \n",
      " 5   start_station_id    649983 non-null  object \n",
      " 6   end_station_name    648651 non-null  object \n",
      " 7   end_station_id      648651 non-null  object \n",
      " 8   start_lat           649983 non-null  float64\n",
      " 9   start_lng           649983 non-null  float64\n",
      " 10  end_lat             648651 non-null  float64\n",
      " 11  end_lng             648651 non-null  float64\n",
      " 12  member_casual       649983 non-null  object \n",
      "dtypes: float64(4), object(9)\n",
      "memory usage: 64.5+ MB\n"
     ]
    }
   ],
   "source": [
    "citi0221.info()"
   ]
  },
  {
   "cell_type": "code",
   "execution_count": 10,
   "metadata": {},
   "outputs": [
    {
     "name": "stdout",
     "output_type": "stream",
     "text": [
      "<class 'pandas.core.frame.DataFrame'>\n",
      "RangeIndex: 1095346 entries, 0 to 1095345\n",
      "Data columns (total 15 columns):\n",
      " #   Column                   Non-Null Count    Dtype  \n",
      "---  ------                   --------------    -----  \n",
      " 0   tripduration             1095346 non-null  int64  \n",
      " 1   starttime                1095346 non-null  object \n",
      " 2   stoptime                 1095346 non-null  object \n",
      " 3   start station id         1095346 non-null  int64  \n",
      " 4   start station name       1095346 non-null  object \n",
      " 5   start station latitude   1095346 non-null  float64\n",
      " 6   start station longitude  1095346 non-null  float64\n",
      " 7   end station id           1095346 non-null  int64  \n",
      " 8   end station name         1095346 non-null  object \n",
      " 9   end station latitude     1095346 non-null  float64\n",
      " 10  end station longitude    1095346 non-null  float64\n",
      " 11  bikeid                   1095346 non-null  int64  \n",
      " 12  usertype                 1095346 non-null  object \n",
      " 13  birth year               1095346 non-null  int64  \n",
      " 14  gender                   1095346 non-null  int64  \n",
      "dtypes: float64(4), int64(6), object(5)\n",
      "memory usage: 125.4+ MB\n"
     ]
    }
   ],
   "source": [
    "citi0121.info()"
   ]
  },
  {
   "cell_type": "code",
   "execution_count": 11,
   "metadata": {},
   "outputs": [],
   "source": [
    "all_citi2 = all_citi2[['ride_id', 'started_at', 'ended_at', 'start_station_id', 'end_station_id']]"
   ]
  },
  {
   "cell_type": "code",
   "execution_count": 12,
   "metadata": {},
   "outputs": [
    {
     "data": {
      "text/html": [
       "<div>\n",
       "<style scoped>\n",
       "    .dataframe tbody tr th:only-of-type {\n",
       "        vertical-align: middle;\n",
       "    }\n",
       "\n",
       "    .dataframe tbody tr th {\n",
       "        vertical-align: top;\n",
       "    }\n",
       "\n",
       "    .dataframe thead th {\n",
       "        text-align: right;\n",
       "    }\n",
       "</style>\n",
       "<table border=\"1\" class=\"dataframe\">\n",
       "  <thead>\n",
       "    <tr style=\"text-align: right;\">\n",
       "      <th></th>\n",
       "      <th>ride_id</th>\n",
       "      <th>started_at</th>\n",
       "      <th>ended_at</th>\n",
       "      <th>start_station_id</th>\n",
       "      <th>end_station_id</th>\n",
       "    </tr>\n",
       "  </thead>\n",
       "  <tbody>\n",
       "    <tr>\n",
       "      <th>2067664</th>\n",
       "      <td>DE4F31703A6FBD72</td>\n",
       "      <td>2021-04-18 15:48:21</td>\n",
       "      <td>2021-04-18 16:03:42</td>\n",
       "      <td>6115.06</td>\n",
       "      <td>5532.01</td>\n",
       "    </tr>\n",
       "    <tr>\n",
       "      <th>2067665</th>\n",
       "      <td>391040FC8CAF2601</td>\n",
       "      <td>2021-04-19 19:39:00</td>\n",
       "      <td>2021-04-19 19:55:18</td>\n",
       "      <td>7458.03</td>\n",
       "      <td>6762.04</td>\n",
       "    </tr>\n",
       "    <tr>\n",
       "      <th>2067666</th>\n",
       "      <td>1DB5175D0F873C53</td>\n",
       "      <td>2021-04-21 11:57:03</td>\n",
       "      <td>2021-04-21 12:15:49</td>\n",
       "      <td>6004.06</td>\n",
       "      <td>6762.04</td>\n",
       "    </tr>\n",
       "    <tr>\n",
       "      <th>2067667</th>\n",
       "      <td>3004043A978641B3</td>\n",
       "      <td>2021-04-04 14:41:23</td>\n",
       "      <td>2021-04-04 14:56:46</td>\n",
       "      <td>4659.02</td>\n",
       "      <td>4756.04</td>\n",
       "    </tr>\n",
       "    <tr>\n",
       "      <th>2067668</th>\n",
       "      <td>E74E90176B0527D8</td>\n",
       "      <td>2021-04-23 18:40:57</td>\n",
       "      <td>2021-04-23 19:22:18</td>\n",
       "      <td>6115.06</td>\n",
       "      <td>6190.03</td>\n",
       "    </tr>\n",
       "  </tbody>\n",
       "</table>\n",
       "</div>"
      ],
      "text/plain": [
       "                  ride_id           started_at             ended_at  \\\n",
       "2067664  DE4F31703A6FBD72  2021-04-18 15:48:21  2021-04-18 16:03:42   \n",
       "2067665  391040FC8CAF2601  2021-04-19 19:39:00  2021-04-19 19:55:18   \n",
       "2067666  1DB5175D0F873C53  2021-04-21 11:57:03  2021-04-21 12:15:49   \n",
       "2067667  3004043A978641B3  2021-04-04 14:41:23  2021-04-04 14:56:46   \n",
       "2067668  E74E90176B0527D8  2021-04-23 18:40:57  2021-04-23 19:22:18   \n",
       "\n",
       "        start_station_id end_station_id  \n",
       "2067664          6115.06        5532.01  \n",
       "2067665          7458.03        6762.04  \n",
       "2067666          6004.06        6762.04  \n",
       "2067667          4659.02        4756.04  \n",
       "2067668          6115.06        6190.03  "
      ]
     },
     "execution_count": 12,
     "metadata": {},
     "output_type": "execute_result"
    }
   ],
   "source": [
    "all_citi2.tail()"
   ]
  },
  {
   "cell_type": "code",
   "execution_count": 13,
   "metadata": {},
   "outputs": [],
   "source": [
    "all_citi = all_citi[['bikeid', 'starttime', 'stoptime', 'start station id', 'end station id']]\n",
    "all_citi.rename(columns={'bikeid':'ride_id', 'starttime':'started_at', 'stoptime':'ended_at', 'start station id':'start_station_id', 'end station id': 'end_station_id'}, inplace=True)"
   ]
  },
  {
   "cell_type": "code",
   "execution_count": 14,
   "metadata": {},
   "outputs": [],
   "source": [
    "all_citi = pd.concat([all_citi, all_citi2])"
   ]
  },
  {
   "cell_type": "code",
   "execution_count": 15,
   "metadata": {},
   "outputs": [
    {
     "data": {
      "text/html": [
       "<div>\n",
       "<style scoped>\n",
       "    .dataframe tbody tr th:only-of-type {\n",
       "        vertical-align: middle;\n",
       "    }\n",
       "\n",
       "    .dataframe tbody tr th {\n",
       "        vertical-align: top;\n",
       "    }\n",
       "\n",
       "    .dataframe thead th {\n",
       "        text-align: right;\n",
       "    }\n",
       "</style>\n",
       "<table border=\"1\" class=\"dataframe\">\n",
       "  <thead>\n",
       "    <tr style=\"text-align: right;\">\n",
       "      <th></th>\n",
       "      <th>ride_id</th>\n",
       "      <th>started_at</th>\n",
       "      <th>ended_at</th>\n",
       "      <th>start_station_id</th>\n",
       "      <th>end_station_id</th>\n",
       "    </tr>\n",
       "  </thead>\n",
       "  <tbody>\n",
       "    <tr>\n",
       "      <th>0</th>\n",
       "      <td>15839</td>\n",
       "      <td>2019-01-01 00:01:47.4010</td>\n",
       "      <td>2019-01-01 00:07:07.5810</td>\n",
       "      <td>3160</td>\n",
       "      <td>3283</td>\n",
       "    </tr>\n",
       "    <tr>\n",
       "      <th>1</th>\n",
       "      <td>32723</td>\n",
       "      <td>2019-01-01 00:04:43.7360</td>\n",
       "      <td>2019-01-01 00:10:00.6080</td>\n",
       "      <td>519</td>\n",
       "      <td>518</td>\n",
       "    </tr>\n",
       "    <tr>\n",
       "      <th>2</th>\n",
       "      <td>27451</td>\n",
       "      <td>2019-01-01 00:06:03.9970</td>\n",
       "      <td>2019-01-01 00:15:55.4380</td>\n",
       "      <td>3171</td>\n",
       "      <td>3154</td>\n",
       "    </tr>\n",
       "    <tr>\n",
       "      <th>3</th>\n",
       "      <td>21579</td>\n",
       "      <td>2019-01-01 00:07:03.5450</td>\n",
       "      <td>2019-01-01 00:52:22.6500</td>\n",
       "      <td>504</td>\n",
       "      <td>3709</td>\n",
       "    </tr>\n",
       "    <tr>\n",
       "      <th>4</th>\n",
       "      <td>35379</td>\n",
       "      <td>2019-01-01 00:07:35.9450</td>\n",
       "      <td>2019-01-01 00:12:39.5020</td>\n",
       "      <td>229</td>\n",
       "      <td>503</td>\n",
       "    </tr>\n",
       "  </tbody>\n",
       "</table>\n",
       "</div>"
      ],
      "text/plain": [
       "  ride_id                started_at                  ended_at  \\\n",
       "0   15839  2019-01-01 00:01:47.4010  2019-01-01 00:07:07.5810   \n",
       "1   32723  2019-01-01 00:04:43.7360  2019-01-01 00:10:00.6080   \n",
       "2   27451  2019-01-01 00:06:03.9970  2019-01-01 00:15:55.4380   \n",
       "3   21579  2019-01-01 00:07:03.5450  2019-01-01 00:52:22.6500   \n",
       "4   35379  2019-01-01 00:07:35.9450  2019-01-01 00:12:39.5020   \n",
       "\n",
       "  start_station_id end_station_id  \n",
       "0             3160           3283  \n",
       "1              519            518  \n",
       "2             3171           3154  \n",
       "3              504           3709  \n",
       "4              229            503  "
      ]
     },
     "execution_count": 15,
     "metadata": {},
     "output_type": "execute_result"
    }
   ],
   "source": [
    "all_citi.head()"
   ]
  },
  {
   "cell_type": "code",
   "execution_count": null,
   "metadata": {},
   "outputs": [],
   "source": []
  },
  {
   "cell_type": "code",
   "execution_count": 17,
   "metadata": {},
   "outputs": [],
   "source": [
    "all_citi['started_at'] = pd.to_datetime(all_citi['started_at'], format='%Y-%m-%d')\n",
    "all_citi['ended_at'] = pd.to_datetime(all_citi['ended_at'], format='%Y-%m-%d')"
   ]
  },
  {
   "cell_type": "code",
   "execution_count": 18,
   "metadata": {},
   "outputs": [
    {
     "data": {
      "text/html": [
       "<div>\n",
       "<style scoped>\n",
       "    .dataframe tbody tr th:only-of-type {\n",
       "        vertical-align: middle;\n",
       "    }\n",
       "\n",
       "    .dataframe tbody tr th {\n",
       "        vertical-align: top;\n",
       "    }\n",
       "\n",
       "    .dataframe thead th {\n",
       "        text-align: right;\n",
       "    }\n",
       "</style>\n",
       "<table border=\"1\" class=\"dataframe\">\n",
       "  <thead>\n",
       "    <tr style=\"text-align: right;\">\n",
       "      <th></th>\n",
       "      <th>ride_id</th>\n",
       "      <th>started_at</th>\n",
       "      <th>ended_at</th>\n",
       "      <th>start_station_id</th>\n",
       "      <th>end_station_id</th>\n",
       "    </tr>\n",
       "  </thead>\n",
       "  <tbody>\n",
       "    <tr>\n",
       "      <th>0</th>\n",
       "      <td>15839</td>\n",
       "      <td>2019-01-01 00:01:47.401</td>\n",
       "      <td>2019-01-01 00:07:07.581</td>\n",
       "      <td>3160</td>\n",
       "      <td>3283</td>\n",
       "    </tr>\n",
       "    <tr>\n",
       "      <th>1</th>\n",
       "      <td>32723</td>\n",
       "      <td>2019-01-01 00:04:43.736</td>\n",
       "      <td>2019-01-01 00:10:00.608</td>\n",
       "      <td>519</td>\n",
       "      <td>518</td>\n",
       "    </tr>\n",
       "    <tr>\n",
       "      <th>2</th>\n",
       "      <td>27451</td>\n",
       "      <td>2019-01-01 00:06:03.997</td>\n",
       "      <td>2019-01-01 00:15:55.438</td>\n",
       "      <td>3171</td>\n",
       "      <td>3154</td>\n",
       "    </tr>\n",
       "    <tr>\n",
       "      <th>3</th>\n",
       "      <td>21579</td>\n",
       "      <td>2019-01-01 00:07:03.545</td>\n",
       "      <td>2019-01-01 00:52:22.650</td>\n",
       "      <td>504</td>\n",
       "      <td>3709</td>\n",
       "    </tr>\n",
       "    <tr>\n",
       "      <th>4</th>\n",
       "      <td>35379</td>\n",
       "      <td>2019-01-01 00:07:35.945</td>\n",
       "      <td>2019-01-01 00:12:39.502</td>\n",
       "      <td>229</td>\n",
       "      <td>503</td>\n",
       "    </tr>\n",
       "  </tbody>\n",
       "</table>\n",
       "</div>"
      ],
      "text/plain": [
       "  ride_id              started_at                ended_at start_station_id  \\\n",
       "0   15839 2019-01-01 00:01:47.401 2019-01-01 00:07:07.581             3160   \n",
       "1   32723 2019-01-01 00:04:43.736 2019-01-01 00:10:00.608              519   \n",
       "2   27451 2019-01-01 00:06:03.997 2019-01-01 00:15:55.438             3171   \n",
       "3   21579 2019-01-01 00:07:03.545 2019-01-01 00:52:22.650              504   \n",
       "4   35379 2019-01-01 00:07:35.945 2019-01-01 00:12:39.502              229   \n",
       "\n",
       "  end_station_id  \n",
       "0           3283  \n",
       "1            518  \n",
       "2           3154  \n",
       "3           3709  \n",
       "4            503  "
      ]
     },
     "execution_count": 18,
     "metadata": {},
     "output_type": "execute_result"
    }
   ],
   "source": [
    "all_citi.head()"
   ]
  },
  {
   "cell_type": "code",
   "execution_count": 20,
   "metadata": {},
   "outputs": [],
   "source": [
    "all_citi['duration'] = all_citi['ended_at'] - all_citi['started_at']"
   ]
  },
  {
   "cell_type": "code",
   "execution_count": 23,
   "metadata": {},
   "outputs": [],
   "source": [
    "all_citi = all_citi.dropna(subset=['start_station_id'])\n",
    "all_citi = all_citi.dropna(subset=['end_station_id'])\n",
    "all_citi = all_citi[~((all_citi['start_station_id'] == all_citi['end_station_id']) & (all_citi['duration'] < '00:05:00'))]"
   ]
  },
  {
   "cell_type": "code",
   "execution_count": 24,
   "metadata": {},
   "outputs": [],
   "source": [
    "all_citi['start_date'] = all_citi['started_at'].dt.date"
   ]
  },
  {
   "cell_type": "code",
   "execution_count": 25,
   "metadata": {},
   "outputs": [],
   "source": [
    "citi_by_date = all_citi.groupby('start_date').agg({'started_at':'count'}).reset_index()\n",
    "citi_by_date.rename(columns={'start_date':'ride_date', 'started_at':'ride_count'}, inplace = True)\n",
    "\n",
    "# citi_by_date = all_citi.groupby(['start_date'])['bikeid'].count()\n",
    "# citi_by_date = pd.DataFrame(citi_by_date).reset_index()"
   ]
  },
  {
   "cell_type": "code",
   "execution_count": 26,
   "metadata": {},
   "outputs": [],
   "source": [
    "citi_by_date['ride_date'] = pd.to_datetime(citi_by_date['ride_date'], format='%Y-%m-%d')"
   ]
  },
  {
   "cell_type": "code",
   "execution_count": 27,
   "metadata": {},
   "outputs": [
    {
     "name": "stdout",
     "output_type": "stream",
     "text": [
      "<class 'pandas.core.frame.DataFrame'>\n",
      "RangeIndex: 850 entries, 0 to 849\n",
      "Data columns (total 2 columns):\n",
      " #   Column      Non-Null Count  Dtype         \n",
      "---  ------      --------------  -----         \n",
      " 0   ride_date   850 non-null    datetime64[ns]\n",
      " 1   ride_count  850 non-null    int64         \n",
      "dtypes: datetime64[ns](1), int64(1)\n",
      "memory usage: 13.4 KB\n"
     ]
    }
   ],
   "source": [
    "citi_by_date.info()"
   ]
  },
  {
   "cell_type": "code",
   "execution_count": 28,
   "metadata": {},
   "outputs": [],
   "source": [
    "citi_by_date['month'] = citi_by_date['ride_date'].dt.month\n",
    "citi_by_date['year'] = citi_by_date['ride_date'].dt.year\n",
    "citi_by_date['m_y'] = citi_by_date['month'].apply(str) + '-' + citi_by_date['year'].apply(str) "
   ]
  },
  {
   "cell_type": "code",
   "execution_count": 29,
   "metadata": {},
   "outputs": [
    {
     "data": {
      "text/html": [
       "<div>\n",
       "<style scoped>\n",
       "    .dataframe tbody tr th:only-of-type {\n",
       "        vertical-align: middle;\n",
       "    }\n",
       "\n",
       "    .dataframe tbody tr th {\n",
       "        vertical-align: top;\n",
       "    }\n",
       "\n",
       "    .dataframe thead th {\n",
       "        text-align: right;\n",
       "    }\n",
       "</style>\n",
       "<table border=\"1\" class=\"dataframe\">\n",
       "  <thead>\n",
       "    <tr style=\"text-align: right;\">\n",
       "      <th></th>\n",
       "      <th></th>\n",
       "      <th>ride_count</th>\n",
       "    </tr>\n",
       "    <tr>\n",
       "      <th>year</th>\n",
       "      <th>month</th>\n",
       "      <th></th>\n",
       "    </tr>\n",
       "  </thead>\n",
       "  <tbody>\n",
       "    <tr>\n",
       "      <th rowspan=\"12\" valign=\"top\">2019</th>\n",
       "      <th>1</th>\n",
       "      <td>963531</td>\n",
       "    </tr>\n",
       "    <tr>\n",
       "      <th>2</th>\n",
       "      <td>940069</td>\n",
       "    </tr>\n",
       "    <tr>\n",
       "      <th>3</th>\n",
       "      <td>1321767</td>\n",
       "    </tr>\n",
       "    <tr>\n",
       "      <th>4</th>\n",
       "      <td>1756461</td>\n",
       "    </tr>\n",
       "    <tr>\n",
       "      <th>5</th>\n",
       "      <td>1914337</td>\n",
       "    </tr>\n",
       "    <tr>\n",
       "      <th>6</th>\n",
       "      <td>2113633</td>\n",
       "    </tr>\n",
       "    <tr>\n",
       "      <th>7</th>\n",
       "      <td>2169804</td>\n",
       "    </tr>\n",
       "    <tr>\n",
       "      <th>8</th>\n",
       "      <td>2331983</td>\n",
       "    </tr>\n",
       "    <tr>\n",
       "      <th>9</th>\n",
       "      <td>2433471</td>\n",
       "    </tr>\n",
       "    <tr>\n",
       "      <th>10</th>\n",
       "      <td>2084304</td>\n",
       "    </tr>\n",
       "    <tr>\n",
       "      <th>11</th>\n",
       "      <td>1473875</td>\n",
       "    </tr>\n",
       "    <tr>\n",
       "      <th>12</th>\n",
       "      <td>952167</td>\n",
       "    </tr>\n",
       "    <tr>\n",
       "      <th rowspan=\"12\" valign=\"top\">2020</th>\n",
       "      <th>1</th>\n",
       "      <td>1236953</td>\n",
       "    </tr>\n",
       "    <tr>\n",
       "      <th>2</th>\n",
       "      <td>1143208</td>\n",
       "    </tr>\n",
       "    <tr>\n",
       "      <th>3</th>\n",
       "      <td>1063319</td>\n",
       "    </tr>\n",
       "    <tr>\n",
       "      <th>4</th>\n",
       "      <td>677565</td>\n",
       "    </tr>\n",
       "    <tr>\n",
       "      <th>5</th>\n",
       "      <td>1473371</td>\n",
       "    </tr>\n",
       "    <tr>\n",
       "      <th>6</th>\n",
       "      <td>1864303</td>\n",
       "    </tr>\n",
       "    <tr>\n",
       "      <th>7</th>\n",
       "      <td>2087429</td>\n",
       "    </tr>\n",
       "    <tr>\n",
       "      <th>8</th>\n",
       "      <td>2307759</td>\n",
       "    </tr>\n",
       "    <tr>\n",
       "      <th>9</th>\n",
       "      <td>2466590</td>\n",
       "    </tr>\n",
       "    <tr>\n",
       "      <th>10</th>\n",
       "      <td>2230846</td>\n",
       "    </tr>\n",
       "    <tr>\n",
       "      <th>11</th>\n",
       "      <td>1721932</td>\n",
       "    </tr>\n",
       "    <tr>\n",
       "      <th>12</th>\n",
       "      <td>1079219</td>\n",
       "    </tr>\n",
       "    <tr>\n",
       "      <th rowspan=\"4\" valign=\"top\">2021</th>\n",
       "      <th>1</th>\n",
       "      <td>1086725</td>\n",
       "    </tr>\n",
       "    <tr>\n",
       "      <th>2</th>\n",
       "      <td>641031</td>\n",
       "    </tr>\n",
       "    <tr>\n",
       "      <th>3</th>\n",
       "      <td>1508922</td>\n",
       "    </tr>\n",
       "    <tr>\n",
       "      <th>4</th>\n",
       "      <td>2034418</td>\n",
       "    </tr>\n",
       "  </tbody>\n",
       "</table>\n",
       "</div>"
      ],
      "text/plain": [
       "            ride_count\n",
       "year month            \n",
       "2019 1          963531\n",
       "     2          940069\n",
       "     3         1321767\n",
       "     4         1756461\n",
       "     5         1914337\n",
       "     6         2113633\n",
       "     7         2169804\n",
       "     8         2331983\n",
       "     9         2433471\n",
       "     10        2084304\n",
       "     11        1473875\n",
       "     12         952167\n",
       "2020 1         1236953\n",
       "     2         1143208\n",
       "     3         1063319\n",
       "     4          677565\n",
       "     5         1473371\n",
       "     6         1864303\n",
       "     7         2087429\n",
       "     8         2307759\n",
       "     9         2466590\n",
       "     10        2230846\n",
       "     11        1721932\n",
       "     12        1079219\n",
       "2021 1         1086725\n",
       "     2          641031\n",
       "     3         1508922\n",
       "     4         2034418"
      ]
     },
     "execution_count": 29,
     "metadata": {},
     "output_type": "execute_result"
    }
   ],
   "source": [
    "citi_by_date.groupby(['year', 'month']).agg({'ride_count':'sum'})"
   ]
  },
  {
   "cell_type": "code",
   "execution_count": 30,
   "metadata": {},
   "outputs": [
    {
     "data": {
      "image/png": "[encoded data removed]",
      "text/plain": [
       "<Figure size 432x288 with 1 Axes>"
      ]
     },
     "metadata": {
      "needs_background": "light"
     },
     "output_type": "display_data"
    }
   ],
   "source": [
    "plt.barh('m_y', 'ride_count', data=citi_by_date)\n",
    "plt.tight_layout()"
   ]
  },
  {
   "cell_type": "code",
   "execution_count": 31,
   "metadata": {},
   "outputs": [],
   "source": [
    "citi_by_date.to_csv('citi_by_date.csv')"
   ]
  },
  {
   "cell_type": "code",
   "execution_count": 32,
   "metadata": {},
   "outputs": [
    {
     "data": {
      "text/html": [
       "<div>\n",
       "<style scoped>\n",
       "    .dataframe tbody tr th:only-of-type {\n",
       "        vertical-align: middle;\n",
       "    }\n",
       "\n",
       "    .dataframe tbody tr th {\n",
       "        vertical-align: top;\n",
       "    }\n",
       "\n",
       "    .dataframe thead th {\n",
       "        text-align: right;\n",
       "    }\n",
       "</style>\n",
       "<table border=\"1\" class=\"dataframe\">\n",
       "  <thead>\n",
       "    <tr style=\"text-align: right;\">\n",
       "      <th></th>\n",
       "      <th>ride_count</th>\n",
       "    </tr>\n",
       "    <tr>\n",
       "      <th>m_y</th>\n",
       "      <th></th>\n",
       "    </tr>\n",
       "  </thead>\n",
       "  <tbody>\n",
       "    <tr>\n",
       "      <th>1-2019</th>\n",
       "      <td>963531</td>\n",
       "    </tr>\n",
       "    <tr>\n",
       "      <th>1-2020</th>\n",
       "      <td>1236953</td>\n",
       "    </tr>\n",
       "    <tr>\n",
       "      <th>1-2021</th>\n",
       "      <td>1086725</td>\n",
       "    </tr>\n",
       "    <tr>\n",
       "      <th>10-2019</th>\n",
       "      <td>2084304</td>\n",
       "    </tr>\n",
       "    <tr>\n",
       "      <th>10-2020</th>\n",
       "      <td>2230846</td>\n",
       "    </tr>\n",
       "    <tr>\n",
       "      <th>11-2019</th>\n",
       "      <td>1473875</td>\n",
       "    </tr>\n",
       "    <tr>\n",
       "      <th>11-2020</th>\n",
       "      <td>1721932</td>\n",
       "    </tr>\n",
       "    <tr>\n",
       "      <th>12-2019</th>\n",
       "      <td>952167</td>\n",
       "    </tr>\n",
       "    <tr>\n",
       "      <th>12-2020</th>\n",
       "      <td>1079219</td>\n",
       "    </tr>\n",
       "    <tr>\n",
       "      <th>2-2019</th>\n",
       "      <td>940069</td>\n",
       "    </tr>\n",
       "    <tr>\n",
       "      <th>2-2020</th>\n",
       "      <td>1143208</td>\n",
       "    </tr>\n",
       "    <tr>\n",
       "      <th>2-2021</th>\n",
       "      <td>641031</td>\n",
       "    </tr>\n",
       "    <tr>\n",
       "      <th>3-2019</th>\n",
       "      <td>1321767</td>\n",
       "    </tr>\n",
       "    <tr>\n",
       "      <th>3-2020</th>\n",
       "      <td>1063319</td>\n",
       "    </tr>\n",
       "    <tr>\n",
       "      <th>3-2021</th>\n",
       "      <td>1508922</td>\n",
       "    </tr>\n",
       "    <tr>\n",
       "      <th>4-2019</th>\n",
       "      <td>1756461</td>\n",
       "    </tr>\n",
       "    <tr>\n",
       "      <th>4-2020</th>\n",
       "      <td>677565</td>\n",
       "    </tr>\n",
       "    <tr>\n",
       "      <th>4-2021</th>\n",
       "      <td>2034418</td>\n",
       "    </tr>\n",
       "    <tr>\n",
       "      <th>5-2019</th>\n",
       "      <td>1914337</td>\n",
       "    </tr>\n",
       "    <tr>\n",
       "      <th>5-2020</th>\n",
       "      <td>1473371</td>\n",
       "    </tr>\n",
       "    <tr>\n",
       "      <th>6-2019</th>\n",
       "      <td>2113633</td>\n",
       "    </tr>\n",
       "    <tr>\n",
       "      <th>6-2020</th>\n",
       "      <td>1864303</td>\n",
       "    </tr>\n",
       "    <tr>\n",
       "      <th>7-2019</th>\n",
       "      <td>2169804</td>\n",
       "    </tr>\n",
       "    <tr>\n",
       "      <th>7-2020</th>\n",
       "      <td>2087429</td>\n",
       "    </tr>\n",
       "    <tr>\n",
       "      <th>8-2019</th>\n",
       "      <td>2331983</td>\n",
       "    </tr>\n",
       "    <tr>\n",
       "      <th>8-2020</th>\n",
       "      <td>2307759</td>\n",
       "    </tr>\n",
       "    <tr>\n",
       "      <th>9-2019</th>\n",
       "      <td>2433471</td>\n",
       "    </tr>\n",
       "    <tr>\n",
       "      <th>9-2020</th>\n",
       "      <td>2466590</td>\n",
       "    </tr>\n",
       "  </tbody>\n",
       "</table>\n",
       "</div>"
      ],
      "text/plain": [
       "         ride_count\n",
       "m_y                \n",
       "1-2019       963531\n",
       "1-2020      1236953\n",
       "1-2021      1086725\n",
       "10-2019     2084304\n",
       "10-2020     2230846\n",
       "11-2019     1473875\n",
       "11-2020     1721932\n",
       "12-2019      952167\n",
       "12-2020     1079219\n",
       "2-2019       940069\n",
       "2-2020      1143208\n",
       "2-2021       641031\n",
       "3-2019      1321767\n",
       "3-2020      1063319\n",
       "3-2021      1508922\n",
       "4-2019      1756461\n",
       "4-2020       677565\n",
       "4-2021      2034418\n",
       "5-2019      1914337\n",
       "5-2020      1473371\n",
       "6-2019      2113633\n",
       "6-2020      1864303\n",
       "7-2019      2169804\n",
       "7-2020      2087429\n",
       "8-2019      2331983\n",
       "8-2020      2307759\n",
       "9-2019      2433471\n",
       "9-2020      2466590"
      ]
     },
     "execution_count": 32,
     "metadata": {},
     "output_type": "execute_result"
    }
   ],
   "source": [
    "citi_by_date.groupby('m_y').agg({'ride_count':'sum'})"
   ]
  },
  {
   "cell_type": "code",
   "execution_count": null,
   "metadata": {},
   "outputs": [],
   "source": []
  },
  {
   "cell_type": "code",
   "execution_count": null,
   "metadata": {},
   "outputs": [],
   "source": []
  }
 ],
 "metadata": {
  "kernelspec": {
   "display_name": "Python 3",
   "language": "python",
   "name": "python3"
  },
  "language_info": {
   "codemirror_mode": {
    "name": "ipython",
    "version": 3
   },
   "file_extension": ".py",
   "mimetype": "text/x-python",
   "name": "python",
   "nbconvert_exporter": "python",
   "pygments_lexer": "ipython3",
   "version": "3.7.6"
  }
 },
 "nbformat": 4,
 "nbformat_minor": 4
}
