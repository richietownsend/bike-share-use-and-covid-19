{
 "cells": [
  {
   "cell_type": "code",
   "execution_count": 25,
   "metadata": {},
   "outputs": [],
   "source": [
    "import pandas as pd\n",
    "import os\n",
    "import matplotlib.pyplot as plt"
   ]
  },
  {
   "cell_type": "code",
   "execution_count": 2,
   "metadata": {},
   "outputs": [
    {
     "name": "stdout",
     "output_type": "stream",
     "text": [
      "pd.read_csv('../data/NYC_CitiBike/JC-202010-citibike-tripdata.csv')\n",
      "pd.read_csv('../data/NYC_CitiBike/JC-202006-citibike-tripdata.csv')\n",
      "pd.read_csv('../data/NYC_CitiBike/JC-201902-citibike-tripdata.csv')\n",
      "pd.read_csv('../data/NYC_CitiBike/JC-202012-citibike-tripdata.csv')\n",
      "pd.read_csv('../data/NYC_CitiBike/JC-202004-citibike-tripdata.csv')\n",
      "pd.read_csv('../data/NYC_CitiBike/JC-201908-citibike-tripdata.csv')\n",
      "pd.read_csv('../data/NYC_CitiBike/JC-202101-citibike-tripdata.csv')\n",
      "pd.read_csv('../data/NYC_CitiBike/JC-202002-citibike-tripdata.csv')\n",
      "pd.read_csv('../data/NYC_CitiBike/JC-201910-citibike-tripdata.csv')\n",
      "pd.read_csv('../data/NYC_CitiBike/JC-201906-citibike-tripdata.csv')\n",
      "pd.read_csv('../data/NYC_CitiBike/JC-202008-citibike-tripdata.csv')\n",
      "pd.read_csv('../data/NYC_CitiBike/JC-201912-citibike-tripdata.csv')\n",
      "pd.read_csv('../data/NYC_CitiBike/JC-201904-citibike-tripdata.csv')\n",
      "pd.read_csv('../data/NYC_CitiBike/JC-202103-citibike-tripdata.csv')\n",
      "pd.read_csv('../data/NYC_CitiBike/JC-202007-citibike-tripdata.csv')\n",
      "pd.read_csv('../data/NYC_CitiBike/JC-202104-citibike-tripdata.csv')\n",
      "pd.read_csv('../data/NYC_CitiBike/JC-202011-citibike-tripdata.csv')\n",
      "pd.read_csv('../data/NYC_CitiBike/JC-201903-citibike-tripdata.csv')\n",
      "pd.read_csv('../data/NYC_CitiBike/JC-201909-citibike-tripdata.csv')\n",
      "pd.read_csv('../data/NYC_CitiBike/JC-201901-citibike-tripdata.csv')\n",
      "pd.read_csv('../data/NYC_CitiBike/JC-202005-citibike-tripdata.csv')\n",
      "pd.read_csv('../data/NYC_CitiBike/JC-202003-citibike-tripdata.csv')\n",
      "pd.read_csv('../data/NYC_CitiBike/JC-201907-citibike-tripdata.csv')\n",
      "pd.read_csv('../data/NYC_CitiBike/JC-201911-citibike-tripdata.csv')\n",
      "pd.read_csv('../data/NYC_CitiBike/JC-201812-citibike-tripdata.csv')\n",
      "pd.read_csv('../data/NYC_CitiBike/JC-201905-citibike-tripdata.csv')\n",
      "pd.read_csv('../data/NYC_CitiBike/JC-202102-citibike-tripdata.csv')\n",
      "pd.read_csv('../data/NYC_CitiBike/JC-202001-citibike-tripdata.csv')\n",
      "pd.read_csv('../data/NYC_CitiBike/JC-202009-citibike-tripdata.csv')\n"
     ]
    }
   ],
   "source": [
    "# This is my path\n",
    "path = \"/Users/richietownsend/Nashville Software School/NSS_Data_Analytics/Capstone/data/NYC_CitiBike\"\n",
    "\n",
    "# to store files in a list\n",
    "list = []\n",
    " \n",
    "# dirs=directories\n",
    "for (root, dirs, file) in os.walk(path):\n",
    "    for f in file:\n",
    "        if '.csv' in f:\n",
    "            print('pd.read_csv(\\'../data/NYC_CitiBike/'+f+'\\')')"
   ]
  },
  {
   "cell_type": "code",
   "execution_count": 3,
   "metadata": {},
   "outputs": [],
   "source": [
    "citi1020 = pd.read_csv('../data/NYC_CitiBike/JC-202010-citibike-tripdata.csv')\n",
    "citi0620 = pd.read_csv('../data/NYC_CitiBike/JC-202006-citibike-tripdata.csv')\n",
    "citi0219 = pd.read_csv('../data/NYC_CitiBike/JC-201902-citibike-tripdata.csv')\n",
    "citi1220 = pd.read_csv('../data/NYC_CitiBike/JC-202012-citibike-tripdata.csv')\n",
    "citi0420 = pd.read_csv('../data/NYC_CitiBike/JC-202004-citibike-tripdata.csv')\n",
    "citi0819 = pd.read_csv('../data/NYC_CitiBike/JC-201908-citibike-tripdata.csv')\n",
    "citi0121 = pd.read_csv('../data/NYC_CitiBike/JC-202101-citibike-tripdata.csv')\n",
    "citi0220 = pd.read_csv('../data/NYC_CitiBike/JC-202002-citibike-tripdata.csv')\n",
    "citi1019 = pd.read_csv('../data/NYC_CitiBike/JC-201910-citibike-tripdata.csv')\n",
    "citi0619 = pd.read_csv('../data/NYC_CitiBike/JC-201906-citibike-tripdata.csv')\n",
    "citi0820 = pd.read_csv('../data/NYC_CitiBike/JC-202008-citibike-tripdata.csv')\n",
    "citi1219 = pd.read_csv('../data/NYC_CitiBike/JC-201912-citibike-tripdata.csv')\n",
    "citi0419 = pd.read_csv('../data/NYC_CitiBike/JC-201904-citibike-tripdata.csv')\n",
    "citi0321 = pd.read_csv('../data/NYC_CitiBike/JC-202103-citibike-tripdata.csv')\n",
    "citi0720 = pd.read_csv('../data/NYC_CitiBike/JC-202007-citibike-tripdata.csv')\n",
    "citi0421 = pd.read_csv('../data/NYC_CitiBike/JC-202104-citibike-tripdata.csv')\n",
    "citi1120 = pd.read_csv('../data/NYC_CitiBike/JC-202011-citibike-tripdata.csv')\n",
    "citi0319 = pd.read_csv('../data/NYC_CitiBike/JC-201903-citibike-tripdata.csv')\n",
    "citi0919 = pd.read_csv('../data/NYC_CitiBike/JC-201909-citibike-tripdata.csv')\n",
    "citi0119 = pd.read_csv('../data/NYC_CitiBike/JC-201901-citibike-tripdata.csv')\n",
    "citi0520 = pd.read_csv('../data/NYC_CitiBike/JC-202005-citibike-tripdata.csv')\n",
    "citi0320 = pd.read_csv('../data/NYC_CitiBike/JC-202003-citibike-tripdata.csv')\n",
    "citi0719 = pd.read_csv('../data/NYC_CitiBike/JC-201907-citibike-tripdata.csv')\n",
    "citi1119 = pd.read_csv('../data/NYC_CitiBike/JC-201911-citibike-tripdata.csv')\n",
    "# citi1218 = pd.read_csv('../data/NYC_CitiBike/JC-201812-citibike-tripdata.csv')\n",
    "citi0519 = pd.read_csv('../data/NYC_CitiBike/JC-201905-citibike-tripdata.csv')\n",
    "citi0221 = pd.read_csv('../data/NYC_CitiBike/JC-202102-citibike-tripdata.csv')\n",
    "citi0120 = pd.read_csv('../data/NYC_CitiBike/JC-202001-citibike-tripdata.csv')\n",
    "citi0920 = pd.read_csv('../data/NYC_CitiBike/JC-202009-citibike-tripdata.csv')"
   ]
  },
  {
   "cell_type": "code",
   "execution_count": 4,
   "metadata": {},
   "outputs": [],
   "source": [
    "all_citi = pd.concat([citi0119, citi0219, citi0319, citi0419, citi0519, citi0619, citi0719, citi0819, citi0919, citi1019, citi1119, citi1219, citi0120, citi0220, citi0320, citi0420, citi0520, citi0620, citi0720, citi0820, citi0920, citi1020, citi1120, citi1220, citi0121, citi0221, citi0321, citi0421])"
   ]
  },
  {
   "cell_type": "code",
   "execution_count": 5,
   "metadata": {},
   "outputs": [
    {
     "name": "stdout",
     "output_type": "stream",
     "text": [
      "<class 'pandas.core.frame.DataFrame'>\n",
      "Int64Index: 798259 entries, 0 to 23317\n",
      "Data columns (total 15 columns):\n",
      " #   Column                   Non-Null Count   Dtype  \n",
      "---  ------                   --------------   -----  \n",
      " 0   tripduration             798259 non-null  int64  \n",
      " 1   starttime                798259 non-null  object \n",
      " 2   stoptime                 798259 non-null  object \n",
      " 3   start station id         798259 non-null  int64  \n",
      " 4   start station name       798259 non-null  object \n",
      " 5   start station latitude   798259 non-null  float64\n",
      " 6   start station longitude  798259 non-null  float64\n",
      " 7   end station id           798259 non-null  int64  \n",
      " 8   end station name         798259 non-null  object \n",
      " 9   end station latitude     798259 non-null  float64\n",
      " 10  end station longitude    798259 non-null  float64\n",
      " 11  bikeid                   798259 non-null  int64  \n",
      " 12  usertype                 798259 non-null  object \n",
      " 13  birth year               798259 non-null  int64  \n",
      " 14  gender                   798259 non-null  int64  \n",
      "dtypes: float64(4), int64(6), object(5)\n",
      "memory usage: 97.4+ MB\n"
     ]
    }
   ],
   "source": [
    "all_citi.info()"
   ]
  },
  {
   "cell_type": "code",
   "execution_count": 6,
   "metadata": {},
   "outputs": [],
   "source": [
    "all_citi = all_citi[['bikeid', 'starttime', 'stoptime', 'start station id', 'end station id']]"
   ]
  },
  {
   "cell_type": "code",
   "execution_count": 7,
   "metadata": {},
   "outputs": [],
   "source": [
    "all_citi['starttime'] = pd.to_datetime(all_citi['starttime'], format='%Y-%m-%d')\n",
    "all_citi['stoptime'] = pd.to_datetime(all_citi['stoptime'], format='%Y-%m-%d')"
   ]
  },
  {
   "cell_type": "code",
   "execution_count": 8,
   "metadata": {},
   "outputs": [
    {
     "data": {
      "text/html": [
       "<div>\n",
       "<style scoped>\n",
       "    .dataframe tbody tr th:only-of-type {\n",
       "        vertical-align: middle;\n",
       "    }\n",
       "\n",
       "    .dataframe tbody tr th {\n",
       "        vertical-align: top;\n",
       "    }\n",
       "\n",
       "    .dataframe thead th {\n",
       "        text-align: right;\n",
       "    }\n",
       "</style>\n",
       "<table border=\"1\" class=\"dataframe\">\n",
       "  <thead>\n",
       "    <tr style=\"text-align: right;\">\n",
       "      <th></th>\n",
       "      <th>bikeid</th>\n",
       "      <th>starttime</th>\n",
       "      <th>stoptime</th>\n",
       "      <th>start station id</th>\n",
       "      <th>end station id</th>\n",
       "    </tr>\n",
       "  </thead>\n",
       "  <tbody>\n",
       "    <tr>\n",
       "      <th>0</th>\n",
       "      <td>29612</td>\n",
       "      <td>2019-01-01 03:09:09.711</td>\n",
       "      <td>2019-01-01 03:12:30.879</td>\n",
       "      <td>3183</td>\n",
       "      <td>3214</td>\n",
       "    </tr>\n",
       "    <tr>\n",
       "      <th>1</th>\n",
       "      <td>29213</td>\n",
       "      <td>2019-01-01 05:18:00.106</td>\n",
       "      <td>2019-01-01 05:26:25.905</td>\n",
       "      <td>3183</td>\n",
       "      <td>3638</td>\n",
       "    </tr>\n",
       "    <tr>\n",
       "      <th>2</th>\n",
       "      <td>26164</td>\n",
       "      <td>2019-01-01 10:36:33.340</td>\n",
       "      <td>2019-01-01 10:49:10.260</td>\n",
       "      <td>3183</td>\n",
       "      <td>3192</td>\n",
       "    </tr>\n",
       "    <tr>\n",
       "      <th>3</th>\n",
       "      <td>29672</td>\n",
       "      <td>2019-01-01 12:43:38.643</td>\n",
       "      <td>2019-01-01 13:09:54.528</td>\n",
       "      <td>3183</td>\n",
       "      <td>3638</td>\n",
       "    </tr>\n",
       "    <tr>\n",
       "      <th>4</th>\n",
       "      <td>29522</td>\n",
       "      <td>2019-01-01 12:43:39.601</td>\n",
       "      <td>2019-01-01 13:09:46.510</td>\n",
       "      <td>3183</td>\n",
       "      <td>3638</td>\n",
       "    </tr>\n",
       "  </tbody>\n",
       "</table>\n",
       "</div>"
      ],
      "text/plain": [
       "   bikeid               starttime                stoptime  start station id  \\\n",
       "0   29612 2019-01-01 03:09:09.711 2019-01-01 03:12:30.879              3183   \n",
       "1   29213 2019-01-01 05:18:00.106 2019-01-01 05:26:25.905              3183   \n",
       "2   26164 2019-01-01 10:36:33.340 2019-01-01 10:49:10.260              3183   \n",
       "3   29672 2019-01-01 12:43:38.643 2019-01-01 13:09:54.528              3183   \n",
       "4   29522 2019-01-01 12:43:39.601 2019-01-01 13:09:46.510              3183   \n",
       "\n",
       "   end station id  \n",
       "0            3214  \n",
       "1            3638  \n",
       "2            3192  \n",
       "3            3638  \n",
       "4            3638  "
      ]
     },
     "execution_count": 8,
     "metadata": {},
     "output_type": "execute_result"
    }
   ],
   "source": [
    "all_citi.head()"
   ]
  },
  {
   "cell_type": "code",
   "execution_count": 9,
   "metadata": {},
   "outputs": [],
   "source": [
    "all_citi['duration'] = all_citi['stoptime'] - all_citi['starttime']"
   ]
  },
  {
   "cell_type": "code",
   "execution_count": 10,
   "metadata": {},
   "outputs": [],
   "source": [
    "all_citi = all_citi.dropna(subset=['start station id'])\n",
    "all_citi = all_citi.dropna(subset=['end station id'])\n",
    "all_citi = all_citi[~((all_citi['start station id'] == all_citi['end station id']) & (all_citi['duration'] < '00:05:00'))]"
   ]
  },
  {
   "cell_type": "code",
   "execution_count": 11,
   "metadata": {},
   "outputs": [],
   "source": [
    "all_citi['start_date'] = all_citi['starttime'].dt.date"
   ]
  },
  {
   "cell_type": "code",
   "execution_count": 15,
   "metadata": {},
   "outputs": [],
   "source": [
    "citi_by_date = all_citi.groupby('start_date').agg({'starttime':'count'}).reset_index()\n",
    "citi_by_date.rename(columns={'start_date':'ride_date', 'starttime':'ride_count'}, inplace = True)\n",
    "\n",
    "# citi_by_date = all_citi.groupby(['start_date'])['bikeid'].count()\n",
    "# citi_by_date = pd.DataFrame(citi_by_date).reset_index()"
   ]
  },
  {
   "cell_type": "code",
   "execution_count": 29,
   "metadata": {},
   "outputs": [],
   "source": [
    "citi_by_date['ride_date'] = pd.to_datetime(citi_by_date['ride_date'], format='%Y-%m-%d')"
   ]
  },
  {
   "cell_type": "code",
   "execution_count": 20,
   "metadata": {},
   "outputs": [
    {
     "name": "stdout",
     "output_type": "stream",
     "text": [
      "<class 'pandas.core.frame.DataFrame'>\n",
      "RangeIndex: 850 entries, 0 to 849\n",
      "Data columns (total 2 columns):\n",
      " #   Column      Non-Null Count  Dtype         \n",
      "---  ------      --------------  -----         \n",
      " 0   ride_date   850 non-null    datetime64[ns]\n",
      " 1   ride_count  850 non-null    int64         \n",
      "dtypes: datetime64[ns](1), int64(1)\n",
      "memory usage: 13.4 KB\n"
     ]
    }
   ],
   "source": [
    "citi_by_date.info()"
   ]
  },
  {
   "cell_type": "code",
   "execution_count": 30,
   "metadata": {},
   "outputs": [],
   "source": [
    "citi_by_date['month'] = citi_by_date['ride_date'].dt.month\n",
    "citi_by_date['year'] = citi_by_date['ride_date'].dt.year\n",
    "citi_by_date['m_y'] = citi_by_date['month'].apply(str) + '-' + citi_by_date['year'].apply(str) "
   ]
  },
  {
   "cell_type": "code",
   "execution_count": 31,
   "metadata": {},
   "outputs": [
    {
     "data": {
      "text/html": [
       "<div>\n",
       "<style scoped>\n",
       "    .dataframe tbody tr th:only-of-type {\n",
       "        vertical-align: middle;\n",
       "    }\n",
       "\n",
       "    .dataframe tbody tr th {\n",
       "        vertical-align: top;\n",
       "    }\n",
       "\n",
       "    .dataframe thead th {\n",
       "        text-align: right;\n",
       "    }\n",
       "</style>\n",
       "<table border=\"1\" class=\"dataframe\">\n",
       "  <thead>\n",
       "    <tr style=\"text-align: right;\">\n",
       "      <th></th>\n",
       "      <th>ride_date</th>\n",
       "      <th>ride_count</th>\n",
       "      <th>month</th>\n",
       "      <th>year</th>\n",
       "      <th>m_y</th>\n",
       "    </tr>\n",
       "  </thead>\n",
       "  <tbody>\n",
       "    <tr>\n",
       "      <th>0</th>\n",
       "      <td>2019-01-01</td>\n",
       "      <td>423</td>\n",
       "      <td>1</td>\n",
       "      <td>2019</td>\n",
       "      <td>1-2019</td>\n",
       "    </tr>\n",
       "    <tr>\n",
       "      <th>1</th>\n",
       "      <td>2019-01-02</td>\n",
       "      <td>822</td>\n",
       "      <td>1</td>\n",
       "      <td>2019</td>\n",
       "      <td>1-2019</td>\n",
       "    </tr>\n",
       "    <tr>\n",
       "      <th>2</th>\n",
       "      <td>2019-01-03</td>\n",
       "      <td>856</td>\n",
       "      <td>1</td>\n",
       "      <td>2019</td>\n",
       "      <td>1-2019</td>\n",
       "    </tr>\n",
       "    <tr>\n",
       "      <th>3</th>\n",
       "      <td>2019-01-04</td>\n",
       "      <td>895</td>\n",
       "      <td>1</td>\n",
       "      <td>2019</td>\n",
       "      <td>1-2019</td>\n",
       "    </tr>\n",
       "    <tr>\n",
       "      <th>4</th>\n",
       "      <td>2019-01-05</td>\n",
       "      <td>308</td>\n",
       "      <td>1</td>\n",
       "      <td>2019</td>\n",
       "      <td>1-2019</td>\n",
       "    </tr>\n",
       "    <tr>\n",
       "      <th>...</th>\n",
       "      <td>...</td>\n",
       "      <td>...</td>\n",
       "      <td>...</td>\n",
       "      <td>...</td>\n",
       "      <td>...</td>\n",
       "    </tr>\n",
       "    <tr>\n",
       "      <th>845</th>\n",
       "      <td>2021-04-26</td>\n",
       "      <td>753</td>\n",
       "      <td>4</td>\n",
       "      <td>2021</td>\n",
       "      <td>4-2021</td>\n",
       "    </tr>\n",
       "    <tr>\n",
       "      <th>846</th>\n",
       "      <td>2021-04-27</td>\n",
       "      <td>874</td>\n",
       "      <td>4</td>\n",
       "      <td>2021</td>\n",
       "      <td>4-2021</td>\n",
       "    </tr>\n",
       "    <tr>\n",
       "      <th>847</th>\n",
       "      <td>2021-04-28</td>\n",
       "      <td>1177</td>\n",
       "      <td>4</td>\n",
       "      <td>2021</td>\n",
       "      <td>4-2021</td>\n",
       "    </tr>\n",
       "    <tr>\n",
       "      <th>848</th>\n",
       "      <td>2021-04-29</td>\n",
       "      <td>836</td>\n",
       "      <td>4</td>\n",
       "      <td>2021</td>\n",
       "      <td>4-2021</td>\n",
       "    </tr>\n",
       "    <tr>\n",
       "      <th>849</th>\n",
       "      <td>2021-04-30</td>\n",
       "      <td>774</td>\n",
       "      <td>4</td>\n",
       "      <td>2021</td>\n",
       "      <td>4-2021</td>\n",
       "    </tr>\n",
       "  </tbody>\n",
       "</table>\n",
       "<p>850 rows × 5 columns</p>\n",
       "</div>"
      ],
      "text/plain": [
       "     ride_date  ride_count  month  year     m_y\n",
       "0   2019-01-01         423      1  2019  1-2019\n",
       "1   2019-01-02         822      1  2019  1-2019\n",
       "2   2019-01-03         856      1  2019  1-2019\n",
       "3   2019-01-04         895      1  2019  1-2019\n",
       "4   2019-01-05         308      1  2019  1-2019\n",
       "..         ...         ...    ...   ...     ...\n",
       "845 2021-04-26         753      4  2021  4-2021\n",
       "846 2021-04-27         874      4  2021  4-2021\n",
       "847 2021-04-28        1177      4  2021  4-2021\n",
       "848 2021-04-29         836      4  2021  4-2021\n",
       "849 2021-04-30         774      4  2021  4-2021\n",
       "\n",
       "[850 rows x 5 columns]"
      ]
     },
     "execution_count": 31,
     "metadata": {},
     "output_type": "execute_result"
    }
   ],
   "source": [
    "citi_by_date"
   ]
  },
  {
   "cell_type": "code",
   "execution_count": 32,
   "metadata": {},
   "outputs": [
    {
     "data": {
      "image/png": "[encoded data removed]",
      "text/plain": [
       "<Figure size 432x288 with 1 Axes>"
      ]
     },
     "metadata": {
      "needs_background": "light"
     },
     "output_type": "display_data"
    }
   ],
   "source": [
    "plt.barh('m_y', 'ride_count', data=citi_by_date)\n",
    "plt.tight_layout()"
   ]
  },
  {
   "cell_type": "code",
   "execution_count": 33,
   "metadata": {},
   "outputs": [],
   "source": [
    "citi_by_date.to_csv('citi_by_date.csv')"
   ]
  },
  {
   "cell_type": "code",
   "execution_count": null,
   "metadata": {},
   "outputs": [],
   "source": []
  },
  {
   "cell_type": "code",
   "execution_count": null,
   "metadata": {},
   "outputs": [],
   "source": []
  }
 ],
 "metadata": {
  "kernelspec": {
   "display_name": "Python 3",
   "language": "python",
   "name": "python3"
  },
  "language_info": {
   "codemirror_mode": {
    "name": "ipython",
    "version": 3
   },
   "file_extension": ".py",
   "mimetype": "text/x-python",
   "name": "python",
   "nbconvert_exporter": "python",
   "pygments_lexer": "ipython3",
   "version": "3.8.8"
  }
 },
 "nbformat": 4,
 "nbformat_minor": 4
}
