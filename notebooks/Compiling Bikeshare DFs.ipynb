{
 "cells": [
  {
   "cell_type": "code",
   "execution_count": 11,
   "metadata": {},
   "outputs": [],
   "source": [
    "import os\n",
    "import pandas as pd\n",
    "import matplotlib.pyplot as plt"
   ]
  },
  {
   "cell_type": "code",
   "execution_count": 12,
   "metadata": {},
   "outputs": [],
   "source": [
    "pdx_by_date = pd.read_csv('../data/By_Date/pdx_by_date.csv')\n",
    "metro_by_date = pd.read_csv('../data/By_Date/metro_by_date.csv')\n",
    "divvy_by_date = pd.read_csv('../data/By_Date/divvy_by_date.csv')\n",
    "citi_by_date = pd.read_csv('../data/By_Date/citi_by_date.csv')\n",
    "capital_by_date = pd.read_csv('../data/By_Date/capital_by_date.csv')\n",
    "bay_by_date = pd.read_csv('../data/By_Date/bay_by_date.csv')"
   ]
  },
  {
   "cell_type": "code",
   "execution_count": 30,
   "metadata": {},
   "outputs": [
    {
     "data": {
      "image/png": "[encoded data removed]",
      "text/plain": [
       "<Figure size 432x288 with 1 Axes>"
      ]
     },
     "metadata": {
      "needs_background": "light"
     },
     "output_type": "display_data"
    }
   ],
   "source": [
    "fig = figsize=(50,50)\n",
    "\n",
    "plt.barh('m_y', 'ride_count', data=divvy_by_date, color='blue')\n",
    "plt.tight_layout()\n",
    "\n",
    "plt.barh('m_y', 'ride_count', data=capital_by_date, color='red')\n",
    "plt.tight_layout()\n",
    "\n",
    "plt.barh('m_y', 'ride_count', data=bay_by_date, color = 'green')\n",
    "plt.tight_layout()\n",
    "\n",
    "plt.barh('m_y', 'ride_count', data=citi_by_date, color='purple')\n",
    "plt.tight_layout()\n",
    "\n",
    "plt.barh('m_y', 'ride_count', data=metro_by_date, color='orange')\n",
    "plt.tight_layout()\n",
    "\n",
    "plt.barh('m_y', 'ride_count', data=pdx_by_date, color='yellow')\n",
    "plt.tight_layout()\n",
    "\n",
    "\n",
    "# legend.show()"
   ]
  },
  {
   "cell_type": "code",
   "execution_count": null,
   "metadata": {},
   "outputs": [],
   "source": []
  },
  {
   "cell_type": "code",
   "execution_count": null,
   "metadata": {},
   "outputs": [],
   "source": []
  },
  {
   "cell_type": "code",
   "execution_count": null,
   "metadata": {},
   "outputs": [],
   "source": []
  }
 ],
 "metadata": {
  "kernelspec": {
   "display_name": "Python 3",
   "language": "python",
   "name": "python3"
  },
  "language_info": {
   "codemirror_mode": {
    "name": "ipython",
    "version": 3
   },
   "file_extension": ".py",
   "mimetype": "text/x-python",
   "name": "python",
   "nbconvert_exporter": "python",
   "pygments_lexer": "ipython3",
   "version": "3.7.6"
  }
 },
 "nbformat": 4,
 "nbformat_minor": 5
}
