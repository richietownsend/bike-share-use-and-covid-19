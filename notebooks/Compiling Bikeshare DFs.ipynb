{
 "cells": [
  {
   "cell_type": "code",
   "execution_count": 1,
   "metadata": {},
   "outputs": [],
   "source": [
    "import os\n",
    "import pandas as pd\n",
    "import matplotlib.pyplot as plt"
   ]
  },
  {
   "cell_type": "markdown",
   "metadata": {},
   "source": [
    "Import csv files as dataframes"
   ]
  },
  {
   "cell_type": "code",
   "execution_count": 3,
   "metadata": {},
   "outputs": [],
   "source": [
    "pdx_by_date = pd.read_csv('../data/By_Date/pdx_by_date.csv')\n",
    "metro_by_date = pd.read_csv('../data/By_Date/metro_by_date.csv')\n",
    "divvy_by_date = pd.read_csv('../data/By_Date/divvy_by_date.csv')\n",
    "citi_by_date = pd.read_csv('../data/By_Date/citi_by_date.csv')\n",
    "jc_citi_by_date = pd.read_csv('../data/By_Date/jc_citi_by_date.csv')\n",
    "capital_by_date = pd.read_csv('../data/By_Date/capital_by_date.csv')\n",
    "bay_by_date = pd.read_csv('../data/By_Date/bay_by_date.csv')\n",
    "niceride_by_date = pd.read_csv('../data/By_Date/niceride_by_date.csv')\n",
    "bluebike_by_date = pd.read_csv('../data/By_Date/bluebike_by_date.csv')"
   ]
  },
  {
   "cell_type": "markdown",
   "metadata": {},
   "source": [
    "correct LA's \"ride_date\" column"
   ]
  },
  {
   "cell_type": "code",
   "execution_count": 4,
   "metadata": {},
   "outputs": [],
   "source": [
    "metro_by_date.rename(columns={'start_date':'ride_date'}, inplace=True)"
   ]
  },
  {
   "cell_type": "markdown",
   "metadata": {},
   "source": [
    "Plot total ride counts by city"
   ]
  },
  {
   "cell_type": "code",
   "execution_count": 5,
   "metadata": {},
   "outputs": [
    {
     "data": {
      "image/png": "[encoded data removed]",
      "text/plain": [
       "<Figure size 432x288 with 1 Axes>"
      ]
     },
     "metadata": {
      "needs_background": "light"
     },
     "output_type": "display_data"
    }
   ],
   "source": [
    "fig = figsize=(50,50)\n",
    "\n",
    "plt.barh('m_y', 'ride_count', data=citi_by_date, color='purple')\n",
    "plt.tight_layout()\n",
    "\n",
    "plt.barh('m_y', 'ride_count', data=divvy_by_date, color='blue')\n",
    "plt.tight_layout()\n",
    "\n",
    "plt.barh('m_y', 'ride_count', data=capital_by_date, color='red')\n",
    "plt.tight_layout()\n",
    "\n",
    "plt.barh('m_y', 'ride_count', data=bay_by_date, color = 'green')\n",
    "plt.tight_layout()\n",
    "\n",
    "plt.barh('m_y', 'ride_count', data=metro_by_date, color='orange')\n",
    "plt.tight_layout()\n",
    "\n",
    "plt.barh('m_y', 'ride_count', data=pdx_by_date, color='yellow')\n",
    "plt.tight_layout()\n",
    "\n",
    "\n",
    "# legend.show()"
   ]
  },
  {
   "cell_type": "markdown",
   "metadata": {},
   "source": [
    "Insert \"City Column\" in each DF"
   ]
  },
  {
   "cell_type": "code",
   "execution_count": 6,
   "metadata": {},
   "outputs": [],
   "source": [
    "pdx_by_date['city'] = 'Portland'\n",
    "metro_by_date['city'] = 'Los Angeles'\n",
    "divvy_by_date['city'] = 'Chicago'\n",
    "citi_by_date['city'] = 'New York City'\n",
    "jc_citi_by_date['city'] = 'New York City'\n",
    "capital_by_date['city'] = 'Washington DC'\n",
    "bay_by_date['city'] = 'San Francisco'\n",
    "bluebike_by_date['city'] = 'Boston'\n",
    "niceride_by_date['city'] = 'Minneapolis'"
   ]
  },
  {
   "cell_type": "markdown",
   "metadata": {},
   "source": [
    "Concatenate All DataFrames into what will be exported into Power BI"
   ]
  },
  {
   "cell_type": "code",
   "execution_count": 7,
   "metadata": {},
   "outputs": [],
   "source": [
    "all_cities = pd.concat([pdx_by_date, bay_by_date, divvy_by_date, metro_by_date, citi_by_date, capital_by_date, jc_citi_by_date, bluebike_by_date, niceride_by_date])"
   ]
  },
  {
   "cell_type": "markdown",
   "metadata": {},
   "source": [
    "Drop Unnecessary Columns"
   ]
  },
  {
   "cell_type": "code",
   "execution_count": 8,
   "metadata": {},
   "outputs": [],
   "source": [
    "all_cities2 = all_cities"
   ]
  },
  {
   "cell_type": "code",
   "execution_count": 9,
   "metadata": {},
   "outputs": [],
   "source": [
    "all_cities = all_cities.drop(['Unnamed: 0', 'month', 'year', 'm_y'], axis=1)"
   ]
  },
  {
   "cell_type": "code",
   "execution_count": 10,
   "metadata": {},
   "outputs": [],
   "source": [
    "all_cities2 = all_cities2.drop(['Unnamed: 0', 'month', 'year'], axis=1)"
   ]
  },
  {
   "cell_type": "markdown",
   "metadata": {},
   "source": [
    "Save as CSV"
   ]
  },
  {
   "cell_type": "code",
   "execution_count": 11,
   "metadata": {},
   "outputs": [],
   "source": [
    "all_cities.to_csv('all_cities.csv')"
   ]
  },
  {
   "cell_type": "code",
   "execution_count": 12,
   "metadata": {},
   "outputs": [
    {
     "data": {
      "text/html": [
       "<div>\n",
       "<style scoped>\n",
       "    .dataframe tbody tr th:only-of-type {\n",
       "        vertical-align: middle;\n",
       "    }\n",
       "\n",
       "    .dataframe tbody tr th {\n",
       "        vertical-align: top;\n",
       "    }\n",
       "\n",
       "    .dataframe thead th {\n",
       "        text-align: right;\n",
       "    }\n",
       "</style>\n",
       "<table border=\"1\" class=\"dataframe\">\n",
       "  <thead>\n",
       "    <tr style=\"text-align: right;\">\n",
       "      <th></th>\n",
       "      <th></th>\n",
       "      <th>ride_count</th>\n",
       "    </tr>\n",
       "    <tr>\n",
       "      <th>m_y</th>\n",
       "      <th>city</th>\n",
       "      <th></th>\n",
       "    </tr>\n",
       "  </thead>\n",
       "  <tbody>\n",
       "    <tr>\n",
       "      <th rowspan=\"5\" valign=\"top\">1-2019</th>\n",
       "      <th>Boston</th>\n",
       "      <td>69548</td>\n",
       "    </tr>\n",
       "    <tr>\n",
       "      <th>Chicago</th>\n",
       "      <td>102919</td>\n",
       "    </tr>\n",
       "    <tr>\n",
       "      <th>Los Angeles</th>\n",
       "      <td>19208</td>\n",
       "    </tr>\n",
       "    <tr>\n",
       "      <th>New York City</th>\n",
       "      <td>983137</td>\n",
       "    </tr>\n",
       "    <tr>\n",
       "      <th>Portland</th>\n",
       "      <td>5942</td>\n",
       "    </tr>\n",
       "    <tr>\n",
       "      <th>...</th>\n",
       "      <th>...</th>\n",
       "      <td>...</td>\n",
       "    </tr>\n",
       "    <tr>\n",
       "      <th rowspan=\"5\" valign=\"top\">9-2020</th>\n",
       "      <th>Los Angeles</th>\n",
       "      <td>11101</td>\n",
       "    </tr>\n",
       "    <tr>\n",
       "      <th>Minneapolis</th>\n",
       "      <td>18533</td>\n",
       "    </tr>\n",
       "    <tr>\n",
       "      <th>New York City</th>\n",
       "      <td>2506643</td>\n",
       "    </tr>\n",
       "    <tr>\n",
       "      <th>San Francisco</th>\n",
       "      <td>75711</td>\n",
       "    </tr>\n",
       "    <tr>\n",
       "      <th>Washington DC</th>\n",
       "      <td>215567</td>\n",
       "    </tr>\n",
       "  </tbody>\n",
       "</table>\n",
       "<p>206 rows × 1 columns</p>\n",
       "</div>"
      ],
      "text/plain": [
       "                      ride_count\n",
       "m_y    city                     \n",
       "1-2019 Boston              69548\n",
       "       Chicago            102919\n",
       "       Los Angeles         19208\n",
       "       New York City      983137\n",
       "       Portland             5942\n",
       "...                          ...\n",
       "9-2020 Los Angeles         11101\n",
       "       Minneapolis         18533\n",
       "       New York City     2506643\n",
       "       San Francisco       75711\n",
       "       Washington DC      215567\n",
       "\n",
       "[206 rows x 1 columns]"
      ]
     },
     "execution_count": 12,
     "metadata": {},
     "output_type": "execute_result"
    }
   ],
   "source": [
    "all_cities2.groupby(['m_y', 'city']).agg({'ride_count':'sum'})"
   ]
  },
  {
   "cell_type": "code",
   "execution_count": 13,
   "metadata": {},
   "outputs": [
    {
     "data": {
      "text/html": [
       "<div>\n",
       "<style scoped>\n",
       "    .dataframe tbody tr th:only-of-type {\n",
       "        vertical-align: middle;\n",
       "    }\n",
       "\n",
       "    .dataframe tbody tr th {\n",
       "        vertical-align: top;\n",
       "    }\n",
       "\n",
       "    .dataframe thead th {\n",
       "        text-align: right;\n",
       "    }\n",
       "</style>\n",
       "<table border=\"1\" class=\"dataframe\">\n",
       "  <thead>\n",
       "    <tr style=\"text-align: right;\">\n",
       "      <th></th>\n",
       "      <th>ride_count</th>\n",
       "    </tr>\n",
       "    <tr>\n",
       "      <th>city</th>\n",
       "      <th></th>\n",
       "    </tr>\n",
       "  </thead>\n",
       "  <tbody>\n",
       "    <tr>\n",
       "      <th>Boston</th>\n",
       "      <td>5298471</td>\n",
       "    </tr>\n",
       "    <tr>\n",
       "      <th>Chicago</th>\n",
       "      <td>8031733</td>\n",
       "    </tr>\n",
       "    <tr>\n",
       "      <th>Los Angeles</th>\n",
       "      <td>525844</td>\n",
       "    </tr>\n",
       "    <tr>\n",
       "      <th>Minneapolis</th>\n",
       "      <td>368319</td>\n",
       "    </tr>\n",
       "    <tr>\n",
       "      <th>New York City</th>\n",
       "      <td>48610857</td>\n",
       "    </tr>\n",
       "    <tr>\n",
       "      <th>Portland</th>\n",
       "      <td>168583</td>\n",
       "    </tr>\n",
       "    <tr>\n",
       "      <th>San Francisco</th>\n",
       "      <td>3679115</td>\n",
       "    </tr>\n",
       "    <tr>\n",
       "      <th>Washington DC</th>\n",
       "      <td>6053241</td>\n",
       "    </tr>\n",
       "  </tbody>\n",
       "</table>\n",
       "</div>"
      ],
      "text/plain": [
       "               ride_count\n",
       "city                     \n",
       "Boston            5298471\n",
       "Chicago           8031733\n",
       "Los Angeles        525844\n",
       "Minneapolis        368319\n",
       "New York City    48610857\n",
       "Portland           168583\n",
       "San Francisco     3679115\n",
       "Washington DC     6053241"
      ]
     },
     "execution_count": 13,
     "metadata": {},
     "output_type": "execute_result"
    }
   ],
   "source": [
    "all_cities.groupby(['city']).agg({'ride_count':'sum'})"
   ]
  },
  {
   "cell_type": "code",
   "execution_count": 14,
   "metadata": {},
   "outputs": [
    {
     "data": {
      "text/html": [
       "<div>\n",
       "<style scoped>\n",
       "    .dataframe tbody tr th:only-of-type {\n",
       "        vertical-align: middle;\n",
       "    }\n",
       "\n",
       "    .dataframe tbody tr th {\n",
       "        vertical-align: top;\n",
       "    }\n",
       "\n",
       "    .dataframe thead th {\n",
       "        text-align: right;\n",
       "    }\n",
       "</style>\n",
       "<table border=\"1\" class=\"dataframe\">\n",
       "  <thead>\n",
       "    <tr style=\"text-align: right;\">\n",
       "      <th></th>\n",
       "      <th>Unnamed: 0</th>\n",
       "      <th>ride_date</th>\n",
       "      <th>ride_count</th>\n",
       "      <th>month</th>\n",
       "      <th>year</th>\n",
       "      <th>m_y</th>\n",
       "      <th>city</th>\n",
       "    </tr>\n",
       "  </thead>\n",
       "  <tbody>\n",
       "    <tr>\n",
       "      <th>0</th>\n",
       "      <td>0</td>\n",
       "      <td>2019-01-01</td>\n",
       "      <td>21778</td>\n",
       "      <td>1</td>\n",
       "      <td>2019</td>\n",
       "      <td>1-2019</td>\n",
       "      <td>New York City</td>\n",
       "    </tr>\n",
       "    <tr>\n",
       "      <th>1</th>\n",
       "      <td>1</td>\n",
       "      <td>2019-01-02</td>\n",
       "      <td>37670</td>\n",
       "      <td>1</td>\n",
       "      <td>2019</td>\n",
       "      <td>1-2019</td>\n",
       "      <td>New York City</td>\n",
       "    </tr>\n",
       "    <tr>\n",
       "      <th>2</th>\n",
       "      <td>2</td>\n",
       "      <td>2019-01-03</td>\n",
       "      <td>41544</td>\n",
       "      <td>1</td>\n",
       "      <td>2019</td>\n",
       "      <td>1-2019</td>\n",
       "      <td>New York City</td>\n",
       "    </tr>\n",
       "    <tr>\n",
       "      <th>3</th>\n",
       "      <td>3</td>\n",
       "      <td>2019-01-04</td>\n",
       "      <td>43776</td>\n",
       "      <td>1</td>\n",
       "      <td>2019</td>\n",
       "      <td>1-2019</td>\n",
       "      <td>New York City</td>\n",
       "    </tr>\n",
       "    <tr>\n",
       "      <th>4</th>\n",
       "      <td>4</td>\n",
       "      <td>2019-01-05</td>\n",
       "      <td>17356</td>\n",
       "      <td>1</td>\n",
       "      <td>2019</td>\n",
       "      <td>1-2019</td>\n",
       "      <td>New York City</td>\n",
       "    </tr>\n",
       "  </tbody>\n",
       "</table>\n",
       "</div>"
      ],
      "text/plain": [
       "   Unnamed: 0   ride_date  ride_count  month  year     m_y           city\n",
       "0           0  2019-01-01       21778      1  2019  1-2019  New York City\n",
       "1           1  2019-01-02       37670      1  2019  1-2019  New York City\n",
       "2           2  2019-01-03       41544      1  2019  1-2019  New York City\n",
       "3           3  2019-01-04       43776      1  2019  1-2019  New York City\n",
       "4           4  2019-01-05       17356      1  2019  1-2019  New York City"
      ]
     },
     "execution_count": 14,
     "metadata": {},
     "output_type": "execute_result"
    }
   ],
   "source": [
    "citi_by_date[(citi_by_date['year'] == 2019) & (citi_by_date['month'] == 1)].head()"
   ]
  },
  {
   "cell_type": "code",
   "execution_count": 15,
   "metadata": {},
   "outputs": [],
   "source": [
    "ny = all_cities2[all_cities2['city'] == 'New York City']"
   ]
  },
  {
   "cell_type": "code",
   "execution_count": 16,
   "metadata": {},
   "outputs": [
    {
     "data": {
      "text/html": [
       "<div>\n",
       "<style scoped>\n",
       "    .dataframe tbody tr th:only-of-type {\n",
       "        vertical-align: middle;\n",
       "    }\n",
       "\n",
       "    .dataframe tbody tr th {\n",
       "        vertical-align: top;\n",
       "    }\n",
       "\n",
       "    .dataframe thead th {\n",
       "        text-align: right;\n",
       "    }\n",
       "</style>\n",
       "<table border=\"1\" class=\"dataframe\">\n",
       "  <thead>\n",
       "    <tr style=\"text-align: right;\">\n",
       "      <th></th>\n",
       "      <th>ride_count</th>\n",
       "    </tr>\n",
       "    <tr>\n",
       "      <th>m_y</th>\n",
       "      <th></th>\n",
       "    </tr>\n",
       "  </thead>\n",
       "  <tbody>\n",
       "    <tr>\n",
       "      <th>1-2019</th>\n",
       "      <td>983137</td>\n",
       "    </tr>\n",
       "    <tr>\n",
       "      <th>1-2020</th>\n",
       "      <td>1262891</td>\n",
       "    </tr>\n",
       "    <tr>\n",
       "      <th>1-2021</th>\n",
       "      <td>1098285</td>\n",
       "    </tr>\n",
       "    <tr>\n",
       "      <th>10-2019</th>\n",
       "      <td>2126413</td>\n",
       "    </tr>\n",
       "    <tr>\n",
       "      <th>10-2020</th>\n",
       "      <td>2274036</td>\n",
       "    </tr>\n",
       "    <tr>\n",
       "      <th>11-2019</th>\n",
       "      <td>1504574</td>\n",
       "    </tr>\n",
       "    <tr>\n",
       "      <th>11-2020</th>\n",
       "      <td>1743057</td>\n",
       "    </tr>\n",
       "    <tr>\n",
       "      <th>12-2019</th>\n",
       "      <td>971826</td>\n",
       "    </tr>\n",
       "    <tr>\n",
       "      <th>12-2020</th>\n",
       "      <td>1090831</td>\n",
       "    </tr>\n",
       "    <tr>\n",
       "      <th>2-2019</th>\n",
       "      <td>958565</td>\n",
       "    </tr>\n",
       "    <tr>\n",
       "      <th>2-2020</th>\n",
       "      <td>1166103</td>\n",
       "    </tr>\n",
       "    <tr>\n",
       "      <th>2-2021</th>\n",
       "      <td>645695</td>\n",
       "    </tr>\n",
       "    <tr>\n",
       "      <th>3-2019</th>\n",
       "      <td>1345267</td>\n",
       "    </tr>\n",
       "    <tr>\n",
       "      <th>3-2020</th>\n",
       "      <td>1080923</td>\n",
       "    </tr>\n",
       "    <tr>\n",
       "      <th>3-2021</th>\n",
       "      <td>1525570</td>\n",
       "    </tr>\n",
       "    <tr>\n",
       "      <th>4-2019</th>\n",
       "      <td>1789384</td>\n",
       "    </tr>\n",
       "    <tr>\n",
       "      <th>4-2020</th>\n",
       "      <td>686762</td>\n",
       "    </tr>\n",
       "    <tr>\n",
       "      <th>4-2021</th>\n",
       "      <td>2057497</td>\n",
       "    </tr>\n",
       "    <tr>\n",
       "      <th>5-2019</th>\n",
       "      <td>1950274</td>\n",
       "    </tr>\n",
       "    <tr>\n",
       "      <th>5-2020</th>\n",
       "      <td>1498231</td>\n",
       "    </tr>\n",
       "    <tr>\n",
       "      <th>5-2021</th>\n",
       "      <td>2738413</td>\n",
       "    </tr>\n",
       "    <tr>\n",
       "      <th>6-2019</th>\n",
       "      <td>2152863</td>\n",
       "    </tr>\n",
       "    <tr>\n",
       "      <th>6-2020</th>\n",
       "      <td>1900877</td>\n",
       "    </tr>\n",
       "    <tr>\n",
       "      <th>7-2019</th>\n",
       "      <td>2213344</td>\n",
       "    </tr>\n",
       "    <tr>\n",
       "      <th>7-2020</th>\n",
       "      <td>2125769</td>\n",
       "    </tr>\n",
       "    <tr>\n",
       "      <th>8-2019</th>\n",
       "      <td>2380493</td>\n",
       "    </tr>\n",
       "    <tr>\n",
       "      <th>8-2020</th>\n",
       "      <td>2350639</td>\n",
       "    </tr>\n",
       "    <tr>\n",
       "      <th>9-2019</th>\n",
       "      <td>2482495</td>\n",
       "    </tr>\n",
       "    <tr>\n",
       "      <th>9-2020</th>\n",
       "      <td>2506643</td>\n",
       "    </tr>\n",
       "  </tbody>\n",
       "</table>\n",
       "</div>"
      ],
      "text/plain": [
       "         ride_count\n",
       "m_y                \n",
       "1-2019       983137\n",
       "1-2020      1262891\n",
       "1-2021      1098285\n",
       "10-2019     2126413\n",
       "10-2020     2274036\n",
       "11-2019     1504574\n",
       "11-2020     1743057\n",
       "12-2019      971826\n",
       "12-2020     1090831\n",
       "2-2019       958565\n",
       "2-2020      1166103\n",
       "2-2021       645695\n",
       "3-2019      1345267\n",
       "3-2020      1080923\n",
       "3-2021      1525570\n",
       "4-2019      1789384\n",
       "4-2020       686762\n",
       "4-2021      2057497\n",
       "5-2019      1950274\n",
       "5-2020      1498231\n",
       "5-2021      2738413\n",
       "6-2019      2152863\n",
       "6-2020      1900877\n",
       "7-2019      2213344\n",
       "7-2020      2125769\n",
       "8-2019      2380493\n",
       "8-2020      2350639\n",
       "9-2019      2482495\n",
       "9-2020      2506643"
      ]
     },
     "execution_count": 16,
     "metadata": {},
     "output_type": "execute_result"
    }
   ],
   "source": [
    "ny.groupby('m_y').agg({'ride_count':'sum'})"
   ]
  },
  {
   "cell_type": "code",
   "execution_count": null,
   "metadata": {},
   "outputs": [],
   "source": []
  },
  {
   "cell_type": "code",
   "execution_count": null,
   "metadata": {},
   "outputs": [],
   "source": []
  }
 ],
 "metadata": {
  "kernelspec": {
   "display_name": "Python 3",
   "language": "python",
   "name": "python3"
  },
  "language_info": {
   "codemirror_mode": {
    "name": "ipython",
    "version": 3
   },
   "file_extension": ".py",
   "mimetype": "text/x-python",
   "name": "python",
   "nbconvert_exporter": "python",
   "pygments_lexer": "ipython3",
   "version": "3.7.6"
  }
 },
 "nbformat": 4,
 "nbformat_minor": 5
}
