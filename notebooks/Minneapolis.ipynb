{
 "cells": [
  {
   "cell_type": "code",
   "execution_count": 1,
   "metadata": {},
   "outputs": [],
   "source": [
    "import pandas as pd\n",
    "import os\n",
    "import matplotlib.pyplot as plt"
   ]
  },
  {
   "cell_type": "code",
   "execution_count": 2,
   "metadata": {
    "scrolled": true
   },
   "outputs": [
    {
     "name": "stdout",
     "output_type": "stream",
     "text": [
      "pd.read_csv('../data/Minneapolis/202010-niceride-tripdata.csv')\n",
      "pd.read_csv('../data/Minneapolis/202105-niceride-tripdata.csv')\n",
      "pd.read_csv('../data/Minneapolis/202006-niceride-tripdata.csv')\n",
      "pd.read_csv('../data/Minneapolis/202004-niceride-tripdata.csv')\n",
      "pd.read_csv('../data/Minneapolis/201908-niceride-tripdata.csv')\n",
      "pd.read_csv('../data/Minneapolis/2001906-niceride-tripdata.csv')\n",
      "pd.read_csv('../data/Minneapolis/201910-niceride-tripdata.csv')\n",
      "pd.read_csv('../data/Minneapolis/202008-niceride-tripdata.csv')\n",
      "pd.read_csv('../data/Minneapolis/201904-niceride-tripdata.csv')\n",
      "pd.read_csv('../data/Minneapolis/202104-niceride-tripdata.csv')\n",
      "pd.read_csv('../data/Minneapolis/202007-niceride-tripdata.csv')\n",
      "pd.read_csv('../data/Minneapolis/202011-niceride-tripdata.csv')\n",
      "pd.read_csv('../data/Minneapolis/201909-niceride-tripdata.csv')\n",
      "pd.read_csv('../data/Minneapolis/202005-niceride-tripdata.csv')\n",
      "pd.read_csv('../data/Minneapolis/201907-niceride-tripdata.csv')\n",
      "pd.read_csv('../data/Minneapolis/201911-niceride-tripdata.csv')\n",
      "pd.read_csv('../data/Minneapolis/201905-niceride-tripdata.csv')\n",
      "pd.read_csv('../data/Minneapolis/202009-niceride-tripdata.csv')\n"
     ]
    }
   ],
   "source": [
    "# This is my path\n",
    "path = \"/Users/richietownsend/Nashville Software School/NSS_Data_Analytics/Capstone/bike_share/data/Minneapolis/\"\n",
    "\n",
    "# to store files in a list\n",
    "list = []\n",
    " \n",
    "# dirs=directories\n",
    "for (root, dirs, file) in os.walk(path):\n",
    "    for f in file:\n",
    "        if '.csv' in f:\n",
    "            print('pd.read_csv(\\'../data/Minneapolis/'+f+'\\')')"
   ]
  },
  {
   "cell_type": "markdown",
   "metadata": {},
   "source": [
    "Load data"
   ]
  },
  {
   "cell_type": "code",
   "execution_count": 3,
   "metadata": {},
   "outputs": [],
   "source": [
    "niceride0419 = pd.read_csv('../data/Minneapolis/201904-niceride-tripdata.csv')\n",
    "niceride0519 = pd.read_csv('../data/Minneapolis/201905-niceride-tripdata.csv')\n",
    "niceride0619 = pd.read_csv('../data/Minneapolis/2001906-niceride-tripdata.csv')\n",
    "niceride0719 = pd.read_csv('../data/Minneapolis/201907-niceride-tripdata.csv')\n",
    "niceride0819 = pd.read_csv('../data/Minneapolis/201908-niceride-tripdata.csv')\n",
    "niceride0919 = pd.read_csv('../data/Minneapolis/201909-niceride-tripdata.csv')\n",
    "niceride1019 = pd.read_csv('../data/Minneapolis/201910-niceride-tripdata.csv')\n",
    "niceride1119 = pd.read_csv('../data/Minneapolis/201911-niceride-tripdata.csv')\n",
    "niceride0420 = pd.read_csv('../data/Minneapolis/202004-niceride-tripdata.csv')\n",
    "niceride0520 = pd.read_csv('../data/Minneapolis/202005-niceride-tripdata.csv')\n",
    "niceride0620 = pd.read_csv('../data/Minneapolis/202006-niceride-tripdata.csv')\n",
    "niceride0720 = pd.read_csv('../data/Minneapolis/202007-niceride-tripdata.csv')\n",
    "niceride0820 = pd.read_csv('../data/Minneapolis/202008-niceride-tripdata.csv')\n",
    "niceride0920 = pd.read_csv('../data/Minneapolis/202009-niceride-tripdata.csv')\n",
    "niceride1020 = pd.read_csv('../data/Minneapolis/202010-niceride-tripdata.csv')\n",
    "niceride1120 = pd.read_csv('../data/Minneapolis/202011-niceride-tripdata.csv')\n",
    "niceride0421 = pd.read_csv('../data/Minneapolis/202104-niceride-tripdata.csv')\n",
    "niceride0521 = pd.read_csv('../data/Minneapolis/202105-niceride-tripdata.csv')"
   ]
  },
  {
   "cell_type": "code",
   "execution_count": 4,
   "metadata": {},
   "outputs": [
    {
     "name": "stdout",
     "output_type": "stream",
     "text": [
      "<class 'pandas.core.frame.DataFrame'>\n",
      "RangeIndex: 8483 entries, 0 to 8482\n",
      "Data columns (total 16 columns):\n",
      " #   Column                   Non-Null Count  Dtype  \n",
      "---  ------                   --------------  -----  \n",
      " 0   tripduration             8483 non-null   int64  \n",
      " 1   start_time               8483 non-null   object \n",
      " 2   end_time                 8483 non-null   object \n",
      " 3   start station id         7762 non-null   float64\n",
      " 4   start station name       7762 non-null   object \n",
      " 5   start station latitude   8483 non-null   float64\n",
      " 6   start station longitude  8483 non-null   float64\n",
      " 7   end station id           7762 non-null   float64\n",
      " 8   end station name         7762 non-null   object \n",
      " 9   end station latitude     8483 non-null   float64\n",
      " 10  end station longitude    8483 non-null   float64\n",
      " 11  bikeid                   8483 non-null   int64  \n",
      " 12  usertype                 8483 non-null   object \n",
      " 13  birth year               8483 non-null   int64  \n",
      " 14  gender                   8483 non-null   int64  \n",
      " 15  bike type                8483 non-null   object \n",
      "dtypes: float64(6), int64(4), object(6)\n",
      "memory usage: 1.0+ MB\n"
     ]
    }
   ],
   "source": [
    "niceride0419.info()"
   ]
  },
  {
   "cell_type": "code",
   "execution_count": 5,
   "metadata": {},
   "outputs": [
    {
     "data": {
      "text/html": [
       "<div>\n",
       "<style scoped>\n",
       "    .dataframe tbody tr th:only-of-type {\n",
       "        vertical-align: middle;\n",
       "    }\n",
       "\n",
       "    .dataframe tbody tr th {\n",
       "        vertical-align: top;\n",
       "    }\n",
       "\n",
       "    .dataframe thead th {\n",
       "        text-align: right;\n",
       "    }\n",
       "</style>\n",
       "<table border=\"1\" class=\"dataframe\">\n",
       "  <thead>\n",
       "    <tr style=\"text-align: right;\">\n",
       "      <th></th>\n",
       "      <th>tripduration</th>\n",
       "      <th>start_time</th>\n",
       "      <th>end_time</th>\n",
       "      <th>start station id</th>\n",
       "      <th>start station name</th>\n",
       "      <th>start station latitude</th>\n",
       "      <th>start station longitude</th>\n",
       "      <th>end station id</th>\n",
       "      <th>end station name</th>\n",
       "      <th>end station latitude</th>\n",
       "      <th>end station longitude</th>\n",
       "      <th>bikeid</th>\n",
       "      <th>usertype</th>\n",
       "      <th>birth year</th>\n",
       "      <th>gender</th>\n",
       "      <th>bike type</th>\n",
       "    </tr>\n",
       "  </thead>\n",
       "  <tbody>\n",
       "    <tr>\n",
       "      <th>0</th>\n",
       "      <td>1388</td>\n",
       "      <td>2019-06-01 00:00:35.1290</td>\n",
       "      <td>2019-06-01 00:23:43.8060</td>\n",
       "      <td>98.0</td>\n",
       "      <td>University Ave NE &amp; 12th Ave NE</td>\n",
       "      <td>44.999874</td>\n",
       "      <td>-93.262955</td>\n",
       "      <td>212.0</td>\n",
       "      <td>Bohemian Flats</td>\n",
       "      <td>44.976223</td>\n",
       "      <td>-93.241600</td>\n",
       "      <td>909</td>\n",
       "      <td>Customer</td>\n",
       "      <td>1999</td>\n",
       "      <td>1</td>\n",
       "      <td>Classic</td>\n",
       "    </tr>\n",
       "    <tr>\n",
       "      <th>1</th>\n",
       "      <td>340</td>\n",
       "      <td>2019-06-01 00:01:06.9880</td>\n",
       "      <td>2019-06-01 00:06:47.2760</td>\n",
       "      <td>206.0</td>\n",
       "      <td>Cooke Hall</td>\n",
       "      <td>44.976303</td>\n",
       "      <td>-93.230029</td>\n",
       "      <td>190.0</td>\n",
       "      <td>Weisman Art Museum</td>\n",
       "      <td>44.973428</td>\n",
       "      <td>-93.237319</td>\n",
       "      <td>699</td>\n",
       "      <td>Subscriber</td>\n",
       "      <td>1999</td>\n",
       "      <td>1</td>\n",
       "      <td>Classic</td>\n",
       "    </tr>\n",
       "    <tr>\n",
       "      <th>2</th>\n",
       "      <td>1675</td>\n",
       "      <td>2019-06-01 00:03:12.7610</td>\n",
       "      <td>2019-06-01 00:31:07.9640</td>\n",
       "      <td>NaN</td>\n",
       "      <td>NaN</td>\n",
       "      <td>44.990000</td>\n",
       "      <td>-93.290000</td>\n",
       "      <td>NaN</td>\n",
       "      <td>NaN</td>\n",
       "      <td>44.990000</td>\n",
       "      <td>-93.290000</td>\n",
       "      <td>2379</td>\n",
       "      <td>Customer</td>\n",
       "      <td>1997</td>\n",
       "      <td>2</td>\n",
       "      <td>Dockless</td>\n",
       "    </tr>\n",
       "    <tr>\n",
       "      <th>3</th>\n",
       "      <td>1579</td>\n",
       "      <td>2019-06-01 00:07:11.4510</td>\n",
       "      <td>2019-06-01 00:33:30.9500</td>\n",
       "      <td>167.0</td>\n",
       "      <td>11th Ave S &amp; S 2nd Street</td>\n",
       "      <td>44.976220</td>\n",
       "      <td>-93.251977</td>\n",
       "      <td>101.0</td>\n",
       "      <td>West 36th Street &amp; Bryant Ave S</td>\n",
       "      <td>44.937750</td>\n",
       "      <td>-93.291200</td>\n",
       "      <td>977</td>\n",
       "      <td>Subscriber</td>\n",
       "      <td>1979</td>\n",
       "      <td>1</td>\n",
       "      <td>Classic</td>\n",
       "    </tr>\n",
       "    <tr>\n",
       "      <th>4</th>\n",
       "      <td>43289</td>\n",
       "      <td>2019-06-01 00:07:22.3100</td>\n",
       "      <td>2019-06-01 12:08:51.5600</td>\n",
       "      <td>211.0</td>\n",
       "      <td>15th Ave SE &amp; SE 4th Street</td>\n",
       "      <td>44.979951</td>\n",
       "      <td>-93.234787</td>\n",
       "      <td>148.0</td>\n",
       "      <td>Chicago Ave &amp; S Washington Ave</td>\n",
       "      <td>44.977424</td>\n",
       "      <td>-93.256765</td>\n",
       "      <td>1720</td>\n",
       "      <td>Customer</td>\n",
       "      <td>1969</td>\n",
       "      <td>0</td>\n",
       "      <td>Classic</td>\n",
       "    </tr>\n",
       "  </tbody>\n",
       "</table>\n",
       "</div>"
      ],
      "text/plain": [
       "   tripduration                start_time                  end_time  \\\n",
       "0          1388  2019-06-01 00:00:35.1290  2019-06-01 00:23:43.8060   \n",
       "1           340  2019-06-01 00:01:06.9880  2019-06-01 00:06:47.2760   \n",
       "2          1675  2019-06-01 00:03:12.7610  2019-06-01 00:31:07.9640   \n",
       "3          1579  2019-06-01 00:07:11.4510  2019-06-01 00:33:30.9500   \n",
       "4         43289  2019-06-01 00:07:22.3100  2019-06-01 12:08:51.5600   \n",
       "\n",
       "   start station id               start station name  start station latitude  \\\n",
       "0              98.0  University Ave NE & 12th Ave NE               44.999874   \n",
       "1             206.0                       Cooke Hall               44.976303   \n",
       "2               NaN                              NaN               44.990000   \n",
       "3             167.0        11th Ave S & S 2nd Street               44.976220   \n",
       "4             211.0      15th Ave SE & SE 4th Street               44.979951   \n",
       "\n",
       "   start station longitude  end station id                 end station name  \\\n",
       "0               -93.262955           212.0                   Bohemian Flats   \n",
       "1               -93.230029           190.0               Weisman Art Museum   \n",
       "2               -93.290000             NaN                              NaN   \n",
       "3               -93.251977           101.0  West 36th Street & Bryant Ave S   \n",
       "4               -93.234787           148.0   Chicago Ave & S Washington Ave   \n",
       "\n",
       "   end station latitude  end station longitude  bikeid    usertype  \\\n",
       "0             44.976223             -93.241600     909    Customer   \n",
       "1             44.973428             -93.237319     699  Subscriber   \n",
       "2             44.990000             -93.290000    2379    Customer   \n",
       "3             44.937750             -93.291200     977  Subscriber   \n",
       "4             44.977424             -93.256765    1720    Customer   \n",
       "\n",
       "   birth year  gender bike type  \n",
       "0        1999       1   Classic  \n",
       "1        1999       1   Classic  \n",
       "2        1997       2  Dockless  \n",
       "3        1979       1   Classic  \n",
       "4        1969       0   Classic  "
      ]
     },
     "execution_count": 5,
     "metadata": {},
     "output_type": "execute_result"
    }
   ],
   "source": [
    "niceride0619.head()"
   ]
  },
  {
   "cell_type": "code",
   "execution_count": 6,
   "metadata": {},
   "outputs": [],
   "source": [
    "niceride_all = pd.concat([niceride0419, niceride0519, niceride0619, niceride0719, niceride0819, niceride0919, niceride1019, niceride1119])"
   ]
  },
  {
   "cell_type": "code",
   "execution_count": 7,
   "metadata": {},
   "outputs": [],
   "source": [
    "niceride_all2 = pd.concat([niceride0420, niceride0520, niceride0620, niceride0720, niceride0820, niceride0920, niceride1020, niceride1120, niceride0421, niceride0521])"
   ]
  },
  {
   "cell_type": "code",
   "execution_count": 8,
   "metadata": {},
   "outputs": [],
   "source": [
    "niceride_all2 = niceride_all2[['ride_id', 'started_at', 'ended_at', 'start_station_id', 'end_station_id']]"
   ]
  },
  {
   "cell_type": "code",
   "execution_count": 9,
   "metadata": {},
   "outputs": [
    {
     "name": "stdout",
     "output_type": "stream",
     "text": [
      "<class 'pandas.core.frame.DataFrame'>\n",
      "RangeIndex: 65038 entries, 0 to 65037\n",
      "Data columns (total 16 columns):\n",
      " #   Column                   Non-Null Count  Dtype  \n",
      "---  ------                   --------------  -----  \n",
      " 0   tripduration             65038 non-null  int64  \n",
      " 1   start_time               65038 non-null  object \n",
      " 2   end_time                 65038 non-null  object \n",
      " 3   start station id         49503 non-null  float64\n",
      " 4   start station name       49503 non-null  object \n",
      " 5   start station latitude   65038 non-null  float64\n",
      " 6   start station longitude  65038 non-null  float64\n",
      " 7   end station id           49503 non-null  float64\n",
      " 8   end station name         49503 non-null  object \n",
      " 9   end station latitude     65038 non-null  float64\n",
      " 10  end station longitude    65038 non-null  float64\n",
      " 11  bikeid                   65038 non-null  int64  \n",
      " 12  usertype                 65038 non-null  object \n",
      " 13  birth year               65038 non-null  int64  \n",
      " 14  gender                   65038 non-null  int64  \n",
      " 15  bike type                65038 non-null  object \n",
      "dtypes: float64(6), int64(4), object(6)\n",
      "memory usage: 7.9+ MB\n"
     ]
    }
   ],
   "source": [
    "niceride0619.info()"
   ]
  },
  {
   "cell_type": "code",
   "execution_count": 10,
   "metadata": {},
   "outputs": [],
   "source": [
    "niceride0520 = niceride0620[['ride_id', 'started_at', 'ended_at', 'start_station_id', 'end_station_id']]"
   ]
  },
  {
   "cell_type": "code",
   "execution_count": 11,
   "metadata": {},
   "outputs": [],
   "source": [
    "niceride_all = niceride_all[['bikeid', 'start_time', 'end_time', 'start station id', 'end station id']]\n",
    "niceride_all.rename(columns={'bikeid':'ride_id', 'start_time':'started_at', 'end_time':'ended_at', 'start station id':'start_station_id', 'end station id': 'end_station_id'}, inplace=True)"
   ]
  },
  {
   "cell_type": "code",
   "execution_count": 12,
   "metadata": {},
   "outputs": [],
   "source": [
    "all_niceride = pd.concat([niceride_all, niceride_all2])"
   ]
  },
  {
   "cell_type": "code",
   "execution_count": 13,
   "metadata": {},
   "outputs": [],
   "source": [
    "all_niceride['started_at'] = pd.to_datetime(all_niceride['started_at'], format='%Y-%m-%d')\n",
    "all_niceride['ended_at'] = pd.to_datetime(all_niceride['ended_at'], format='%Y-%m-%d')"
   ]
  },
  {
   "cell_type": "code",
   "execution_count": 14,
   "metadata": {},
   "outputs": [],
   "source": [
    "all_niceride['duration'] = all_niceride['ended_at'] - all_niceride['started_at']"
   ]
  },
  {
   "cell_type": "code",
   "execution_count": 15,
   "metadata": {},
   "outputs": [],
   "source": [
    "all_niceride = all_niceride.dropna(subset=['start_station_id'])\n",
    "all_niceride = all_niceride.dropna(subset=['end_station_id'])\n",
    "all_niceride = all_niceride[~((all_niceride['start_station_id'] == all_niceride['end_station_id']) & (all_niceride['duration'] < '00:05:00'))]"
   ]
  },
  {
   "cell_type": "code",
   "execution_count": 16,
   "metadata": {},
   "outputs": [],
   "source": [
    "all_niceride['start_date'] = all_niceride['started_at'].dt.date"
   ]
  },
  {
   "cell_type": "code",
   "execution_count": 17,
   "metadata": {},
   "outputs": [],
   "source": [
    "niceride_by_date = all_niceride.groupby('start_date').agg({'started_at':'count'}).reset_index()\n",
    "niceride_by_date.rename(columns={'start_date':'ride_date', 'started_at':'ride_count'}, inplace = True)\n",
    "\n",
    "# citi_by_date = all_citi.groupby(['start_date'])['bikeid'].count()\n",
    "# citi_by_date = pd.DataFrame(citi_by_date).reset_index()"
   ]
  },
  {
   "cell_type": "code",
   "execution_count": 18,
   "metadata": {},
   "outputs": [],
   "source": [
    "niceride_by_date['ride_date'] = pd.to_datetime(niceride_by_date['ride_date'], format='%Y-%m-%d')"
   ]
  },
  {
   "cell_type": "code",
   "execution_count": 19,
   "metadata": {},
   "outputs": [
    {
     "name": "stdout",
     "output_type": "stream",
     "text": [
      "<class 'pandas.core.frame.DataFrame'>\n",
      "RangeIndex: 478 entries, 0 to 477\n",
      "Data columns (total 2 columns):\n",
      " #   Column      Non-Null Count  Dtype         \n",
      "---  ------      --------------  -----         \n",
      " 0   ride_date   478 non-null    datetime64[ns]\n",
      " 1   ride_count  478 non-null    int64         \n",
      "dtypes: datetime64[ns](1), int64(1)\n",
      "memory usage: 7.6 KB\n"
     ]
    }
   ],
   "source": [
    "niceride_by_date.info()"
   ]
  },
  {
   "cell_type": "code",
   "execution_count": 20,
   "metadata": {},
   "outputs": [],
   "source": [
    "niceride_by_date['month'] = niceride_by_date['ride_date'].dt.month\n",
    "niceride_by_date['year'] = niceride_by_date['ride_date'].dt.year\n",
    "niceride_by_date['m_y'] = niceride_by_date['month'].apply(str) + '-' + niceride_by_date['year'].apply(str) "
   ]
  },
  {
   "cell_type": "code",
   "execution_count": 21,
   "metadata": {},
   "outputs": [
    {
     "data": {
      "text/html": [
       "<div>\n",
       "<style scoped>\n",
       "    .dataframe tbody tr th:only-of-type {\n",
       "        vertical-align: middle;\n",
       "    }\n",
       "\n",
       "    .dataframe tbody tr th {\n",
       "        vertical-align: top;\n",
       "    }\n",
       "\n",
       "    .dataframe thead th {\n",
       "        text-align: right;\n",
       "    }\n",
       "</style>\n",
       "<table border=\"1\" class=\"dataframe\">\n",
       "  <thead>\n",
       "    <tr style=\"text-align: right;\">\n",
       "      <th></th>\n",
       "      <th></th>\n",
       "      <th>ride_count</th>\n",
       "    </tr>\n",
       "    <tr>\n",
       "      <th>year</th>\n",
       "      <th>month</th>\n",
       "      <th></th>\n",
       "    </tr>\n",
       "  </thead>\n",
       "  <tbody>\n",
       "    <tr>\n",
       "      <th rowspan=\"8\" valign=\"top\">2019</th>\n",
       "      <th>4</th>\n",
       "      <td>7732</td>\n",
       "    </tr>\n",
       "    <tr>\n",
       "      <th>5</th>\n",
       "      <td>40125</td>\n",
       "    </tr>\n",
       "    <tr>\n",
       "      <th>6</th>\n",
       "      <td>49127</td>\n",
       "    </tr>\n",
       "    <tr>\n",
       "      <th>7</th>\n",
       "      <td>50307</td>\n",
       "    </tr>\n",
       "    <tr>\n",
       "      <th>8</th>\n",
       "      <td>50648</td>\n",
       "    </tr>\n",
       "    <tr>\n",
       "      <th>9</th>\n",
       "      <td>37646</td>\n",
       "    </tr>\n",
       "    <tr>\n",
       "      <th>10</th>\n",
       "      <td>20648</td>\n",
       "    </tr>\n",
       "    <tr>\n",
       "      <th>11</th>\n",
       "      <td>4770</td>\n",
       "    </tr>\n",
       "    <tr>\n",
       "      <th rowspan=\"8\" valign=\"top\">2020</th>\n",
       "      <th>4</th>\n",
       "      <td>11965</td>\n",
       "    </tr>\n",
       "    <tr>\n",
       "      <th>5</th>\n",
       "      <td>24881</td>\n",
       "    </tr>\n",
       "    <tr>\n",
       "      <th>6</th>\n",
       "      <td>29822</td>\n",
       "    </tr>\n",
       "    <tr>\n",
       "      <th>7</th>\n",
       "      <td>32655</td>\n",
       "    </tr>\n",
       "    <tr>\n",
       "      <th>8</th>\n",
       "      <td>27764</td>\n",
       "    </tr>\n",
       "    <tr>\n",
       "      <th>9</th>\n",
       "      <td>18533</td>\n",
       "    </tr>\n",
       "    <tr>\n",
       "      <th>10</th>\n",
       "      <td>9969</td>\n",
       "    </tr>\n",
       "    <tr>\n",
       "      <th>11</th>\n",
       "      <td>1063</td>\n",
       "    </tr>\n",
       "    <tr>\n",
       "      <th rowspan=\"2\" valign=\"top\">2021</th>\n",
       "      <th>4</th>\n",
       "      <td>7983</td>\n",
       "    </tr>\n",
       "    <tr>\n",
       "      <th>5</th>\n",
       "      <td>21630</td>\n",
       "    </tr>\n",
       "  </tbody>\n",
       "</table>\n",
       "</div>"
      ],
      "text/plain": [
       "            ride_count\n",
       "year month            \n",
       "2019 4            7732\n",
       "     5           40125\n",
       "     6           49127\n",
       "     7           50307\n",
       "     8           50648\n",
       "     9           37646\n",
       "     10          20648\n",
       "     11           4770\n",
       "2020 4           11965\n",
       "     5           24881\n",
       "     6           29822\n",
       "     7           32655\n",
       "     8           27764\n",
       "     9           18533\n",
       "     10           9969\n",
       "     11           1063\n",
       "2021 4            7983\n",
       "     5           21630"
      ]
     },
     "execution_count": 21,
     "metadata": {},
     "output_type": "execute_result"
    }
   ],
   "source": [
    "niceride_by_date.groupby(['year', 'month']).agg({'ride_count':'sum'})"
   ]
  },
  {
   "cell_type": "code",
   "execution_count": 22,
   "metadata": {},
   "outputs": [
    {
     "data": {
      "image/png": "[encoded data removed]",
      "text/plain": [
       "<Figure size 432x288 with 1 Axes>"
      ]
     },
     "metadata": {
      "needs_background": "light"
     },
     "output_type": "display_data"
    }
   ],
   "source": [
    "plt.barh('m_y', 'ride_count', data=niceride_by_date)\n",
    "plt.tight_layout()"
   ]
  },
  {
   "cell_type": "code",
   "execution_count": 23,
   "metadata": {},
   "outputs": [],
   "source": [
    "niceride_by_date.to_csv('../data/By_Date/niceride_by_date.csv')"
   ]
  },
  {
   "cell_type": "code",
   "execution_count": 24,
   "metadata": {},
   "outputs": [
    {
     "data": {
      "text/html": [
       "<div>\n",
       "<style scoped>\n",
       "    .dataframe tbody tr th:only-of-type {\n",
       "        vertical-align: middle;\n",
       "    }\n",
       "\n",
       "    .dataframe tbody tr th {\n",
       "        vertical-align: top;\n",
       "    }\n",
       "\n",
       "    .dataframe thead th {\n",
       "        text-align: right;\n",
       "    }\n",
       "</style>\n",
       "<table border=\"1\" class=\"dataframe\">\n",
       "  <thead>\n",
       "    <tr style=\"text-align: right;\">\n",
       "      <th></th>\n",
       "      <th></th>\n",
       "      <th>ride_count</th>\n",
       "    </tr>\n",
       "    <tr>\n",
       "      <th>year</th>\n",
       "      <th>month</th>\n",
       "      <th></th>\n",
       "    </tr>\n",
       "  </thead>\n",
       "  <tbody>\n",
       "    <tr>\n",
       "      <th rowspan=\"8\" valign=\"top\">2019</th>\n",
       "      <th>4</th>\n",
       "      <td>7732</td>\n",
       "    </tr>\n",
       "    <tr>\n",
       "      <th>5</th>\n",
       "      <td>40125</td>\n",
       "    </tr>\n",
       "    <tr>\n",
       "      <th>6</th>\n",
       "      <td>49127</td>\n",
       "    </tr>\n",
       "    <tr>\n",
       "      <th>7</th>\n",
       "      <td>50307</td>\n",
       "    </tr>\n",
       "    <tr>\n",
       "      <th>8</th>\n",
       "      <td>50648</td>\n",
       "    </tr>\n",
       "    <tr>\n",
       "      <th>9</th>\n",
       "      <td>37646</td>\n",
       "    </tr>\n",
       "    <tr>\n",
       "      <th>10</th>\n",
       "      <td>20648</td>\n",
       "    </tr>\n",
       "    <tr>\n",
       "      <th>11</th>\n",
       "      <td>4770</td>\n",
       "    </tr>\n",
       "    <tr>\n",
       "      <th rowspan=\"8\" valign=\"top\">2020</th>\n",
       "      <th>11</th>\n",
       "      <td>1063</td>\n",
       "    </tr>\n",
       "    <tr>\n",
       "      <th>10</th>\n",
       "      <td>9969</td>\n",
       "    </tr>\n",
       "    <tr>\n",
       "      <th>9</th>\n",
       "      <td>18533</td>\n",
       "    </tr>\n",
       "    <tr>\n",
       "      <th>8</th>\n",
       "      <td>27764</td>\n",
       "    </tr>\n",
       "    <tr>\n",
       "      <th>4</th>\n",
       "      <td>11965</td>\n",
       "    </tr>\n",
       "    <tr>\n",
       "      <th>6</th>\n",
       "      <td>29822</td>\n",
       "    </tr>\n",
       "    <tr>\n",
       "      <th>5</th>\n",
       "      <td>24881</td>\n",
       "    </tr>\n",
       "    <tr>\n",
       "      <th>7</th>\n",
       "      <td>32655</td>\n",
       "    </tr>\n",
       "    <tr>\n",
       "      <th rowspan=\"2\" valign=\"top\">2021</th>\n",
       "      <th>4</th>\n",
       "      <td>7983</td>\n",
       "    </tr>\n",
       "    <tr>\n",
       "      <th>5</th>\n",
       "      <td>21630</td>\n",
       "    </tr>\n",
       "  </tbody>\n",
       "</table>\n",
       "</div>"
      ],
      "text/plain": [
       "            ride_count\n",
       "year month            \n",
       "2019 4            7732\n",
       "     5           40125\n",
       "     6           49127\n",
       "     7           50307\n",
       "     8           50648\n",
       "     9           37646\n",
       "     10          20648\n",
       "     11           4770\n",
       "2020 11           1063\n",
       "     10           9969\n",
       "     9           18533\n",
       "     8           27764\n",
       "     4           11965\n",
       "     6           29822\n",
       "     5           24881\n",
       "     7           32655\n",
       "2021 4            7983\n",
       "     5           21630"
      ]
     },
     "execution_count": 24,
     "metadata": {},
     "output_type": "execute_result"
    }
   ],
   "source": [
    "niceride_by_date.groupby(['year','month']).agg({'ride_count':'sum'}).sort_values('year', ascending=True)"
   ]
  }
 ],
 "metadata": {
  "kernelspec": {
   "display_name": "Python 3",
   "language": "python",
   "name": "python3"
  },
  "language_info": {
   "codemirror_mode": {
    "name": "ipython",
    "version": 3
   },
   "file_extension": ".py",
   "mimetype": "text/x-python",
   "name": "python",
   "nbconvert_exporter": "python",
   "pygments_lexer": "ipython3",
   "version": "3.7.6"
  }
 },
 "nbformat": 4,
 "nbformat_minor": 4
}
