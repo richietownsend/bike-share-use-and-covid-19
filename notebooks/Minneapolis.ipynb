{
 "cells": [
  {
   "cell_type": "code",
   "execution_count": 1,
   "metadata": {},
   "outputs": [],
   "source": [
    "import pandas as pd\n",
    "import os\n",
    "import matplotlib.pyplot as plt"
   ]
  },
  {
   "cell_type": "markdown",
   "metadata": {},
   "source": [
    "Use a for loop to determine CSV file path"
   ]
  },
  {
   "cell_type": "code",
   "execution_count": 2,
   "metadata": {
    "scrolled": true
   },
   "outputs": [
    {
     "name": "stdout",
     "output_type": "stream",
     "text": [
      "pd.read_csv('../data/Minneapolis/202010-niceride-tripdata.csv')\n",
      "pd.read_csv('../data/Minneapolis/202105-niceride-tripdata.csv')\n",
      "pd.read_csv('../data/Minneapolis/202006-niceride-tripdata.csv')\n",
      "pd.read_csv('../data/Minneapolis/202004-niceride-tripdata.csv')\n",
      "pd.read_csv('../data/Minneapolis/201908-niceride-tripdata.csv')\n",
      "pd.read_csv('../data/Minneapolis/2001906-niceride-tripdata.csv')\n",
      "pd.read_csv('../data/Minneapolis/201910-niceride-tripdata.csv')\n",
      "pd.read_csv('../data/Minneapolis/202008-niceride-tripdata.csv')\n",
      "pd.read_csv('../data/Minneapolis/201904-niceride-tripdata.csv')\n",
      "pd.read_csv('../data/Minneapolis/202104-niceride-tripdata.csv')\n",
      "pd.read_csv('../data/Minneapolis/202007-niceride-tripdata.csv')\n",
      "pd.read_csv('../data/Minneapolis/202011-niceride-tripdata.csv')\n",
      "pd.read_csv('../data/Minneapolis/201909-niceride-tripdata.csv')\n",
      "pd.read_csv('../data/Minneapolis/202005-niceride-tripdata.csv')\n",
      "pd.read_csv('../data/Minneapolis/201907-niceride-tripdata.csv')\n",
      "pd.read_csv('../data/Minneapolis/201911-niceride-tripdata.csv')\n",
      "pd.read_csv('../data/Minneapolis/201905-niceride-tripdata.csv')\n",
      "pd.read_csv('../data/Minneapolis/202009-niceride-tripdata.csv')\n"
     ]
    }
   ],
   "source": [
    "# This is my path\n",
    "path = \"/Users/richietownsend/Nashville Software School/NSS_Data_Analytics/Capstone/bike_share/data/Minneapolis/\"\n",
    "\n",
    "# to store files in a list\n",
    "list = []\n",
    " \n",
    "# dirs=directories\n",
    "for (root, dirs, file) in os.walk(path):\n",
    "    for f in file:\n",
    "        if '.csv' in f:\n",
    "            print('pd.read_csv(\\'../data/Minneapolis/'+f+'\\')')"
   ]
  },
  {
   "cell_type": "markdown",
   "metadata": {},
   "source": [
    "Load Minneapolis CSV files"
   ]
  },
  {
   "cell_type": "code",
   "execution_count": 3,
   "metadata": {},
   "outputs": [],
   "source": [
    "niceride0419 = pd.read_csv('../data/Minneapolis/201904-niceride-tripdata.csv')\n",
    "niceride0519 = pd.read_csv('../data/Minneapolis/201905-niceride-tripdata.csv')\n",
    "niceride0619 = pd.read_csv('../data/Minneapolis/2001906-niceride-tripdata.csv')\n",
    "niceride0719 = pd.read_csv('../data/Minneapolis/201907-niceride-tripdata.csv')\n",
    "niceride0819 = pd.read_csv('../data/Minneapolis/201908-niceride-tripdata.csv')\n",
    "niceride0919 = pd.read_csv('../data/Minneapolis/201909-niceride-tripdata.csv')\n",
    "niceride1019 = pd.read_csv('../data/Minneapolis/201910-niceride-tripdata.csv')\n",
    "niceride1119 = pd.read_csv('../data/Minneapolis/201911-niceride-tripdata.csv')\n",
    "niceride0420 = pd.read_csv('../data/Minneapolis/202004-niceride-tripdata.csv')\n",
    "niceride0520 = pd.read_csv('../data/Minneapolis/202005-niceride-tripdata.csv')\n",
    "niceride0620 = pd.read_csv('../data/Minneapolis/202006-niceride-tripdata.csv')\n",
    "niceride0720 = pd.read_csv('../data/Minneapolis/202007-niceride-tripdata.csv')\n",
    "niceride0820 = pd.read_csv('../data/Minneapolis/202008-niceride-tripdata.csv')\n",
    "niceride0920 = pd.read_csv('../data/Minneapolis/202009-niceride-tripdata.csv')\n",
    "niceride1020 = pd.read_csv('../data/Minneapolis/202010-niceride-tripdata.csv')\n",
    "niceride1120 = pd.read_csv('../data/Minneapolis/202011-niceride-tripdata.csv')\n",
    "niceride0421 = pd.read_csv('../data/Minneapolis/202104-niceride-tripdata.csv')\n",
    "niceride0521 = pd.read_csv('../data/Minneapolis/202105-niceride-tripdata.csv')"
   ]
  },
  {
   "cell_type": "markdown",
   "metadata": {},
   "source": [
    "Concatenate Similar Formats"
   ]
  },
  {
   "cell_type": "code",
   "execution_count": 4,
   "metadata": {},
   "outputs": [],
   "source": [
    "niceride_all = pd.concat([niceride0419, niceride0519, niceride0619, niceride0719, niceride0819, niceride0919, niceride1019, niceride1119])"
   ]
  },
  {
   "cell_type": "code",
   "execution_count": 5,
   "metadata": {},
   "outputs": [],
   "source": [
    "niceride_all2 = pd.concat([niceride0420, niceride0520, niceride0620, niceride0720, niceride0820, niceride0920, niceride1020, niceride1120, niceride0421, niceride0521])"
   ]
  },
  {
   "cell_type": "markdown",
   "metadata": {},
   "source": [
    "Change format of DFs to match the other"
   ]
  },
  {
   "cell_type": "code",
   "execution_count": 6,
   "metadata": {},
   "outputs": [],
   "source": [
    "niceride_all2 = niceride_all2[['ride_id', 'started_at', 'ended_at', 'start_station_id', 'end_station_id']]"
   ]
  },
  {
   "cell_type": "code",
   "execution_count": 7,
   "metadata": {},
   "outputs": [],
   "source": [
    "niceride0520 = niceride0620[['ride_id', 'started_at', 'ended_at', 'start_station_id', 'end_station_id']]"
   ]
  },
  {
   "cell_type": "code",
   "execution_count": 8,
   "metadata": {},
   "outputs": [],
   "source": [
    "niceride_all = niceride_all[['bikeid', 'start_time', 'end_time', 'start station id', 'end station id']]\n",
    "niceride_all.rename(columns={'bikeid':'ride_id', 'start_time':'started_at', 'end_time':'ended_at', 'start station id':'start_station_id', 'end station id': 'end_station_id'}, inplace=True)"
   ]
  },
  {
   "cell_type": "markdown",
   "metadata": {},
   "source": [
    "Concatenate DFs"
   ]
  },
  {
   "cell_type": "code",
   "execution_count": 9,
   "metadata": {},
   "outputs": [],
   "source": [
    "all_niceride = pd.concat([niceride_all, niceride_all2])"
   ]
  },
  {
   "cell_type": "markdown",
   "metadata": {},
   "source": [
    "Format to Datetime"
   ]
  },
  {
   "cell_type": "code",
   "execution_count": 10,
   "metadata": {},
   "outputs": [],
   "source": [
    "all_niceride['started_at'] = pd.to_datetime(all_niceride['started_at'], format='%Y-%m-%d')\n",
    "all_niceride['ended_at'] = pd.to_datetime(all_niceride['ended_at'], format='%Y-%m-%d')"
   ]
  },
  {
   "cell_type": "code",
   "execution_count": 11,
   "metadata": {},
   "outputs": [],
   "source": [
    "all_niceride['duration'] = all_niceride['ended_at'] - all_niceride['started_at']"
   ]
  },
  {
   "cell_type": "markdown",
   "metadata": {},
   "source": [
    "Calculate Relevant Ride Information<br>\n",
    "* _remove rides with no start station or end station_ <br>\n",
    "* _remove rides that have same start and stop station and are under 5 minutes_"
   ]
  },
  {
   "cell_type": "code",
   "execution_count": 12,
   "metadata": {},
   "outputs": [],
   "source": [
    "all_niceride = all_niceride.dropna(subset=['start_station_id'])\n",
    "all_niceride = all_niceride.dropna(subset=['end_station_id'])\n",
    "all_niceride = all_niceride[~((all_niceride['start_station_id'] == all_niceride['end_station_id']) & (all_niceride['duration'] < '00:05:00'))]"
   ]
  },
  {
   "cell_type": "markdown",
   "metadata": {},
   "source": [
    "Create a Start Date column"
   ]
  },
  {
   "cell_type": "code",
   "execution_count": 13,
   "metadata": {},
   "outputs": [],
   "source": [
    "all_niceride['start_date'] = all_niceride['started_at'].dt.date"
   ]
  },
  {
   "cell_type": "markdown",
   "metadata": {},
   "source": [
    "Sum Ride Count by Start Date"
   ]
  },
  {
   "cell_type": "code",
   "execution_count": 14,
   "metadata": {},
   "outputs": [],
   "source": [
    "niceride_by_date = all_niceride.groupby('start_date').agg({'started_at':'count'}).reset_index()\n",
    "niceride_by_date.rename(columns={'start_date':'ride_date', 'started_at':'ride_count'}, inplace = True)\n",
    "\n",
    "# citi_by_date = all_citi.groupby(['start_date'])['bikeid'].count()\n",
    "# citi_by_date = pd.DataFrame(citi_by_date).reset_index()"
   ]
  },
  {
   "cell_type": "markdown",
   "metadata": {},
   "source": [
    "Format to Datetime"
   ]
  },
  {
   "cell_type": "code",
   "execution_count": 15,
   "metadata": {},
   "outputs": [],
   "source": [
    "niceride_by_date['ride_date'] = pd.to_datetime(niceride_by_date['ride_date'], format='%Y-%m-%d')"
   ]
  },
  {
   "cell_type": "markdown",
   "metadata": {},
   "source": [
    "Create Columns for Grouping By Month And Date"
   ]
  },
  {
   "cell_type": "code",
   "execution_count": 16,
   "metadata": {},
   "outputs": [],
   "source": [
    "niceride_by_date['month'] = niceride_by_date['ride_date'].dt.month\n",
    "niceride_by_date['year'] = niceride_by_date['ride_date'].dt.year\n",
    "niceride_by_date['m_y'] = niceride_by_date['month'].apply(str) + '-' + niceride_by_date['year'].apply(str) "
   ]
  },
  {
   "cell_type": "markdown",
   "metadata": {},
   "source": [
    "Confirm all months are present"
   ]
  },
  {
   "cell_type": "code",
   "execution_count": 17,
   "metadata": {},
   "outputs": [
    {
     "data": {
      "text/html": [
       "<div>\n",
       "<style scoped>\n",
       "    .dataframe tbody tr th:only-of-type {\n",
       "        vertical-align: middle;\n",
       "    }\n",
       "\n",
       "    .dataframe tbody tr th {\n",
       "        vertical-align: top;\n",
       "    }\n",
       "\n",
       "    .dataframe thead th {\n",
       "        text-align: right;\n",
       "    }\n",
       "</style>\n",
       "<table border=\"1\" class=\"dataframe\">\n",
       "  <thead>\n",
       "    <tr style=\"text-align: right;\">\n",
       "      <th></th>\n",
       "      <th></th>\n",
       "      <th>ride_count</th>\n",
       "    </tr>\n",
       "    <tr>\n",
       "      <th>year</th>\n",
       "      <th>month</th>\n",
       "      <th></th>\n",
       "    </tr>\n",
       "  </thead>\n",
       "  <tbody>\n",
       "    <tr>\n",
       "      <th rowspan=\"8\" valign=\"top\">2019</th>\n",
       "      <th>4</th>\n",
       "      <td>7732</td>\n",
       "    </tr>\n",
       "    <tr>\n",
       "      <th>5</th>\n",
       "      <td>40125</td>\n",
       "    </tr>\n",
       "    <tr>\n",
       "      <th>6</th>\n",
       "      <td>49127</td>\n",
       "    </tr>\n",
       "    <tr>\n",
       "      <th>7</th>\n",
       "      <td>50307</td>\n",
       "    </tr>\n",
       "    <tr>\n",
       "      <th>8</th>\n",
       "      <td>50648</td>\n",
       "    </tr>\n",
       "    <tr>\n",
       "      <th>9</th>\n",
       "      <td>37646</td>\n",
       "    </tr>\n",
       "    <tr>\n",
       "      <th>10</th>\n",
       "      <td>20648</td>\n",
       "    </tr>\n",
       "    <tr>\n",
       "      <th>11</th>\n",
       "      <td>4770</td>\n",
       "    </tr>\n",
       "    <tr>\n",
       "      <th rowspan=\"8\" valign=\"top\">2020</th>\n",
       "      <th>4</th>\n",
       "      <td>11965</td>\n",
       "    </tr>\n",
       "    <tr>\n",
       "      <th>5</th>\n",
       "      <td>24881</td>\n",
       "    </tr>\n",
       "    <tr>\n",
       "      <th>6</th>\n",
       "      <td>29822</td>\n",
       "    </tr>\n",
       "    <tr>\n",
       "      <th>7</th>\n",
       "      <td>32655</td>\n",
       "    </tr>\n",
       "    <tr>\n",
       "      <th>8</th>\n",
       "      <td>27764</td>\n",
       "    </tr>\n",
       "    <tr>\n",
       "      <th>9</th>\n",
       "      <td>18533</td>\n",
       "    </tr>\n",
       "    <tr>\n",
       "      <th>10</th>\n",
       "      <td>9969</td>\n",
       "    </tr>\n",
       "    <tr>\n",
       "      <th>11</th>\n",
       "      <td>1063</td>\n",
       "    </tr>\n",
       "    <tr>\n",
       "      <th rowspan=\"2\" valign=\"top\">2021</th>\n",
       "      <th>4</th>\n",
       "      <td>7983</td>\n",
       "    </tr>\n",
       "    <tr>\n",
       "      <th>5</th>\n",
       "      <td>21630</td>\n",
       "    </tr>\n",
       "  </tbody>\n",
       "</table>\n",
       "</div>"
      ],
      "text/plain": [
       "            ride_count\n",
       "year month            \n",
       "2019 4            7732\n",
       "     5           40125\n",
       "     6           49127\n",
       "     7           50307\n",
       "     8           50648\n",
       "     9           37646\n",
       "     10          20648\n",
       "     11           4770\n",
       "2020 4           11965\n",
       "     5           24881\n",
       "     6           29822\n",
       "     7           32655\n",
       "     8           27764\n",
       "     9           18533\n",
       "     10           9969\n",
       "     11           1063\n",
       "2021 4            7983\n",
       "     5           21630"
      ]
     },
     "execution_count": 17,
     "metadata": {},
     "output_type": "execute_result"
    }
   ],
   "source": [
    "niceride_by_date.groupby(['year', 'month']).agg({'ride_count':'sum'})"
   ]
  },
  {
   "cell_type": "markdown",
   "metadata": {},
   "source": [
    "Quick Plot"
   ]
  },
  {
   "cell_type": "code",
   "execution_count": 18,
   "metadata": {},
   "outputs": [
    {
     "data": {
      "image/png": "[encoded data removed]",
      "text/plain": [
       "<Figure size 432x288 with 1 Axes>"
      ]
     },
     "metadata": {
      "needs_background": "light"
     },
     "output_type": "display_data"
    }
   ],
   "source": [
    "plt.barh('m_y', 'ride_count', data=niceride_by_date)\n",
    "plt.tight_layout()"
   ]
  },
  {
   "cell_type": "markdown",
   "metadata": {},
   "source": [
    "Export to CSV file"
   ]
  },
  {
   "cell_type": "code",
   "execution_count": 19,
   "metadata": {},
   "outputs": [],
   "source": [
    "niceride_by_date.to_csv('../data/By_Date/niceride_by_date.csv')"
   ]
  }
 ],
 "metadata": {
  "kernelspec": {
   "display_name": "Python 3",
   "language": "python",
   "name": "python3"
  },
  "language_info": {
   "codemirror_mode": {
    "name": "ipython",
    "version": 3
   },
   "file_extension": ".py",
   "mimetype": "text/x-python",
   "name": "python",
   "nbconvert_exporter": "python",
   "pygments_lexer": "ipython3",
   "version": "3.7.6"
  }
 },
 "nbformat": 4,
 "nbformat_minor": 4
}
