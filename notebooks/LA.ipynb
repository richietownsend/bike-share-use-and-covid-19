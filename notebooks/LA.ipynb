{
 "cells": [
  {
   "cell_type": "code",
   "execution_count": 1,
   "metadata": {},
   "outputs": [],
   "source": [
    "import os\n",
    "import pandas as pd\n",
    "import matplotlib.pyplot as plt"
   ]
  },
  {
   "cell_type": "code",
   "execution_count": 2,
   "metadata": {},
   "outputs": [],
   "source": [
    "path = \"/Users/richietownsend/Nashville Software School/NSS_Data_Analytics/Capstone/data/LA Metro\"\n",
    "list=[]\n",
    "for (root, dirs, file) in os.walk(path):\n",
    "    for f in file:\n",
    "        if '.csv' in f:\n",
    "            print('pd.read_csv(\\'../data/LA Metro/'+f+'\\')')"
   ]
  },
  {
   "cell_type": "code",
   "execution_count": 3,
   "metadata": {},
   "outputs": [
    {
     "name": "stderr",
     "output_type": "stream",
     "text": [
      "/Users/richietownsend/opt/anaconda3/lib/python3.7/site-packages/IPython/core/interactiveshell.py:3063: DtypeWarning: Columns (10) have mixed types.Specify dtype option on import or set low_memory=False.\n",
      "  interactivity=interactivity, compiler=compiler, result=result)\n"
     ]
    }
   ],
   "source": [
    "la_metroQ119 = pd.read_csv('../data/LA Metro/metro-bike-share-trips-2019-q1.csv')\n",
    "la_metroQ219 = pd.read_csv('../data/LA Metro/metro-bike-share-trips-2019-q2.csv')\n",
    "la_metroQ319 = pd.read_csv('../data/LA Metro/metro-bike-share-trips-2019-q3.csv')\n",
    "la_metroQ419 = pd.read_csv('../data/LA Metro/metro-bike-share-trips-2019-q4.csv')\n",
    "la_metroQ120 = pd.read_csv('../data/LA Metro/metro-bike-share-trips-2020-q1.csv')\n",
    "la_metroQ220 = pd.read_csv('../data/LA Metro/metro-trips-2020-q2-v2.csv')\n",
    "la_metroQ320 = pd.read_csv('../data/LA Metro/metro-trips-2020-q3.csv')\n",
    "la_metroQ420 = pd.read_csv('../data/LA Metro/metro-trips-2020-q4.csv')\n",
    "la_metroQ121 = pd.read_csv('../data/LA Metro/metro-trips-2021-q1.csv')"
   ]
  },
  {
   "cell_type": "code",
   "execution_count": 4,
   "metadata": {},
   "outputs": [
    {
     "name": "stdout",
     "output_type": "stream",
     "text": [
      "<class 'pandas.core.frame.DataFrame'>\n",
      "RangeIndex: 57358 entries, 0 to 57357\n",
      "Data columns (total 15 columns):\n",
      " #   Column               Non-Null Count  Dtype  \n",
      "---  ------               --------------  -----  \n",
      " 0   trip_id              57358 non-null  int64  \n",
      " 1   duration             57358 non-null  int64  \n",
      " 2   start_time           57358 non-null  object \n",
      " 3   end_time             57358 non-null  object \n",
      " 4   start_station        57358 non-null  int64  \n",
      " 5   start_lat            56830 non-null  float64\n",
      " 6   start_lon            56830 non-null  float64\n",
      " 7   end_station          57358 non-null  int64  \n",
      " 8   end_lat              55927 non-null  float64\n",
      " 9   end_lon              55927 non-null  float64\n",
      " 10  bike_id              57358 non-null  object \n",
      " 11  plan_duration        57358 non-null  int64  \n",
      " 12  trip_route_category  57358 non-null  object \n",
      " 13  passholder_type      57358 non-null  object \n",
      " 14  bike_type            57358 non-null  object \n",
      "dtypes: float64(4), int64(5), object(6)\n",
      "memory usage: 6.6+ MB\n"
     ]
    }
   ],
   "source": [
    "la_metroQ119.info()"
   ]
  },
  {
   "cell_type": "code",
   "execution_count": 5,
   "metadata": {},
   "outputs": [
    {
     "name": "stdout",
     "output_type": "stream",
     "text": [
      "<class 'pandas.core.frame.DataFrame'>\n",
      "RangeIndex: 40858 entries, 0 to 40857\n",
      "Data columns (total 15 columns):\n",
      " #   Column               Non-Null Count  Dtype  \n",
      "---  ------               --------------  -----  \n",
      " 0   trip_id              40858 non-null  int64  \n",
      " 1   duration             40858 non-null  int64  \n",
      " 2   start_time           40858 non-null  object \n",
      " 3   end_time             40858 non-null  object \n",
      " 4   start_station        40858 non-null  int64  \n",
      " 5   start_lat            40804 non-null  float64\n",
      " 6   start_lon            40804 non-null  float64\n",
      " 7   end_station          40858 non-null  int64  \n",
      " 8   end_lat              39624 non-null  float64\n",
      " 9   end_lon              39624 non-null  float64\n",
      " 10  bike_id              40858 non-null  object \n",
      " 11  plan_duration        40858 non-null  int64  \n",
      " 12  trip_route_category  40858 non-null  object \n",
      " 13  passholder_type      40858 non-null  object \n",
      " 14  bike_type            40858 non-null  object \n",
      "dtypes: float64(4), int64(5), object(6)\n",
      "memory usage: 4.7+ MB\n"
     ]
    }
   ],
   "source": [
    "la_metroQ121.info()"
   ]
  },
  {
   "cell_type": "code",
   "execution_count": 6,
   "metadata": {},
   "outputs": [],
   "source": [
    "all_metro = pd.concat([la_metroQ119, la_metroQ219, la_metroQ319, la_metroQ419, la_metroQ120, la_metroQ220, la_metroQ320, la_metroQ420, la_metroQ121])"
   ]
  },
  {
   "cell_type": "code",
   "execution_count": 7,
   "metadata": {},
   "outputs": [
    {
     "name": "stdout",
     "output_type": "stream",
     "text": [
      "<class 'pandas.core.frame.DataFrame'>\n",
      "Int64Index: 541174 entries, 0 to 40857\n",
      "Data columns (total 15 columns):\n",
      " #   Column               Non-Null Count   Dtype  \n",
      "---  ------               --------------   -----  \n",
      " 0   trip_id              541174 non-null  int64  \n",
      " 1   duration             541174 non-null  int64  \n",
      " 2   start_time           541174 non-null  object \n",
      " 3   end_time             541174 non-null  object \n",
      " 4   start_station        541174 non-null  int64  \n",
      " 5   start_lat            532508 non-null  float64\n",
      " 6   start_lon            532508 non-null  float64\n",
      " 7   end_station          541174 non-null  int64  \n",
      " 8   end_lat              520414 non-null  float64\n",
      " 9   end_lon              520414 non-null  float64\n",
      " 10  bike_id              541174 non-null  object \n",
      " 11  plan_duration        541174 non-null  int64  \n",
      " 12  trip_route_category  541174 non-null  object \n",
      " 13  passholder_type      536448 non-null  object \n",
      " 14  bike_type            541174 non-null  object \n",
      "dtypes: float64(4), int64(5), object(6)\n",
      "memory usage: 66.1+ MB\n"
     ]
    }
   ],
   "source": [
    "all_metro.info()"
   ]
  },
  {
   "cell_type": "code",
   "execution_count": 8,
   "metadata": {},
   "outputs": [],
   "source": [
    "all_metro = all_metro[['trip_id', 'start_time', 'end_time', 'start_station', 'end_station']]"
   ]
  },
  {
   "cell_type": "code",
   "execution_count": 9,
   "metadata": {},
   "outputs": [
    {
     "data": {
      "text/html": [
       "<div>\n",
       "<style scoped>\n",
       "    .dataframe tbody tr th:only-of-type {\n",
       "        vertical-align: middle;\n",
       "    }\n",
       "\n",
       "    .dataframe tbody tr th {\n",
       "        vertical-align: top;\n",
       "    }\n",
       "\n",
       "    .dataframe thead th {\n",
       "        text-align: right;\n",
       "    }\n",
       "</style>\n",
       "<table border=\"1\" class=\"dataframe\">\n",
       "  <thead>\n",
       "    <tr style=\"text-align: right;\">\n",
       "      <th></th>\n",
       "      <th>trip_id</th>\n",
       "      <th>start_time</th>\n",
       "      <th>end_time</th>\n",
       "      <th>start_station</th>\n",
       "      <th>end_station</th>\n",
       "    </tr>\n",
       "  </thead>\n",
       "  <tbody>\n",
       "    <tr>\n",
       "      <th>0</th>\n",
       "      <td>112536773</td>\n",
       "      <td>2019-01-01 00:07:00</td>\n",
       "      <td>2019-01-01 00:14:00</td>\n",
       "      <td>3046</td>\n",
       "      <td>3051</td>\n",
       "    </tr>\n",
       "    <tr>\n",
       "      <th>1</th>\n",
       "      <td>112536772</td>\n",
       "      <td>2019-01-01 00:08:00</td>\n",
       "      <td>2019-01-01 00:14:00</td>\n",
       "      <td>3046</td>\n",
       "      <td>3051</td>\n",
       "    </tr>\n",
       "    <tr>\n",
       "      <th>2</th>\n",
       "      <td>112538689</td>\n",
       "      <td>2019-01-01 00:18:00</td>\n",
       "      <td>2019-01-01 00:50:00</td>\n",
       "      <td>3030</td>\n",
       "      <td>3075</td>\n",
       "    </tr>\n",
       "    <tr>\n",
       "      <th>3</th>\n",
       "      <td>112538688</td>\n",
       "      <td>2019-01-01 00:20:00</td>\n",
       "      <td>2019-01-01 00:50:00</td>\n",
       "      <td>3030</td>\n",
       "      <td>3075</td>\n",
       "    </tr>\n",
       "    <tr>\n",
       "      <th>4</th>\n",
       "      <td>112538687</td>\n",
       "      <td>2019-01-01 00:22:00</td>\n",
       "      <td>2019-01-01 00:50:00</td>\n",
       "      <td>3030</td>\n",
       "      <td>3075</td>\n",
       "    </tr>\n",
       "  </tbody>\n",
       "</table>\n",
       "</div>"
      ],
      "text/plain": [
       "     trip_id           start_time             end_time  start_station  \\\n",
       "0  112536773  2019-01-01 00:07:00  2019-01-01 00:14:00           3046   \n",
       "1  112536772  2019-01-01 00:08:00  2019-01-01 00:14:00           3046   \n",
       "2  112538689  2019-01-01 00:18:00  2019-01-01 00:50:00           3030   \n",
       "3  112538688  2019-01-01 00:20:00  2019-01-01 00:50:00           3030   \n",
       "4  112538687  2019-01-01 00:22:00  2019-01-01 00:50:00           3030   \n",
       "\n",
       "   end_station  \n",
       "0         3051  \n",
       "1         3051  \n",
       "2         3075  \n",
       "3         3075  \n",
       "4         3075  "
      ]
     },
     "execution_count": 9,
     "metadata": {},
     "output_type": "execute_result"
    }
   ],
   "source": [
    "all_metro.head()"
   ]
  },
  {
   "cell_type": "code",
   "execution_count": 10,
   "metadata": {},
   "outputs": [],
   "source": [
    "all_metro['start_time'] = pd.to_datetime(all_metro['start_time'], infer_datetime_format=True)\n",
    "all_metro['end_time'] = pd.to_datetime(all_metro['end_time'], infer_datetime_format=True)\n",
    "# divvyQ119['end_time'] = pd.to_datetime(divvyQ119['end_time'], format='%Y-%m-%d')"
   ]
  },
  {
   "cell_type": "code",
   "execution_count": 11,
   "metadata": {},
   "outputs": [],
   "source": [
    "all_metro['duration'] = all_metro['end_time'] - all_metro['start_time']"
   ]
  },
  {
   "cell_type": "code",
   "execution_count": 12,
   "metadata": {},
   "outputs": [],
   "source": [
    "all_metro = all_metro.dropna(subset=['start_station'])\n",
    "all_metro = all_metro.dropna(subset=['end_station'])\n",
    "all_metro = all_metro[~((all_metro['start_station'] == all_metro['end_station']) & (all_metro['duration'] < '00:05:00'))]"
   ]
  },
  {
   "cell_type": "code",
   "execution_count": 13,
   "metadata": {},
   "outputs": [
    {
     "data": {
      "text/html": [
       "<div>\n",
       "<style scoped>\n",
       "    .dataframe tbody tr th:only-of-type {\n",
       "        vertical-align: middle;\n",
       "    }\n",
       "\n",
       "    .dataframe tbody tr th {\n",
       "        vertical-align: top;\n",
       "    }\n",
       "\n",
       "    .dataframe thead th {\n",
       "        text-align: right;\n",
       "    }\n",
       "</style>\n",
       "<table border=\"1\" class=\"dataframe\">\n",
       "  <thead>\n",
       "    <tr style=\"text-align: right;\">\n",
       "      <th></th>\n",
       "      <th>trip_id</th>\n",
       "      <th>start_time</th>\n",
       "      <th>end_time</th>\n",
       "      <th>start_station</th>\n",
       "      <th>end_station</th>\n",
       "      <th>duration</th>\n",
       "    </tr>\n",
       "  </thead>\n",
       "  <tbody>\n",
       "    <tr>\n",
       "      <th>0</th>\n",
       "      <td>112536773</td>\n",
       "      <td>2019-01-01 00:07:00</td>\n",
       "      <td>2019-01-01 00:14:00</td>\n",
       "      <td>3046</td>\n",
       "      <td>3051</td>\n",
       "      <td>00:07:00</td>\n",
       "    </tr>\n",
       "    <tr>\n",
       "      <th>1</th>\n",
       "      <td>112536772</td>\n",
       "      <td>2019-01-01 00:08:00</td>\n",
       "      <td>2019-01-01 00:14:00</td>\n",
       "      <td>3046</td>\n",
       "      <td>3051</td>\n",
       "      <td>00:06:00</td>\n",
       "    </tr>\n",
       "    <tr>\n",
       "      <th>2</th>\n",
       "      <td>112538689</td>\n",
       "      <td>2019-01-01 00:18:00</td>\n",
       "      <td>2019-01-01 00:50:00</td>\n",
       "      <td>3030</td>\n",
       "      <td>3075</td>\n",
       "      <td>00:32:00</td>\n",
       "    </tr>\n",
       "    <tr>\n",
       "      <th>3</th>\n",
       "      <td>112538688</td>\n",
       "      <td>2019-01-01 00:20:00</td>\n",
       "      <td>2019-01-01 00:50:00</td>\n",
       "      <td>3030</td>\n",
       "      <td>3075</td>\n",
       "      <td>00:30:00</td>\n",
       "    </tr>\n",
       "    <tr>\n",
       "      <th>4</th>\n",
       "      <td>112538687</td>\n",
       "      <td>2019-01-01 00:22:00</td>\n",
       "      <td>2019-01-01 00:50:00</td>\n",
       "      <td>3030</td>\n",
       "      <td>3075</td>\n",
       "      <td>00:28:00</td>\n",
       "    </tr>\n",
       "  </tbody>\n",
       "</table>\n",
       "</div>"
      ],
      "text/plain": [
       "     trip_id          start_time            end_time  start_station  \\\n",
       "0  112536773 2019-01-01 00:07:00 2019-01-01 00:14:00           3046   \n",
       "1  112536772 2019-01-01 00:08:00 2019-01-01 00:14:00           3046   \n",
       "2  112538689 2019-01-01 00:18:00 2019-01-01 00:50:00           3030   \n",
       "3  112538688 2019-01-01 00:20:00 2019-01-01 00:50:00           3030   \n",
       "4  112538687 2019-01-01 00:22:00 2019-01-01 00:50:00           3030   \n",
       "\n",
       "   end_station duration  \n",
       "0         3051 00:07:00  \n",
       "1         3051 00:06:00  \n",
       "2         3075 00:32:00  \n",
       "3         3075 00:30:00  \n",
       "4         3075 00:28:00  "
      ]
     },
     "execution_count": 13,
     "metadata": {},
     "output_type": "execute_result"
    }
   ],
   "source": [
    "all_metro.head()"
   ]
  },
  {
   "cell_type": "code",
   "execution_count": 14,
   "metadata": {},
   "outputs": [
    {
     "name": "stdout",
     "output_type": "stream",
     "text": [
      "<class 'pandas.core.frame.DataFrame'>\n",
      "Int64Index: 525844 entries, 0 to 40857\n",
      "Data columns (total 6 columns):\n",
      " #   Column         Non-Null Count   Dtype          \n",
      "---  ------         --------------   -----          \n",
      " 0   trip_id        525844 non-null  int64          \n",
      " 1   start_time     525844 non-null  datetime64[ns] \n",
      " 2   end_time       525844 non-null  datetime64[ns] \n",
      " 3   start_station  525844 non-null  int64          \n",
      " 4   end_station    525844 non-null  int64          \n",
      " 5   duration       525844 non-null  timedelta64[ns]\n",
      "dtypes: datetime64[ns](2), int64(3), timedelta64[ns](1)\n",
      "memory usage: 28.1 MB\n"
     ]
    }
   ],
   "source": [
    "all_metro.info()"
   ]
  },
  {
   "cell_type": "markdown",
   "metadata": {},
   "source": [
    "Create Date Column"
   ]
  },
  {
   "cell_type": "code",
   "execution_count": 15,
   "metadata": {},
   "outputs": [],
   "source": [
    "all_metro['start_date'] = all_metro['start_time'].dt.date"
   ]
  },
  {
   "cell_type": "code",
   "execution_count": 16,
   "metadata": {},
   "outputs": [],
   "source": [
    "metro_by_date = all_metro.groupby('start_date').agg({'trip_id': 'count'}).reset_index()\n",
    "metro_by_date['start_date'] = pd.to_datetime(metro_by_date['start_date'], format='%Y-%m-%d')\n",
    "metro_by_date.rename(columns={'trip_id':'ride_count'}, inplace=True)"
   ]
  },
  {
   "cell_type": "code",
   "execution_count": 17,
   "metadata": {},
   "outputs": [
    {
     "name": "stdout",
     "output_type": "stream",
     "text": [
      "<class 'pandas.core.frame.DataFrame'>\n",
      "RangeIndex: 821 entries, 0 to 820\n",
      "Data columns (total 2 columns):\n",
      " #   Column      Non-Null Count  Dtype         \n",
      "---  ------      --------------  -----         \n",
      " 0   start_date  821 non-null    datetime64[ns]\n",
      " 1   ride_count  821 non-null    int64         \n",
      "dtypes: datetime64[ns](1), int64(1)\n",
      "memory usage: 13.0 KB\n"
     ]
    }
   ],
   "source": [
    "metro_by_date.info()"
   ]
  },
  {
   "cell_type": "code",
   "execution_count": 18,
   "metadata": {},
   "outputs": [],
   "source": [
    "metro_by_date['month'] = metro_by_date['start_date'].dt.month\n",
    "metro_by_date['year'] = metro_by_date['start_date'].dt.year"
   ]
  },
  {
   "cell_type": "code",
   "execution_count": 19,
   "metadata": {},
   "outputs": [],
   "source": [
    "metro_by_date['m_y'] = metro_by_date['month'].apply(str) + \"-\" + metro_by_date['year'].apply(str) "
   ]
  },
  {
   "cell_type": "code",
   "execution_count": 20,
   "metadata": {},
   "outputs": [
    {
     "data": {
      "text/html": [
       "<div>\n",
       "<style scoped>\n",
       "    .dataframe tbody tr th:only-of-type {\n",
       "        vertical-align: middle;\n",
       "    }\n",
       "\n",
       "    .dataframe tbody tr th {\n",
       "        vertical-align: top;\n",
       "    }\n",
       "\n",
       "    .dataframe thead th {\n",
       "        text-align: right;\n",
       "    }\n",
       "</style>\n",
       "<table border=\"1\" class=\"dataframe\">\n",
       "  <thead>\n",
       "    <tr style=\"text-align: right;\">\n",
       "      <th></th>\n",
       "      <th>start_date</th>\n",
       "      <th>ride_count</th>\n",
       "      <th>month</th>\n",
       "      <th>year</th>\n",
       "      <th>m_y</th>\n",
       "    </tr>\n",
       "  </thead>\n",
       "  <tbody>\n",
       "    <tr>\n",
       "      <th>0</th>\n",
       "      <td>2019-01-01</td>\n",
       "      <td>501</td>\n",
       "      <td>1</td>\n",
       "      <td>2019</td>\n",
       "      <td>1-2019</td>\n",
       "    </tr>\n",
       "    <tr>\n",
       "      <th>1</th>\n",
       "      <td>2019-01-02</td>\n",
       "      <td>666</td>\n",
       "      <td>1</td>\n",
       "      <td>2019</td>\n",
       "      <td>1-2019</td>\n",
       "    </tr>\n",
       "    <tr>\n",
       "      <th>2</th>\n",
       "      <td>2019-01-03</td>\n",
       "      <td>723</td>\n",
       "      <td>1</td>\n",
       "      <td>2019</td>\n",
       "      <td>1-2019</td>\n",
       "    </tr>\n",
       "    <tr>\n",
       "      <th>3</th>\n",
       "      <td>2019-01-04</td>\n",
       "      <td>797</td>\n",
       "      <td>1</td>\n",
       "      <td>2019</td>\n",
       "      <td>1-2019</td>\n",
       "    </tr>\n",
       "    <tr>\n",
       "      <th>4</th>\n",
       "      <td>2019-01-05</td>\n",
       "      <td>273</td>\n",
       "      <td>1</td>\n",
       "      <td>2019</td>\n",
       "      <td>1-2019</td>\n",
       "    </tr>\n",
       "    <tr>\n",
       "      <th>...</th>\n",
       "      <td>...</td>\n",
       "      <td>...</td>\n",
       "      <td>...</td>\n",
       "      <td>...</td>\n",
       "      <td>...</td>\n",
       "    </tr>\n",
       "    <tr>\n",
       "      <th>816</th>\n",
       "      <td>2021-03-27</td>\n",
       "      <td>719</td>\n",
       "      <td>3</td>\n",
       "      <td>2021</td>\n",
       "      <td>3-2021</td>\n",
       "    </tr>\n",
       "    <tr>\n",
       "      <th>817</th>\n",
       "      <td>2021-03-28</td>\n",
       "      <td>695</td>\n",
       "      <td>3</td>\n",
       "      <td>2021</td>\n",
       "      <td>3-2021</td>\n",
       "    </tr>\n",
       "    <tr>\n",
       "      <th>818</th>\n",
       "      <td>2021-03-29</td>\n",
       "      <td>478</td>\n",
       "      <td>3</td>\n",
       "      <td>2021</td>\n",
       "      <td>3-2021</td>\n",
       "    </tr>\n",
       "    <tr>\n",
       "      <th>819</th>\n",
       "      <td>2021-03-30</td>\n",
       "      <td>487</td>\n",
       "      <td>3</td>\n",
       "      <td>2021</td>\n",
       "      <td>3-2021</td>\n",
       "    </tr>\n",
       "    <tr>\n",
       "      <th>820</th>\n",
       "      <td>2021-03-31</td>\n",
       "      <td>541</td>\n",
       "      <td>3</td>\n",
       "      <td>2021</td>\n",
       "      <td>3-2021</td>\n",
       "    </tr>\n",
       "  </tbody>\n",
       "</table>\n",
       "<p>821 rows × 5 columns</p>\n",
       "</div>"
      ],
      "text/plain": [
       "    start_date  ride_count  month  year     m_y\n",
       "0   2019-01-01         501      1  2019  1-2019\n",
       "1   2019-01-02         666      1  2019  1-2019\n",
       "2   2019-01-03         723      1  2019  1-2019\n",
       "3   2019-01-04         797      1  2019  1-2019\n",
       "4   2019-01-05         273      1  2019  1-2019\n",
       "..         ...         ...    ...   ...     ...\n",
       "816 2021-03-27         719      3  2021  3-2021\n",
       "817 2021-03-28         695      3  2021  3-2021\n",
       "818 2021-03-29         478      3  2021  3-2021\n",
       "819 2021-03-30         487      3  2021  3-2021\n",
       "820 2021-03-31         541      3  2021  3-2021\n",
       "\n",
       "[821 rows x 5 columns]"
      ]
     },
     "execution_count": 20,
     "metadata": {},
     "output_type": "execute_result"
    }
   ],
   "source": [
    "metro_by_date"
   ]
  },
  {
   "cell_type": "code",
   "execution_count": 21,
   "metadata": {},
   "outputs": [
    {
     "data": {
      "image/png": "[encoded data removed]",
      "text/plain": [
       "<Figure size 432x288 with 1 Axes>"
      ]
     },
     "metadata": {
      "needs_background": "light"
     },
     "output_type": "display_data"
    }
   ],
   "source": [
    "plt.barh('m_y', 'ride_count', data=metro_by_date)\n",
    "plt.tight_layout()"
   ]
  },
  {
   "cell_type": "code",
   "execution_count": 22,
   "metadata": {},
   "outputs": [],
   "source": [
    "metro_by_date.to_csv('../data/By_Date/metro_by_date.csv')"
   ]
  }
 ],
 "metadata": {
  "kernelspec": {
   "display_name": "Python 3",
   "language": "python",
   "name": "python3"
  },
  "language_info": {
   "codemirror_mode": {
    "name": "ipython",
    "version": 3
   },
   "file_extension": ".py",
   "mimetype": "text/x-python",
   "name": "python",
   "nbconvert_exporter": "python",
   "pygments_lexer": "ipython3",
   "version": "3.7.6"
  }
 },
 "nbformat": 4,
 "nbformat_minor": 4
}
